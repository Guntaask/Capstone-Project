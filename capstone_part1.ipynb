{
 "cells": [
  {
   "cell_type": "markdown",
   "id": "ddf55d85-2fde-4cd7-ae0a-48f6c61a3c6e",
   "metadata": {},
   "source": [
    "### Capstone Project"
   ]
  },
  {
   "cell_type": "markdown",
   "id": "c9be88d5-7e4a-4a20-9cb1-ea53f5bb2feb",
   "metadata": {},
   "source": [
    "##### Author: Guntaas Kaur\n",
    "##### Contact: guntaaskaur1@gmail.com\n",
    "##### Date: 11-03-2024"
   ]
  },
  {
   "cell_type": "markdown",
   "id": "e46f0567-6702-44bd-9e90-0ca95d604923",
   "metadata": {
    "tags": []
   },
   "source": [
    "## Introduction\n",
    "<b>Predicting Small Businesses Success & Failure </b><br>\n",
    "Understanding the Reasons Behind Small Business Failures and Leveraging Machine Learning for Enhanced Success"
   ]
  },
  {
   "cell_type": "markdown",
   "id": "7493187a-b4d0-448d-ba11-60996c40375e",
   "metadata": {},
   "source": [
    "Data Dictionary\n",
    "| Data         | Field        | Description                                      |\n",
    "|--------------|--------------|--------------------------------------------------|\n",
    "| Businesses   | Business ID  | Unique identifier for each business.             |\n",
    "|              | Name         | Name of the business.                            |\n",
    "|              | Address      | Address of the business.                         |\n",
    "|              | City         | The city where the business is located.          |\n",
    "|              | State        | State where the business is located.             |\n",
    "|              | Postal Code  | Postal code of the business.                     |\n",
    "|              | Latitude     | Latitude coordinates of the business location.   |\n",
    "|              | Longitude    | Longitude coordinate of the business location.   |\n",
    "|              | Stars        | Average rating of the business.                  |\n",
    "|              | Review Count | Number of reviews the business has received.     |\n",
    "|              | Is Open      | Indicates if the business is currently open (1 for open, 0 for closed). |\n",
    "|              | Attributes   | Additional attributes or features of the business. |\n",
    "|              | Categories   | Categories or types of services offered by the business. |\n",
    "|              | Hours        | Operating hours of the business.                 |\n",
    "| Reviews      | Review ID    | Unique identifier for each review.               |\n",
    "|              | User ID      | Unique identifier for the user who wrote the review. |\n",
    "|              | Business ID  | Unique identifier for the business being reviewed. |\n",
    "|              | Stars        | Rating given by the user (1 to 5 stars).         |\n",
    "|              | Text         | The text content of the review.                  |\n",
    "|              | Date         | The date when the review was written.            |\n",
    "| Users        | User ID      | Unique identifier for each user.                 |\n",
    "|              | Name         | User's name.                                     |\n",
    "|              | Review Count | Number of reviews written by the user.           |\n",
    "|              | Average Stars| Average rating given by the user.                |\n",
    "|              | Yelper Since | Date when the user joined Yelp.                  |\n",
    "| Tips         | User ID      | Unique identifier for the user who wrote the tip. |\n",
    "|              | Business ID  | Unique identifier for the business the tip is about. |\n",
    "|              | Text         | The text content of the tip.                     |\n",
    "|              | Date         | The date when the tip was written.               |\n",
    "| Checkin      | Business_id  | Unique identifier for each business.             |\n",
    "|              | Date         | Timestamps indicating the dates and times associated with checkins on business.|\n",
    "\n"
   ]
  },
  {
   "cell_type": "markdown",
   "id": "635404a0-ad08-47b8-aefb-cb60fca14496",
   "metadata": {},
   "source": [
    "<b>Target: Is_open<b>"
   ]
  },
  {
   "cell_type": "markdown",
   "id": "be5e1e0d-90f7-467e-9b79-9428a1e7343c",
   "metadata": {
    "tags": []
   },
   "source": [
    "---\n",
    "### <a id=\"BasicAnalysis\"> Part 1 Basic Analysis</a>\n",
    "---"
   ]
  },
  {
   "cell_type": "code",
   "execution_count": 1,
   "id": "41679304-78ce-41b9-9b34-0cd501160789",
   "metadata": {
    "tags": []
   },
   "outputs": [],
   "source": [
    "#importing required libraries\n",
    "import seaborn as sns\n",
    "import numpy as np\n",
    "import matplotlib.pyplot as plt\n",
    "import pandas as pd"
   ]
  },
  {
   "cell_type": "code",
   "execution_count": 2,
   "id": "020cbd9b-7bc8-400b-b9d1-5270193d5c85",
   "metadata": {
    "tags": []
   },
   "outputs": [],
   "source": [
    "businesses = pd.read_json(\"data/yelp_academic_dataset_business.json\", lines=True, orient='columns', chunksize=150243)\n",
    "\n",
    "# read the data \n",
    "for business in businesses:\n",
    "    df_business = business\n",
    "    break"
   ]
  },
  {
   "cell_type": "code",
   "execution_count": null,
   "id": "491d59d5-c556-4a59-826c-48e1023b0ac2",
   "metadata": {},
   "outputs": [],
   "source": [
    "users = pd.read_json('data/yelp_academic_dataset_user.json', lines = True, chunksize = 5000000)\n",
    "    \n",
    "for user in users:\n",
    "   df_user = user\n",
    "   break"
   ]
  },
  {
   "cell_type": "code",
   "execution_count": 7,
   "id": "81ec76c7-784e-41a8-bed2-26793d61e478",
   "metadata": {
    "tags": []
   },
   "outputs": [
    {
     "name": "stdout",
     "output_type": "stream",
     "text": [
      "Business : (150243, 14)\n",
      "Review : (10000, 9)\n",
      "Checkin : (10000, 2)\n"
     ]
    }
   ],
   "source": [
    "print(\"Business :\",df_business.shape)\n",
    "print(\"Review :\",df_review.shape)\n",
    "#print(\"User :\",df_user.shape)\n",
    "print(\"Checkin :\",df_checkin.shape)"
   ]
  },
  {
   "cell_type": "code",
   "execution_count": 8,
   "id": "ad46b19a-e6b9-43d8-aec7-2fda1ddad0c5",
   "metadata": {
    "tags": []
   },
   "outputs": [
    {
     "name": "stdout",
     "output_type": "stream",
     "text": [
      "<class 'pandas.core.frame.DataFrame'>\n",
      "RangeIndex: 150243 entries, 0 to 150242\n",
      "Data columns (total 14 columns):\n",
      " #   Column        Non-Null Count   Dtype  \n",
      "---  ------        --------------   -----  \n",
      " 0   business_id   150243 non-null  object \n",
      " 1   name          150243 non-null  object \n",
      " 2   address       150243 non-null  object \n",
      " 3   city          150243 non-null  object \n",
      " 4   state         150243 non-null  object \n",
      " 5   postal_code   150243 non-null  object \n",
      " 6   latitude      150243 non-null  float64\n",
      " 7   longitude     150243 non-null  float64\n",
      " 8   stars         150243 non-null  float64\n",
      " 9   review_count  150243 non-null  int64  \n",
      " 10  is_open       150243 non-null  int64  \n",
      " 11  attributes    136507 non-null  object \n",
      " 12  categories    150140 non-null  object \n",
      " 13  hours         127038 non-null  object \n",
      "dtypes: float64(3), int64(2), object(9)\n",
      "memory usage: 16.0+ MB\n"
     ]
    }
   ],
   "source": [
    "df_business.info()"
   ]
  },
  {
   "cell_type": "markdown",
   "id": "ae53fd4e-9103-46dc-89ba-7345b4a97b9a",
   "metadata": {},
   "source": [
    "<b>Flattening Nested Structures:</b>\n",
    "The dataset contains nested dictionaries and JSON-like structures, had to flatten them into string representations to create flat feature vectors suitable for modeling.\n",
    "First, we will convert hours to string then extract day and time, later we will convert time to timestamp."
   ]
  },
  {
   "cell_type": "code",
   "execution_count": 9,
   "id": "1f56b2f1-e691-4123-aed5-fda889a34145",
   "metadata": {
    "tags": []
   },
   "outputs": [
    {
     "name": "stdout",
     "output_type": "stream",
     "text": [
      "business_id                                mpf3x-BjTdTEA3yCZrAYPw\n",
      "name                                                The UPS Store\n",
      "address                           87 Grasso Plaza Shopping Center\n",
      "city                                                       Affton\n",
      "state                                                          MO\n",
      "postal_code                                                 63123\n",
      "latitude                                                38.551126\n",
      "longitude                                              -90.335695\n",
      "stars                                                         3.0\n",
      "review_count                                                   15\n",
      "is_open                                                         1\n",
      "attributes                 {'BusinessAcceptsCreditCards': 'True'}\n",
      "categories      Shipping Centers, Local Services, Notaries, Ma...\n",
      "hours           {'Monday': '0:0-0:0', 'Tuesday': '8:0-18:30', ...\n",
      "Name: 1, dtype: object\n"
     ]
    }
   ],
   "source": [
    "one_row = df_business.iloc[1]\n",
    "\n",
    "print(one_row)"
   ]
  },
  {
   "cell_type": "markdown",
   "id": "b7bbc57e-7804-41c8-bd0a-9ace3182536e",
   "metadata": {},
   "source": [
    "<b>Size and Structure: \n",
    "    The DataFrame contains 150,346 rows and 16 columns(after feature engineering).\n",
    "\n",
    "Data Types: \n",
    "    The columns contain a mix of data types:\n",
    "\n",
    "3 columns are of type float64.\n",
    "2 columns are of type int64.\n",
    "9 columns are of type object (likely strings).\n",
    "Missing Values: Some columns have missing values:\n",
    "\n",
    "The 'attributes','categories' and 'hours' column has missing values."
   ]
  },
  {
   "cell_type": "code",
   "execution_count": 10,
   "id": "494beec4-ccb5-4188-a598-69a857a8737d",
   "metadata": {
    "tags": []
   },
   "outputs": [
    {
     "data": {
      "text/html": [
       "<div>\n",
       "<style scoped>\n",
       "    .dataframe tbody tr th:only-of-type {\n",
       "        vertical-align: middle;\n",
       "    }\n",
       "\n",
       "    .dataframe tbody tr th {\n",
       "        vertical-align: top;\n",
       "    }\n",
       "\n",
       "    .dataframe thead th {\n",
       "        text-align: right;\n",
       "    }\n",
       "</style>\n",
       "<table border=\"1\" class=\"dataframe\">\n",
       "  <thead>\n",
       "    <tr style=\"text-align: right;\">\n",
       "      <th></th>\n",
       "      <th>0</th>\n",
       "      <th>1</th>\n",
       "      <th>2</th>\n",
       "      <th>3</th>\n",
       "      <th>4</th>\n",
       "    </tr>\n",
       "  </thead>\n",
       "  <tbody>\n",
       "    <tr>\n",
       "      <th>business_id</th>\n",
       "      <td>Pns2l4eNsfO8kk83dixA6A</td>\n",
       "      <td>mpf3x-BjTdTEA3yCZrAYPw</td>\n",
       "      <td>tUFrWirKiKi_TAnsVWINQQ</td>\n",
       "      <td>MTSW4McQd7CbVtyjqoe9mw</td>\n",
       "      <td>mWMc6_wTdE0EUBKIGXDVfA</td>\n",
       "    </tr>\n",
       "    <tr>\n",
       "      <th>name</th>\n",
       "      <td>Abby Rappoport, LAC, CMQ</td>\n",
       "      <td>The UPS Store</td>\n",
       "      <td>Target</td>\n",
       "      <td>St Honore Pastries</td>\n",
       "      <td>Perkiomen Valley Brewery</td>\n",
       "    </tr>\n",
       "    <tr>\n",
       "      <th>address</th>\n",
       "      <td>1616 Chapala St, Ste 2</td>\n",
       "      <td>87 Grasso Plaza Shopping Center</td>\n",
       "      <td>5255 E Broadway Blvd</td>\n",
       "      <td>935 Race St</td>\n",
       "      <td>101 Walnut St</td>\n",
       "    </tr>\n",
       "    <tr>\n",
       "      <th>city</th>\n",
       "      <td>Santa Barbara</td>\n",
       "      <td>Affton</td>\n",
       "      <td>Tucson</td>\n",
       "      <td>Philadelphia</td>\n",
       "      <td>Green Lane</td>\n",
       "    </tr>\n",
       "    <tr>\n",
       "      <th>state</th>\n",
       "      <td>CA</td>\n",
       "      <td>MO</td>\n",
       "      <td>AZ</td>\n",
       "      <td>PA</td>\n",
       "      <td>PA</td>\n",
       "    </tr>\n",
       "    <tr>\n",
       "      <th>postal_code</th>\n",
       "      <td>93101</td>\n",
       "      <td>63123</td>\n",
       "      <td>85711</td>\n",
       "      <td>19107</td>\n",
       "      <td>18054</td>\n",
       "    </tr>\n",
       "    <tr>\n",
       "      <th>latitude</th>\n",
       "      <td>34.426679</td>\n",
       "      <td>38.551126</td>\n",
       "      <td>32.223236</td>\n",
       "      <td>39.955505</td>\n",
       "      <td>40.338183</td>\n",
       "    </tr>\n",
       "    <tr>\n",
       "      <th>longitude</th>\n",
       "      <td>-119.711197</td>\n",
       "      <td>-90.335695</td>\n",
       "      <td>-110.880452</td>\n",
       "      <td>-75.155564</td>\n",
       "      <td>-75.471659</td>\n",
       "    </tr>\n",
       "    <tr>\n",
       "      <th>stars</th>\n",
       "      <td>5.0</td>\n",
       "      <td>3.0</td>\n",
       "      <td>3.5</td>\n",
       "      <td>4.0</td>\n",
       "      <td>4.5</td>\n",
       "    </tr>\n",
       "    <tr>\n",
       "      <th>review_count</th>\n",
       "      <td>7</td>\n",
       "      <td>15</td>\n",
       "      <td>22</td>\n",
       "      <td>80</td>\n",
       "      <td>13</td>\n",
       "    </tr>\n",
       "    <tr>\n",
       "      <th>is_open</th>\n",
       "      <td>0</td>\n",
       "      <td>1</td>\n",
       "      <td>0</td>\n",
       "      <td>1</td>\n",
       "      <td>1</td>\n",
       "    </tr>\n",
       "    <tr>\n",
       "      <th>attributes</th>\n",
       "      <td>{'ByAppointmentOnly': 'True'}</td>\n",
       "      <td>{'BusinessAcceptsCreditCards': 'True'}</td>\n",
       "      <td>{'BikeParking': 'True', 'BusinessAcceptsCredit...</td>\n",
       "      <td>{'RestaurantsDelivery': 'False', 'OutdoorSeati...</td>\n",
       "      <td>{'BusinessAcceptsCreditCards': 'True', 'Wheelc...</td>\n",
       "    </tr>\n",
       "    <tr>\n",
       "      <th>categories</th>\n",
       "      <td>Doctors, Traditional Chinese Medicine, Naturop...</td>\n",
       "      <td>Shipping Centers, Local Services, Notaries, Ma...</td>\n",
       "      <td>Department Stores, Shopping, Fashion, Home &amp; G...</td>\n",
       "      <td>Restaurants, Food, Bubble Tea, Coffee &amp; Tea, B...</td>\n",
       "      <td>Brewpubs, Breweries, Food</td>\n",
       "    </tr>\n",
       "    <tr>\n",
       "      <th>hours</th>\n",
       "      <td>None</td>\n",
       "      <td>{'Monday': '0:0-0:0', 'Tuesday': '8:0-18:30', ...</td>\n",
       "      <td>{'Monday': '8:0-22:0', 'Tuesday': '8:0-22:0', ...</td>\n",
       "      <td>{'Monday': '7:0-20:0', 'Tuesday': '7:0-20:0', ...</td>\n",
       "      <td>{'Wednesday': '14:0-22:0', 'Thursday': '16:0-2...</td>\n",
       "    </tr>\n",
       "  </tbody>\n",
       "</table>\n",
       "</div>"
      ],
      "text/plain": [
       "                                                              0  \\\n",
       "business_id                              Pns2l4eNsfO8kk83dixA6A   \n",
       "name                                   Abby Rappoport, LAC, CMQ   \n",
       "address                                  1616 Chapala St, Ste 2   \n",
       "city                                              Santa Barbara   \n",
       "state                                                        CA   \n",
       "postal_code                                               93101   \n",
       "latitude                                              34.426679   \n",
       "longitude                                           -119.711197   \n",
       "stars                                                       5.0   \n",
       "review_count                                                  7   \n",
       "is_open                                                       0   \n",
       "attributes                        {'ByAppointmentOnly': 'True'}   \n",
       "categories    Doctors, Traditional Chinese Medicine, Naturop...   \n",
       "hours                                                      None   \n",
       "\n",
       "                                                              1  \\\n",
       "business_id                              mpf3x-BjTdTEA3yCZrAYPw   \n",
       "name                                              The UPS Store   \n",
       "address                         87 Grasso Plaza Shopping Center   \n",
       "city                                                     Affton   \n",
       "state                                                        MO   \n",
       "postal_code                                               63123   \n",
       "latitude                                              38.551126   \n",
       "longitude                                            -90.335695   \n",
       "stars                                                       3.0   \n",
       "review_count                                                 15   \n",
       "is_open                                                       1   \n",
       "attributes               {'BusinessAcceptsCreditCards': 'True'}   \n",
       "categories    Shipping Centers, Local Services, Notaries, Ma...   \n",
       "hours         {'Monday': '0:0-0:0', 'Tuesday': '8:0-18:30', ...   \n",
       "\n",
       "                                                              2  \\\n",
       "business_id                              tUFrWirKiKi_TAnsVWINQQ   \n",
       "name                                                     Target   \n",
       "address                                    5255 E Broadway Blvd   \n",
       "city                                                     Tucson   \n",
       "state                                                        AZ   \n",
       "postal_code                                               85711   \n",
       "latitude                                              32.223236   \n",
       "longitude                                           -110.880452   \n",
       "stars                                                       3.5   \n",
       "review_count                                                 22   \n",
       "is_open                                                       0   \n",
       "attributes    {'BikeParking': 'True', 'BusinessAcceptsCredit...   \n",
       "categories    Department Stores, Shopping, Fashion, Home & G...   \n",
       "hours         {'Monday': '8:0-22:0', 'Tuesday': '8:0-22:0', ...   \n",
       "\n",
       "                                                              3  \\\n",
       "business_id                              MTSW4McQd7CbVtyjqoe9mw   \n",
       "name                                         St Honore Pastries   \n",
       "address                                             935 Race St   \n",
       "city                                               Philadelphia   \n",
       "state                                                        PA   \n",
       "postal_code                                               19107   \n",
       "latitude                                              39.955505   \n",
       "longitude                                            -75.155564   \n",
       "stars                                                       4.0   \n",
       "review_count                                                 80   \n",
       "is_open                                                       1   \n",
       "attributes    {'RestaurantsDelivery': 'False', 'OutdoorSeati...   \n",
       "categories    Restaurants, Food, Bubble Tea, Coffee & Tea, B...   \n",
       "hours         {'Monday': '7:0-20:0', 'Tuesday': '7:0-20:0', ...   \n",
       "\n",
       "                                                              4  \n",
       "business_id                              mWMc6_wTdE0EUBKIGXDVfA  \n",
       "name                                   Perkiomen Valley Brewery  \n",
       "address                                           101 Walnut St  \n",
       "city                                                 Green Lane  \n",
       "state                                                        PA  \n",
       "postal_code                                               18054  \n",
       "latitude                                              40.338183  \n",
       "longitude                                            -75.471659  \n",
       "stars                                                       4.5  \n",
       "review_count                                                 13  \n",
       "is_open                                                       1  \n",
       "attributes    {'BusinessAcceptsCreditCards': 'True', 'Wheelc...  \n",
       "categories                            Brewpubs, Breweries, Food  \n",
       "hours         {'Wednesday': '14:0-22:0', 'Thursday': '16:0-2...  "
      ]
     },
     "execution_count": 10,
     "metadata": {},
     "output_type": "execute_result"
    }
   ],
   "source": [
    "df_business.head().T"
   ]
  },
  {
   "cell_type": "code",
   "execution_count": 11,
   "id": "5b37f774-8185-4934-9d09-6581df55d212",
   "metadata": {
    "tags": []
   },
   "outputs": [
    {
     "data": {
      "text/html": [
       "<div>\n",
       "<style scoped>\n",
       "    .dataframe tbody tr th:only-of-type {\n",
       "        vertical-align: middle;\n",
       "    }\n",
       "\n",
       "    .dataframe tbody tr th {\n",
       "        vertical-align: top;\n",
       "    }\n",
       "\n",
       "    .dataframe thead th {\n",
       "        text-align: right;\n",
       "    }\n",
       "</style>\n",
       "<table border=\"1\" class=\"dataframe\">\n",
       "  <thead>\n",
       "    <tr style=\"text-align: right;\">\n",
       "      <th></th>\n",
       "      <th>business_id</th>\n",
       "      <th>name</th>\n",
       "      <th>address</th>\n",
       "      <th>city</th>\n",
       "      <th>state</th>\n",
       "      <th>postal_code</th>\n",
       "      <th>latitude</th>\n",
       "      <th>longitude</th>\n",
       "      <th>stars</th>\n",
       "      <th>review_count</th>\n",
       "      <th>is_open</th>\n",
       "      <th>attributes</th>\n",
       "      <th>categories</th>\n",
       "      <th>hours</th>\n",
       "    </tr>\n",
       "  </thead>\n",
       "  <tbody>\n",
       "    <tr>\n",
       "      <th>0</th>\n",
       "      <td>Pns2l4eNsfO8kk83dixA6A</td>\n",
       "      <td>Abby Rappoport, LAC, CMQ</td>\n",
       "      <td>1616 Chapala St, Ste 2</td>\n",
       "      <td>Santa Barbara</td>\n",
       "      <td>CA</td>\n",
       "      <td>93101</td>\n",
       "      <td>34.426679</td>\n",
       "      <td>-119.711197</td>\n",
       "      <td>5.0</td>\n",
       "      <td>7</td>\n",
       "      <td>0</td>\n",
       "      <td>{'ByAppointmentOnly': 'True'}</td>\n",
       "      <td>Doctors, Traditional Chinese Medicine, Naturop...</td>\n",
       "      <td>None</td>\n",
       "    </tr>\n",
       "    <tr>\n",
       "      <th>3</th>\n",
       "      <td>MTSW4McQd7CbVtyjqoe9mw</td>\n",
       "      <td>St Honore Pastries</td>\n",
       "      <td>935 Race St</td>\n",
       "      <td>Philadelphia</td>\n",
       "      <td>PA</td>\n",
       "      <td>19107</td>\n",
       "      <td>39.955505</td>\n",
       "      <td>-75.155564</td>\n",
       "      <td>4.0</td>\n",
       "      <td>80</td>\n",
       "      <td>1</td>\n",
       "      <td>{'RestaurantsDelivery': 'False', 'OutdoorSeati...</td>\n",
       "      <td>Restaurants, Food, Bubble Tea, Coffee &amp; Tea, B...</td>\n",
       "      <td>{'Monday': '7:0-20:0', 'Tuesday': '7:0-20:0', ...</td>\n",
       "    </tr>\n",
       "    <tr>\n",
       "      <th>4</th>\n",
       "      <td>mWMc6_wTdE0EUBKIGXDVfA</td>\n",
       "      <td>Perkiomen Valley Brewery</td>\n",
       "      <td>101 Walnut St</td>\n",
       "      <td>Green Lane</td>\n",
       "      <td>PA</td>\n",
       "      <td>18054</td>\n",
       "      <td>40.338183</td>\n",
       "      <td>-75.471659</td>\n",
       "      <td>4.5</td>\n",
       "      <td>13</td>\n",
       "      <td>1</td>\n",
       "      <td>{'BusinessAcceptsCreditCards': 'True', 'Wheelc...</td>\n",
       "      <td>Brewpubs, Breweries, Food</td>\n",
       "      <td>{'Wednesday': '14:0-22:0', 'Thursday': '16:0-2...</td>\n",
       "    </tr>\n",
       "    <tr>\n",
       "      <th>7</th>\n",
       "      <td>qkRM_2X51Yqxk3btlwAQIg</td>\n",
       "      <td>Temple Beth-El</td>\n",
       "      <td>400 Pasadena Ave S</td>\n",
       "      <td>St. Petersburg</td>\n",
       "      <td>FL</td>\n",
       "      <td>33707</td>\n",
       "      <td>27.766590</td>\n",
       "      <td>-82.732983</td>\n",
       "      <td>3.5</td>\n",
       "      <td>5</td>\n",
       "      <td>1</td>\n",
       "      <td>None</td>\n",
       "      <td>Synagogues, Religious Organizations</td>\n",
       "      <td>{'Monday': '9:0-17:0', 'Tuesday': '9:0-17:0', ...</td>\n",
       "    </tr>\n",
       "    <tr>\n",
       "      <th>8</th>\n",
       "      <td>k0hlBqXX-Bt0vf1op7Jr1w</td>\n",
       "      <td>Tsevi's Pub And Grill</td>\n",
       "      <td>8025 Mackenzie Rd</td>\n",
       "      <td>Affton</td>\n",
       "      <td>MO</td>\n",
       "      <td>63123</td>\n",
       "      <td>38.565165</td>\n",
       "      <td>-90.321087</td>\n",
       "      <td>3.0</td>\n",
       "      <td>19</td>\n",
       "      <td>0</td>\n",
       "      <td>{'Caters': 'True', 'Alcohol': 'u'full_bar'', '...</td>\n",
       "      <td>Pubs, Restaurants, Italian, Bars, American (Tr...</td>\n",
       "      <td>None</td>\n",
       "    </tr>\n",
       "    <tr>\n",
       "      <th>...</th>\n",
       "      <td>...</td>\n",
       "      <td>...</td>\n",
       "      <td>...</td>\n",
       "      <td>...</td>\n",
       "      <td>...</td>\n",
       "      <td>...</td>\n",
       "      <td>...</td>\n",
       "      <td>...</td>\n",
       "      <td>...</td>\n",
       "      <td>...</td>\n",
       "      <td>...</td>\n",
       "      <td>...</td>\n",
       "      <td>...</td>\n",
       "      <td>...</td>\n",
       "    </tr>\n",
       "    <tr>\n",
       "      <th>150238</th>\n",
       "      <td>Oy8MfKjNpv3uKs6tCgCVVw</td>\n",
       "      <td>Petrucci's Dairy Barn</td>\n",
       "      <td>2863 Knights Rd</td>\n",
       "      <td>Bensalem</td>\n",
       "      <td>PA</td>\n",
       "      <td>19020</td>\n",
       "      <td>40.103088</td>\n",
       "      <td>-74.951998</td>\n",
       "      <td>4.0</td>\n",
       "      <td>25</td>\n",
       "      <td>1</td>\n",
       "      <td>{'BusinessAcceptsCreditCards': 'False', 'Busin...</td>\n",
       "      <td>Ice Cream &amp; Frozen Yogurt, Food</td>\n",
       "      <td>{'Monday': '12:0-21:0', 'Tuesday': '12:0-21:0'...</td>\n",
       "    </tr>\n",
       "    <tr>\n",
       "      <th>150239</th>\n",
       "      <td>TSwMwVq5GtQh5LW2t32uGA</td>\n",
       "      <td>Woody's Roundup Bar &amp; Grill</td>\n",
       "      <td>Earl Warren Showgrounds, 3400 Calle Real</td>\n",
       "      <td>Santa Barbara</td>\n",
       "      <td>CA</td>\n",
       "      <td>93105</td>\n",
       "      <td>34.430895</td>\n",
       "      <td>-119.735645</td>\n",
       "      <td>2.0</td>\n",
       "      <td>6</td>\n",
       "      <td>0</td>\n",
       "      <td>{'Caters': 'True', 'BusinessParking': '{'garag...</td>\n",
       "      <td>Barbeque, Bars, Restaurants, Nightlife</td>\n",
       "      <td>None</td>\n",
       "    </tr>\n",
       "    <tr>\n",
       "      <th>150240</th>\n",
       "      <td>gem2iNVMy6qhNDO_pO4IqA</td>\n",
       "      <td>Sweet L's Bakery</td>\n",
       "      <td>26 Hibiscus St</td>\n",
       "      <td>Tarpon Springs</td>\n",
       "      <td>FL</td>\n",
       "      <td>34689</td>\n",
       "      <td>28.147221</td>\n",
       "      <td>-82.756020</td>\n",
       "      <td>5.0</td>\n",
       "      <td>10</td>\n",
       "      <td>0</td>\n",
       "      <td>{'BikeParking': 'False', 'BusinessParking': '{...</td>\n",
       "      <td>Desserts, Food, Bakeries</td>\n",
       "      <td>{'Monday': '0:0-0:0', 'Wednesday': '11:0-16:0'...</td>\n",
       "    </tr>\n",
       "    <tr>\n",
       "      <th>150241</th>\n",
       "      <td>XjvaFqjMoU80yO2LpsYqEA</td>\n",
       "      <td>Washoe Lake State Park</td>\n",
       "      <td>County Road 101</td>\n",
       "      <td>New Washoe City</td>\n",
       "      <td>NV</td>\n",
       "      <td>89704</td>\n",
       "      <td>39.321013</td>\n",
       "      <td>-119.796692</td>\n",
       "      <td>4.0</td>\n",
       "      <td>6</td>\n",
       "      <td>1</td>\n",
       "      <td>{'BusinessParking': '{'garage': False, 'street...</td>\n",
       "      <td>Active Life, Parks</td>\n",
       "      <td>None</td>\n",
       "    </tr>\n",
       "    <tr>\n",
       "      <th>150242</th>\n",
       "      <td>BrIQCUgkAc9lyDPGoVaa6Q</td>\n",
       "      <td>Helm Paint &amp; Supply</td>\n",
       "      <td>2801 Magazine St, Ste 3</td>\n",
       "      <td>New Orleans</td>\n",
       "      <td>LA</td>\n",
       "      <td>70115</td>\n",
       "      <td>29.926070</td>\n",
       "      <td>-90.082950</td>\n",
       "      <td>4.5</td>\n",
       "      <td>5</td>\n",
       "      <td>1</td>\n",
       "      <td>{'BusinessAcceptsCreditCards': 'True'}</td>\n",
       "      <td>Shopping, Home &amp; Garden, Home Decor, Home Serv...</td>\n",
       "      <td>None</td>\n",
       "    </tr>\n",
       "  </tbody>\n",
       "</table>\n",
       "<p>106067 rows × 14 columns</p>\n",
       "</div>"
      ],
      "text/plain": [
       "                   business_id                         name  \\\n",
       "0       Pns2l4eNsfO8kk83dixA6A     Abby Rappoport, LAC, CMQ   \n",
       "3       MTSW4McQd7CbVtyjqoe9mw           St Honore Pastries   \n",
       "4       mWMc6_wTdE0EUBKIGXDVfA     Perkiomen Valley Brewery   \n",
       "7       qkRM_2X51Yqxk3btlwAQIg               Temple Beth-El   \n",
       "8       k0hlBqXX-Bt0vf1op7Jr1w        Tsevi's Pub And Grill   \n",
       "...                        ...                          ...   \n",
       "150238  Oy8MfKjNpv3uKs6tCgCVVw        Petrucci's Dairy Barn   \n",
       "150239  TSwMwVq5GtQh5LW2t32uGA  Woody's Roundup Bar & Grill   \n",
       "150240  gem2iNVMy6qhNDO_pO4IqA             Sweet L's Bakery   \n",
       "150241  XjvaFqjMoU80yO2LpsYqEA       Washoe Lake State Park   \n",
       "150242  BrIQCUgkAc9lyDPGoVaa6Q          Helm Paint & Supply   \n",
       "\n",
       "                                         address             city state  \\\n",
       "0                         1616 Chapala St, Ste 2    Santa Barbara    CA   \n",
       "3                                    935 Race St     Philadelphia    PA   \n",
       "4                                  101 Walnut St       Green Lane    PA   \n",
       "7                             400 Pasadena Ave S   St. Petersburg    FL   \n",
       "8                              8025 Mackenzie Rd           Affton    MO   \n",
       "...                                          ...              ...   ...   \n",
       "150238                           2863 Knights Rd         Bensalem    PA   \n",
       "150239  Earl Warren Showgrounds, 3400 Calle Real    Santa Barbara    CA   \n",
       "150240                            26 Hibiscus St   Tarpon Springs    FL   \n",
       "150241                           County Road 101  New Washoe City    NV   \n",
       "150242                   2801 Magazine St, Ste 3      New Orleans    LA   \n",
       "\n",
       "       postal_code   latitude   longitude  stars  review_count  is_open  \\\n",
       "0            93101  34.426679 -119.711197    5.0             7        0   \n",
       "3            19107  39.955505  -75.155564    4.0            80        1   \n",
       "4            18054  40.338183  -75.471659    4.5            13        1   \n",
       "7            33707  27.766590  -82.732983    3.5             5        1   \n",
       "8            63123  38.565165  -90.321087    3.0            19        0   \n",
       "...            ...        ...         ...    ...           ...      ...   \n",
       "150238       19020  40.103088  -74.951998    4.0            25        1   \n",
       "150239       93105  34.430895 -119.735645    2.0             6        0   \n",
       "150240       34689  28.147221  -82.756020    5.0            10        0   \n",
       "150241       89704  39.321013 -119.796692    4.0             6        1   \n",
       "150242       70115  29.926070  -90.082950    4.5             5        1   \n",
       "\n",
       "                                               attributes  \\\n",
       "0                           {'ByAppointmentOnly': 'True'}   \n",
       "3       {'RestaurantsDelivery': 'False', 'OutdoorSeati...   \n",
       "4       {'BusinessAcceptsCreditCards': 'True', 'Wheelc...   \n",
       "7                                                    None   \n",
       "8       {'Caters': 'True', 'Alcohol': 'u'full_bar'', '...   \n",
       "...                                                   ...   \n",
       "150238  {'BusinessAcceptsCreditCards': 'False', 'Busin...   \n",
       "150239  {'Caters': 'True', 'BusinessParking': '{'garag...   \n",
       "150240  {'BikeParking': 'False', 'BusinessParking': '{...   \n",
       "150241  {'BusinessParking': '{'garage': False, 'street...   \n",
       "150242             {'BusinessAcceptsCreditCards': 'True'}   \n",
       "\n",
       "                                               categories  \\\n",
       "0       Doctors, Traditional Chinese Medicine, Naturop...   \n",
       "3       Restaurants, Food, Bubble Tea, Coffee & Tea, B...   \n",
       "4                               Brewpubs, Breweries, Food   \n",
       "7                     Synagogues, Religious Organizations   \n",
       "8       Pubs, Restaurants, Italian, Bars, American (Tr...   \n",
       "...                                                   ...   \n",
       "150238                    Ice Cream & Frozen Yogurt, Food   \n",
       "150239             Barbeque, Bars, Restaurants, Nightlife   \n",
       "150240                           Desserts, Food, Bakeries   \n",
       "150241                                 Active Life, Parks   \n",
       "150242  Shopping, Home & Garden, Home Decor, Home Serv...   \n",
       "\n",
       "                                                    hours  \n",
       "0                                                    None  \n",
       "3       {'Monday': '7:0-20:0', 'Tuesday': '7:0-20:0', ...  \n",
       "4       {'Wednesday': '14:0-22:0', 'Thursday': '16:0-2...  \n",
       "7       {'Monday': '9:0-17:0', 'Tuesday': '9:0-17:0', ...  \n",
       "8                                                    None  \n",
       "...                                                   ...  \n",
       "150238  {'Monday': '12:0-21:0', 'Tuesday': '12:0-21:0'...  \n",
       "150239                                               None  \n",
       "150240  {'Monday': '0:0-0:0', 'Wednesday': '11:0-16:0'...  \n",
       "150241                                               None  \n",
       "150242                                               None  \n",
       "\n",
       "[106067 rows x 14 columns]"
      ]
     },
     "execution_count": 11,
     "metadata": {},
     "output_type": "execute_result"
    }
   ],
   "source": [
    "# Filter the DataFrame based on the count of occurrences of each unique value in the 'name' column\n",
    "df_business = df_business[df_business['name'].map(df_business['name'].value_counts()) < 2]\n",
    "df_business"
   ]
  },
  {
   "cell_type": "code",
   "execution_count": 12,
   "id": "72455b1f-66f9-4c38-b5b1-9734e8d9c5df",
   "metadata": {
    "tags": []
   },
   "outputs": [],
   "source": [
    "# Reset the index of the DataFrame\n",
    "df_business.reset_index(drop=True, inplace=True)"
   ]
  },
  {
   "cell_type": "code",
   "execution_count": 13,
   "id": "146d9833-d874-47b6-be67-55f3cf28ce75",
   "metadata": {
    "tags": []
   },
   "outputs": [
    {
     "data": {
      "text/plain": [
       "state\n",
       "PA     25054\n",
       "FL     18587\n",
       "TN      8285\n",
       "LA      7419\n",
       "MO      7250\n",
       "IN      7097\n",
       "AZ      6759\n",
       "NJ      5826\n",
       "NV      5797\n",
       "CA      4315\n",
       "AB      3733\n",
       "ID      3101\n",
       "DE      1513\n",
       "IL      1313\n",
       "TX         4\n",
       "CO         3\n",
       "HI         2\n",
       "WA         1\n",
       "UT         1\n",
       "MT         1\n",
       "MI         1\n",
       "SD         1\n",
       "XMS        1\n",
       "MA         1\n",
       "VI         1\n",
       "VT         1\n",
       "Name: count, dtype: int64"
      ]
     },
     "execution_count": 13,
     "metadata": {},
     "output_type": "execute_result"
    }
   ],
   "source": [
    "df_business['state'].value_counts()"
   ]
  },
  {
   "cell_type": "markdown",
   "id": "70e2e51a-33b2-43d7-8d0c-6e89b556950d",
   "metadata": {},
   "source": [
    "PA: Pennsylvania\n",
    "FL: Florida\n",
    "TN: Tennessee\n",
    "IN: Indiana\n",
    "MO: Missouri\n",
    "LA: Louisiana\n",
    "AZ: Arizona\n",
    "NJ: New Jersey\n",
    "NV: Nevada\n",
    "AB: Alberta (This is a Canadian province, not a U.S. state)\n",
    "CA: California\n",
    "ID: Idaho\n",
    "DE: Delaware\n",
    "IL: Illinois\n",
    "TX: Texas\n",
    "CO: Colorado\n",
    "WA: Washington\n",
    "HI: Hawaii\n",
    "MA: Massachusetts\n",
    "NC: North Carolina\n",
    "UT: Utah\n",
    "MT: Montana\n",
    "MI: Michigan\n",
    "SD: South Dakota\n",
    "XMS: This abbreviation is not recognized as a U.S. state or Canadian province abbreviation.\n",
    "VI: Virgin Islands (This is a territory of the United States, not a state)\n",
    "VT: Vermont"
   ]
  },
  {
   "cell_type": "code",
   "execution_count": 14,
   "id": "c980523e-9de2-47e7-952b-476412b0f2a6",
   "metadata": {
    "tags": []
   },
   "outputs": [],
   "source": [
    "df_business_subset=df_business.drop(columns=['attributes','categories','hours'])"
   ]
  },
  {
   "cell_type": "code",
   "execution_count": 15,
   "id": "b7bd0b8a-ae4a-47b3-8894-ffee72fd4a48",
   "metadata": {
    "tags": []
   },
   "outputs": [
    {
     "data": {
      "text/html": [
       "<div>\n",
       "<style scoped>\n",
       "    .dataframe tbody tr th:only-of-type {\n",
       "        vertical-align: middle;\n",
       "    }\n",
       "\n",
       "    .dataframe tbody tr th {\n",
       "        vertical-align: top;\n",
       "    }\n",
       "\n",
       "    .dataframe thead th {\n",
       "        text-align: right;\n",
       "    }\n",
       "</style>\n",
       "<table border=\"1\" class=\"dataframe\">\n",
       "  <thead>\n",
       "    <tr style=\"text-align: right;\">\n",
       "      <th></th>\n",
       "      <th>business_id</th>\n",
       "      <th>name</th>\n",
       "      <th>address</th>\n",
       "      <th>city</th>\n",
       "      <th>state</th>\n",
       "      <th>postal_code</th>\n",
       "      <th>latitude</th>\n",
       "      <th>longitude</th>\n",
       "      <th>stars</th>\n",
       "      <th>review_count</th>\n",
       "      <th>is_open</th>\n",
       "    </tr>\n",
       "  </thead>\n",
       "  <tbody>\n",
       "    <tr>\n",
       "      <th>0</th>\n",
       "      <td>Pns2l4eNsfO8kk83dixA6A</td>\n",
       "      <td>Abby Rappoport, LAC, CMQ</td>\n",
       "      <td>1616 Chapala St, Ste 2</td>\n",
       "      <td>Santa Barbara</td>\n",
       "      <td>CA</td>\n",
       "      <td>93101</td>\n",
       "      <td>34.426679</td>\n",
       "      <td>-119.711197</td>\n",
       "      <td>5.0</td>\n",
       "      <td>7</td>\n",
       "      <td>0</td>\n",
       "    </tr>\n",
       "    <tr>\n",
       "      <th>1</th>\n",
       "      <td>MTSW4McQd7CbVtyjqoe9mw</td>\n",
       "      <td>St Honore Pastries</td>\n",
       "      <td>935 Race St</td>\n",
       "      <td>Philadelphia</td>\n",
       "      <td>PA</td>\n",
       "      <td>19107</td>\n",
       "      <td>39.955505</td>\n",
       "      <td>-75.155564</td>\n",
       "      <td>4.0</td>\n",
       "      <td>80</td>\n",
       "      <td>1</td>\n",
       "    </tr>\n",
       "    <tr>\n",
       "      <th>2</th>\n",
       "      <td>mWMc6_wTdE0EUBKIGXDVfA</td>\n",
       "      <td>Perkiomen Valley Brewery</td>\n",
       "      <td>101 Walnut St</td>\n",
       "      <td>Green Lane</td>\n",
       "      <td>PA</td>\n",
       "      <td>18054</td>\n",
       "      <td>40.338183</td>\n",
       "      <td>-75.471659</td>\n",
       "      <td>4.5</td>\n",
       "      <td>13</td>\n",
       "      <td>1</td>\n",
       "    </tr>\n",
       "    <tr>\n",
       "      <th>3</th>\n",
       "      <td>qkRM_2X51Yqxk3btlwAQIg</td>\n",
       "      <td>Temple Beth-El</td>\n",
       "      <td>400 Pasadena Ave S</td>\n",
       "      <td>St. Petersburg</td>\n",
       "      <td>FL</td>\n",
       "      <td>33707</td>\n",
       "      <td>27.766590</td>\n",
       "      <td>-82.732983</td>\n",
       "      <td>3.5</td>\n",
       "      <td>5</td>\n",
       "      <td>1</td>\n",
       "    </tr>\n",
       "    <tr>\n",
       "      <th>4</th>\n",
       "      <td>k0hlBqXX-Bt0vf1op7Jr1w</td>\n",
       "      <td>Tsevi's Pub And Grill</td>\n",
       "      <td>8025 Mackenzie Rd</td>\n",
       "      <td>Affton</td>\n",
       "      <td>MO</td>\n",
       "      <td>63123</td>\n",
       "      <td>38.565165</td>\n",
       "      <td>-90.321087</td>\n",
       "      <td>3.0</td>\n",
       "      <td>19</td>\n",
       "      <td>0</td>\n",
       "    </tr>\n",
       "  </tbody>\n",
       "</table>\n",
       "</div>"
      ],
      "text/plain": [
       "              business_id                      name                 address  \\\n",
       "0  Pns2l4eNsfO8kk83dixA6A  Abby Rappoport, LAC, CMQ  1616 Chapala St, Ste 2   \n",
       "1  MTSW4McQd7CbVtyjqoe9mw        St Honore Pastries             935 Race St   \n",
       "2  mWMc6_wTdE0EUBKIGXDVfA  Perkiomen Valley Brewery           101 Walnut St   \n",
       "3  qkRM_2X51Yqxk3btlwAQIg            Temple Beth-El      400 Pasadena Ave S   \n",
       "4  k0hlBqXX-Bt0vf1op7Jr1w     Tsevi's Pub And Grill       8025 Mackenzie Rd   \n",
       "\n",
       "             city state postal_code   latitude   longitude  stars  \\\n",
       "0   Santa Barbara    CA       93101  34.426679 -119.711197    5.0   \n",
       "1    Philadelphia    PA       19107  39.955505  -75.155564    4.0   \n",
       "2      Green Lane    PA       18054  40.338183  -75.471659    4.5   \n",
       "3  St. Petersburg    FL       33707  27.766590  -82.732983    3.5   \n",
       "4          Affton    MO       63123  38.565165  -90.321087    3.0   \n",
       "\n",
       "   review_count  is_open  \n",
       "0             7        0  \n",
       "1            80        1  \n",
       "2            13        1  \n",
       "3             5        1  \n",
       "4            19        0  "
      ]
     },
     "execution_count": 15,
     "metadata": {},
     "output_type": "execute_result"
    }
   ],
   "source": [
    "df_business_subset.head()"
   ]
  },
  {
   "cell_type": "markdown",
   "id": "4c43e789-bd7b-40fc-adad-d512d74c79df",
   "metadata": {
    "tags": []
   },
   "source": [
    "### Removing Duplicates"
   ]
  },
  {
   "cell_type": "code",
   "execution_count": 16,
   "id": "231dc584-d704-45d4-b531-6e3f71c6ea8a",
   "metadata": {
    "tags": []
   },
   "outputs": [
    {
     "data": {
      "text/plain": [
       "0"
      ]
     },
     "execution_count": 16,
     "metadata": {},
     "output_type": "execute_result"
    }
   ],
   "source": [
    "df_business_subset.duplicated().sum()"
   ]
  },
  {
   "cell_type": "markdown",
   "id": "5f9ac07d-45c6-4d12-a036-ae8ef9815085",
   "metadata": {},
   "source": [
    "Empty dataset specifies that there are no duplicate values in specified columns"
   ]
  },
  {
   "cell_type": "code",
   "execution_count": 17,
   "id": "fda26fc5-1d87-46eb-af0f-7928deafa132",
   "metadata": {
    "tags": []
   },
   "outputs": [
    {
     "data": {
      "text/plain": [
       "business_id     0\n",
       "name            0\n",
       "address         0\n",
       "city            0\n",
       "state           0\n",
       "postal_code     0\n",
       "latitude        0\n",
       "longitude       0\n",
       "stars           0\n",
       "review_count    0\n",
       "is_open         0\n",
       "dtype: int64"
      ]
     },
     "execution_count": 17,
     "metadata": {},
     "output_type": "execute_result"
    }
   ],
   "source": [
    "df_business_subset.isna().sum()"
   ]
  },
  {
   "cell_type": "markdown",
   "id": "55a068cb-761c-44b1-b371-6c04f238f2b1",
   "metadata": {
    "tags": []
   },
   "source": [
    "### Removing Null Values"
   ]
  },
  {
   "cell_type": "code",
   "execution_count": 18,
   "id": "09a3139a-40d9-49e5-ace7-60710c646733",
   "metadata": {},
   "outputs": [
    {
     "name": "stdout",
     "output_type": "stream",
     "text": [
      "0         False\n",
      "1          True\n",
      "2         False\n",
      "3         False\n",
      "4          True\n",
      "          ...  \n",
      "106062    False\n",
      "106063     True\n",
      "106064    False\n",
      "106065    False\n",
      "106066    False\n",
      "Name: categories, Length: 106067, dtype: object\n"
     ]
    },
    {
     "name": "stderr",
     "output_type": "stream",
     "text": [
      "/var/folders/rc/713vct4s6wg859ww_2h0w03w0000gn/T/ipykernel_29082/3314344087.py:3: SettingWithCopyWarning: \n",
      "A value is trying to be set on a copy of a slice from a DataFrame.\n",
      "Try using .loc[row_indexer,col_indexer] = value instead\n",
      "\n",
      "See the caveats in the documentation: https://pandas.pydata.org/pandas-docs/stable/user_guide/indexing.html#returning-a-view-versus-a-copy\n",
      "  df_business['categories'] = df_business['categories'].str.lower()\n"
     ]
    }
   ],
   "source": [
    "# Count occurrences of categories starting with 'rest'\n",
    "# Convert strings in the 'categories' column to lowercase\n",
    "df_business['categories'] = df_business['categories'].str.lower()\n",
    "\n",
    "rest_categories_count = df_business['categories'].str.contains('rest.*', regex=True)\n",
    "\n",
    "# Print the result\n",
    "print(rest_categories_count)"
   ]
  },
  {
   "cell_type": "code",
   "execution_count": 19,
   "id": "05c9d847-3fcd-42a5-9aea-abc5b1769a0d",
   "metadata": {
    "tags": []
   },
   "outputs": [
    {
     "name": "stdout",
     "output_type": "stream",
     "text": [
      "['doctors, traditional chinese medicine, naturopathic/holistic, acupuncture, health & medical, nutritionists'\n",
      " 'restaurants, food, bubble tea, coffee & tea, bakeries'\n",
      " 'brewpubs, breweries, food' ... 'restaurants, pizza, mexican'\n",
      " 'barbeque, bars, restaurants, nightlife'\n",
      " 'shopping, home & garden, home decor, home services, paint stores, painters, contractors']\n"
     ]
    }
   ],
   "source": [
    "# Print unique categories\n",
    "print(df_business['categories'].unique())\n"
   ]
  },
  {
   "cell_type": "code",
   "execution_count": 20,
   "id": "94d4e218-e181-4432-9136-cd9ad294cdc2",
   "metadata": {
    "tags": []
   },
   "outputs": [
    {
     "name": "stdout",
     "output_type": "stream",
     "text": [
      "['doctors, traditional chinese medicine, naturopathic/holistic, acupuncture, health & medical, nutritionists'\n",
      " 'restaurants, food, bubble tea, coffee & tea, bakeries'\n",
      " 'brewpubs, breweries, food' ... 'restaurants, pizza, mexican'\n",
      " 'barbeque, bars, restaurants, nightlife'\n",
      " 'shopping, home & garden, home decor, home services, paint stores, painters, contractors']\n"
     ]
    }
   ],
   "source": [
    "# Print unique categories\n",
    "print(df_business['categories'].unique())\n"
   ]
  },
  {
   "cell_type": "code",
   "execution_count": 21,
   "id": "5212d90f-fb7a-4e2f-952d-1913a3ca02f8",
   "metadata": {
    "tags": []
   },
   "outputs": [
    {
     "data": {
      "text/plain": [
       "90"
      ]
     },
     "execution_count": 21,
     "metadata": {},
     "output_type": "execute_result"
    }
   ],
   "source": [
    "df_business['categories'].isna().sum()"
   ]
  },
  {
   "cell_type": "code",
   "execution_count": 22,
   "id": "bb6e9c75-e7da-4529-9be9-ab34c3f15e89",
   "metadata": {
    "tags": []
   },
   "outputs": [
    {
     "data": {
      "text/plain": [
       "0.08485202749205692"
      ]
     },
     "execution_count": 22,
     "metadata": {},
     "output_type": "execute_result"
    }
   ],
   "source": [
    "df_business['categories'].isna().mean()*100"
   ]
  },
  {
   "cell_type": "markdown",
   "id": "92d3ff40-67a6-47fe-9d83-557ac3cbc4a3",
   "metadata": {},
   "source": [
    "The percentage of null for categories is much smaller. For the <3% missing columns so we can remove those rows."
   ]
  },
  {
   "cell_type": "code",
   "execution_count": 23,
   "id": "4e9fcb9e-cad5-47b3-bb5e-e549b0681f4d",
   "metadata": {
    "tags": []
   },
   "outputs": [
    {
     "name": "stderr",
     "output_type": "stream",
     "text": [
      "/var/folders/rc/713vct4s6wg859ww_2h0w03w0000gn/T/ipykernel_29082/902887265.py:1: SettingWithCopyWarning: \n",
      "A value is trying to be set on a copy of a slice from a DataFrame\n",
      "\n",
      "See the caveats in the documentation: https://pandas.pydata.org/pandas-docs/stable/user_guide/indexing.html#returning-a-view-versus-a-copy\n",
      "  df_business.dropna(subset=['categories'], inplace=True)\n"
     ]
    }
   ],
   "source": [
    "df_business.dropna(subset=['categories'], inplace=True)\n"
   ]
  },
  {
   "cell_type": "code",
   "execution_count": 24,
   "id": "4d651b2b-bce0-4c65-b32d-28635a29d8a1",
   "metadata": {
    "tags": []
   },
   "outputs": [
    {
     "data": {
      "text/plain": [
       "0"
      ]
     },
     "execution_count": 24,
     "metadata": {},
     "output_type": "execute_result"
    }
   ],
   "source": [
    "df_business['categories'].isna().sum()"
   ]
  },
  {
   "cell_type": "markdown",
   "id": "79cd2142-fb59-4be8-83cf-8072734bad20",
   "metadata": {},
   "source": [
    "For the attributes, hours columns it may be worth imputing these values as dropping 15.37% and 9.02% of rows may be too much data loss."
   ]
  },
  {
   "cell_type": "code",
   "execution_count": 25,
   "id": "bf5c91c2-f966-419f-96e9-61b654c8f1cf",
   "metadata": {
    "tags": []
   },
   "outputs": [
    {
     "name": "stderr",
     "output_type": "stream",
     "text": [
      "/var/folders/rc/713vct4s6wg859ww_2h0w03w0000gn/T/ipykernel_29082/2588515633.py:2: SettingWithCopyWarning: \n",
      "A value is trying to be set on a copy of a slice from a DataFrame.\n",
      "Try using .loc[row_indexer,col_indexer] = value instead\n",
      "\n",
      "See the caveats in the documentation: https://pandas.pydata.org/pandas-docs/stable/user_guide/indexing.html#returning-a-view-versus-a-copy\n",
      "  df_business['address'] = df_business['address'].str.lower()\n",
      "/var/folders/rc/713vct4s6wg859ww_2h0w03w0000gn/T/ipykernel_29082/2588515633.py:4: SettingWithCopyWarning: \n",
      "A value is trying to be set on a copy of a slice from a DataFrame.\n",
      "Try using .loc[row_indexer,col_indexer] = value instead\n",
      "\n",
      "See the caveats in the documentation: https://pandas.pydata.org/pandas-docs/stable/user_guide/indexing.html#returning-a-view-versus-a-copy\n",
      "  df_business['address'] = df_business['address'].str.replace('[^\\w\\s]','')\n"
     ]
    }
   ],
   "source": [
    "#making everything lower case + remove punctuation\n",
    "df_business['address'] = df_business['address'].str.lower()\n",
    "\n",
    "df_business['address'] = df_business['address'].str.replace('[^\\w\\s]','')"
   ]
  },
  {
   "cell_type": "code",
   "execution_count": 26,
   "id": "e27578c0-4e51-4405-bdab-84f52871ad45",
   "metadata": {
    "tags": []
   },
   "outputs": [
    {
     "data": {
      "text/plain": [
       "0    1616 chapala st, ste 2\n",
       "1               935 race st\n",
       "2             101 walnut st\n",
       "3        400 pasadena ave s\n",
       "4         8025 mackenzie rd\n",
       "5                          \n",
       "6         15 n missouri ave\n",
       "7             2575 e bay dr\n",
       "8               205 race st\n",
       "9           625 n stone ave\n",
       "Name: address, dtype: object"
      ]
     },
     "execution_count": 26,
     "metadata": {},
     "output_type": "execute_result"
    }
   ],
   "source": [
    "df_business['address'].head(10)"
   ]
  },
  {
   "cell_type": "code",
   "execution_count": 27,
   "id": "9b62b479-fdcd-466b-8a0d-0785ea6c5e96",
   "metadata": {
    "tags": []
   },
   "outputs": [],
   "source": [
    "df_business=df_business.dropna(subset=['categories',],axis=0)"
   ]
  },
  {
   "cell_type": "markdown",
   "id": "107f9be8-722f-4689-8505-ae77b0d9494a",
   "metadata": {
    "tags": []
   },
   "source": [
    "### Hours"
   ]
  },
  {
   "cell_type": "code",
   "execution_count": 28,
   "id": "b3573220-3c12-4f28-868c-009b8c8bc883",
   "metadata": {
    "tags": []
   },
   "outputs": [
    {
     "data": {
      "text/plain": [
       "business_id      0.000000\n",
       "name             0.000000\n",
       "address          0.000000\n",
       "city             0.000000\n",
       "state            0.000000\n",
       "postal_code      0.000000\n",
       "latitude         0.000000\n",
       "longitude        0.000000\n",
       "stars            0.000000\n",
       "review_count     0.000000\n",
       "is_open          0.000000\n",
       "attributes       9.751172\n",
       "categories       0.000000\n",
       "hours           16.367702\n",
       "dtype: float64"
      ]
     },
     "execution_count": 28,
     "metadata": {},
     "output_type": "execute_result"
    }
   ],
   "source": [
    "df_business.isna().mean()*100"
   ]
  },
  {
   "cell_type": "code",
   "execution_count": 29,
   "id": "e065e43c-1a8a-48e9-a6b4-cb7a890bb3ce",
   "metadata": {
    "tags": []
   },
   "outputs": [
    {
     "data": {
      "text/plain": [
       "0                                                 None\n",
       "1    {'Monday': '7:0-20:0', 'Tuesday': '7:0-20:0', ...\n",
       "2    {'Wednesday': '14:0-22:0', 'Thursday': '16:0-2...\n",
       "3    {'Monday': '9:0-17:0', 'Tuesday': '9:0-17:0', ...\n",
       "4                                                 None\n",
       "Name: hours, dtype: object"
      ]
     },
     "execution_count": 29,
     "metadata": {},
     "output_type": "execute_result"
    }
   ],
   "source": [
    "df_business['hours'].head()"
   ]
  },
  {
   "cell_type": "code",
   "execution_count": 30,
   "id": "f046cec6-eb1a-4fe5-bfb6-6edbc3e8993a",
   "metadata": {
    "tags": []
   },
   "outputs": [
    {
     "name": "stdout",
     "output_type": "stream",
     "text": [
      "     Monday   Tuesday  Wednesday   Thursday     Friday   Saturday     Sunday\n",
      "0       NaN       NaN        NaN        NaN        NaN        NaN        NaN\n",
      "1  7:0-20:0  7:0-20:0   7:0-20:0   7:0-20:0   7:0-21:0   7:0-21:0   7:0-21:0\n",
      "2       NaN       NaN  14:0-22:0  16:0-22:0  12:0-22:0  12:0-22:0  12:0-18:0\n",
      "3  9:0-17:0  9:0-17:0   9:0-17:0   9:0-17:0   9:0-17:0        NaN        NaN\n",
      "4       NaN       NaN        NaN        NaN        NaN        NaN        NaN\n"
     ]
    }
   ],
   "source": [
    "#split out the dict\n",
    "hours_day_df = df_business['hours'].apply(pd.Series)\n",
    "# Display the DataFrame after conversion\n",
    "print(hours_day_df.head())"
   ]
  },
  {
   "cell_type": "code",
   "execution_count": 31,
   "id": "3db0f271-24e9-4d22-a60d-462295f71c90",
   "metadata": {
    "tags": []
   },
   "outputs": [
    {
     "data": {
      "text/plain": [
       "Monday       object\n",
       "Tuesday      object\n",
       "Wednesday    object\n",
       "Thursday     object\n",
       "Friday       object\n",
       "Saturday     object\n",
       "Sunday       object\n",
       "dtype: object"
      ]
     },
     "execution_count": 31,
     "metadata": {},
     "output_type": "execute_result"
    }
   ],
   "source": [
    "hours_day_df.dtypes"
   ]
  },
  {
   "cell_type": "code",
   "execution_count": 32,
   "id": "db7d6eda-e38b-41c9-8b92-7fdadce3e5a4",
   "metadata": {
    "tags": []
   },
   "outputs": [
    {
     "name": "stdout",
     "output_type": "stream",
     "text": [
      "[nan '7:0-20:0' '9:0-17:0' ... '8:0-1:45' '7:30-19:45' '20:0-4:0']\n"
     ]
    }
   ],
   "source": [
    "# Replace specific text values with NaT\n",
    "hours_day_df['Monday'] = hours_day_df['Monday'].replace({'nan': 'NaT'})\n",
    "\n",
    "# Print the unique values in the 'Monday' column\n",
    "print(hours_day_df['Monday'].unique())"
   ]
  },
  {
   "cell_type": "code",
   "execution_count": 33,
   "id": "b1ebaff3-4cbd-432b-bf6c-4d2619e85a86",
   "metadata": {
    "tags": []
   },
   "outputs": [
    {
     "data": {
      "text/plain": [
       "Monday     Tuesday    Wednesday  Thursday   Friday     Saturday   Sunday   \n",
       "                                                                               17346\n",
       "0:0-0:0    0:0-0:0    0:0-0:0    0:0-0:0    0:0-0:0    0:0-0:0    0:0-0:0       4554\n",
       "8:0-17:0   8:0-17:0   8:0-17:0   8:0-17:0   8:0-17:0                            1812\n",
       "9:0-17:0   9:0-17:0   9:0-17:0   9:0-17:0   9:0-17:0                            1490\n",
       "0:0-0:0    8:0-17:0   8:0-17:0   8:0-17:0   8:0-17:0                             369\n",
       "                                                                               ...  \n",
       "           7:30-19:0  7:30-19:0  8:0-19:0   7:30-19:0  7:30-19:0  12:0-17:0        1\n",
       "                                 8:0-15:0   7:30-19:0  8:0-19:0   9:0-19:0         1\n",
       "                                 7:30-19:0  8:0-17:0   8:0-17:0   10:0-15:0        1\n",
       "                                            7:30-19:0  9:30-18:0                   1\n",
       "9:45-19:0  9:45-19:0  9:45-19:0  9:45-19:0  9:45-19:0  9:45-18:0                   1\n",
       "Name: count, Length: 39969, dtype: int64"
      ]
     },
     "execution_count": 33,
     "metadata": {},
     "output_type": "execute_result"
    }
   ],
   "source": [
    "# Replace NaN values with an empty string\n",
    "hours_day_df.fillna('', inplace=True)\n",
    "hours_day_df.value_counts()"
   ]
  },
  {
   "cell_type": "code",
   "execution_count": 34,
   "id": "c4fbd81b-f1db-45fa-b6f9-202439c7d1ea",
   "metadata": {
    "tags": []
   },
   "outputs": [
    {
     "name": "stdout",
     "output_type": "stream",
     "text": [
      "               Monday_open        Monday_close        Tuesday_open  \\\n",
      "0                      NaT                 NaT                 NaT   \n",
      "1      1900-01-01 07:00:00 1900-01-01 20:00:00 1900-01-01 07:00:00   \n",
      "2                      NaT                 NaT                 NaT   \n",
      "3      1900-01-01 09:00:00 1900-01-01 17:00:00 1900-01-01 09:00:00   \n",
      "4                      NaT                 NaT                 NaT   \n",
      "...                    ...                 ...                 ...   \n",
      "106062 1900-01-01 12:00:00 1900-01-01 21:00:00 1900-01-01 12:00:00   \n",
      "106063                 NaT                 NaT                 NaT   \n",
      "106064 1900-01-01 00:00:00 1900-01-01 00:00:00                 NaT   \n",
      "106065                 NaT                 NaT                 NaT   \n",
      "106066                 NaT                 NaT                 NaT   \n",
      "\n",
      "             Tuesday_close      Wednesday_open     Wednesday_close  \\\n",
      "0                      NaT                 NaT                 NaT   \n",
      "1      1900-01-01 20:00:00 1900-01-01 07:00:00 1900-01-01 20:00:00   \n",
      "2                      NaT 1900-01-01 14:00:00 1900-01-01 22:00:00   \n",
      "3      1900-01-01 17:00:00 1900-01-01 09:00:00 1900-01-01 17:00:00   \n",
      "4                      NaT                 NaT                 NaT   \n",
      "...                    ...                 ...                 ...   \n",
      "106062 1900-01-01 21:00:00 1900-01-01 12:00:00 1900-01-01 21:00:00   \n",
      "106063                 NaT                 NaT                 NaT   \n",
      "106064                 NaT 1900-01-01 11:00:00 1900-01-01 16:00:00   \n",
      "106065                 NaT                 NaT                 NaT   \n",
      "106066                 NaT                 NaT                 NaT   \n",
      "\n",
      "             Thursday_open      Thursday_close         Friday_open  \\\n",
      "0                      NaT                 NaT                 NaT   \n",
      "1      1900-01-01 07:00:00 1900-01-01 20:00:00 1900-01-01 07:00:00   \n",
      "2      1900-01-01 16:00:00 1900-01-01 22:00:00 1900-01-01 12:00:00   \n",
      "3      1900-01-01 09:00:00 1900-01-01 17:00:00 1900-01-01 09:00:00   \n",
      "4                      NaT                 NaT                 NaT   \n",
      "...                    ...                 ...                 ...   \n",
      "106062 1900-01-01 12:00:00 1900-01-01 21:00:00 1900-01-01 12:00:00   \n",
      "106063                 NaT                 NaT                 NaT   \n",
      "106064 1900-01-01 11:00:00 1900-01-01 16:00:00 1900-01-01 11:00:00   \n",
      "106065                 NaT                 NaT                 NaT   \n",
      "106066                 NaT                 NaT                 NaT   \n",
      "\n",
      "              Friday_close       Saturday_open      Saturday_close  \\\n",
      "0                      NaT                 NaT                 NaT   \n",
      "1      1900-01-01 21:00:00 1900-01-01 07:00:00 1900-01-01 21:00:00   \n",
      "2      1900-01-01 22:00:00 1900-01-01 12:00:00 1900-01-01 22:00:00   \n",
      "3      1900-01-01 17:00:00                 NaT                 NaT   \n",
      "4                      NaT                 NaT                 NaT   \n",
      "...                    ...                 ...                 ...   \n",
      "106062 1900-01-01 21:00:00 1900-01-01 12:00:00 1900-01-01 21:00:00   \n",
      "106063                 NaT                 NaT                 NaT   \n",
      "106064 1900-01-01 16:00:00 1900-01-01 11:00:00 1900-01-01 15:00:00   \n",
      "106065                 NaT                 NaT                 NaT   \n",
      "106066                 NaT                 NaT                 NaT   \n",
      "\n",
      "               Sunday_open        Sunday_close  \n",
      "0                      NaT                 NaT  \n",
      "1      1900-01-01 07:00:00 1900-01-01 21:00:00  \n",
      "2      1900-01-01 12:00:00 1900-01-01 18:00:00  \n",
      "3                      NaT                 NaT  \n",
      "4                      NaT                 NaT  \n",
      "...                    ...                 ...  \n",
      "106062 1900-01-01 12:00:00 1900-01-01 21:00:00  \n",
      "106063                 NaT                 NaT  \n",
      "106064                 NaT                 NaT  \n",
      "106065                 NaT                 NaT  \n",
      "106066                 NaT                 NaT  \n",
      "\n",
      "[105977 rows x 14 columns]\n"
     ]
    }
   ],
   "source": [
    "# Replace NaN values with an empty string\n",
    "hours_day_df.fillna('', inplace=True)\n",
    "\n",
    "# Create new columns for open and close times for each day\n",
    "for day in ['Monday','Tuesday', 'Wednesday', 'Thursday', 'Friday', 'Saturday', 'Sunday']:\n",
    "    hours_day_df[day] = hours_day_df[day].replace({'none': pd.NaT})\n",
    "    hours_day_df[[f'{day}_open', f'{day}_close']] = hours_day_df[day].str.split('-', expand=True)\n",
    "    # Converting 'start_time' and 'end_time' columns to datetime\n",
    "    hours_day_df[f'{day}_open'] = pd.to_datetime(hours_day_df[f'{day}_open'], format='%H:%M')\n",
    "    hours_day_df[f'{day}_close'] = pd.to_datetime(hours_day_df[f'{day}_close'], format='%H:%M')                \n",
    "                 \n",
    "                 \n",
    "hours_day_df.drop(columns=['Monday','Tuesday','Wednesday', 'Thursday', 'Friday', 'Saturday', 'Sunday'],inplace=True)\n",
    "# Display the DataFrame with new open and close columns\n",
    "print(hours_day_df)\n"
   ]
  },
  {
   "cell_type": "code",
   "execution_count": 35,
   "id": "6f41b267-93ed-46b7-80ae-f66426793b9c",
   "metadata": {
    "tags": []
   },
   "outputs": [
    {
     "data": {
      "text/plain": [
       "Monday_open        datetime64[ns]\n",
       "Monday_close       datetime64[ns]\n",
       "Tuesday_open       datetime64[ns]\n",
       "Tuesday_close      datetime64[ns]\n",
       "Wednesday_open     datetime64[ns]\n",
       "Wednesday_close    datetime64[ns]\n",
       "Thursday_open      datetime64[ns]\n",
       "Thursday_close     datetime64[ns]\n",
       "Friday_open        datetime64[ns]\n",
       "Friday_close       datetime64[ns]\n",
       "Saturday_open      datetime64[ns]\n",
       "Saturday_close     datetime64[ns]\n",
       "Sunday_open        datetime64[ns]\n",
       "Sunday_close       datetime64[ns]\n",
       "dtype: object"
      ]
     },
     "execution_count": 35,
     "metadata": {},
     "output_type": "execute_result"
    }
   ],
   "source": [
    "hours_day_df.dtypes"
   ]
  },
  {
   "cell_type": "code",
   "execution_count": 36,
   "id": "f1ea1abe-5789-471c-9eae-9c7542758ddc",
   "metadata": {
    "tags": []
   },
   "outputs": [],
   "source": [
    "mean_values = hours_day_df.mean()\n",
    "\n",
    "for column in hours_day_df.columns:\n",
    "    hours_day_df[column].fillna(mean_values[column], inplace=True)"
   ]
  },
  {
   "cell_type": "code",
   "execution_count": 37,
   "id": "d5058f78-1612-4222-a636-73c357087569",
   "metadata": {
    "tags": []
   },
   "outputs": [
    {
     "data": {
      "text/plain": [
       "Monday_open        0.0\n",
       "Monday_close       0.0\n",
       "Tuesday_open       0.0\n",
       "Tuesday_close      0.0\n",
       "Wednesday_open     0.0\n",
       "Wednesday_close    0.0\n",
       "Thursday_open      0.0\n",
       "Thursday_close     0.0\n",
       "Friday_open        0.0\n",
       "Friday_close       0.0\n",
       "Saturday_open      0.0\n",
       "Saturday_close     0.0\n",
       "Sunday_open        0.0\n",
       "Sunday_close       0.0\n",
       "dtype: float64"
      ]
     },
     "execution_count": 37,
     "metadata": {},
     "output_type": "execute_result"
    }
   ],
   "source": [
    "hours_day_df.isna().mean()"
   ]
  },
  {
   "cell_type": "code",
   "execution_count": 38,
   "id": "5ac63122-96d8-4989-b9ee-28fe6439760b",
   "metadata": {
    "tags": []
   },
   "outputs": [],
   "source": [
    "# Calculate the mean of each column\n",
    "mean_values = hours_day_df.mean()\n",
    "\n",
    "# Replace NaN values with the mean of each column\n",
    "hours_day_df.fillna(mean_values, inplace=True)"
   ]
  },
  {
   "cell_type": "code",
   "execution_count": 39,
   "id": "96a33839-cd8f-43d5-ab52-b975fad75440",
   "metadata": {
    "tags": []
   },
   "outputs": [],
   "source": [
    "#key for reference\n",
    "hours_day_df['business_id'] = df_business['business_id']"
   ]
  },
  {
   "cell_type": "code",
   "execution_count": 40,
   "id": "0b4f5594-81a5-4e3b-b10b-2aeaafc6963f",
   "metadata": {
    "tags": []
   },
   "outputs": [],
   "source": [
    "df_business.drop(columns='hours',inplace=True)"
   ]
  },
  {
   "cell_type": "code",
   "execution_count": 41,
   "id": "c25e1360-82c5-4c05-ac69-272db7994e1a",
   "metadata": {
    "tags": []
   },
   "outputs": [
    {
     "data": {
      "text/plain": [
       "business_id      object\n",
       "name             object\n",
       "address          object\n",
       "city             object\n",
       "state            object\n",
       "postal_code      object\n",
       "latitude        float64\n",
       "longitude       float64\n",
       "stars           float64\n",
       "review_count      int64\n",
       "is_open           int64\n",
       "attributes       object\n",
       "categories       object\n",
       "dtype: object"
      ]
     },
     "execution_count": 41,
     "metadata": {},
     "output_type": "execute_result"
    }
   ],
   "source": [
    "df_business.dtypes"
   ]
  },
  {
   "cell_type": "code",
   "execution_count": 42,
   "id": "9f8a8d11-07a7-41ec-8b34-15c1d11cab27",
   "metadata": {
    "tags": []
   },
   "outputs": [
    {
     "name": "stdout",
     "output_type": "stream",
     "text": [
      "              business_id                      name                 address  \\\n",
      "0  Pns2l4eNsfO8kk83dixA6A  Abby Rappoport, LAC, CMQ  1616 chapala st, ste 2   \n",
      "1  MTSW4McQd7CbVtyjqoe9mw        St Honore Pastries             935 race st   \n",
      "2  mWMc6_wTdE0EUBKIGXDVfA  Perkiomen Valley Brewery           101 walnut st   \n",
      "3  qkRM_2X51Yqxk3btlwAQIg            Temple Beth-El      400 pasadena ave s   \n",
      "4  k0hlBqXX-Bt0vf1op7Jr1w     Tsevi's Pub And Grill       8025 mackenzie rd   \n",
      "\n",
      "             city state postal_code   latitude   longitude  stars  \\\n",
      "0   Santa Barbara    CA       93101  34.426679 -119.711197    5.0   \n",
      "1    Philadelphia    PA       19107  39.955505  -75.155564    4.0   \n",
      "2      Green Lane    PA       18054  40.338183  -75.471659    4.5   \n",
      "3  St. Petersburg    FL       33707  27.766590  -82.732983    3.5   \n",
      "4          Affton    MO       63123  38.565165  -90.321087    3.0   \n",
      "\n",
      "   review_count  ...               Wednesday_close  \\\n",
      "0             7  ... 1900-01-01 16:56:41.031309056   \n",
      "1            80  ... 1900-01-01 20:00:00.000000000   \n",
      "2            13  ... 1900-01-01 22:00:00.000000000   \n",
      "3             5  ... 1900-01-01 17:00:00.000000000   \n",
      "4            19  ... 1900-01-01 16:56:41.031309056   \n",
      "\n",
      "                  Thursday_open                Thursday_close  \\\n",
      "0 1900-01-01 09:20:31.393992704 1900-01-01 16:53:10.215247872   \n",
      "1 1900-01-01 07:00:00.000000000 1900-01-01 20:00:00.000000000   \n",
      "2 1900-01-01 16:00:00.000000000 1900-01-01 22:00:00.000000000   \n",
      "3 1900-01-01 09:00:00.000000000 1900-01-01 17:00:00.000000000   \n",
      "4 1900-01-01 09:20:31.393992704 1900-01-01 16:53:10.215247872   \n",
      "\n",
      "                    Friday_open                  Friday_close  \\\n",
      "0 1900-01-01 09:18:32.692165888 1900-01-01 16:22:07.624572928   \n",
      "1 1900-01-01 07:00:00.000000000 1900-01-01 21:00:00.000000000   \n",
      "2 1900-01-01 12:00:00.000000000 1900-01-01 22:00:00.000000000   \n",
      "3 1900-01-01 09:00:00.000000000 1900-01-01 17:00:00.000000000   \n",
      "4 1900-01-01 09:18:32.692165888 1900-01-01 16:22:07.624572928   \n",
      "\n",
      "                  Saturday_open                Saturday_close  \\\n",
      "0 1900-01-01 09:27:02.569845760 1900-01-01 15:40:38.665750528   \n",
      "1 1900-01-01 07:00:00.000000000 1900-01-01 21:00:00.000000000   \n",
      "2 1900-01-01 12:00:00.000000000 1900-01-01 22:00:00.000000000   \n",
      "3 1900-01-01 09:27:02.569845760 1900-01-01 15:40:38.665750528   \n",
      "4 1900-01-01 09:27:02.569845760 1900-01-01 15:40:38.665750528   \n",
      "\n",
      "                    Sunday_open                  Sunday_close  \\\n",
      "0 1900-01-01 09:34:36.407708672 1900-01-01 15:37:33.993296640   \n",
      "1 1900-01-01 07:00:00.000000000 1900-01-01 21:00:00.000000000   \n",
      "2 1900-01-01 12:00:00.000000000 1900-01-01 18:00:00.000000000   \n",
      "3 1900-01-01 09:34:36.407708672 1900-01-01 15:37:33.993296640   \n",
      "4 1900-01-01 09:34:36.407708672 1900-01-01 15:37:33.993296640   \n",
      "\n",
      "              business_id  \n",
      "0  Pns2l4eNsfO8kk83dixA6A  \n",
      "1  MTSW4McQd7CbVtyjqoe9mw  \n",
      "2  mWMc6_wTdE0EUBKIGXDVfA  \n",
      "3  qkRM_2X51Yqxk3btlwAQIg  \n",
      "4  k0hlBqXX-Bt0vf1op7Jr1w  \n",
      "\n",
      "[5 rows x 28 columns]\n"
     ]
    }
   ],
   "source": [
    "df_business = pd.concat([df_business, hours_day_df], axis=1)\n",
    "\n",
    "# Display the combined DataFrame\n",
    "print(df_business.head())"
   ]
  },
  {
   "cell_type": "code",
   "execution_count": 43,
   "id": "b52901e2-0cdf-4258-a98f-dcb25f275d9f",
   "metadata": {
    "tags": []
   },
   "outputs": [
    {
     "data": {
      "text/plain": [
       "business_id            0\n",
       "name                   0\n",
       "address                0\n",
       "city                   0\n",
       "state                  0\n",
       "postal_code            0\n",
       "latitude               0\n",
       "longitude              0\n",
       "stars                  0\n",
       "review_count           0\n",
       "is_open                0\n",
       "attributes         10334\n",
       "categories             0\n",
       "Monday_open            0\n",
       "Monday_close           0\n",
       "Tuesday_open           0\n",
       "Tuesday_close          0\n",
       "Wednesday_open         0\n",
       "Wednesday_close        0\n",
       "Thursday_open          0\n",
       "Thursday_close         0\n",
       "Friday_open            0\n",
       "Friday_close           0\n",
       "Saturday_open          0\n",
       "Saturday_close         0\n",
       "Sunday_open            0\n",
       "Sunday_close           0\n",
       "business_id            0\n",
       "dtype: int64"
      ]
     },
     "execution_count": 43,
     "metadata": {},
     "output_type": "execute_result"
    }
   ],
   "source": [
    "df_business.isna().sum()"
   ]
  },
  {
   "cell_type": "markdown",
   "id": "5c18788d-f052-4b40-846d-d09040ee0a2a",
   "metadata": {
    "tags": []
   },
   "source": [
    "### Attributes"
   ]
  },
  {
   "cell_type": "code",
   "execution_count": 44,
   "id": "dfb5b2ff-580a-4f70-aceb-5f7d6bcd6c25",
   "metadata": {
    "tags": []
   },
   "outputs": [],
   "source": [
    "# Replace NaN values in the 'attributes' column with an empty dictionary as there is no possibility of filling with any other values.\n",
    "df_business['attributes'].fillna('{}', inplace=True)"
   ]
  },
  {
   "cell_type": "code",
   "execution_count": 45,
   "id": "39edd6a9-e137-4da3-9777-13446cdeaffe",
   "metadata": {
    "tags": []
   },
   "outputs": [
    {
     "data": {
      "text/html": [
       "<div>\n",
       "<style scoped>\n",
       "    .dataframe tbody tr th:only-of-type {\n",
       "        vertical-align: middle;\n",
       "    }\n",
       "\n",
       "    .dataframe tbody tr th {\n",
       "        vertical-align: top;\n",
       "    }\n",
       "\n",
       "    .dataframe thead th {\n",
       "        text-align: right;\n",
       "    }\n",
       "</style>\n",
       "<table border=\"1\" class=\"dataframe\">\n",
       "  <thead>\n",
       "    <tr style=\"text-align: right;\">\n",
       "      <th></th>\n",
       "      <th>ByAppointmentOnly</th>\n",
       "      <th>RestaurantsDelivery</th>\n",
       "      <th>OutdoorSeating</th>\n",
       "      <th>BusinessAcceptsCreditCards</th>\n",
       "      <th>BusinessParking</th>\n",
       "      <th>BikeParking</th>\n",
       "      <th>RestaurantsPriceRange2</th>\n",
       "      <th>RestaurantsTakeOut</th>\n",
       "      <th>WiFi</th>\n",
       "      <th>Alcohol</th>\n",
       "      <th>...</th>\n",
       "      <th>CoatCheck</th>\n",
       "      <th>BestNights</th>\n",
       "      <th>BYOB</th>\n",
       "      <th>Corkage</th>\n",
       "      <th>BYOBCorkage</th>\n",
       "      <th>HairSpecializesIn</th>\n",
       "      <th>Open24Hours</th>\n",
       "      <th>RestaurantsCounterService</th>\n",
       "      <th>DietaryRestrictions</th>\n",
       "      <th>AgesAllowed</th>\n",
       "    </tr>\n",
       "  </thead>\n",
       "  <tbody>\n",
       "    <tr>\n",
       "      <th>0</th>\n",
       "      <td>True</td>\n",
       "      <td>NaN</td>\n",
       "      <td>NaN</td>\n",
       "      <td>NaN</td>\n",
       "      <td>NaN</td>\n",
       "      <td>NaN</td>\n",
       "      <td>NaN</td>\n",
       "      <td>NaN</td>\n",
       "      <td>NaN</td>\n",
       "      <td>NaN</td>\n",
       "      <td>...</td>\n",
       "      <td>NaN</td>\n",
       "      <td>NaN</td>\n",
       "      <td>NaN</td>\n",
       "      <td>NaN</td>\n",
       "      <td>NaN</td>\n",
       "      <td>NaN</td>\n",
       "      <td>NaN</td>\n",
       "      <td>NaN</td>\n",
       "      <td>NaN</td>\n",
       "      <td>NaN</td>\n",
       "    </tr>\n",
       "    <tr>\n",
       "      <th>1</th>\n",
       "      <td>False</td>\n",
       "      <td>False</td>\n",
       "      <td>False</td>\n",
       "      <td>False</td>\n",
       "      <td>{'garage': False, 'street': True, 'validated':...</td>\n",
       "      <td>True</td>\n",
       "      <td>1</td>\n",
       "      <td>True</td>\n",
       "      <td>u'free'</td>\n",
       "      <td>u'none'</td>\n",
       "      <td>...</td>\n",
       "      <td>NaN</td>\n",
       "      <td>NaN</td>\n",
       "      <td>NaN</td>\n",
       "      <td>NaN</td>\n",
       "      <td>NaN</td>\n",
       "      <td>NaN</td>\n",
       "      <td>NaN</td>\n",
       "      <td>NaN</td>\n",
       "      <td>NaN</td>\n",
       "      <td>NaN</td>\n",
       "    </tr>\n",
       "    <tr>\n",
       "      <th>2</th>\n",
       "      <td>NaN</td>\n",
       "      <td>NaN</td>\n",
       "      <td>NaN</td>\n",
       "      <td>True</td>\n",
       "      <td>{'garage': None, 'street': None, 'validated': ...</td>\n",
       "      <td>True</td>\n",
       "      <td>NaN</td>\n",
       "      <td>True</td>\n",
       "      <td>NaN</td>\n",
       "      <td>NaN</td>\n",
       "      <td>...</td>\n",
       "      <td>NaN</td>\n",
       "      <td>NaN</td>\n",
       "      <td>NaN</td>\n",
       "      <td>NaN</td>\n",
       "      <td>NaN</td>\n",
       "      <td>NaN</td>\n",
       "      <td>NaN</td>\n",
       "      <td>NaN</td>\n",
       "      <td>NaN</td>\n",
       "      <td>NaN</td>\n",
       "    </tr>\n",
       "    <tr>\n",
       "      <th>3</th>\n",
       "      <td>NaN</td>\n",
       "      <td>NaN</td>\n",
       "      <td>NaN</td>\n",
       "      <td>NaN</td>\n",
       "      <td>NaN</td>\n",
       "      <td>NaN</td>\n",
       "      <td>NaN</td>\n",
       "      <td>NaN</td>\n",
       "      <td>NaN</td>\n",
       "      <td>NaN</td>\n",
       "      <td>...</td>\n",
       "      <td>NaN</td>\n",
       "      <td>NaN</td>\n",
       "      <td>NaN</td>\n",
       "      <td>NaN</td>\n",
       "      <td>NaN</td>\n",
       "      <td>NaN</td>\n",
       "      <td>NaN</td>\n",
       "      <td>NaN</td>\n",
       "      <td>NaN</td>\n",
       "      <td>NaN</td>\n",
       "    </tr>\n",
       "    <tr>\n",
       "      <th>4</th>\n",
       "      <td>NaN</td>\n",
       "      <td>False</td>\n",
       "      <td>True</td>\n",
       "      <td>True</td>\n",
       "      <td>{'garage': False, 'street': False, 'validated'...</td>\n",
       "      <td>NaN</td>\n",
       "      <td>1</td>\n",
       "      <td>True</td>\n",
       "      <td>u'free'</td>\n",
       "      <td>u'full_bar'</td>\n",
       "      <td>...</td>\n",
       "      <td>NaN</td>\n",
       "      <td>NaN</td>\n",
       "      <td>NaN</td>\n",
       "      <td>NaN</td>\n",
       "      <td>NaN</td>\n",
       "      <td>NaN</td>\n",
       "      <td>NaN</td>\n",
       "      <td>NaN</td>\n",
       "      <td>NaN</td>\n",
       "      <td>NaN</td>\n",
       "    </tr>\n",
       "    <tr>\n",
       "      <th>5</th>\n",
       "      <td>NaN</td>\n",
       "      <td>NaN</td>\n",
       "      <td>None</td>\n",
       "      <td>NaN</td>\n",
       "      <td>{'garage': False, 'street': False, 'validated'...</td>\n",
       "      <td>NaN</td>\n",
       "      <td>NaN</td>\n",
       "      <td>NaN</td>\n",
       "      <td>NaN</td>\n",
       "      <td>'none'</td>\n",
       "      <td>...</td>\n",
       "      <td>NaN</td>\n",
       "      <td>NaN</td>\n",
       "      <td>NaN</td>\n",
       "      <td>NaN</td>\n",
       "      <td>NaN</td>\n",
       "      <td>NaN</td>\n",
       "      <td>NaN</td>\n",
       "      <td>NaN</td>\n",
       "      <td>NaN</td>\n",
       "      <td>NaN</td>\n",
       "    </tr>\n",
       "    <tr>\n",
       "      <th>6</th>\n",
       "      <td>True</td>\n",
       "      <td>NaN</td>\n",
       "      <td>NaN</td>\n",
       "      <td>NaN</td>\n",
       "      <td>NaN</td>\n",
       "      <td>NaN</td>\n",
       "      <td>NaN</td>\n",
       "      <td>NaN</td>\n",
       "      <td>NaN</td>\n",
       "      <td>NaN</td>\n",
       "      <td>...</td>\n",
       "      <td>NaN</td>\n",
       "      <td>NaN</td>\n",
       "      <td>NaN</td>\n",
       "      <td>NaN</td>\n",
       "      <td>NaN</td>\n",
       "      <td>NaN</td>\n",
       "      <td>NaN</td>\n",
       "      <td>NaN</td>\n",
       "      <td>NaN</td>\n",
       "      <td>NaN</td>\n",
       "    </tr>\n",
       "    <tr>\n",
       "      <th>7</th>\n",
       "      <td>NaN</td>\n",
       "      <td>True</td>\n",
       "      <td>False</td>\n",
       "      <td>True</td>\n",
       "      <td>{'garage': False, 'street': False, 'validated'...</td>\n",
       "      <td>True</td>\n",
       "      <td>1</td>\n",
       "      <td>True</td>\n",
       "      <td>u'no'</td>\n",
       "      <td>u'none'</td>\n",
       "      <td>...</td>\n",
       "      <td>NaN</td>\n",
       "      <td>NaN</td>\n",
       "      <td>NaN</td>\n",
       "      <td>NaN</td>\n",
       "      <td>NaN</td>\n",
       "      <td>NaN</td>\n",
       "      <td>NaN</td>\n",
       "      <td>NaN</td>\n",
       "      <td>NaN</td>\n",
       "      <td>NaN</td>\n",
       "    </tr>\n",
       "    <tr>\n",
       "      <th>8</th>\n",
       "      <td>NaN</td>\n",
       "      <td>True</td>\n",
       "      <td>True</td>\n",
       "      <td>True</td>\n",
       "      <td>{u'valet': False, u'garage': None, u'street': ...</td>\n",
       "      <td>NaN</td>\n",
       "      <td>2</td>\n",
       "      <td>True</td>\n",
       "      <td>'free'</td>\n",
       "      <td>'full_bar'</td>\n",
       "      <td>...</td>\n",
       "      <td>NaN</td>\n",
       "      <td>NaN</td>\n",
       "      <td>NaN</td>\n",
       "      <td>NaN</td>\n",
       "      <td>NaN</td>\n",
       "      <td>NaN</td>\n",
       "      <td>NaN</td>\n",
       "      <td>NaN</td>\n",
       "      <td>NaN</td>\n",
       "      <td>NaN</td>\n",
       "    </tr>\n",
       "    <tr>\n",
       "      <th>9</th>\n",
       "      <td>False</td>\n",
       "      <td>NaN</td>\n",
       "      <td>NaN</td>\n",
       "      <td>True</td>\n",
       "      <td>NaN</td>\n",
       "      <td>NaN</td>\n",
       "      <td>NaN</td>\n",
       "      <td>NaN</td>\n",
       "      <td>u'free'</td>\n",
       "      <td>NaN</td>\n",
       "      <td>...</td>\n",
       "      <td>NaN</td>\n",
       "      <td>NaN</td>\n",
       "      <td>NaN</td>\n",
       "      <td>NaN</td>\n",
       "      <td>NaN</td>\n",
       "      <td>NaN</td>\n",
       "      <td>NaN</td>\n",
       "      <td>NaN</td>\n",
       "      <td>NaN</td>\n",
       "      <td>NaN</td>\n",
       "    </tr>\n",
       "  </tbody>\n",
       "</table>\n",
       "<p>10 rows × 40 columns</p>\n",
       "</div>"
      ],
      "text/plain": [
       "  ByAppointmentOnly RestaurantsDelivery OutdoorSeating  \\\n",
       "0              True                 NaN            NaN   \n",
       "1             False               False          False   \n",
       "2               NaN                 NaN            NaN   \n",
       "3               NaN                 NaN            NaN   \n",
       "4               NaN               False           True   \n",
       "5               NaN                 NaN           None   \n",
       "6              True                 NaN            NaN   \n",
       "7               NaN                True          False   \n",
       "8               NaN                True           True   \n",
       "9             False                 NaN            NaN   \n",
       "\n",
       "  BusinessAcceptsCreditCards  \\\n",
       "0                        NaN   \n",
       "1                      False   \n",
       "2                       True   \n",
       "3                        NaN   \n",
       "4                       True   \n",
       "5                        NaN   \n",
       "6                        NaN   \n",
       "7                       True   \n",
       "8                       True   \n",
       "9                       True   \n",
       "\n",
       "                                     BusinessParking BikeParking  \\\n",
       "0                                                NaN         NaN   \n",
       "1  {'garage': False, 'street': True, 'validated':...        True   \n",
       "2  {'garage': None, 'street': None, 'validated': ...        True   \n",
       "3                                                NaN         NaN   \n",
       "4  {'garage': False, 'street': False, 'validated'...         NaN   \n",
       "5  {'garage': False, 'street': False, 'validated'...         NaN   \n",
       "6                                                NaN         NaN   \n",
       "7  {'garage': False, 'street': False, 'validated'...        True   \n",
       "8  {u'valet': False, u'garage': None, u'street': ...         NaN   \n",
       "9                                                NaN         NaN   \n",
       "\n",
       "  RestaurantsPriceRange2 RestaurantsTakeOut     WiFi      Alcohol  ...  \\\n",
       "0                    NaN                NaN      NaN          NaN  ...   \n",
       "1                      1               True  u'free'      u'none'  ...   \n",
       "2                    NaN               True      NaN          NaN  ...   \n",
       "3                    NaN                NaN      NaN          NaN  ...   \n",
       "4                      1               True  u'free'  u'full_bar'  ...   \n",
       "5                    NaN                NaN      NaN       'none'  ...   \n",
       "6                    NaN                NaN      NaN          NaN  ...   \n",
       "7                      1               True    u'no'      u'none'  ...   \n",
       "8                      2               True   'free'   'full_bar'  ...   \n",
       "9                    NaN                NaN  u'free'          NaN  ...   \n",
       "\n",
       "  CoatCheck BestNights BYOB Corkage BYOBCorkage HairSpecializesIn Open24Hours  \\\n",
       "0       NaN        NaN  NaN     NaN         NaN               NaN         NaN   \n",
       "1       NaN        NaN  NaN     NaN         NaN               NaN         NaN   \n",
       "2       NaN        NaN  NaN     NaN         NaN               NaN         NaN   \n",
       "3       NaN        NaN  NaN     NaN         NaN               NaN         NaN   \n",
       "4       NaN        NaN  NaN     NaN         NaN               NaN         NaN   \n",
       "5       NaN        NaN  NaN     NaN         NaN               NaN         NaN   \n",
       "6       NaN        NaN  NaN     NaN         NaN               NaN         NaN   \n",
       "7       NaN        NaN  NaN     NaN         NaN               NaN         NaN   \n",
       "8       NaN        NaN  NaN     NaN         NaN               NaN         NaN   \n",
       "9       NaN        NaN  NaN     NaN         NaN               NaN         NaN   \n",
       "\n",
       "  RestaurantsCounterService DietaryRestrictions AgesAllowed  \n",
       "0                       NaN                 NaN         NaN  \n",
       "1                       NaN                 NaN         NaN  \n",
       "2                       NaN                 NaN         NaN  \n",
       "3                       NaN                 NaN         NaN  \n",
       "4                       NaN                 NaN         NaN  \n",
       "5                       NaN                 NaN         NaN  \n",
       "6                       NaN                 NaN         NaN  \n",
       "7                       NaN                 NaN         NaN  \n",
       "8                       NaN                 NaN         NaN  \n",
       "9                       NaN                 NaN         NaN  \n",
       "\n",
       "[10 rows x 40 columns]"
      ]
     },
     "execution_count": 45,
     "metadata": {},
     "output_type": "execute_result"
    }
   ],
   "source": [
    "#break up dict inside df\n",
    "df_atr = df_business['attributes'].apply(pd.Series)\n",
    "df_atr.head(10)"
   ]
  },
  {
   "cell_type": "code",
   "execution_count": 46,
   "id": "e124b2d8-c2df-4a23-be52-28a5a69183ae",
   "metadata": {
    "tags": []
   },
   "outputs": [
    {
     "data": {
      "text/plain": [
       "0                        {'ByAppointmentOnly': 'True'}\n",
       "1    {'RestaurantsDelivery': 'False', 'OutdoorSeati...\n",
       "2    {'BusinessAcceptsCreditCards': 'True', 'Wheelc...\n",
       "3                                                   {}\n",
       "4    {'Caters': 'True', 'Alcohol': 'u'full_bar'', '...\n",
       "5    {'Alcohol': ''none'', 'OutdoorSeating': 'None'...\n",
       "6                        {'ByAppointmentOnly': 'True'}\n",
       "7    {'OutdoorSeating': 'False', 'RestaurantsGoodFo...\n",
       "8    {'RestaurantsReservations': 'True', 'Restauran...\n",
       "9    {'DriveThru': 'False', 'BusinessAcceptsCreditC...\n",
       "Name: attributes, dtype: object"
      ]
     },
     "execution_count": 46,
     "metadata": {},
     "output_type": "execute_result"
    }
   ],
   "source": [
    "df_business['attributes'].head(10)\n"
   ]
  },
  {
   "cell_type": "code",
   "execution_count": 47,
   "id": "99b8a864-b77b-420d-8e76-f3e9a1e34a06",
   "metadata": {
    "tags": []
   },
   "outputs": [
    {
     "data": {
      "text/plain": [
       "ByAppointmentOnly             object\n",
       "RestaurantsDelivery           object\n",
       "OutdoorSeating                object\n",
       "BusinessAcceptsCreditCards    object\n",
       "BusinessParking               object\n",
       "BikeParking                   object\n",
       "RestaurantsPriceRange2        object\n",
       "RestaurantsTakeOut            object\n",
       "WiFi                          object\n",
       "Alcohol                       object\n",
       "Caters                        object\n",
       "WheelchairAccessible          object\n",
       "GoodForKids                   object\n",
       "0                             object\n",
       "RestaurantsAttire             object\n",
       "HasTV                         object\n",
       "NoiseLevel                    object\n",
       "Ambience                      object\n",
       "RestaurantsReservations       object\n",
       "RestaurantsGoodForGroups      object\n",
       "GoodForMeal                   object\n",
       "BusinessAcceptsBitcoin        object\n",
       "RestaurantsTableService       object\n",
       "DogsAllowed                   object\n",
       "HappyHour                     object\n",
       "DriveThru                     object\n",
       "Smoking                       object\n",
       "Music                         object\n",
       "GoodForDancing                object\n",
       "AcceptsInsurance              object\n",
       "CoatCheck                     object\n",
       "BestNights                    object\n",
       "BYOB                          object\n",
       "Corkage                       object\n",
       "BYOBCorkage                   object\n",
       "HairSpecializesIn             object\n",
       "Open24Hours                   object\n",
       "RestaurantsCounterService     object\n",
       "DietaryRestrictions           object\n",
       "AgesAllowed                   object\n",
       "dtype: object"
      ]
     },
     "execution_count": 47,
     "metadata": {},
     "output_type": "execute_result"
    }
   ],
   "source": [
    "#inspect types\n",
    "df_atr.dtypes"
   ]
  },
  {
   "cell_type": "code",
   "execution_count": 48,
   "id": "49b2ddc4-2392-49b0-a10c-6a8f7021cab6",
   "metadata": {
    "tags": []
   },
   "outputs": [
    {
     "name": "stdout",
     "output_type": "stream",
     "text": [
      "Index([         'ByAppointmentOnly',        'RestaurantsDelivery',\n",
      "                   'OutdoorSeating', 'BusinessAcceptsCreditCards',\n",
      "                  'BusinessParking',                'BikeParking',\n",
      "           'RestaurantsPriceRange2',         'RestaurantsTakeOut',\n",
      "                             'WiFi',                    'Alcohol',\n",
      "                           'Caters',       'WheelchairAccessible',\n",
      "                      'GoodForKids',                            0,\n",
      "                'RestaurantsAttire',                      'HasTV',\n",
      "                       'NoiseLevel',                   'Ambience',\n",
      "          'RestaurantsReservations',   'RestaurantsGoodForGroups',\n",
      "                      'GoodForMeal',     'BusinessAcceptsBitcoin',\n",
      "          'RestaurantsTableService',                'DogsAllowed',\n",
      "                        'HappyHour',                  'DriveThru',\n",
      "                          'Smoking',                      'Music',\n",
      "                   'GoodForDancing',           'AcceptsInsurance',\n",
      "                        'CoatCheck',                 'BestNights',\n",
      "                             'BYOB',                    'Corkage',\n",
      "                      'BYOBCorkage',          'HairSpecializesIn',\n",
      "                      'Open24Hours',  'RestaurantsCounterService',\n",
      "              'DietaryRestrictions',                'AgesAllowed'],\n",
      "      dtype='object')\n"
     ]
    }
   ],
   "source": [
    "#select cols that are still as objects\n",
    "df_atr_obj_cols = df_atr.select_dtypes(include='object').columns\n",
    "print(df_atr_obj_cols)"
   ]
  },
  {
   "cell_type": "code",
   "execution_count": 49,
   "id": "2c72f5c6-0d81-4aeb-b4cf-5a2ffb4eb2be",
   "metadata": {
    "tags": []
   },
   "outputs": [],
   "source": [
    "def str_dict_to_df(series):\n",
    "    \"\"\"\n",
    "    Takes in a pandas series with dicts stored as strings\n",
    "    returns dataframe with dict keys as columns\n",
    "    \n",
    "    serires: pandas series\n",
    "    \"\"\"\n",
    "    eval_list = []\n",
    "    for sr in series:\n",
    "        if not pd.isna(sr):\n",
    "            eval_list.append(eval(sr))\n",
    "        else:\n",
    "            eval_list.append(np.nan)\n",
    "    \n",
    "    eval_df = pd.Series(eval_list).apply(pd.Series)  \n",
    "    \n",
    "    #drop cols that are all nan\n",
    "    eval_df = eval_df.dropna(axis=1, how='all')\n",
    "    \n",
    "    \n",
    "    return eval_df"
   ]
  },
  {
   "cell_type": "code",
   "execution_count": 50,
   "id": "a4a21aac-33ae-426e-9e48-5ebe7745f74e",
   "metadata": {
    "tags": []
   },
   "outputs": [
    {
     "name": "stdout",
     "output_type": "stream",
     "text": [
      "['BusinessParking', 0, 'Ambience', 'GoodForMeal', 'Music', 'BestNights', 'HairSpecializesIn', 'DietaryRestrictions']\n"
     ]
    }
   ],
   "source": [
    "#store col names\n",
    "dict_cols_list = []\n",
    "\n",
    "for col in df_atr_obj_cols:\n",
    "    #if contains a curly bracket, then assume column is a dict as string\n",
    "    if df_atr[col].str.contains('{').any():\n",
    "        dict_cols_list.append(col)\n",
    "print(dict_cols_list)  "
   ]
  },
  {
   "cell_type": "code",
   "execution_count": 51,
   "id": "d40a59e3-ee7d-4c12-9de7-1c3db6092b61",
   "metadata": {
    "tags": []
   },
   "outputs": [
    {
     "data": {
      "text/html": [
       "<div>\n",
       "<style scoped>\n",
       "    .dataframe tbody tr th:only-of-type {\n",
       "        vertical-align: middle;\n",
       "    }\n",
       "\n",
       "    .dataframe tbody tr th {\n",
       "        vertical-align: top;\n",
       "    }\n",
       "\n",
       "    .dataframe thead th {\n",
       "        text-align: right;\n",
       "    }\n",
       "</style>\n",
       "<table border=\"1\" class=\"dataframe\">\n",
       "  <thead>\n",
       "    <tr style=\"text-align: right;\">\n",
       "      <th></th>\n",
       "      <th>garage</th>\n",
       "      <th>street</th>\n",
       "      <th>validated</th>\n",
       "      <th>lot</th>\n",
       "      <th>valet</th>\n",
       "      <th>romantic</th>\n",
       "      <th>intimate</th>\n",
       "      <th>touristy</th>\n",
       "      <th>hipster</th>\n",
       "      <th>divey</th>\n",
       "      <th>...</th>\n",
       "      <th>kids</th>\n",
       "      <th>perms</th>\n",
       "      <th>asian</th>\n",
       "      <th>dairy-free</th>\n",
       "      <th>gluten-free</th>\n",
       "      <th>vegan</th>\n",
       "      <th>kosher</th>\n",
       "      <th>halal</th>\n",
       "      <th>soy-free</th>\n",
       "      <th>vegetarian</th>\n",
       "    </tr>\n",
       "  </thead>\n",
       "  <tbody>\n",
       "    <tr>\n",
       "      <th>0</th>\n",
       "      <td>NaN</td>\n",
       "      <td>NaN</td>\n",
       "      <td>NaN</td>\n",
       "      <td>NaN</td>\n",
       "      <td>NaN</td>\n",
       "      <td>NaN</td>\n",
       "      <td>NaN</td>\n",
       "      <td>NaN</td>\n",
       "      <td>NaN</td>\n",
       "      <td>NaN</td>\n",
       "      <td>...</td>\n",
       "      <td>NaN</td>\n",
       "      <td>NaN</td>\n",
       "      <td>NaN</td>\n",
       "      <td>NaN</td>\n",
       "      <td>NaN</td>\n",
       "      <td>NaN</td>\n",
       "      <td>NaN</td>\n",
       "      <td>NaN</td>\n",
       "      <td>NaN</td>\n",
       "      <td>NaN</td>\n",
       "    </tr>\n",
       "    <tr>\n",
       "      <th>1</th>\n",
       "      <td>False</td>\n",
       "      <td>True</td>\n",
       "      <td>False</td>\n",
       "      <td>False</td>\n",
       "      <td>False</td>\n",
       "      <td>NaN</td>\n",
       "      <td>NaN</td>\n",
       "      <td>NaN</td>\n",
       "      <td>NaN</td>\n",
       "      <td>NaN</td>\n",
       "      <td>...</td>\n",
       "      <td>NaN</td>\n",
       "      <td>NaN</td>\n",
       "      <td>NaN</td>\n",
       "      <td>NaN</td>\n",
       "      <td>NaN</td>\n",
       "      <td>NaN</td>\n",
       "      <td>NaN</td>\n",
       "      <td>NaN</td>\n",
       "      <td>NaN</td>\n",
       "      <td>NaN</td>\n",
       "    </tr>\n",
       "    <tr>\n",
       "      <th>2</th>\n",
       "      <td>None</td>\n",
       "      <td>None</td>\n",
       "      <td>None</td>\n",
       "      <td>True</td>\n",
       "      <td>False</td>\n",
       "      <td>NaN</td>\n",
       "      <td>NaN</td>\n",
       "      <td>NaN</td>\n",
       "      <td>NaN</td>\n",
       "      <td>NaN</td>\n",
       "      <td>...</td>\n",
       "      <td>NaN</td>\n",
       "      <td>NaN</td>\n",
       "      <td>NaN</td>\n",
       "      <td>NaN</td>\n",
       "      <td>NaN</td>\n",
       "      <td>NaN</td>\n",
       "      <td>NaN</td>\n",
       "      <td>NaN</td>\n",
       "      <td>NaN</td>\n",
       "      <td>NaN</td>\n",
       "    </tr>\n",
       "    <tr>\n",
       "      <th>3</th>\n",
       "      <td>NaN</td>\n",
       "      <td>NaN</td>\n",
       "      <td>NaN</td>\n",
       "      <td>NaN</td>\n",
       "      <td>NaN</td>\n",
       "      <td>NaN</td>\n",
       "      <td>NaN</td>\n",
       "      <td>NaN</td>\n",
       "      <td>NaN</td>\n",
       "      <td>NaN</td>\n",
       "      <td>...</td>\n",
       "      <td>NaN</td>\n",
       "      <td>NaN</td>\n",
       "      <td>NaN</td>\n",
       "      <td>NaN</td>\n",
       "      <td>NaN</td>\n",
       "      <td>NaN</td>\n",
       "      <td>NaN</td>\n",
       "      <td>NaN</td>\n",
       "      <td>NaN</td>\n",
       "      <td>NaN</td>\n",
       "    </tr>\n",
       "    <tr>\n",
       "      <th>4</th>\n",
       "      <td>False</td>\n",
       "      <td>False</td>\n",
       "      <td>False</td>\n",
       "      <td>True</td>\n",
       "      <td>False</td>\n",
       "      <td>False</td>\n",
       "      <td>False</td>\n",
       "      <td>False</td>\n",
       "      <td>False</td>\n",
       "      <td>False</td>\n",
       "      <td>...</td>\n",
       "      <td>NaN</td>\n",
       "      <td>NaN</td>\n",
       "      <td>NaN</td>\n",
       "      <td>NaN</td>\n",
       "      <td>NaN</td>\n",
       "      <td>NaN</td>\n",
       "      <td>NaN</td>\n",
       "      <td>NaN</td>\n",
       "      <td>NaN</td>\n",
       "      <td>NaN</td>\n",
       "    </tr>\n",
       "  </tbody>\n",
       "</table>\n",
       "<p>5 rows × 49 columns</p>\n",
       "</div>"
      ],
      "text/plain": [
       "  garage street validated    lot  valet romantic intimate touristy hipster  \\\n",
       "0    NaN    NaN       NaN    NaN    NaN      NaN      NaN      NaN     NaN   \n",
       "1  False   True     False  False  False      NaN      NaN      NaN     NaN   \n",
       "2   None   None      None   True  False      NaN      NaN      NaN     NaN   \n",
       "3    NaN    NaN       NaN    NaN    NaN      NaN      NaN      NaN     NaN   \n",
       "4  False  False     False   True  False    False    False    False   False   \n",
       "\n",
       "   divey  ... kids perms asian dairy-free gluten-free vegan kosher halal  \\\n",
       "0    NaN  ...  NaN   NaN   NaN        NaN         NaN   NaN    NaN   NaN   \n",
       "1    NaN  ...  NaN   NaN   NaN        NaN         NaN   NaN    NaN   NaN   \n",
       "2    NaN  ...  NaN   NaN   NaN        NaN         NaN   NaN    NaN   NaN   \n",
       "3    NaN  ...  NaN   NaN   NaN        NaN         NaN   NaN    NaN   NaN   \n",
       "4  False  ...  NaN   NaN   NaN        NaN         NaN   NaN    NaN   NaN   \n",
       "\n",
       "  soy-free vegetarian  \n",
       "0      NaN        NaN  \n",
       "1      NaN        NaN  \n",
       "2      NaN        NaN  \n",
       "3      NaN        NaN  \n",
       "4      NaN        NaN  \n",
       "\n",
       "[5 rows x 49 columns]"
      ]
     },
     "execution_count": 51,
     "metadata": {},
     "output_type": "execute_result"
    }
   ],
   "source": [
    "#store dataframes from dict nested columns\n",
    "dict_col_df_list = []\n",
    "\n",
    "for col in dict_cols_list:\n",
    "    #apply string to dict evaluation\n",
    "    temp_df = str_dict_to_df(df_atr[col])\n",
    "    #append to list\n",
    "    dict_col_df_list.append(temp_df)\n",
    "\n",
    "#combine all in one column\n",
    "dict_col_df = pd.concat(dict_col_df_list, axis=1)\n",
    "dict_col_df.head()"
   ]
  },
  {
   "cell_type": "code",
   "execution_count": 52,
   "id": "bcdcdc68-eeb7-486e-8e21-dd1a49940c53",
   "metadata": {
    "tags": []
   },
   "outputs": [
    {
     "name": "stdout",
     "output_type": "stream",
     "text": [
      "['BusinessParking', 'WiFi', 'Alcohol', 'RestaurantsAttire', 'NoiseLevel', 'Ambience', 'GoodForMeal', 'Smoking', 'Music', 'BestNights', 'BYOBCorkage', 'HairSpecializesIn', 'AgesAllowed']\n"
     ]
    }
   ],
   "source": [
    "#store dummy attribute columns in list\n",
    "atr_dum_df_cols = []\n",
    "\n",
    "#iterate over object columns\n",
    "for col in df_atr_obj_cols:\n",
    "    #if contains a categorical variable then it begins with a u\n",
    "    if df_atr[col].str.contains(\"u'\").any():\n",
    "        #add to the list\n",
    "        atr_dum_df_cols.append(col)\n",
    "\n",
    "#print out list\n",
    "print(atr_dum_df_cols)"
   ]
  },
  {
   "cell_type": "code",
   "execution_count": 53,
   "id": "1377ffdd-d152-4da2-a5a1-b53dd037e0a7",
   "metadata": {
    "tags": []
   },
   "outputs": [
    {
     "name": "stdout",
     "output_type": "stream",
     "text": [
      "BusinessParking\n",
      "[nan\n",
      " \"{'garage': False, 'street': True, 'validated': False, 'lot': False, 'valet': False}\"\n",
      " \"{'garage': None, 'street': None, 'validated': None, 'lot': True, 'valet': False}\"\n",
      " \"{'garage': False, 'street': False, 'validated': False, 'lot': True, 'valet': False}\"\n",
      " \"{'garage': False, 'street': False, 'validated': False, 'lot': False, 'valet': False}\"\n",
      " \"{u'valet': False, u'garage': None, u'street': True, u'lot': False, u'validated': None}\"\n",
      " \"{'garage': False, 'street': True, 'validated': False, 'lot': True, 'valet': False}\"\n",
      " \"{'garage': True, 'street': False, 'validated': True, 'lot': False, 'valet': True}\"\n",
      " \"{'garage': None, 'street': True, 'validated': None, 'lot': False, 'valet': False}\"\n",
      " \"{'garage': False, 'street': True, 'validated': True, 'lot': True, 'valet': False}\"\n",
      " \"{'garage': True, 'street': False, 'validated': False, 'lot': False, 'valet': False}\"\n",
      " \"{u'valet': False, u'garage': False, u'street': False, u'lot': True, u'validated': False}\"\n",
      " 'None'\n",
      " \"{'garage': True, 'street': True, 'validated': False, 'lot': False, 'valet': False}\"\n",
      " \"{'garage': None, 'street': False, 'validated': None, 'lot': False, 'valet': False}\"\n",
      " \"{'garage': False, 'street': False, 'validated': False, 'lot': None, 'valet': False}\"\n",
      " \"{u'valet': False, u'garage': False, u'street': None, u'lot': None, u'validated': None}\"\n",
      " \"{'garage': False, 'street': False, 'validated': True, 'lot': False, 'valet': False}\"\n",
      " \"{u'valet': False, u'garage': False, u'street': False, u'lot': False, u'validated': False}\"\n",
      " \"{u'valet': False, u'garage': None, u'street': None, u'lot': True, u'validated': None}\"\n",
      " \"{'garage': False, 'street': True, 'validated': False, 'lot': None, 'valet': False}\"\n",
      " \"{'garage': True, 'street': False, 'validated': False, 'lot': True, 'valet': False}\"\n",
      " \"{'garage': False, 'street': True, 'validated': False, 'lot': False, 'valet': True}\"\n",
      " \"{'garage': False, 'street': None, 'validated': False, 'lot': True, 'valet': False}\"\n",
      " \"{'garage': None, 'street': True, 'validated': None, 'lot': None, 'valet': False}\"\n",
      " \"{u'valet': False, u'garage': False, u'street': True, u'lot': False, u'validated': False}\"\n",
      " \"{'garage': False, 'street': None, 'validated': False, 'lot': None, 'valet': False}\"\n",
      " \"{'garage': False, 'street': False, 'validated': False, 'lot': True, 'valet': True}\"\n",
      " \"{u'valet': False, u'garage': False, u'street': None, u'lot': None, u'validated': False}\"\n",
      " \"{u'valet': False, u'garage': False, u'street': True, u'lot': True, u'validated': False}\"\n",
      " \"{u'valet': False, u'garage': False, u'street': None, u'lot': True, u'validated': False}\"\n",
      " \"{'garage': True, 'street': True, 'validated': True, 'lot': True, 'valet': False}\"\n",
      " \"{'garage': True, 'street': True, 'validated': False, 'lot': True, 'valet': False}\"\n",
      " \"{u'valet': True, u'garage': True, u'street': False, u'lot': False, u'validated': False}\"\n",
      " \"{'garage': None, 'street': True, 'validated': False, 'lot': True, 'valet': False}\"\n",
      " \"{u'valet': False, u'garage': False, u'street': True, u'lot': None, u'validated': False}\"\n",
      " \"{u'valet': False, u'garage': False, u'street': False, u'lot': True, u'validated': None}\"\n",
      " \"{'garage': False, 'street': False, 'validated': False, 'lot': False, 'valet': True}\"\n",
      " \"{'garage': None, 'street': True, 'validated': False, 'lot': None, 'valet': False}\"\n",
      " \"{'garage': False, 'street': False, 'validated': None, 'lot': False, 'valet': False}\"\n",
      " \"{'garage': False, 'street': None, 'validated': None, 'lot': None, 'valet': False}\"\n",
      " \"{u'valet': False, u'garage': False, u'street': False, u'lot': None, u'validated': False}\"\n",
      " \"{'garage': None, 'street': True, 'validated': False, 'lot': False, 'valet': False}\"\n",
      " \"{u'valet': False, u'garage': False, u'street': True, u'lot': False, u'validated': None}\"\n",
      " \"{'garage': True, 'street': False, 'validated': False, 'lot': False, 'valet': True}\"\n",
      " \"{'garage': None, 'street': None, 'validated': None, 'lot': False, 'valet': False}\"\n",
      " \"{'garage': True, 'street': None, 'validated': False, 'lot': None, 'valet': False}\"\n",
      " \"{u'valet': False, u'garage': None, u'street': True, u'lot': None, u'validated': False}\"\n",
      " \"{'garage': None, 'street': False, 'validated': False, 'lot': False, 'valet': False}\"\n",
      " \"{'garage': None, 'street': False, 'validated': False, 'lot': True, 'valet': False}\"\n",
      " \"{u'valet': False, u'garage': None, u'street': None, u'lot': False, u'validated': None}\"\n",
      " \"{u'valet': False, u'garage': False, u'street': True, u'lot': True, u'validated': True}\"\n",
      " \"{'garage': True, 'street': None, 'validated': False, 'lot': False, 'valet': False}\"\n",
      " \"{'garage': True, 'street': True, 'validated': False, 'lot': False, 'valet': True}\"\n",
      " \"{'garage': True, 'street': False, 'validated': True, 'lot': False, 'valet': False}\"\n",
      " \"{u'valet': False, u'garage': True, u'street': True, u'lot': None, u'validated': False}\"\n",
      " \"{u'valet': False, u'garage': None, u'street': None, u'lot': None, u'validated': False}\"\n",
      " \"{u'valet': False, u'garage': True, u'street': None, u'lot': None, u'validated': None}\"\n",
      " \"{'garage': True, 'street': None, 'validated': None, 'lot': None, 'valet': False}\"\n",
      " \"{'garage': False, 'street': None, 'validated': False, 'lot': False, 'valet': False}\"\n",
      " \"{'garage': False, 'street': True, 'validated': False, 'lot': True, 'valet': True}\"\n",
      " \"{u'valet': False, u'garage': None, u'street': None, u'lot': True, u'validated': False}\"\n",
      " \"{'garage': False, 'street': True, 'validated': True, 'lot': False, 'valet': False}\"\n",
      " \"{u'valet': False, u'garage': None, u'street': True, u'lot': False, u'validated': False}\"\n",
      " \"{'garage': True, 'street': True, 'validated': True, 'lot': False, 'valet': False}\"\n",
      " \"{u'valet': False, u'garage': False, u'street': True, u'lot': None, u'validated': None}\"\n",
      " \"{u'valet': False, u'garage': True, u'street': False, u'lot': True, u'validated': False}\"\n",
      " \"{'garage': False, 'street': True, 'validated': True, 'lot': False, 'valet': True}\"\n",
      " \"{'garage': None, 'street': True, 'validated': None, 'lot': True, 'valet': False}\"\n",
      " \"{'garage': None, 'street': False, 'validated': False, 'lot': None, 'valet': False}\"\n",
      " \"{'garage': True, 'street': True, 'validated': None, 'lot': False, 'valet': False}\"\n",
      " \"{'garage': True, 'street': False, 'validated': False, 'lot': True, 'valet': True}\"\n",
      " \"{u'valet': False, u'garage': None, u'street': False, u'lot': None, u'validated': False}\"\n",
      " \"{'garage': None, 'street': None, 'validated': False, 'lot': None, 'valet': False}\"\n",
      " \"{'garage': False}\"\n",
      " \"{u'garage': False, u'street': False, u'validated': False, u'lot': True, u'valet': False}\"\n",
      " \"{'garage': None, 'street': None, 'validated': False, 'lot': True, 'valet': False}\"\n",
      " \"{'garage': False, 'street': None, 'validated': None, 'lot': True, 'valet': False}\"\n",
      " \"{u'valet': False, u'garage': False, u'street': None, u'lot': True, u'validated': None}\"\n",
      " \"{'garage': True, 'street': True, 'validated': False, 'lot': True, 'valet': True}\"\n",
      " \"{u'valet': False, u'garage': True, u'street': False, u'lot': True, u'validated': None}\"\n",
      " \"{u'valet': False, u'garage': True, u'street': False, u'lot': False, u'validated': False}\"\n",
      " \"{u'valet': True, u'garage': False, u'street': True, u'lot': True, u'validated': False}\"\n",
      " \"{u'valet': False, u'garage': None, u'street': None, u'lot': False, u'validated': False}\"\n",
      " \"{u'valet': False, u'garage': True, u'street': True, u'lot': False, u'validated': False}\"\n",
      " \"{u'valet': False, u'garage': True, u'street': None, u'lot': False, u'validated': None}\"\n",
      " \"{u'valet': False, u'garage': True, u'street': True, u'lot': False, u'validated': None}\"\n",
      " \"{'garage': False, 'street': None, 'validated': None, 'lot': False, 'valet': False}\"\n",
      " \"{'garage': None, 'street': None, 'validated': False, 'lot': False, 'valet': False}\"\n",
      " \"{'garage': False, 'street': False, 'validated': None, 'lot': True, 'valet': False}\"\n",
      " \"{'garage': None, 'street': False, 'validated': None, 'lot': None, 'valet': False}\"\n",
      " \"{'garage': True, 'street': True, 'validated': True, 'lot': True, 'valet': True}\"\n",
      " \"{'garage': False, 'street': True, 'validated': True, 'lot': True, 'valet': True}\"\n",
      " \"{'garage': True, 'street': True, 'validated': True, 'lot': False, 'valet': True}\"\n",
      " \"{'garage': False, 'street': False, 'validated': True, 'lot': True, 'valet': False}\"\n",
      " \"{u'valet': False, u'garage': False, u'street': False, u'lot': None, u'validated': None}\"\n",
      " \"{u'valet': True, u'garage': True, u'street': True, u'lot': True, u'validated': True}\"\n",
      " \"{u'valet': False, u'garage': True, u'street': True, u'lot': True, u'validated': False}\"\n",
      " \"{'garage': None, 'street': False, 'validated': None, 'lot': True, 'valet': False}\"\n",
      " \"{u'valet': False, u'garage': True, u'street': False, u'lot': None, u'validated': False}\"\n",
      " \"{u'valet': False, u'garage': False, u'street': None, u'lot': False, u'validated': None}\"\n",
      " \"{'garage': False, 'street': False, 'validated': True, 'lot': False, 'valet': True}\"\n",
      " \"{'garage': False, 'street': False, 'validated': True, 'lot': True, 'valet': True}\"\n",
      " \"{u'valet': False, u'garage': False, u'street': False, u'lot': False, u'validated': True}\"\n",
      " \"{u'valet': False, u'garage': True, u'street': None, u'lot': False, u'validated': False}\"\n",
      " \"{'garage': False, 'street': True, 'validated': None, 'lot': False, 'valet': False}\"\n",
      " \"{'valet': False, 'garage': False, 'street': False, 'lot': False, 'validated': False}\"\n",
      " \"{u'valet': False, u'garage': None, u'street': True, u'lot': None, u'validated': None}\"\n",
      " \"{'garage': True, 'street': False, 'validated': False, 'lot': None, 'valet': False}\"\n",
      " \"{u'valet': False, u'garage': None, u'street': False, u'lot': None, u'validated': None}\"\n",
      " \"{u'valet': False, u'garage': False, u'street': None, u'lot': False, u'validated': False}\"\n",
      " \"{'garage': False, 'street': False, 'validated': None, 'lot': None, 'valet': False}\"\n",
      " \"{'garage': True, 'street': False, 'validated': True, 'lot': True, 'valet': False}\"\n",
      " \"{u'valet': False, u'garage': None, u'street': False, u'lot': False, u'validated': False}\"\n",
      " \"{u'valet': False, u'garage': None, u'street': True, u'lot': True, u'validated': False}\"\n",
      " \"{u'valet': False, u'garage': None, u'street': False, u'lot': True, u'validated': None}\"\n",
      " \"{u'valet': False, u'garage': True, u'street': None, u'lot': None, u'validated': False}\"\n",
      " \"{'garage': True, 'street': None, 'validated': False, 'lot': True, 'valet': False}\"\n",
      " \"{'garage': True, 'street': None, 'validated': None, 'lot': False, 'valet': False}\"\n",
      " \"{'garage': False, 'street': True, 'validated': None, 'lot': True, 'valet': False}\"\n",
      " \"{'garage': True, 'street': False, 'validated': True, 'lot': True, 'valet': True}\"\n",
      " \"{u'valet': False, u'garage': None, u'street': False, u'lot': True, u'validated': False}\"\n",
      " \"{'garage': False, 'street': True, 'validated': None, 'lot': None, 'valet': False}\"\n",
      " \"{'valet': False, 'garage': False, 'street': False, 'lot': True, 'validated': False}\"\n",
      " \"{u'valet': False, u'garage': True, u'street': None, u'lot': True, u'validated': None}\"\n",
      " \"{u'valet': True, u'garage': False, u'street': False, u'lot': True, u'validated': False}\"\n",
      " \"{u'valet': True, u'garage': False, u'street': True, u'lot': False, u'validated': False}\"\n",
      " \"{'garage': False, 'street': None, 'validated': False, 'lot': None, 'valet': True}\"\n",
      " \"{u'valet': False, u'garage': None, u'street': True, u'lot': True, u'validated': None}\"\n",
      " \"{'valet': False, 'garage': False, 'street': True, 'lot': False, 'validated': False}\"\n",
      " \"{u'valet': False, u'garage': True, u'street': True, u'lot': True, u'validated': None}\"\n",
      " \"{u'valet': True, u'garage': False, u'street': False, u'lot': False, u'validated': False}\"\n",
      " \"{u'garage': False, u'street': True, u'validated': False, u'lot': True, u'valet': False}\"\n",
      " \"{'garage': True, 'street': True, 'validated': False, 'lot': None, 'valet': False}\"\n",
      " \"{u'valet': False, u'garage': True, u'street': None, u'lot': True, u'validated': False}\"\n",
      " \"{u'garage': False, u'street': True, u'validated': False, u'lot': False, u'valet': False}\"\n",
      " \"{u'valet': False, u'garage': True, u'street': True, u'lot': None, u'validated': None}\"\n",
      " \"{'garage': False, 'validated': False, 'street': False, 'lot': False, 'valet': False}\"\n",
      " \"{u'valet': True, u'garage': False, u'street': True, u'lot': False, u'validated': True}\"\n",
      " \"{u'valet': False, u'garage': False, u'street': True, u'lot': True, u'validated': None}\"\n",
      " \"{u'valet': False, u'garage': True, u'street': False, u'lot': None, u'validated': None}\"\n",
      " \"{u'valet': False, u'garage': True, u'street': False, u'lot': False, u'validated': True}\"\n",
      " \"{'garage': True, 'street': True, 'validated': None, 'lot': True, 'valet': False}\"\n",
      " \"{'garage': True, 'street': True, 'validated': None, 'lot': None, 'valet': False}\"\n",
      " \"{u'valet': False, u'garage': False, u'street': False, u'lot': False, u'validated': None}\"\n",
      " \"{'garage': True, 'street': False, 'validated': None, 'lot': True, 'valet': False}\"\n",
      " \"{u'valet': True, u'garage': True, u'street': True, u'lot': True, u'validated': False}\"\n",
      " \"{u'valet': False, u'garage': True, u'street': True, u'lot': False, u'validated': True}\"\n",
      " \"{u'valet': False, u'garage': None, u'street': False, u'lot': False, u'validated': None}\"\n",
      " \"{u'valet': False, u'garage': False, u'street': True, u'lot': False, u'validated': True}\"\n",
      " \"{u'valet': True, u'garage': True, u'street': True, u'lot': False, u'validated': False}\"\n",
      " \"{u'valet': True, u'garage': True, u'street': False, u'lot': True, u'validated': False}\"\n",
      " \"{u'valet': False, u'garage': False, u'street': False, u'lot': True, u'validated': True}\"\n",
      " \"{u'garage': True, u'street': True, u'validated': False, u'lot': False, u'valet': False}\"\n",
      " \"{u'valet': True, u'garage': False, u'street': True, u'lot': True, u'validated': True}\"\n",
      " \"{u'garage': False, u'street': False, u'validated': False, u'lot': False, u'valet': False}\"\n",
      " \"{u'valet': False, u'garage': True, u'street': True, u'lot': True, u'validated': True}\"\n",
      " \"{u'garage': True, u'street': False, u'validated': False, u'lot': False, u'valet': True}\"\n",
      " \"{'valet': False}\"\n",
      " \"{'garage': True, 'street': False, 'validated': None, 'lot': None, 'valet': False}\"]\n",
      "--------------------------------------------------\n",
      "WiFi\n",
      "[nan \"u'free'\" \"u'no'\" \"'free'\" \"'no'\" 'None' \"u'paid'\" \"'paid'\"]\n",
      "--------------------------------------------------\n",
      "Alcohol\n",
      "[nan \"u'none'\" \"u'full_bar'\" \"'none'\" \"'full_bar'\" \"u'beer_and_wine'\"\n",
      " \"'beer_and_wine'\" 'None']\n",
      "--------------------------------------------------\n",
      "RestaurantsAttire\n",
      "[nan \"u'casual'\" \"'casual'\" \"u'formal'\" \"'dressy'\" \"u'dressy'\" 'None'\n",
      " \"'formal'\"]\n",
      "--------------------------------------------------\n",
      "NoiseLevel\n",
      "[nan \"u'average'\" \"u'quiet'\" \"'average'\" \"u'loud'\" \"u'very_loud'\"\n",
      " \"'quiet'\" \"'loud'\" 'None' \"'very_loud'\"]\n",
      "--------------------------------------------------\n",
      "Ambience\n",
      "[nan\n",
      " \"{'romantic': False, 'intimate': False, 'touristy': False, 'hipster': False, 'divey': False, 'classy': False, 'trendy': False, 'upscale': False, 'casual': False}\"\n",
      " \"{'touristy': False, 'hipster': False, 'romantic': False, 'divey': False, 'intimate': False, 'trendy': False, 'upscale': False, 'classy': False, 'casual': False}\"\n",
      " ...\n",
      " \"{'touristy': False, 'hipster': None, 'romantic': False, 'divey': None, 'intimate': None, 'trendy': False, 'upscale': None, 'classy': True, 'casual': None}\"\n",
      " \"{'touristy': False, 'hipster': None, 'romantic': False, 'intimate': None, 'trendy': True, 'upscale': False, 'classy': False, 'casual': True}\"\n",
      " \"{'touristy': None, 'hipster': False, 'romantic': False, 'divey': None, 'intimate': False, 'trendy': False, 'upscale': None, 'classy': None, 'casual': True}\"]\n",
      "--------------------------------------------------\n",
      "GoodForMeal\n",
      "[nan\n",
      " \"{'dessert': False, 'latenight': False, 'lunch': False, 'dinner': False, 'brunch': False, 'breakfast': False}\"\n",
      " \"{'dessert': False, 'latenight': False, 'lunch': True, 'dinner': False, 'brunch': False, 'breakfast': False}\"\n",
      " \"{'dessert': True, 'latenight': None, 'lunch': None, 'dinner': True, 'brunch': None, 'breakfast': None}\"\n",
      " \"{'dessert': False, 'latenight': False, 'lunch': True, 'dinner': True, 'brunch': False, 'breakfast': False}\"\n",
      " \"{'dessert': None, 'latenight': None, 'lunch': None, 'dinner': True, 'brunch': None, 'breakfast': None}\"\n",
      " \"{'dessert': False, 'latenight': False, 'lunch': False, 'dinner': False, 'brunch': True, 'breakfast': False}\"\n",
      " \"{'dessert': False, 'latenight': True, 'lunch': False, 'dinner': False, 'brunch': False, 'breakfast': False}\"\n",
      " \"{'dessert': False, 'latenight': True, 'lunch': False, 'dinner': True, 'brunch': False, 'breakfast': False}\"\n",
      " \"{'dessert': False, 'latenight': False, 'lunch': False, 'dinner': True, 'brunch': False, 'breakfast': False}\"\n",
      " \"{'dessert': True, 'latenight': False, 'lunch': True, 'dinner': False, 'brunch': True, 'breakfast': True}\"\n",
      " \"{'dessert': False, 'latenight': False, 'lunch': True, 'dinner': False, 'brunch': True, 'breakfast': True}\"\n",
      " \"{'dessert': None, 'latenight': None, 'lunch': True, 'dinner': True, 'brunch': True, 'breakfast': None}\"\n",
      " \"{u'breakfast': False, u'brunch': False, u'lunch': False, u'dinner': True, u'latenight': False, u'dessert': None}\"\n",
      " \"{'dessert': None, 'latenight': False, 'lunch': None, 'dinner': True, 'brunch': False, 'breakfast': False}\"\n",
      " \"{'dessert': False, 'latenight': False, 'lunch': True, 'dinner': None, 'brunch': False, 'breakfast': False}\"\n",
      " \"{u'breakfast': False, u'brunch': None, u'lunch': True, u'dinner': True, u'latenight': False, u'dessert': False}\"\n",
      " \"{'dessert': None, 'latenight': True, 'lunch': True, 'dinner': True, 'brunch': None, 'breakfast': False}\"\n",
      " \"{u'breakfast': False, u'brunch': False, u'lunch': True, u'dinner': True, u'latenight': False, u'dessert': None}\"\n",
      " \"{'dessert': False, 'latenight': True, 'lunch': True, 'dinner': True, 'brunch': False, 'breakfast': False}\"\n",
      " \"{'dessert': False, 'latenight': False, 'lunch': False, 'dinner': False, 'brunch': True, 'breakfast': True}\"\n",
      " \"{'dessert': None, 'latenight': False, 'lunch': True, 'dinner': True, 'brunch': None, 'breakfast': None}\"\n",
      " \"{'dessert': False, 'latenight': False, 'lunch': False, 'dinner': False, 'brunch': False, 'breakfast': True}\"\n",
      " \"{'dessert': None, 'latenight': False, 'lunch': True, 'dinner': True, 'brunch': False, 'breakfast': None}\"\n",
      " \"{'dessert': True, 'latenight': None, 'lunch': True, 'dinner': True, 'brunch': True, 'breakfast': None}\"\n",
      " \"{'dessert': False, 'latenight': False, 'lunch': True, 'dinner': True, 'brunch': True, 'breakfast': False}\"\n",
      " \"{'dessert': False, 'latenight': None, 'lunch': None, 'dinner': True, 'brunch': None, 'breakfast': None}\"\n",
      " \"{'dessert': False, 'latenight': False, 'lunch': True, 'dinner': False, 'brunch': False, 'breakfast': True}\"\n",
      " \"{'dessert': None, 'latenight': True, 'lunch': None, 'dinner': True, 'brunch': None, 'breakfast': False}\"\n",
      " \"{u'breakfast': True, u'brunch': None, u'lunch': None, u'dinner': None, u'latenight': False, u'dessert': False}\"\n",
      " \"{u'breakfast': None, u'brunch': False, u'lunch': True, u'dinner': True, u'latenight': False, u'dessert': False}\"\n",
      " \"{u'breakfast': None, u'brunch': None, u'lunch': None, u'dinner': True, u'latenight': None, u'dessert': None}\"\n",
      " \"{'dessert': None, 'latenight': None, 'lunch': None, 'dinner': None, 'brunch': False, 'breakfast': None}\"\n",
      " \"{'dessert': None, 'latenight': None, 'lunch': True, 'dinner': True, 'brunch': None, 'breakfast': False}\"\n",
      " \"{'dessert': None, 'latenight': False, 'lunch': True, 'dinner': True, 'brunch': False, 'breakfast': False}\"\n",
      " \"{'dessert': None, 'latenight': None, 'lunch': True, 'dinner': True, 'brunch': None, 'breakfast': None}\"\n",
      " \"{u'breakfast': False, u'brunch': False, u'lunch': None, u'dinner': True, u'latenight': None, u'dessert': False}\"\n",
      " \"{'dessert': None, 'latenight': None, 'lunch': True, 'dinner': None, 'brunch': True, 'breakfast': True}\"\n",
      " \"{'dessert': False, 'latenight': False, 'lunch': True, 'dinner': None, 'brunch': None, 'breakfast': True}\"\n",
      " \"{'dessert': False, 'latenight': False, 'lunch': None, 'dinner': True, 'brunch': False, 'breakfast': False}\"\n",
      " \"{'dessert': False, 'latenight': False, 'lunch': False, 'dinner': True, 'brunch': True, 'breakfast': False}\"\n",
      " \"{u'breakfast': False, u'brunch': False, u'lunch': None, u'dinner': True, u'latenight': False, u'dessert': None}\"\n",
      " \"{'dessert': False, 'latenight': False, 'lunch': True, 'dinner': None, 'brunch': True, 'breakfast': True}\"\n",
      " \"{'dessert': None, 'latenight': None, 'lunch': None, 'dinner': True, 'brunch': True, 'breakfast': None}\"\n",
      " \"{u'breakfast': False, u'brunch': False, u'lunch': None, u'dinner': True, u'latenight': None, u'dessert': None}\"\n",
      " \"{'dessert': True, 'latenight': False, 'lunch': False, 'dinner': False, 'brunch': False, 'breakfast': False}\"\n",
      " \"{'dessert': False, 'latenight': True, 'lunch': True, 'dinner': True, 'brunch': None, 'breakfast': False}\"\n",
      " \"{'dessert': None, 'latenight': False, 'lunch': None, 'dinner': True, 'brunch': None, 'breakfast': False}\"\n",
      " \"{'dessert': True, 'latenight': None, 'lunch': True, 'dinner': None, 'brunch': None, 'breakfast': None}\"\n",
      " \"{'dessert': None, 'latenight': None, 'lunch': True, 'dinner': True, 'brunch': False, 'breakfast': False}\"\n",
      " \"{'dessert': False, 'latenight': None, 'lunch': True, 'dinner': True, 'brunch': False, 'breakfast': False}\"\n",
      " \"{u'breakfast': False, u'brunch': None, u'lunch': True, u'dinner': True, u'latenight': False, u'dessert': None}\"\n",
      " \"{'dessert': None, 'latenight': False, 'lunch': False, 'dinner': True, 'brunch': False, 'breakfast': False}\"\n",
      " \"{'dessert': False, 'latenight': True, 'lunch': None, 'dinner': None, 'brunch': False, 'breakfast': False}\"\n",
      " \"{u'breakfast': False, u'brunch': False, u'lunch': False, u'dinner': True, u'latenight': None, u'dessert': None}\"\n",
      " \"{'dessert': False, 'latenight': True, 'lunch': True, 'dinner': True, 'brunch': None, 'breakfast': None}\"\n",
      " \"{'dessert': True, 'latenight': False, 'lunch': False, 'dinner': False, 'brunch': False, 'breakfast': True}\"\n",
      " \"{'dessert': False, 'latenight': False, 'lunch': True, 'dinner': True, 'brunch': False, 'breakfast': True}\"\n",
      " \"{'dessert': True, 'latenight': None, 'lunch': True, 'dinner': True, 'brunch': None, 'breakfast': None}\"\n",
      " \"{u'breakfast': False, u'brunch': False, u'lunch': None, u'dinner': True, u'latenight': False, u'dessert': False}\"\n",
      " \"{'dessert': None, 'latenight': False, 'lunch': True, 'dinner': None, 'brunch': True, 'breakfast': True}\"\n",
      " \"{'dessert': False, 'latenight': False, 'lunch': True, 'dinner': False, 'brunch': True, 'breakfast': False}\"\n",
      " \"{u'breakfast': None, u'brunch': False, u'lunch': True, u'dinner': True, u'latenight': None, u'dessert': True}\"\n",
      " \"{'dessert': None, 'latenight': None, 'lunch': True, 'dinner': None, 'brunch': None, 'breakfast': None}\"\n",
      " \"{'dessert': True, 'latenight': False, 'lunch': True, 'dinner': True, 'brunch': False, 'breakfast': False}\"\n",
      " \"{'dessert': True, 'latenight': False, 'lunch': False, 'dinner': True, 'brunch': False, 'breakfast': False}\"\n",
      " 'None'\n",
      " \"{'dessert': False, 'latenight': None, 'lunch': True, 'dinner': True, 'brunch': None, 'breakfast': False}\"\n",
      " \"{'dessert': True, 'latenight': False, 'lunch': True, 'dinner': False, 'brunch': False, 'breakfast': True}\"\n",
      " \"{'dessert': None, 'latenight': False, 'lunch': True, 'dinner': True, 'brunch': None, 'breakfast': False}\"\n",
      " \"{u'breakfast': False, u'brunch': False, u'lunch': True, u'dinner': True, u'latenight': None, u'dessert': None}\"\n",
      " \"{'dessert': False, 'latenight': False, 'lunch': True, 'dinner': None, 'brunch': None, 'breakfast': None}\"\n",
      " \"{'dessert': True, 'latenight': False, 'lunch': True, 'dinner': True, 'brunch': True, 'breakfast': False}\"\n",
      " \"{u'breakfast': True, u'brunch': True, u'lunch': None, u'dinner': None, u'latenight': None, u'dessert': None}\"\n",
      " \"{'dessert': None, 'latenight': None, 'lunch': False, 'dinner': True, 'brunch': None, 'breakfast': False}\"\n",
      " \"{'dessert': True, 'latenight': None, 'lunch': None, 'dinner': True, 'brunch': True, 'breakfast': None}\"\n",
      " \"{'dessert': False, 'latenight': False, 'lunch': None, 'dinner': False, 'brunch': None, 'breakfast': True}\"\n",
      " \"{'dessert': None, 'latenight': None, 'lunch': None, 'dinner': True, 'brunch': None, 'breakfast': False}\"\n",
      " \"{'dessert': False, 'latenight': True, 'lunch': True, 'dinner': None, 'brunch': None, 'breakfast': False}\"\n",
      " \"{'dessert': True, 'latenight': False, 'lunch': True, 'dinner': True, 'brunch': True, 'breakfast': None}\"\n",
      " \"{'dessert': False, 'latenight': False, 'lunch': None, 'dinner': False, 'brunch': True, 'breakfast': True}\"\n",
      " \"{'dessert': None, 'latenight': None, 'lunch': True, 'dinner': True, 'brunch': True, 'breakfast': True}\"\n",
      " \"{'dessert': None, 'latenight': True, 'lunch': True, 'dinner': None, 'brunch': True, 'breakfast': True}\"\n",
      " \"{'dessert': False, 'latenight': True, 'lunch': True, 'dinner': False, 'brunch': False, 'breakfast': False}\"\n",
      " \"{u'breakfast': False, u'brunch': True, u'lunch': True, u'dinner': True, u'latenight': False, u'dessert': None}\"\n",
      " \"{'dessert': False, 'latenight': None, 'lunch': None, 'dinner': True, 'brunch': None, 'breakfast': False}\"\n",
      " \"{u'breakfast': True, u'brunch': True, u'lunch': True, u'dinner': None, u'latenight': None, u'dessert': None}\"\n",
      " \"{u'breakfast': None, u'brunch': None, u'lunch': None, u'dinner': True, u'latenight': None, u'dessert': True}\"\n",
      " \"{'dessert': False, 'latenight': False, 'lunch': True, 'dinner': True, 'brunch': None, 'breakfast': False}\"\n",
      " \"{u'breakfast': True, u'brunch': True, u'lunch': True, u'dinner': None, u'latenight': False, u'dessert': False}\"\n",
      " \"{'dessert': None, 'latenight': True, 'lunch': True, 'dinner': True, 'brunch': True, 'breakfast': None}\"\n",
      " \"{'dessert': None, 'latenight': False, 'lunch': None, 'dinner': None, 'brunch': True, 'breakfast': True}\"\n",
      " \"{'dessert': False, 'latenight': None, 'lunch': False, 'dinner': True, 'brunch': False, 'breakfast': False}\"\n",
      " \"{u'breakfast': True, u'brunch': True, u'lunch': True, u'dinner': False, u'latenight': False, u'dessert': None}\"\n",
      " \"{'dessert': None, 'latenight': None, 'lunch': True, 'dinner': None, 'brunch': None, 'breakfast': True}\"\n",
      " \"{'dessert': True, 'latenight': False, 'lunch': True, 'dinner': True, 'brunch': True, 'breakfast': True}\"\n",
      " \"{'dessert': None, 'latenight': None, 'lunch': None, 'dinner': None, 'brunch': False, 'breakfast': False}\"\n",
      " \"{'dessert': True, 'latenight': True, 'lunch': True, 'dinner': True, 'brunch': True, 'breakfast': True}\"\n",
      " \"{'dessert': None, 'latenight': None, 'lunch': True, 'dinner': None, 'brunch': True, 'breakfast': None}\"\n",
      " \"{'dessert': True, 'latenight': None, 'lunch': True, 'dinner': True, 'brunch': True, 'breakfast': True}\"\n",
      " \"{'dessert': None, 'latenight': None, 'lunch': False, 'dinner': None, 'brunch': False, 'breakfast': None}\"\n",
      " \"{'dessert': False, 'latenight': True, 'lunch': None, 'dinner': None, 'brunch': None, 'breakfast': False}\"\n",
      " \"{u'breakfast': False, u'brunch': False, u'lunch': True, u'dinner': True, u'latenight': None, u'dessert': False}\"\n",
      " \"{'dessert': None, 'latenight': False, 'lunch': None, 'dinner': False, 'brunch': True, 'breakfast': True}\"\n",
      " \"{u'breakfast': False, u'brunch': True, u'lunch': True, u'dinner': True, u'latenight': None, u'dessert': None}\"\n",
      " \"{u'breakfast': None, u'brunch': None, u'lunch': True, u'dinner': True, u'latenight': True, u'dessert': None}\"\n",
      " \"{u'breakfast': None, u'brunch': None, u'lunch': True, u'dinner': True, u'latenight': None, u'dessert': None}\"\n",
      " \"{'dessert': None, 'latenight': False, 'lunch': True, 'dinner': True, 'brunch': None, 'breakfast': True}\"\n",
      " \"{'dessert': False, 'latenight': None, 'lunch': True, 'dinner': None, 'brunch': None, 'breakfast': None}\"\n",
      " \"{'dessert': False, 'latenight': False, 'lunch': None, 'dinner': True, 'brunch': None, 'breakfast': False}\"\n",
      " \"{'dessert': False, 'latenight': False, 'lunch': True, 'dinner': True, 'brunch': True, 'breakfast': True}\"\n",
      " \"{'dessert': False, 'latenight': None, 'lunch': True, 'dinner': True, 'brunch': None, 'breakfast': None}\"\n",
      " \"{'dessert': False, 'latenight': True, 'lunch': None, 'dinner': True, 'brunch': False, 'breakfast': False}\"\n",
      " \"{u'breakfast': False, u'brunch': None, u'lunch': None, u'dinner': True, u'latenight': False, u'dessert': False}\"\n",
      " \"{'dessert': None, 'latenight': None, 'lunch': False, 'dinner': True, 'brunch': False, 'breakfast': False}\"\n",
      " \"{'dessert': None, 'latenight': True, 'lunch': None, 'dinner': None, 'brunch': False, 'breakfast': False}\"\n",
      " \"{'dessert': False, 'latenight': False, 'lunch': None, 'dinner': True, 'brunch': None, 'breakfast': None}\"\n",
      " \"{u'breakfast': None, u'brunch': True, u'lunch': True, u'dinner': True, u'latenight': None, u'dessert': None}\"\n",
      " \"{u'breakfast': True, u'brunch': True, u'lunch': True, u'dinner': True, u'latenight': False, u'dessert': None}\"\n",
      " \"{'dessert': False, 'latenight': False, 'lunch': False, 'dinner': False, 'breakfast': False, 'brunch': False}\"\n",
      " \"{u'breakfast': True, u'brunch': None, u'lunch': True, u'dinner': None, u'latenight': None, u'dessert': None}\"\n",
      " \"{'dessert': True, 'latenight': True, 'lunch': True, 'dinner': None, 'brunch': True, 'breakfast': None}\"\n",
      " \"{'dessert': True, 'latenight': True, 'lunch': True, 'dinner': False, 'brunch': True, 'breakfast': False}\"\n",
      " \"{'dessert': True, 'latenight': True, 'lunch': True, 'dinner': True, 'brunch': False, 'breakfast': False}\"\n",
      " \"{u'breakfast': True, u'brunch': None, u'lunch': None, u'dinner': None, u'latenight': None, u'dessert': None}\"\n",
      " \"{'dessert': None, 'latenight': None, 'lunch': None, 'dinner': None, 'brunch': True, 'breakfast': True}\"\n",
      " \"{'dessert': True, 'latenight': False, 'lunch': None, 'dinner': False, 'brunch': True, 'breakfast': True}\"\n",
      " \"{'dessert': False, 'latenight': None, 'lunch': None, 'dinner': True, 'brunch': False, 'breakfast': False}\"\n",
      " \"{u'breakfast': False, u'brunch': None, u'lunch': None, u'dinner': True, u'latenight': True, u'dessert': False}\"\n",
      " \"{'dessert': None, 'latenight': True, 'lunch': True, 'dinner': True, 'brunch': False, 'breakfast': False}\"\n",
      " \"{u'breakfast': True, u'brunch': True, u'lunch': True, u'dinner': None, u'latenight': False, u'dessert': None}\"\n",
      " \"{u'breakfast': False, u'brunch': False, u'lunch': False, u'dinner': True, u'latenight': None, u'dessert': False}\"\n",
      " \"{'dessert': None, 'latenight': True, 'lunch': True, 'dinner': True, 'brunch': True, 'breakfast': True}\"\n",
      " \"{'dessert': None, 'latenight': False, 'lunch': None, 'dinner': True, 'brunch': None, 'breakfast': None}\"\n",
      " \"{'dessert': False, 'latenight': None, 'lunch': True, 'dinner': True, 'brunch': True, 'breakfast': False}\"\n",
      " \"{'dessert': None, 'latenight': True, 'lunch': True, 'dinner': True, 'brunch': None, 'breakfast': None}\"\n",
      " \"{'dessert': None, 'latenight': None, 'lunch': None, 'dinner': True, 'brunch': False, 'breakfast': False}\"\n",
      " \"{u'breakfast': False, u'brunch': True, u'lunch': None, u'dinner': True, u'latenight': True, u'dessert': None}\"\n",
      " \"{u'breakfast': False, u'brunch': False, u'lunch': True, u'dinner': False, u'latenight': False, u'dessert': False}\"\n",
      " \"{'dessert': None, 'latenight': True, 'lunch': False, 'dinner': True, 'brunch': None, 'breakfast': False}\"\n",
      " \"{u'breakfast': False, u'brunch': None, u'lunch': None, u'dinner': True, u'latenight': True, u'dessert': None}\"\n",
      " \"{'dessert': True, 'latenight': None, 'lunch': False, 'dinner': True, 'brunch': None, 'breakfast': None}\"\n",
      " \"{'dessert': True, 'latenight': False, 'lunch': True, 'dinner': True, 'brunch': None, 'breakfast': False}\"\n",
      " \"{u'breakfast': None, u'brunch': None, u'lunch': None, u'dinner': None, u'latenight': True, u'dessert': None}\"\n",
      " \"{'dessert': None, 'latenight': False, 'lunch': True, 'dinner': True, 'brunch': True, 'breakfast': True}\"\n",
      " \"{'dessert': False, 'latenight': True, 'lunch': None, 'dinner': True, 'brunch': None, 'breakfast': False}\"\n",
      " \"{'dessert': None, 'latenight': False, 'lunch': True, 'dinner': False, 'brunch': True, 'breakfast': True}\"\n",
      " \"{u'breakfast': False, u'brunch': None, u'lunch': True, u'dinner': True, u'latenight': None, u'dessert': False}\"\n",
      " \"{u'breakfast': False, u'brunch': None, u'lunch': True, u'dinner': True, u'latenight': True, u'dessert': False}\"\n",
      " \"{'dessert': None, 'latenight': False, 'lunch': True, 'dinner': True, 'brunch': True, 'breakfast': False}\"\n",
      " \"{u'breakfast': None, u'brunch': True, u'lunch': None, u'dinner': None, u'latenight': None, u'dessert': None}\"\n",
      " \"{'dessert': True, 'latenight': None, 'lunch': None, 'dinner': None, 'brunch': None, 'breakfast': True}\"\n",
      " \"{u'breakfast': False, u'brunch': False, u'lunch': True, u'dinner': None, u'latenight': True, u'dessert': False}\"\n",
      " \"{'dessert': None, 'latenight': None, 'lunch': True, 'dinner': None, 'brunch': False, 'breakfast': None}\"\n",
      " \"{u'breakfast': None, u'brunch': False, u'lunch': True, u'dinner': None, u'latenight': None, u'dessert': None}\"\n",
      " \"{u'breakfast': None, u'brunch': None, u'lunch': True, u'dinner': None, u'latenight': None, u'dessert': None}\"\n",
      " \"{'dessert': False, 'latenight': False, 'lunch': True, 'dinner': False, 'brunch': None, 'breakfast': True}\"\n",
      " \"{'dessert': True, 'latenight': None, 'lunch': True, 'dinner': True, 'brunch': False, 'breakfast': None}\"\n",
      " \"{'dessert': False, 'latenight': None, 'lunch': True, 'dinner': None, 'brunch': True, 'breakfast': True}\"\n",
      " \"{u'breakfast': None, u'brunch': None, u'lunch': True, u'dinner': True, u'latenight': None, u'dessert': False}\"\n",
      " \"{'dessert': None, 'latenight': None, 'lunch': None, 'dinner': None, 'brunch': True, 'breakfast': None}\"\n",
      " \"{'dessert': None, 'latenight': None, 'lunch': True, 'dinner': True, 'brunch': None, 'breakfast': True}\"\n",
      " \"{u'breakfast': False, u'brunch': None, u'lunch': True, u'dinner': None, u'latenight': False, u'dessert': False}\"\n",
      " \"{'dessert': False, 'latenight': False, 'lunch': True, 'dinner': None, 'brunch': None, 'breakfast': False}\"\n",
      " \"{u'breakfast': None, u'brunch': True, u'lunch': None, u'dinner': True, u'latenight': None, u'dessert': True}\"\n",
      " \"{u'breakfast': False, u'brunch': None, u'lunch': None, u'dinner': True, u'latenight': False, u'dessert': None}\"\n",
      " \"{u'breakfast': None, u'brunch': False, u'lunch': True, u'dinner': True, u'latenight': None, u'dessert': None}\"\n",
      " \"{u'breakfast': None, u'brunch': None, u'lunch': None, u'dinner': True, u'latenight': None, u'dessert': False}\"\n",
      " \"{u'breakfast': False, u'brunch': None, u'lunch': None, u'dinner': False, u'latenight': False, u'dessert': True}\"\n",
      " \"{'dessert': True, 'latenight': False, 'lunch': True, 'dinner': False, 'brunch': False, 'breakfast': False}\"\n",
      " \"{u'breakfast': None, u'brunch': False, u'lunch': True, u'dinner': None, u'latenight': False, u'dessert': False}\"\n",
      " \"{u'breakfast': False, u'brunch': None, u'lunch': True, u'dinner': True, u'latenight': None, u'dessert': None}\"\n",
      " \"{u'breakfast': True, u'brunch': None, u'lunch': True, u'dinner': False, u'latenight': False, u'dessert': False}\"\n",
      " \"{u'breakfast': False, u'brunch': None, u'lunch': None, u'dinner': True, u'latenight': None, u'dessert': None}\"\n",
      " \"{u'breakfast': None, u'brunch': True, u'lunch': True, u'dinner': None, u'latenight': False, u'dessert': False}\"\n",
      " \"{'dessert': None, 'latenight': None, 'lunch': True, 'dinner': True, 'brunch': False, 'breakfast': None}\"\n",
      " \"{'dessert': False, 'latenight': None, 'lunch': True, 'dinner': True, 'brunch': None, 'breakfast': True}\"\n",
      " \"{'dessert': None, 'latenight': False, 'lunch': True, 'dinner': True, 'brunch': True, 'breakfast': None}\"\n",
      " \"{u'breakfast': None, u'brunch': None, u'lunch': True, u'dinner': None, u'latenight': False, u'dessert': False}\"\n",
      " \"{'dessert': False, 'latenight': False, 'lunch': True, 'dinner': True, 'brunch': None, 'breakfast': True}\"\n",
      " \"{u'breakfast': None, u'brunch': None, u'lunch': None, u'dinner': None, u'latenight': None, u'dessert': True}\"\n",
      " \"{u'breakfast': False, u'brunch': None, u'lunch': True, u'dinner': True, u'latenight': True, u'dessert': None}\"\n",
      " \"{'dessert': None, 'latenight': True, 'lunch': True, 'dinner': True, 'brunch': False, 'breakfast': None}\"\n",
      " \"{'dessert': None, 'latenight': False, 'lunch': True, 'dinner': None, 'brunch': False, 'breakfast': False}\"\n",
      " \"{'dessert': False, 'latenight': None, 'lunch': True, 'dinner': None, 'brunch': True, 'breakfast': None}\"\n",
      " \"{u'breakfast': True, u'brunch': True, u'lunch': True, u'dinner': True, u'latenight': None, u'dessert': True}\"\n",
      " \"{u'breakfast': True, u'brunch': None, u'lunch': True, u'dinner': True, u'latenight': False, u'dessert': None}\"\n",
      " \"{u'breakfast': False, u'brunch': False, u'lunch': None, u'dinner': True, u'latenight': True, u'dessert': False}\"\n",
      " \"{'dessert': False, 'latenight': False, 'lunch': None, 'dinner': None, 'brunch': False, 'breakfast': False}\"\n",
      " \"{'dessert': None, 'latenight': None, 'lunch': None, 'dinner': True, 'brunch': True, 'breakfast': False}\"\n",
      " \"{'dessert': True, 'latenight': True, 'lunch': None, 'dinner': True, 'brunch': False, 'breakfast': False}\"\n",
      " \"{u'breakfast': None, u'brunch': False, u'lunch': None, u'dinner': True, u'latenight': None, u'dessert': None}\"\n",
      " \"{'dessert': None, 'latenight': None, 'lunch': None, 'dinner': True, 'brunch': None, 'breakfast': True}\"\n",
      " \"{'dessert': False, 'latenight': False, 'lunch': True, 'dinner': True, 'brunch': None, 'breakfast': None}\"\n",
      " \"{'dessert': None, 'latenight': True, 'lunch': None, 'dinner': None, 'brunch': True, 'breakfast': True}\"\n",
      " \"{'dessert': True, 'latenight': None, 'lunch': None, 'dinner': True, 'brunch': False, 'breakfast': None}\"\n",
      " \"{'dessert': None, 'latenight': True, 'lunch': None, 'dinner': True, 'brunch': False, 'breakfast': False}\"\n",
      " \"{u'breakfast': False, u'brunch': False, u'lunch': None, u'dinner': True, u'latenight': True, u'dessert': None}\"\n",
      " \"{'dessert': True, 'latenight': False, 'lunch': False, 'dinner': True, 'brunch': True, 'breakfast': False}\"\n",
      " \"{'dessert': False, 'latenight': None, 'lunch': True, 'dinner': None, 'brunch': None, 'breakfast': True}\"\n",
      " \"{u'breakfast': False, u'brunch': False, u'lunch': True, u'dinner': None, u'latenight': False, u'dessert': False}\"\n",
      " \"{'dessert': True, 'latenight': True, 'lunch': True, 'dinner': True, 'brunch': None, 'breakfast': None}\"\n",
      " \"{u'breakfast': None, u'brunch': True, u'lunch': None, u'dinner': True, u'latenight': None, u'dessert': None}\"\n",
      " \"{'dessert': False, 'latenight': None, 'lunch': True, 'dinner': True, 'brunch': True, 'breakfast': None}\"\n",
      " \"{u'breakfast': False, u'brunch': None, u'lunch': None, u'dinner': True, u'latenight': None, u'dessert': False}\"\n",
      " \"{'dessert': False, 'latenight': False, 'lunch': True, 'dinner': False, 'breakfast': False, 'brunch': False}\"\n",
      " \"{'dessert': None, 'latenight': False, 'lunch': None, 'dinner': True, 'brunch': True, 'breakfast': False}\"\n",
      " \"{'dessert': False, 'latenight': False, 'lunch': True, 'dinner': False, 'brunch': False, 'breakfast': None}\"\n",
      " \"{u'breakfast': True, u'brunch': None, u'lunch': None, u'dinner': True, u'latenight': True, u'dessert': None}\"\n",
      " \"{u'breakfast': True, u'brunch': True, u'lunch': True, u'dinner': True, u'latenight': None, u'dessert': None}\"\n",
      " \"{'dessert': True, 'latenight': False, 'lunch': True, 'dinner': True, 'brunch': None, 'breakfast': None}\"\n",
      " \"{'dessert': True, 'latenight': None, 'lunch': None, 'dinner': True, 'brunch': False, 'breakfast': False}\"\n",
      " \"{'dessert': True, 'latenight': None, 'lunch': True, 'dinner': True, 'brunch': None, 'breakfast': False}\"\n",
      " \"{u'breakfast': None, u'brunch': True, u'lunch': True, u'dinner': True, u'latenight': False, u'dessert': True}\"\n",
      " \"{u'breakfast': True, u'brunch': True, u'lunch': True, u'dinner': False, u'latenight': None, u'dessert': None}\"\n",
      " \"{'dessert': False, 'latenight': None, 'lunch': None, 'dinner': None, 'brunch': None, 'breakfast': None}\"\n",
      " \"{u'breakfast': None, u'brunch': None, u'lunch': True, u'dinner': True, u'latenight': False, u'dessert': False}\"\n",
      " \"{'dessert': False, 'latenight': False, 'lunch': False, 'dinner': True, 'brunch': False, 'breakfast': True}\"\n",
      " \"{'dessert': None, 'latenight': False, 'lunch': False, 'dinner': True, 'brunch': None, 'breakfast': False}\"\n",
      " \"{'dessert': False, 'latenight': False, 'lunch': None, 'dinner': None, 'brunch': None, 'breakfast': True}\"\n",
      " \"{'dessert': False, 'latenight': True, 'lunch': True, 'dinner': True, 'brunch': True, 'breakfast': True}\"\n",
      " \"{'dessert': False, 'latenight': False, 'lunch': False, 'dinner': True, 'breakfast': False, 'brunch': True}\"\n",
      " \"{'dessert': False, 'latenight': None, 'lunch': True, 'dinner': True, 'brunch': False, 'breakfast': None}\"\n",
      " \"{'dessert': None, 'latenight': True, 'lunch': False, 'dinner': True, 'brunch': False, 'breakfast': False}\"\n",
      " \"{'dessert': False, 'latenight': None, 'lunch': True, 'dinner': None, 'brunch': False, 'breakfast': False}\"\n",
      " \"{u'breakfast': True, u'brunch': None, u'lunch': True, u'dinner': True, u'latenight': None, u'dessert': None}\"\n",
      " \"{u'breakfast': False, u'brunch': False, u'lunch': True, u'dinner': True, u'latenight': True, u'dessert': None}\"\n",
      " \"{'dessert': False, 'latenight': True, 'lunch': True, 'dinner': True, 'brunch': True, 'breakfast': False}\"\n",
      " \"{u'breakfast': None, u'brunch': None, u'lunch': True, u'dinner': True, u'latenight': None, u'dessert': True}\"\n",
      " \"{'dessert': False, 'latenight': None, 'lunch': False, 'dinner': None, 'brunch': False, 'breakfast': False}\"\n",
      " \"{u'breakfast': None, u'brunch': True, u'lunch': True, u'dinner': False, u'latenight': False, u'dessert': False}\"\n",
      " \"{u'breakfast': None, u'brunch': False, u'lunch': True, u'dinner': True, u'latenight': False, u'dessert': None}\"\n",
      " \"{'dessert': True, 'latenight': None, 'lunch': True, 'dinner': True, 'brunch': True, 'breakfast': False}\"\n",
      " \"{'dessert': True, 'latenight': None, 'lunch': None, 'dinner': None, 'brunch': None, 'breakfast': None}\"\n",
      " \"{'dessert': True, 'latenight': True, 'lunch': False, 'dinner': False, 'brunch': False, 'breakfast': False}\"\n",
      " \"{'dessert': True, 'latenight': False, 'lunch': None, 'dinner': True, 'brunch': None, 'breakfast': None}\"\n",
      " \"{'dessert': False, 'latenight': True, 'lunch': None, 'dinner': None, 'brunch': None, 'breakfast': True}\"\n",
      " \"{'dessert': None, 'latenight': False, 'lunch': True, 'dinner': None, 'brunch': None, 'breakfast': False}\"\n",
      " \"{'dessert': True, 'latenight': False, 'lunch': True, 'dinner': True, 'brunch': False, 'breakfast': None}\"\n",
      " \"{u'breakfast': True, u'brunch': True, u'lunch': None, u'dinner': False, u'latenight': False, u'dessert': None}\"\n",
      " \"{'dessert': False, 'latenight': True, 'lunch': False, 'dinner': True, 'brunch': True, 'breakfast': False}\"\n",
      " \"{'dessert': None, 'latenight': None, 'lunch': True, 'dinner': True, 'brunch': True, 'breakfast': False}\"\n",
      " \"{u'breakfast': False, u'brunch': None, u'lunch': True, u'dinner': True, u'latenight': None, u'dessert': True}\"\n",
      " \"{'dessert': None, 'latenight': False, 'lunch': None, 'dinner': None, 'brunch': None, 'breakfast': None}\"\n",
      " \"{'dessert': None, 'latenight': None, 'lunch': None, 'dinner': None, 'brunch': None, 'breakfast': True}\"\n",
      " \"{u'breakfast': None, u'brunch': True, u'lunch': True, u'dinner': True, u'latenight': True, u'dessert': None}\"\n",
      " \"{'dessert': True, 'latenight': False, 'lunch': True, 'dinner': False, 'brunch': True, 'breakfast': False}\"\n",
      " \"{'dessert': None, 'latenight': False, 'lunch': None, 'dinner': True, 'brunch': False, 'breakfast': None}\"\n",
      " \"{'dessert': None, 'latenight': False, 'lunch': True, 'dinner': None, 'brunch': None, 'breakfast': True}\"\n",
      " \"{u'breakfast': False, u'brunch': False, u'lunch': True, u'dinner': True, u'latenight': False, u'dessert': True}\"\n",
      " \"{u'breakfast': False, u'brunch': None, u'lunch': True, u'dinner': True, u'latenight': False, u'dessert': True}\"\n",
      " \"{'dessert': True, 'latenight': True, 'lunch': True, 'dinner': False, 'brunch': False, 'breakfast': True}\"\n",
      " \"{'dessert': False, 'latenight': None, 'lunch': True, 'dinner': False, 'brunch': None, 'breakfast': True}\"\n",
      " \"{'dessert': True, 'latenight': False, 'lunch': False, 'dinner': False, 'brunch': True, 'breakfast': False}\"\n",
      " \"{u'breakfast': False, u'brunch': False, u'lunch': True, u'dinner': True, u'latenight': False, u'dessert': False}\"\n",
      " \"{'dessert': True, 'latenight': True, 'lunch': True, 'dinner': False, 'brunch': False, 'breakfast': False}\"\n",
      " \"{'dessert': False, 'latenight': False, 'lunch': False, 'dinner': True, 'breakfast': False, 'brunch': False}\"\n",
      " \"{'dessert': None, 'latenight': False, 'lunch': True, 'dinner': False, 'brunch': None, 'breakfast': True}\"\n",
      " \"{'dessert': None, 'latenight': None, 'lunch': True, 'dinner': False, 'brunch': True, 'breakfast': True}\"\n",
      " \"{u'breakfast': True, u'brunch': None, u'lunch': True, u'dinner': False, u'latenight': None, u'dessert': None}\"\n",
      " \"{u'breakfast': True, u'brunch': True, u'lunch': None, u'dinner': None, u'latenight': None, u'dessert': False}\"\n",
      " \"{'dessert': False, 'latenight': True, 'lunch': False, 'dinner': True, 'brunch': None, 'breakfast': False}\"\n",
      " \"{u'breakfast': False, u'brunch': None, u'lunch': None, u'dinner': None, u'latenight': None, u'dessert': False}\"\n",
      " \"{u'breakfast': False, u'brunch': False, u'lunch': None, u'dinner': True, u'latenight': False, u'dessert': True}\"\n",
      " \"{u'breakfast': False, u'brunch': False, u'lunch': True, u'dinner': True, u'latenight': True, u'dessert': False}\"\n",
      " \"{u'breakfast': False, u'brunch': True, u'lunch': None, u'dinner': None, u'latenight': False, u'dessert': False}\"\n",
      " \"{'dessert': False, 'latenight': None, 'lunch': True, 'dinner': False, 'brunch': None, 'breakfast': False}\"\n",
      " \"{'dessert': False, 'latenight': None, 'lunch': True, 'dinner': True, 'brunch': False, 'breakfast': True}\"\n",
      " \"{u'breakfast': False, u'brunch': None, u'lunch': None, u'dinner': True, u'latenight': None, u'dessert': True}\"\n",
      " \"{u'breakfast': None, u'brunch': True, u'lunch': None, u'dinner': True, u'latenight': False, u'dessert': None}\"\n",
      " \"{u'breakfast': True, u'brunch': True, u'lunch': None, u'dinner': True, u'latenight': None, u'dessert': None}\"\n",
      " \"{'dessert': False, 'latenight': False, 'lunch': None, 'dinner': None, 'brunch': None, 'breakfast': False}\"\n",
      " \"{'dessert': True, 'latenight': False, 'lunch': None, 'dinner': True, 'brunch': None, 'breakfast': False}\"\n",
      " \"{'dessert': False, 'latenight': False, 'lunch': True, 'dinner': None, 'brunch': True, 'breakfast': False}\"\n",
      " \"{u'breakfast': True, u'brunch': None, u'lunch': None, u'dinner': None, u'latenight': False, u'dessert': None}\"\n",
      " \"{'dessert': False, 'latenight': False, 'lunch': True, 'dinner': None, 'brunch': False, 'breakfast': None}\"\n",
      " \"{u'breakfast': None, u'brunch': True, u'lunch': True, u'dinner': True, u'latenight': None, u'dessert': True}\"\n",
      " \"{'dessert': True, 'latenight': False, 'lunch': True, 'dinner': None, 'brunch': True, 'breakfast': True}\"\n",
      " \"{'dessert': False, 'latenight': False, 'lunch': True, 'dinner': True, 'brunch': False, 'breakfast': None}\"\n",
      " \"{'dessert': None, 'latenight': None, 'lunch': True, 'dinner': None, 'brunch': None, 'breakfast': False}\"\n",
      " \"{u'breakfast': False, u'brunch': False, u'lunch': True, u'dinner': None, u'latenight': None, u'dessert': False}\"\n",
      " \"{'dessert': None, 'latenight': False, 'lunch': None, 'dinner': False, 'brunch': None, 'breakfast': None}\"\n",
      " \"{u'breakfast': None, u'brunch': True, u'lunch': True, u'dinner': True, u'latenight': None, u'dessert': False}\"\n",
      " \"{'dessert': None, 'latenight': True, 'lunch': None, 'dinner': None, 'brunch': None, 'breakfast': None}\"\n",
      " \"{'dessert': False, 'latenight': False, 'lunch': True, 'dinner': None, 'brunch': True, 'breakfast': None}\"\n",
      " \"{u'breakfast': False, u'brunch': False, u'lunch': False, u'dinner': True, u'latenight': False, u'dessert': True}\"\n",
      " \"{u'breakfast': True, u'brunch': True, u'lunch': True, u'dinner': False, u'latenight': False, u'dessert': False}\"\n",
      " \"{u'breakfast': True, u'brunch': True, u'lunch': None, u'dinner': False, u'latenight': False, u'dessert': False}\"\n",
      " \"{'dessert': False, 'latenight': True, 'lunch': True, 'dinner': True, 'brunch': False, 'breakfast': True}\"\n",
      " \"{'dessert': False, 'latenight': None, 'lunch': True, 'dinner': None, 'brunch': False, 'breakfast': None}\"\n",
      " \"{u'breakfast': None, u'brunch': False, u'lunch': True, u'dinner': True, u'latenight': None, u'dessert': False}\"\n",
      " \"{'dessert': False, 'latenight': False, 'lunch': None, 'dinner': None, 'brunch': True, 'breakfast': True}\"\n",
      " \"{u'breakfast': None, u'brunch': True, u'lunch': None, u'dinner': True, u'latenight': True, u'dessert': None}\"\n",
      " \"{u'breakfast': False, u'brunch': None, u'lunch': True, u'dinner': True, u'latenight': True, u'dessert': True}\"\n",
      " \"{'dessert': False, 'latenight': False, 'lunch': None, 'dinner': None, 'brunch': True, 'breakfast': False}\"\n",
      " \"{'dessert': None, 'latenight': True, 'lunch': None, 'dinner': None, 'brunch': None, 'breakfast': True}\"\n",
      " \"{'dessert': False, 'latenight': True, 'lunch': True, 'dinner': True, 'brunch': None, 'breakfast': True}\"\n",
      " \"{'dessert': None, 'latenight': None, 'lunch': None, 'dinner': True, 'brunch': True, 'breakfast': True}\"\n",
      " \"{u'breakfast': None, u'brunch': True, u'lunch': True, u'dinner': True, u'latenight': False, u'dessert': None}\"\n",
      " \"{'dessert': None, 'latenight': False, 'lunch': None, 'dinner': True, 'brunch': False, 'breakfast': True}\"\n",
      " \"{'dessert': False, 'latenight': True, 'lunch': True, 'dinner': None, 'brunch': False, 'breakfast': False}\"\n",
      " \"{'dessert': False, 'latenight': True, 'lunch': None, 'dinner': None, 'brunch': None, 'breakfast': None}\"\n",
      " \"{u'breakfast': False, u'brunch': False, u'lunch': None, u'dinner': None, u'latenight': True, u'dessert': False}\"\n",
      " \"{'dessert': False, 'latenight': None, 'lunch': None, 'dinner': None, 'brunch': False, 'breakfast': False}\"\n",
      " \"{u'breakfast': None, u'brunch': None, u'lunch': None, u'dinner': True, u'latenight': True, u'dessert': None}\"\n",
      " \"{'dessert': False, 'latenight': True, 'lunch': True, 'dinner': None, 'brunch': None, 'breakfast': None}\"\n",
      " \"{u'breakfast': None, u'brunch': None, u'lunch': True, u'dinner': True, u'latenight': False, u'dessert': None}\"\n",
      " \"{u'breakfast': None, u'brunch': None, u'lunch': True, u'dinner': None, u'latenight': None, u'dessert': False}\"\n",
      " \"{'dessert': True, 'latenight': False, 'lunch': None, 'dinner': True, 'brunch': False, 'breakfast': False}\"\n",
      " \"{'dessert': True, 'latenight': True, 'lunch': None, 'dinner': True, 'brunch': None, 'breakfast': None}\"\n",
      " \"{'dessert': None, 'latenight': True, 'lunch': True, 'dinner': True, 'brunch': None, 'breakfast': True}\"\n",
      " \"{u'breakfast': None, u'brunch': None, u'lunch': None, u'dinner': None, u'latenight': False, u'dessert': None}\"\n",
      " \"{'dessert': False, 'latenight': None, 'lunch': None, 'dinner': None, 'brunch': True, 'breakfast': False}\"\n",
      " \"{'dessert': True, 'latenight': True, 'lunch': True, 'dinner': False, 'brunch': True, 'breakfast': True}\"\n",
      " \"{'dessert': True, 'latenight': None, 'lunch': True, 'dinner': True, 'brunch': False, 'breakfast': False}\"\n",
      " \"{'dessert': False, 'latenight': False, 'lunch': True, 'dinner': False, 'brunch': None, 'breakfast': None}\"\n",
      " \"{'dessert': False, 'latenight': False, 'lunch': None, 'dinner': True, 'brunch': True, 'breakfast': False}\"\n",
      " \"{'dessert': True, 'latenight': True, 'lunch': False, 'dinner': True, 'brunch': False, 'breakfast': False}\"\n",
      " \"{'dessert': None, 'latenight': False, 'lunch': True, 'dinner': None, 'brunch': True, 'breakfast': None}\"\n",
      " \"{u'breakfast': None, u'brunch': None, u'lunch': True, u'dinner': False, u'latenight': False, u'dessert': False}\"\n",
      " \"{u'breakfast': None, u'brunch': None, u'lunch': None, u'dinner': True, u'latenight': False, u'dessert': None}\"\n",
      " \"{'dessert': None, 'latenight': True, 'lunch': True, 'dinner': None, 'brunch': None, 'breakfast': True}\"\n",
      " \"{'dessert': True, 'latenight': None, 'lunch': None, 'dinner': True, 'brunch': None, 'breakfast': False}\"\n",
      " \"{'dessert': True, 'latenight': False, 'lunch': True, 'dinner': True, 'brunch': False, 'breakfast': True}\"\n",
      " \"{'dessert': True, 'latenight': None, 'lunch': None, 'dinner': True, 'brunch': None, 'breakfast': True}\"\n",
      " \"{'dessert': False, 'latenight': None, 'lunch': None, 'dinner': True, 'brunch': False, 'breakfast': None}\"\n",
      " \"{u'breakfast': False, u'brunch': False, u'lunch': False, u'dinner': True, u'latenight': True, u'dessert': False}\"\n",
      " \"{'dessert': True, 'latenight': None, 'lunch': None, 'dinner': False, 'brunch': None, 'breakfast': None}\"\n",
      " \"{'dessert': False, 'latenight': True, 'lunch': True, 'dinner': False, 'brunch': False, 'breakfast': True}\"\n",
      " \"{u'breakfast': False, u'brunch': False, u'lunch': None, u'dinner': None, u'latenight': None, u'dessert': False}\"\n",
      " \"{u'breakfast': False, u'brunch': True, u'lunch': None, u'dinner': True, u'latenight': False, u'dessert': None}\"\n",
      " \"{u'breakfast': True, u'brunch': None, u'lunch': True, u'dinner': None, u'latenight': False, u'dessert': False}\"\n",
      " \"{'dessert': None, 'latenight': False, 'lunch': True, 'dinner': False, 'brunch': True, 'breakfast': None}\"\n",
      " \"{'dessert': False, 'latenight': False, 'lunch': None, 'dinner': False, 'brunch': True, 'breakfast': None}\"\n",
      " \"{'dessert': True, 'latenight': True, 'lunch': True, 'dinner': True, 'brunch': True, 'breakfast': None}\"\n",
      " \"{'dessert': False, 'latenight': False, 'lunch': False, 'dinner': True, 'brunch': None, 'breakfast': False}\"\n",
      " \"{'dessert': None, 'latenight': False, 'lunch': None, 'dinner': True, 'brunch': True, 'breakfast': None}\"\n",
      " \"{'dessert': False, 'latenight': True, 'lunch': True, 'dinner': None, 'brunch': None, 'breakfast': True}\"\n",
      " \"{'dessert': None, 'latenight': True, 'lunch': None, 'dinner': True, 'brunch': None, 'breakfast': None}\"\n",
      " \"{u'breakfast': False, u'brunch': False, u'lunch': False, u'dinner': None, u'latenight': True, u'dessert': False}\"\n",
      " \"{'dessert': False, 'latenight': False, 'lunch': None, 'dinner': None, 'brunch': True, 'breakfast': None}\"\n",
      " \"{'dessert': None, 'latenight': False, 'lunch': True, 'dinner': None, 'brunch': None, 'breakfast': None}\"\n",
      " \"{'dessert': True, 'latenight': None, 'lunch': True, 'dinner': None, 'brunch': True, 'breakfast': True}\"\n",
      " \"{u'breakfast': None, u'brunch': None, u'lunch': True, u'dinner': True, u'latenight': True, u'dessert': False}\"\n",
      " \"{u'breakfast': None, u'brunch': None, u'lunch': None, u'dinner': True, u'latenight': True, u'dessert': False}\"\n",
      " \"{'dessert': True, 'latenight': True, 'lunch': True, 'dinner': True, 'brunch': False, 'breakfast': True}\"\n",
      " \"{u'breakfast': False, u'brunch': None, u'lunch': None, u'dinner': None, u'latenight': False, u'dessert': True}\"\n",
      " \"{'dessert': None, 'latenight': True, 'lunch': True, 'dinner': None, 'brunch': False, 'breakfast': None}\"\n",
      " \"{'dessert': True, 'latenight': False, 'lunch': False, 'dinner': True, 'brunch': True, 'breakfast': True}\"\n",
      " \"{u'breakfast': False, u'brunch': False, u'lunch': True, u'dinner': None, u'latenight': False, u'dessert': None}\"\n",
      " \"{u'breakfast': False, u'brunch': None, u'lunch': False, u'dinner': True, u'latenight': False, u'dessert': False}\"\n",
      " \"{u'breakfast': None, u'brunch': False, u'lunch': None, u'dinner': None, u'latenight': False, u'dessert': False}\"\n",
      " \"{u'breakfast': True, u'brunch': True, u'lunch': True, u'dinner': True, u'latenight': True, u'dessert': None}\"\n",
      " \"{u'breakfast': False, u'brunch': None, u'lunch': True, u'dinner': None, u'latenight': False, u'dessert': None}\"\n",
      " \"{u'breakfast': True, u'brunch': True, u'lunch': None, u'dinner': None, u'latenight': True, u'dessert': None}\"\n",
      " \"{'dessert': False, 'latenight': True, 'lunch': False, 'dinner': None, 'brunch': False, 'breakfast': False}\"\n",
      " \"{'dessert': False, 'latenight': False, 'lunch': True, 'dinner': True, 'brunch': True, 'breakfast': None}\"\n",
      " \"{u'breakfast': False, u'brunch': False, u'lunch': True, u'dinner': True, u'latenight': None, u'dessert': True}\"\n",
      " \"{u'breakfast': None, u'brunch': None, u'lunch': None, u'dinner': None, u'latenight': None, u'dessert': False}\"\n",
      " \"{u'breakfast': True, u'brunch': None, u'lunch': True, u'dinner': None, u'latenight': None, u'dessert': True}\"\n",
      " \"{'dessert': None, 'latenight': False, 'lunch': None, 'dinner': True, 'brunch': True, 'breakfast': True}\"\n",
      " \"{'dessert': None, 'latenight': False, 'lunch': True, 'dinner': False, 'brunch': None, 'breakfast': None}\"\n",
      " \"{u'breakfast': None, u'brunch': False, u'lunch': None, u'dinner': True, u'latenight': None, u'dessert': False}\"\n",
      " \"{u'breakfast': False, u'brunch': False, u'lunch': True, u'dinner': None, u'latenight': None, u'dessert': None}\"\n",
      " \"{'dessert': True, 'latenight': True, 'lunch': False, 'dinner': False, 'brunch': False, 'breakfast': True}\"\n",
      " \"{u'breakfast': True, u'brunch': True, u'lunch': True, u'dinner': True, u'latenight': True, u'dessert': False}\"\n",
      " \"{u'breakfast': False, u'brunch': False, u'lunch': False, u'dinner': True, u'latenight': False, u'dessert': False}\"\n",
      " \"{'dessert': True, 'latenight': True, 'lunch': True, 'dinner': True, 'brunch': None, 'breakfast': True}\"\n",
      " \"{'dessert': False, 'latenight': True, 'lunch': True, 'dinner': None, 'brunch': True, 'breakfast': True}\"\n",
      " \"{u'breakfast': False, u'brunch': True, u'lunch': True, u'dinner': True, u'latenight': None, u'dessert': False}\"\n",
      " \"{'dessert': None, 'latenight': None, 'lunch': True, 'dinner': None, 'brunch': False, 'breakfast': False}\"\n",
      " \"{u'breakfast': None, u'brunch': None, u'lunch': None, u'dinner': None, u'latenight': True, u'dessert': False}\"\n",
      " \"{u'breakfast': False, u'brunch': False, u'lunch': None, u'dinner': True, u'latenight': None, u'dessert': True}\"\n",
      " \"{u'breakfast': True, u'brunch': None, u'lunch': True, u'dinner': True, u'latenight': True, u'dessert': True}\"\n",
      " \"{'dessert': True, 'latenight': False, 'lunch': None, 'dinner': None, 'brunch': None, 'breakfast': None}\"\n",
      " \"{u'breakfast': False, u'brunch': False, u'lunch': False, u'dinner': None, u'latenight': True, u'dessert': None}\"\n",
      " \"{'dessert': False, 'latenight': False, 'lunch': None, 'dinner': True, 'brunch': True, 'breakfast': None}\"\n",
      " \"{u'breakfast': None, u'brunch': None, u'lunch': True, u'dinner': False, u'latenight': False, u'dessert': None}\"\n",
      " \"{'dessert': False, 'latenight': False, 'lunch': False, 'dinner': True, 'brunch': True, 'breakfast': True}\"\n",
      " \"{u'breakfast': True, u'brunch': None, u'lunch': True, u'dinner': False, u'latenight': False, u'dessert': None}\"\n",
      " \"{u'breakfast': None, u'brunch': None, u'lunch': True, u'dinner': None, u'latenight': False, u'dessert': None}\"\n",
      " \"{u'breakfast': False, u'brunch': None, u'lunch': False, u'dinner': True, u'latenight': False, u'dessert': None}\"\n",
      " \"{'dessert': True, 'latenight': None, 'lunch': False, 'dinner': True, 'brunch': False, 'breakfast': False}\"\n",
      " \"{'dessert': None, 'latenight': None, 'lunch': None, 'dinner': True, 'brunch': False, 'breakfast': None}\"\n",
      " \"{u'breakfast': True, u'brunch': None, u'lunch': True, u'dinner': True, u'latenight': True, u'dessert': None}\"\n",
      " \"{'dessert': False, 'latenight': True, 'lunch': None, 'dinner': True, 'brunch': True, 'breakfast': False}\"\n",
      " \"{'dessert': None, 'latenight': True, 'lunch': True, 'dinner': True, 'brunch': True, 'breakfast': False}\"\n",
      " \"{'dessert': None, 'latenight': False, 'lunch': None, 'dinner': None, 'brunch': True, 'breakfast': None}\"\n",
      " \"{'dessert': False, 'latenight': None, 'lunch': False, 'dinner': False, 'brunch': False, 'breakfast': False}\"\n",
      " \"{'dessert': True, 'latenight': None, 'lunch': True, 'dinner': False, 'brunch': True, 'breakfast': True}\"\n",
      " \"{'dessert': True, 'latenight': False, 'lunch': False, 'dinner': False, 'brunch': True, 'breakfast': True}\"\n",
      " \"{'dessert': False, 'latenight': True, 'lunch': False, 'dinner': True, 'brunch': False, 'breakfast': True}\"\n",
      " \"{u'breakfast': None, u'brunch': None, u'lunch': True, u'dinner': True, u'latenight': False, u'dessert': True}\"\n",
      " \"{'dessert': None, 'latenight': False, 'lunch': False, 'dinner': False, 'brunch': None, 'breakfast': True}\"\n",
      " \"{'dessert': None, 'latenight': False, 'lunch': None, 'dinner': None, 'brunch': None, 'breakfast': True}\"\n",
      " \"{u'breakfast': None, u'brunch': None, u'lunch': True, u'dinner': None, u'latenight': None, u'dessert': True}\"\n",
      " \"{'dessert': True, 'latenight': None, 'lunch': True, 'dinner': None, 'brunch': True, 'breakfast': None}\"\n",
      " \"{'dessert': None, 'latenight': False, 'lunch': None, 'dinner': True, 'brunch': None, 'breakfast': True}\"\n",
      " \"{u'breakfast': True, u'brunch': True, u'lunch': True, u'dinner': True, u'latenight': True, u'dessert': True}\"\n",
      " \"{'dessert': False, 'latenight': False, 'lunch': True, 'dinner': False, 'brunch': None, 'breakfast': False}\"\n",
      " \"{u'breakfast': True, u'brunch': True, u'lunch': True, u'dinner': None, u'latenight': True, u'dessert': None}\"\n",
      " \"{'dessert': None, 'latenight': True, 'lunch': False, 'dinner': None, 'brunch': False, 'breakfast': False}\"\n",
      " \"{u'breakfast': None, u'brunch': False, u'lunch': True, u'dinner': None, u'latenight': None, u'dessert': False}\"\n",
      " \"{'dessert': False, 'latenight': None, 'lunch': None, 'dinner': True, 'brunch': True, 'breakfast': False}\"\n",
      " \"{'dessert': None, 'latenight': True, 'lunch': None, 'dinner': None, 'brunch': True, 'breakfast': None}\"\n",
      " \"{'dessert': None, 'latenight': False, 'lunch': True, 'dinner': True, 'brunch': False, 'breakfast': True}\"\n",
      " \"{'dessert': False, 'latenight': True, 'lunch': False, 'dinner': False, 'brunch': False, 'breakfast': True}\"\n",
      " \"{'dessert': None, 'latenight': None, 'lunch': None, 'dinner': False, 'brunch': None, 'breakfast': None}\"\n",
      " \"{u'breakfast': False, u'brunch': None, u'lunch': False, u'dinner': None, u'latenight': True, u'dessert': False}\"\n",
      " \"{'dessert': True, 'latenight': False, 'lunch': None, 'dinner': None, 'brunch': True, 'breakfast': True}\"\n",
      " \"{'dessert': False, 'latenight': True, 'lunch': False, 'dinner': False, 'brunch': False, 'breakfast': None}\"\n",
      " \"{u'breakfast': False, u'brunch': None, u'lunch': None, u'dinner': True, u'latenight': False, u'dessert': True}\"\n",
      " \"{u'breakfast': False, u'brunch': True, u'lunch': None, u'dinner': None, u'latenight': False, u'dessert': None}\"\n",
      " \"{'dessert': False, 'latenight': None, 'lunch': None, 'dinner': None, 'brunch': False, 'breakfast': None}\"\n",
      " \"{'dessert': True, 'latenight': None, 'lunch': True, 'dinner': True, 'brunch': None, 'breakfast': True}\"\n",
      " \"{'dessert': False, 'latenight': None, 'lunch': None, 'dinner': None, 'brunch': None, 'breakfast': False}\"\n",
      " \"{u'breakfast': False, u'brunch': None, u'lunch': True, u'dinner': None, u'latenight': True, u'dessert': False}\"\n",
      " \"{'dessert': False, 'latenight': True, 'lunch': False, 'dinner': None, 'brunch': True, 'breakfast': False}\"\n",
      " \"{u'breakfast': None, u'brunch': True, u'lunch': True, u'dinner': None, u'latenight': None, u'dessert': None}\"\n",
      " \"{'dessert': False, 'latenight': True, 'lunch': True, 'dinner': False, 'brunch': True, 'breakfast': False}\"\n",
      " \"{'dessert': True, 'latenight': True, 'lunch': False, 'dinner': True, 'brunch': True, 'breakfast': False}\"\n",
      " \"{'dessert': False, 'latenight': None, 'lunch': True, 'dinner': True, 'brunch': True, 'breakfast': True}\"\n",
      " \"{'dessert': None, 'latenight': True, 'lunch': None, 'dinner': True, 'brunch': True, 'breakfast': False}\"\n",
      " \"{'dessert': False, 'latenight': None, 'lunch': None, 'dinner': None, 'brunch': None, 'breakfast': True}\"\n",
      " \"{u'breakfast': True, u'brunch': None, u'lunch': True, u'dinner': None, u'latenight': None, u'dessert': False}\"\n",
      " \"{'dessert': True, 'latenight': False, 'lunch': False, 'dinner': True, 'brunch': None, 'breakfast': False}\"\n",
      " \"{'dessert': False, 'latenight': None, 'lunch': True, 'dinner': None, 'brunch': None, 'breakfast': False}\"\n",
      " \"{'dessert': None, 'latenight': False, 'lunch': None, 'dinner': None, 'brunch': True, 'breakfast': False}\"\n",
      " \"{'dessert': False, 'latenight': False, 'lunch': None, 'dinner': None, 'brunch': False, 'breakfast': None}\"\n",
      " \"{'dessert': False, 'latenight': True, 'lunch': False, 'dinner': False, 'breakfast': False, 'brunch': False}\"\n",
      " \"{u'breakfast': False, u'brunch': False, u'lunch': None, u'dinner': None, u'latenight': None, u'dessert': None}\"\n",
      " \"{'dessert': None, 'latenight': None, 'lunch': False, 'dinner': True, 'brunch': None, 'breakfast': None}\"\n",
      " \"{'dessert': False, 'latenight': True, 'lunch': True, 'dinner': True, 'brunch': False, 'breakfast': None}\"\n",
      " \"{'dessert': False, 'latenight': True, 'lunch': False, 'dinner': False, 'brunch': True, 'breakfast': False}\"\n",
      " \"{'dessert': True, 'latenight': True, 'lunch': True, 'dinner': True, 'brunch': None, 'breakfast': False}\"\n",
      " \"{'dessert': None, 'latenight': False, 'lunch': True, 'dinner': None, 'brunch': False, 'breakfast': None}\"\n",
      " \"{'dessert': False, 'latenight': True, 'lunch': True, 'dinner': True, 'brunch': True, 'breakfast': None}\"\n",
      " \"{u'breakfast': True, u'brunch': None, u'lunch': None, u'dinner': False, u'latenight': False, u'dessert': False}\"\n",
      " \"{'dessert': False, 'latenight': True, 'lunch': False, 'dinner': True, 'breakfast': False, 'brunch': False}\"\n",
      " \"{u'breakfast': True, u'brunch': None, u'lunch': True, u'dinner': None, u'latenight': False, u'dessert': None}\"\n",
      " \"{'dessert': None, 'latenight': None, 'lunch': True, 'dinner': False, 'brunch': True, 'breakfast': None}\"\n",
      " \"{'dessert': False, 'latenight': True, 'lunch': None, 'dinner': True, 'brunch': False, 'breakfast': None}\"\n",
      " \"{'dessert': False, 'latenight': False, 'lunch': None, 'dinner': True, 'brunch': False, 'breakfast': None}\"\n",
      " \"{u'breakfast': False, u'brunch': True, u'lunch': True, u'dinner': True, u'latenight': True, u'dessert': None}\"\n",
      " \"{'dessert': False, 'latenight': True, 'lunch': False, 'dinner': False, 'brunch': True, 'breakfast': True}\"\n",
      " \"{u'breakfast': True, u'brunch': True, u'lunch': None, u'dinner': False, u'latenight': None, u'dessert': None}\"\n",
      " \"{'dessert': None, 'latenight': None, 'lunch': None, 'dinner': None, 'brunch': True, 'breakfast': False}\"\n",
      " \"{'dessert': None, 'latenight': False, 'lunch': None, 'dinner': False, 'brunch': None, 'breakfast': True}\"\n",
      " \"{'dessert': None, 'latenight': None, 'lunch': True, 'dinner': False, 'brunch': None, 'breakfast': True}\"\n",
      " \"{u'breakfast': None, u'brunch': None, u'lunch': False, u'dinner': False, u'latenight': None, u'dessert': False}\"\n",
      " \"{u'breakfast': False, u'brunch': False, u'lunch': None, u'dinner': None, u'latenight': None, u'dessert': True}\"\n",
      " \"{'dessert': True, 'latenight': False, 'lunch': None, 'dinner': True, 'brunch': True, 'breakfast': False}\"]\n",
      "--------------------------------------------------\n",
      "Smoking\n",
      "[nan \"u'no'\" \"u'outdoor'\" 'None' \"u'yes'\" \"'outdoor'\" \"'no'\"]\n",
      "--------------------------------------------------\n",
      "Music\n",
      "[nan\n",
      " \"{'dj': False, 'background_music': False, 'no_music': False, 'jukebox': False, 'live': False, 'video': False, 'karaoke': False}\"\n",
      " \"{'dj': False, 'background_music': False, 'no_music': False, 'jukebox': False, 'live': True, 'video': False, 'karaoke': False}\"\n",
      " \"{'jukebox': True}\"\n",
      " \"{'dj': False, 'background_music': False, 'no_music': False, 'jukebox': None, 'live': False, 'video': False, 'karaoke': None}\"\n",
      " \"{u'dj': None, u'live': False, u'jukebox': None, u'video': False, u'background_music': False, u'karaoke': None, u'no_music': False}\"\n",
      " \"{u'dj': False, u'live': False, u'jukebox': False, u'video': False, u'background_music': False, u'karaoke': False, u'no_music': False}\"\n",
      " \"{'dj': True, 'background_music': True, 'no_music': False, 'jukebox': False, 'live': True, 'video': False, 'karaoke': True}\"\n",
      " \"{u'dj': False, u'live': True, u'jukebox': False, u'video': False, u'background_music': False, u'karaoke': False, u'no_music': False}\"\n",
      " \"{'karaoke': True}\" \"{'live': False}\"\n",
      " \"{'dj': None, 'background_music': False, 'no_music': False, 'jukebox': None, 'live': False, 'video': False, 'karaoke': None}\"\n",
      " \"{'dj': True, 'background_music': False, 'no_music': False, 'jukebox': False, 'live': True, 'video': False, 'karaoke': False}\"\n",
      " \"{'dj': False, 'background_music': True, 'jukebox': False, 'live': False, 'video': False, 'karaoke': False}\"\n",
      " \"{'dj': None, 'background_music': False, 'no_music': False, 'jukebox': False, 'live': None, 'video': False, 'karaoke': False}\"\n",
      " \"{'dj': False}\"\n",
      " \"{u'dj': False, u'live': None, u'jukebox': None, u'video': False, u'background_music': False, u'karaoke': None, u'no_music': False}\"\n",
      " \"{'dj': False, 'background_music': True, 'no_music': False, 'jukebox': False, 'live': False, 'video': False, 'karaoke': False}\"\n",
      " \"{'dj': False, 'background_music': False, 'no_music': False, 'jukebox': None, 'live': False, 'video': False, 'karaoke': False}\"\n",
      " '{}'\n",
      " \"{'dj': False, 'background_music': False, 'no_music': False, 'jukebox': True, 'live': False, 'video': False, 'karaoke': True}\"\n",
      " \"{'dj': False, 'background_music': False, 'no_music': False, 'jukebox': True, 'live': False, 'video': False, 'karaoke': None}\"\n",
      " \"{'dj': False, 'background_music': False, 'no_music': False, 'jukebox': True, 'live': True, 'video': False, 'karaoke': False}\"\n",
      " \"{u'dj': True, u'live': False, u'jukebox': None, u'video': False, u'background_music': False, u'karaoke': False, u'no_music': False}\"\n",
      " \"{'dj': False, 'background_music': False, 'no_music': False, 'jukebox': False, 'live': False, 'video': False, 'karaoke': None}\"\n",
      " \"{'dj': None, 'background_music': False, 'no_music': False, 'jukebox': False, 'live': False, 'video': False, 'karaoke': False}\"\n",
      " \"{'dj': False, 'background_music': False, 'no_music': False, 'jukebox': False, 'live': None, 'video': False, 'karaoke': None}\"\n",
      " \"{'dj': False, 'background_music': False, 'no_music': False, 'jukebox': True, 'live': False, 'video': False, 'karaoke': False}\"\n",
      " \"{u'dj': None, u'live': True, u'jukebox': False, u'video': False, u'background_music': False, u'karaoke': None, u'no_music': False}\"\n",
      " \"{u'dj': False, u'live': None, u'jukebox': False, u'video': False, u'background_music': False, u'karaoke': None, u'no_music': False}\"\n",
      " \"{'dj': True, 'background_music': False, 'no_music': False, 'jukebox': True, 'live': True, 'video': False, 'karaoke': True}\"\n",
      " \"{'dj': True, 'background_music': False, 'jukebox': True, 'live': True, 'video': False, 'karaoke': False}\"\n",
      " \"{'dj': True, 'background_music': False, 'no_music': False, 'jukebox': None, 'live': False, 'video': False, 'karaoke': False}\"\n",
      " \"{u'dj': False, u'live': False, u'jukebox': None, u'video': False, u'background_music': False, u'karaoke': False, u'no_music': False}\"\n",
      " \"{'dj': True, 'background_music': False, 'no_music': False, 'jukebox': False, 'live': None, 'video': False, 'karaoke': None}\"\n",
      " \"{'dj': False, 'background_music': False, 'no_music': False, 'jukebox': False, 'live': True, 'video': False, 'karaoke': True}\"\n",
      " \"{u'dj': False, u'live': True, u'jukebox': False, u'video': False, u'background_music': False, u'karaoke': None, u'no_music': False}\"\n",
      " \"{u'dj': None, u'live': False, u'jukebox': False, u'video': False, u'background_music': False, u'karaoke': None, u'no_music': False}\"\n",
      " \"{u'dj': None, u'live': None, u'jukebox': False, u'video': False, u'background_music': False, u'karaoke': False, u'no_music': False}\"\n",
      " \"{'dj': False, 'background_music': False, 'no_music': False, 'jukebox': None, 'live': None, 'video': False, 'karaoke': None}\"\n",
      " \"{u'dj': False, u'live': False, u'jukebox': False, u'video': False, u'background_music': False, u'karaoke': None, u'no_music': False}\"\n",
      " \"{'dj': None, 'background_music': False, 'no_music': False, 'jukebox': False, 'live': False, 'video': False, 'karaoke': None}\"\n",
      " \"{'dj': True, 'background_music': False, 'no_music': False, 'jukebox': False, 'live': False, 'video': False, 'karaoke': False}\"\n",
      " \"{u'dj': True, u'live': False, u'jukebox': None, u'video': False, u'background_music': False, u'karaoke': None, u'no_music': False}\"\n",
      " \"{'dj': False, 'background_music': False, 'jukebox': False, 'live': False, 'video': False, 'karaoke': False}\"\n",
      " \"{'dj': None, 'background_music': False, 'no_music': False, 'jukebox': True, 'live': None, 'video': False, 'karaoke': None}\"\n",
      " \"{'dj': True, 'background_music': False, 'no_music': False, 'jukebox': False, 'live': True, 'video': False, 'karaoke': True}\"\n",
      " \"{u'dj': None, u'live': False, u'jukebox': False, u'video': False, u'background_music': False, u'karaoke': False, u'no_music': False}\"\n",
      " \"{'dj': None, 'background_music': False, 'no_music': False, 'jukebox': None, 'live': True, 'video': False, 'karaoke': None}\"\n",
      " \"{'dj': None, 'background_music': False, 'no_music': False, 'jukebox': None, 'live': True, 'video': False, 'karaoke': False}\"\n",
      " \"{'dj': None, 'background_music': False, 'no_music': False, 'jukebox': True, 'live': False, 'video': False, 'karaoke': None}\"\n",
      " \"{'dj': False, 'background_music': False, 'no_music': False, 'jukebox': False, 'live': None, 'video': False, 'karaoke': False}\"\n",
      " \"{u'dj': None, u'live': None, u'jukebox': True, u'video': False, u'background_music': False, u'karaoke': None, u'no_music': False}\"\n",
      " \"{'dj': None, 'background_music': False, 'no_music': False, 'jukebox': True, 'live': None, 'video': False, 'karaoke': False}\"\n",
      " \"{u'dj': False, u'live': False, u'jukebox': None, u'video': False, u'background_music': False, u'karaoke': None, u'no_music': False}\"\n",
      " 'None'\n",
      " \"{u'dj': False, u'live': None, u'jukebox': False, u'video': False, u'background_music': False, u'karaoke': False, u'no_music': False}\"\n",
      " \"{'live': True}\"\n",
      " \"{'dj': None, 'background_music': False, 'no_music': False, 'jukebox': None, 'live': None, 'video': False, 'karaoke': False}\"\n",
      " \"{u'dj': False, u'live': False, u'jukebox': None, u'video': False, u'background_music': False, u'karaoke': True, u'no_music': False}\"\n",
      " \"{'dj': True, 'background_music': False, 'jukebox': False, 'live': False, 'video': False, 'karaoke': False}\"\n",
      " \"{'dj': False, 'background_music': False, 'jukebox': False, 'live': True, 'video': False, 'karaoke': False}\"\n",
      " \"{'dj': False, 'background_music': True, 'no_music': False, 'jukebox': False, 'live': True, 'video': False, 'karaoke': False}\"\n",
      " \"{'dj': True, 'background_music': False, 'no_music': False, 'jukebox': None, 'live': None, 'video': False, 'karaoke': None}\"\n",
      " \"{'dj': False, 'background_music': False, 'karaoke': False, 'live': False, 'video': False, 'jukebox': True}\"\n",
      " \"{u'dj': None, u'live': True, u'jukebox': None, u'video': False, u'background_music': False, u'karaoke': None, u'no_music': False}\"\n",
      " \"{'dj': False, 'background_music': True, 'jukebox': False, 'live': False, 'video': False, 'karaoke': True}\"\n",
      " \"{u'dj': False, u'live': False, u'jukebox': False, u'video': False, u'background_music': False, u'karaoke': True, u'no_music': False}\"\n",
      " \"{'dj': False, 'background_music': False, 'no_music': False, 'jukebox': None, 'live': None, 'video': False, 'karaoke': False}\"\n",
      " \"{'dj': True, 'background_music': False, 'no_music': False, 'jukebox': False, 'live': None, 'video': False, 'karaoke': False}\"\n",
      " \"{'dj': True, 'background_music': True, 'jukebox': True, 'live': False, 'video': False, 'karaoke': True}\"\n",
      " \"{'dj': False, 'background_music': False, 'no_music': False, 'jukebox': False, 'live': False, 'video': False, 'karaoke': True}\"\n",
      " \"{'dj': False, 'background_music': False, 'no_music': False, 'jukebox': True, 'live': True, 'video': False, 'karaoke': True}\"\n",
      " \"{u'dj': None, u'live': None, u'jukebox': False, u'video': False, u'background_music': False, u'karaoke': None, u'no_music': False}\"\n",
      " \"{'dj': None, 'background_music': False, 'no_music': False, 'jukebox': None, 'live': False, 'video': False, 'karaoke': True}\"\n",
      " \"{u'dj': False, u'live': None, u'jukebox': None, u'video': False, u'background_music': False, u'karaoke': False, u'no_music': False}\"\n",
      " \"{u'dj': True, u'live': None, u'jukebox': False, u'video': False, u'background_music': False, u'karaoke': False, u'no_music': False}\"\n",
      " \"{'dj': True}\"\n",
      " \"{u'dj': False, u'live': True, u'jukebox': None, u'video': False, u'background_music': False, u'karaoke': None, u'no_music': False}\"\n",
      " \"{'dj': True, 'background_music': False, 'no_music': False, 'jukebox': False, 'live': True, 'video': False, 'karaoke': None}\"\n",
      " \"{u'dj': False, u'live': None, u'jukebox': True, u'video': False, u'background_music': False, u'karaoke': False, u'no_music': False}\"\n",
      " \"{u'dj': None, u'live': True, u'jukebox': False, u'video': False, u'background_music': False, u'karaoke': False, u'no_music': False}\"\n",
      " \"{u'dj': False, u'live': False, u'jukebox': True, u'video': False, u'background_music': False, u'karaoke': None, u'no_music': False}\"\n",
      " \"{u'dj': None, u'live': False, u'jukebox': True, u'video': False, u'background_music': False, u'karaoke': None, u'no_music': False}\"\n",
      " \"{'dj': False, 'background_music': False, 'no_music': False, 'jukebox': None, 'live': True, 'video': False, 'karaoke': False}\"\n",
      " \"{'dj': False, 'background_music': False, 'jukebox': True, 'live': True, 'video': False, 'karaoke': True}\"\n",
      " \"{u'dj': False, u'live': True, u'jukebox': True, u'video': False, u'background_music': False, u'karaoke': False, u'no_music': False}\"\n",
      " \"{'dj': False, 'background_music': False, 'no_music': False, 'jukebox': True, 'live': None, 'video': False, 'karaoke': False}\"\n",
      " \"{'dj': True, 'background_music': True, 'jukebox': False, 'live': True, 'video': False, 'karaoke': False}\"\n",
      " \"{'dj': None, 'background_music': False, 'no_music': False, 'jukebox': False, 'live': None, 'video': False, 'karaoke': None}\"\n",
      " \"{u'dj': False, u'live': False, u'jukebox': True, u'video': False, u'background_music': False, u'karaoke': False, u'no_music': False}\"\n",
      " \"{'dj': False, 'background_music': True, 'no_music': False, 'jukebox': True, 'live': True, 'video': False, 'karaoke': False}\"\n",
      " \"{'dj': True, 'background_music': True, 'no_music': False, 'jukebox': False, 'live': True, 'video': False, 'karaoke': False}\"\n",
      " \"{'dj': False, 'background_music': True, 'jukebox': False, 'live': True, 'video': False, 'karaoke': False}\"\n",
      " \"{'dj': True, 'background_music': False, 'jukebox': False, 'live': True, 'video': False, 'karaoke': False}\"\n",
      " \"{'dj': True, 'background_music': False, 'no_music': False, 'jukebox': False, 'live': False, 'video': False, 'karaoke': None}\"\n",
      " \"{'dj': True, 'background_music': False, 'jukebox': False, 'live': True, 'video': False, 'karaoke': True}\"\n",
      " \"{u'dj': True, u'live': False, u'jukebox': False, u'video': False, u'background_music': False, u'karaoke': False, u'no_music': False}\"\n",
      " \"{'dj': True, 'background_music': False, 'no_music': False, 'jukebox': True, 'live': True, 'video': True, 'karaoke': False}\"\n",
      " \"{'dj': None, 'background_music': False, 'no_music': False, 'jukebox': True, 'live': True, 'video': False, 'karaoke': False}\"\n",
      " \"{'dj': None, 'background_music': False, 'no_music': False, 'jukebox': False, 'live': True, 'video': False, 'karaoke': None}\"\n",
      " \"{'jukebox': False}\"\n",
      " \"{'dj': False, 'background_music': True, 'no_music': False, 'jukebox': False, 'live': False, 'video': True, 'karaoke': False}\"\n",
      " \"{'dj': False, 'background_music': True, 'jukebox': True, 'live': False, 'video': False, 'karaoke': True}\"\n",
      " \"{'dj': False, 'background_music': False, 'no_music': False, 'jukebox': True, 'live': None, 'video': False, 'karaoke': None}\"\n",
      " \"{'dj': True, 'background_music': False, 'no_music': False, 'jukebox': True, 'live': False, 'video': False, 'karaoke': False}\"\n",
      " \"{'dj': False, 'background_music': False, 'jukebox': True, 'live': False, 'video': False, 'karaoke': False}\"\n",
      " \"{'dj': False, 'background_music': False, 'no_music': False, 'jukebox': None, 'live': True, 'video': False, 'karaoke': None}\"\n",
      " \"{'dj': False, 'background_music': False, 'no_music': False, 'jukebox': True, 'live': True, 'video': False, 'karaoke': None}\"\n",
      " \"{'dj': None, 'background_music': False, 'no_music': False, 'jukebox': None, 'live': None, 'video': False, 'karaoke': True}\"\n",
      " \"{'dj': False, 'background_music': False, 'no_music': False, 'jukebox': False, 'live': True, 'video': False, 'karaoke': None}\"\n",
      " \"{'dj': True, 'background_music': True, 'no_music': False, 'jukebox': False, 'live': False, 'video': False, 'karaoke': False}\"\n",
      " \"{u'dj': True, u'live': False, u'jukebox': False, u'video': False, u'background_music': False, u'karaoke': None, u'no_music': False}\"\n",
      " \"{'dj': True, 'background_music': False, 'jukebox': False, 'live': False, 'video': True, 'karaoke': False}\"\n",
      " \"{u'dj': None, u'live': None, u'jukebox': True, u'video': False, u'background_music': False, u'karaoke': False, u'no_music': False}\"\n",
      " \"{'dj': False, 'background_music': True, 'jukebox': False, 'live': False, 'video': True, 'karaoke': False}\"\n",
      " \"{'dj': False, 'background_music': False, 'no_music': False, 'jukebox': None, 'live': False, 'video': False, 'karaoke': True}\"\n",
      " \"{u'dj': False, u'live': True, u'jukebox': None, u'video': False, u'background_music': False, u'karaoke': False, u'no_music': False}\"\n",
      " \"{'dj': True, 'background_music': False, 'jukebox': True, 'live': False, 'video': True, 'karaoke': True}\"\n",
      " \"{'dj': False, 'background_music': True, 'jukebox': True, 'live': False, 'video': False, 'karaoke': False}\"\n",
      " \"{'dj': False, 'background_music': True, 'jukebox': True, 'live': False, 'video': True, 'karaoke': False}\"\n",
      " \"{'dj': True, 'background_music': False, 'no_music': False, 'jukebox': None, 'live': False, 'video': False, 'karaoke': None}\"\n",
      " \"{u'dj': None, u'live': False, u'jukebox': None, u'video': False, u'background_music': False, u'karaoke': False, u'no_music': False}\"\n",
      " \"{u'dj': None, u'live': None, u'jukebox': None, u'video': False, u'background_music': False, u'karaoke': False, u'no_music': False}\"\n",
      " \"{u'dj': True, u'live': None, u'jukebox': False, u'video': False, u'background_music': False, u'karaoke': None, u'no_music': False}\"\n",
      " \"{'dj': False, 'background_music': False, 'no_music': False, 'jukebox': False, 'live': False, 'video': True, 'karaoke': False}\"\n",
      " \"{'dj': True, 'background_music': True, 'jukebox': False, 'live': True, 'video': True, 'karaoke': True}\"\n",
      " \"{'dj': None, 'background_music': False, 'no_music': False, 'jukebox': None, 'live': True, 'video': False, 'karaoke': True}\"\n",
      " \"{'dj': None, 'background_music': False, 'no_music': False, 'jukebox': True, 'live': False, 'video': False, 'karaoke': False}\"\n",
      " \"{'dj': True, 'background_music': False, 'jukebox': True, 'live': False, 'video': False, 'karaoke': True}\"\n",
      " \"{'dj': False, 'jukebox': False}\"\n",
      " \"{'dj': False, 'background_music': False, 'karaoke': False, 'live': False, 'video': False, 'jukebox': False}\"\n",
      " \"{'dj': True, 'live': False, 'video': False, 'jukebox': False}\"\n",
      " \"{'dj': True, 'background_music': True, 'jukebox': True, 'live': True, 'video': True, 'karaoke': True}\"\n",
      " \"{'dj': True, 'background_music': True, 'jukebox': False, 'live': False, 'video': True, 'karaoke': True}\"\n",
      " \"{'dj': True, 'background_music': True, 'no_music': False, 'jukebox': True, 'live': True, 'video': False, 'karaoke': True}\"\n",
      " \"{'dj': True, 'background_music': False, 'no_music': False, 'jukebox': None, 'live': None, 'video': False, 'karaoke': False}\"\n",
      " \"{u'dj': True, u'live': None, u'jukebox': True, u'video': False, u'background_music': False, u'karaoke': None, u'no_music': False}\"\n",
      " \"{'dj': False, 'background_music': False, 'jukebox': True, 'live': True, 'video': False, 'karaoke': False}\"\n",
      " \"{u'dj': False, u'live': None, u'jukebox': True, u'video': False, u'background_music': False, u'karaoke': None, u'no_music': False}\"\n",
      " \"{'dj': True, 'background_music': False, 'no_music': False, 'jukebox': True, 'live': False, 'video': True, 'karaoke': True}\"\n",
      " \"{u'dj': True, u'live': None, u'jukebox': None, u'video': False, u'background_music': False, u'karaoke': False, u'no_music': False}\"\n",
      " \"{u'dj': None, u'live': False, u'jukebox': False, u'video': False, u'background_music': False, u'karaoke': True, u'no_music': False}\"\n",
      " \"{u'dj': None, u'live': True, u'jukebox': True, u'video': False, u'background_music': False, u'karaoke': False, u'no_music': False}\"\n",
      " \"{'dj': True, 'background_music': False, 'karaoke': False, 'live': False, 'video': True, 'jukebox': False}\"\n",
      " \"{'dj': None, 'background_music': False, 'no_music': False, 'jukebox': False, 'live': False, 'video': False, 'karaoke': True}\"\n",
      " \"{'dj': True, 'background_music': False, 'no_music': False, 'jukebox': True, 'live': True, 'video': True, 'karaoke': True}\"\n",
      " \"{u'dj': True, u'live': None, u'jukebox': None, u'video': False, u'background_music': False, u'karaoke': None, u'no_music': False}\"\n",
      " \"{u'dj': False, u'live': True, u'jukebox': True, u'video': False, u'background_music': False, u'karaoke': None, u'no_music': False}\"\n",
      " \"{'dj': False, 'background_music': False, 'karaoke': False, 'live': True, 'video': False, 'jukebox': False}\"\n",
      " \"{u'dj': None, u'live': False, u'jukebox': None, u'video': False, u'background_music': False, u'karaoke': True, u'no_music': False}\"\n",
      " \"{'dj': False, 'background_music': False, 'jukebox': False, 'live': False, 'video': False, 'karaoke': True}\"\n",
      " \"{'live': False, 'dj': False}\"\n",
      " \"{u'dj': None, u'live': True, u'jukebox': True, u'video': False, u'background_music': False, u'karaoke': None, u'no_music': False}\"\n",
      " \"{u'dj': None, u'live': False, u'jukebox': True, u'video': False, u'background_music': False, u'karaoke': True, u'no_music': False}\"\n",
      " \"{'dj': None, 'background_music': False, 'no_music': False, 'jukebox': False, 'live': None, 'video': False, 'karaoke': True}\"\n",
      " \"{'dj': True, 'background_music': False, 'no_music': False, 'jukebox': None, 'live': False, 'video': False, 'karaoke': True}\"\n",
      " \"{'dj': True, 'background_music': False, 'no_music': False, 'jukebox': True, 'live': True, 'video': False, 'karaoke': False}\"\n",
      " \"{u'dj': False, u'live': None, u'jukebox': True, u'video': False, u'background_music': False, u'karaoke': True, u'no_music': False}\"\n",
      " \"{'dj': True, 'background_music': False, 'no_music': False, 'jukebox': False, 'live': False, 'video': False, 'karaoke': True}\"\n",
      " \"{'dj': True, 'background_music': False, 'no_music': False, 'jukebox': True, 'live': None, 'video': False, 'karaoke': None}\"]\n",
      "--------------------------------------------------\n",
      "BestNights\n",
      "[nan\n",
      " \"{'monday': False, 'tuesday': False, 'friday': False, 'wednesday': False, 'thursday': False, 'sunday': False, 'saturday': False}\"\n",
      " \"{'monday': False, 'tuesday': False, 'friday': False, 'wednesday': True, 'thursday': True, 'sunday': False, 'saturday': True}\"\n",
      " \"{'monday': False, 'tuesday': False, 'friday': True, 'wednesday': False, 'thursday': True, 'sunday': False, 'saturday': True}\"\n",
      " \"{u'monday': True, u'tuesday': False, u'wednesday': False, u'thursday': False, u'friday': False, u'saturday': False, u'sunday': False}\"\n",
      " \"{u'monday': False, u'tuesday': False, u'wednesday': False, u'thursday': False, u'friday': False, u'saturday': True, u'sunday': False}\"\n",
      " \"{'monday': False, 'tuesday': True, 'friday': False, 'wednesday': False, 'thursday': False, 'sunday': False, 'saturday': True}\"\n",
      " \"{'monday': False, 'tuesday': False, 'friday': True, 'wednesday': False, 'thursday': False, 'sunday': True, 'saturday': True}\"\n",
      " \"{'monday': False, 'tuesday': False, 'friday': True, 'wednesday': True, 'thursday': False, 'sunday': False, 'saturday': True}\"\n",
      " \"{'monday': False, 'tuesday': False, 'friday': False, 'wednesday': False, 'thursday': False, 'sunday': False, 'saturday': True}\"\n",
      " \"{u'monday': False, u'tuesday': False, u'wednesday': False, u'thursday': False, u'friday': False, u'saturday': False, u'sunday': False}\"\n",
      " \"{'monday': False, 'tuesday': False, 'friday': True, 'wednesday': False, 'thursday': False, 'sunday': False, 'saturday': True}\"\n",
      " \"{u'monday': False, u'tuesday': False, u'wednesday': False, u'thursday': True, u'friday': True, u'saturday': False, u'sunday': False}\"\n",
      " \"{'monday': False, 'tuesday': False, 'friday': True, 'wednesday': False, 'thursday': False, 'sunday': False, 'saturday': False}\"\n",
      " \"{'monday': False, 'tuesday': True, 'friday': True, 'wednesday': False, 'thursday': True, 'sunday': False, 'saturday': False}\"\n",
      " \"{'monday': True, 'tuesday': False, 'friday': True, 'wednesday': False, 'thursday': False, 'sunday': False, 'saturday': True}\"\n",
      " \"{'monday': True, 'tuesday': False, 'friday': False, 'wednesday': False, 'thursday': True, 'sunday': False, 'saturday': True}\"\n",
      " \"{'monday': False, 'tuesday': True, 'friday': True, 'wednesday': False, 'thursday': False, 'sunday': False, 'saturday': True}\"\n",
      " \"{'monday': False, 'tuesday': False, 'friday': True, 'wednesday': False, 'thursday': True, 'sunday': True, 'saturday': False}\"\n",
      " \"{'monday': False, 'tuesday': False, 'friday': False, 'wednesday': False, 'thursday': False, 'sunday': True, 'saturday': True}\"\n",
      " \"{'monday': True, 'tuesday': False, 'friday': True, 'wednesday': False, 'thursday': True, 'sunday': False, 'saturday': False}\"\n",
      " \"{u'monday': False, u'tuesday': False, u'wednesday': False, u'thursday': False, u'friday': True, u'saturday': False, u'sunday': False}\"\n",
      " \"{'monday': False, 'tuesday': False, 'friday': True, 'wednesday': False, 'thursday': True, 'sunday': False, 'saturday': False}\"\n",
      " \"{u'monday': False, u'tuesday': False, u'wednesday': False, u'thursday': False, u'friday': True, u'saturday': True, u'sunday': True}\"\n",
      " \"{'monday': False, 'tuesday': False, 'friday': True, 'wednesday': False, 'thursday': False, 'sunday': True, 'saturday': False}\"\n",
      " \"{'monday': False, 'tuesday': False, 'friday': False, 'wednesday': False, 'thursday': False, 'sunday': True, 'saturday': False}\"\n",
      " \"{u'monday': False, u'tuesday': False, u'wednesday': False, u'thursday': True, u'friday': True, u'saturday': True, u'sunday': False}\"\n",
      " \"{'monday': False, 'tuesday': False, 'friday': True, 'wednesday': True, 'thursday': False, 'sunday': False, 'saturday': False}\"\n",
      " \"{'monday': False, 'tuesday': False, 'friday': False, 'wednesday': True, 'thursday': False, 'sunday': False, 'saturday': False}\"\n",
      " \"{u'monday': False, u'tuesday': False, u'wednesday': True, u'thursday': True, u'friday': False, u'saturday': True, u'sunday': False}\"\n",
      " \"{'monday': True, 'tuesday': False, 'friday': True, 'wednesday': False, 'thursday': False, 'sunday': False, 'saturday': False}\"\n",
      " \"{'monday': False, 'tuesday': False, 'friday': False, 'wednesday': False, 'thursday': True, 'sunday': False, 'saturday': False}\"\n",
      " \"{u'monday': True, u'tuesday': False, u'wednesday': False, u'thursday': False, u'friday': False, u'saturday': True, u'sunday': False}\"\n",
      " \"{'monday': False, 'tuesday': True, 'friday': True, 'wednesday': False, 'thursday': False, 'sunday': True, 'saturday': False}\"\n",
      " \"{'monday': False, 'tuesday': False, 'friday': True, 'wednesday': True, 'thursday': True, 'sunday': False, 'saturday': False}\"\n",
      " \"{'monday': True, 'tuesday': False, 'friday': True, 'wednesday': True, 'thursday': False, 'sunday': False, 'saturday': False}\"\n",
      " \"{'monday': False, 'tuesday': True, 'friday': False, 'wednesday': False, 'thursday': False, 'sunday': False, 'saturday': False}\"\n",
      " \"{'monday': False, 'tuesday': False, 'friday': False, 'wednesday': False, 'thursday': True, 'sunday': True, 'saturday': True}\"\n",
      " \"{'monday': True, 'tuesday': False, 'friday': False, 'wednesday': True, 'thursday': False, 'sunday': False, 'saturday': True}\"\n",
      " \"{'monday': False, 'tuesday': False, 'friday': False, 'wednesday': True, 'thursday': True, 'sunday': False, 'saturday': False}\"\n",
      " \"{'monday': False, 'tuesday': False, 'friday': False, 'wednesday': True, 'thursday': False, 'sunday': True, 'saturday': False}\"\n",
      " \"{'monday': False, 'tuesday': True, 'friday': False, 'wednesday': False, 'thursday': True, 'sunday': False, 'saturday': True}\"\n",
      " \"{'monday': False, 'tuesday': False, 'friday': False, 'wednesday': False, 'thursday': True, 'sunday': False, 'saturday': True}\"\n",
      " \"{'monday': False, 'tuesday': False, 'friday': True, 'wednesday': True, 'thursday': False, 'sunday': True, 'saturday': False}\"\n",
      " \"{'monday': True, 'tuesday': True, 'friday': True, 'wednesday': False, 'thursday': False, 'sunday': False, 'saturday': False}\"\n",
      " \"{'monday': True, 'tuesday': False, 'friday': False, 'wednesday': False, 'thursday': False, 'sunday': True, 'saturday': True}\"\n",
      " \"{'monday': False, 'tuesday': True, 'friday': False, 'wednesday': False, 'thursday': True, 'sunday': False, 'saturday': False}\"\n",
      " \"{'monday': False, 'tuesday': True, 'friday': True, 'wednesday': True, 'thursday': False, 'sunday': False, 'saturday': False}\"\n",
      " \"{u'monday': False, u'tuesday': False, u'wednesday': True, u'thursday': False, u'friday': False, u'saturday': False, u'sunday': False}\"\n",
      " \"{u'monday': False, u'tuesday': True, u'wednesday': True, u'thursday': True, u'friday': False, u'saturday': False, u'sunday': False}\"\n",
      " \"{u'monday': True, u'tuesday': False, u'wednesday': False, u'thursday': False, u'friday': False, u'saturday': True, u'sunday': True}\"\n",
      " \"{'monday': True, 'tuesday': False, 'friday': False, 'wednesday': False, 'thursday': False, 'sunday': True, 'saturday': False}\"\n",
      " \"{'monday': False, 'tuesday': True, 'friday': True, 'wednesday': False, 'thursday': False, 'sunday': False, 'saturday': False}\"\n",
      " \"{'monday': False, 'tuesday': True, 'friday': False, 'wednesday': False, 'thursday': False, 'sunday': True, 'saturday': False}\"\n",
      " \"{'monday': True, 'tuesday': True, 'friday': False, 'wednesday': True, 'thursday': False, 'sunday': False, 'saturday': False}\"\n",
      " \"{'monday': True, 'tuesday': False, 'friday': False, 'wednesday': False, 'thursday': False, 'sunday': False, 'saturday': False}\"\n",
      " \"{'monday': True, 'tuesday': False, 'friday': False, 'wednesday': False, 'thursday': False, 'sunday': False, 'saturday': True}\"\n",
      " \"{u'monday': False, u'tuesday': True, u'wednesday': False, u'thursday': True, u'friday': True, u'saturday': False, u'sunday': False}\"\n",
      " \"{u'monday': False, u'tuesday': False, u'wednesday': True, u'thursday': False, u'friday': True, u'saturday': True, u'sunday': False}\"\n",
      " \"{'monday': False, 'tuesday': True, 'friday': False, 'wednesday': True, 'thursday': True, 'sunday': False, 'saturday': False}\"\n",
      " \"{u'monday': False, u'tuesday': False, u'wednesday': False, u'thursday': False, u'friday': True, u'saturday': True, u'sunday': False}\"\n",
      " \"{u'monday': True, u'tuesday': True, u'wednesday': True, u'thursday': False, u'friday': False, u'saturday': False, u'sunday': False}\"\n",
      " \"{'monday': True, 'tuesday': False, 'friday': False, 'wednesday': False, 'thursday': True, 'sunday': True, 'saturday': False}\"\n",
      " \"{'monday': False, 'tuesday': True, 'friday': False, 'wednesday': False, 'thursday': False, 'sunday': True, 'saturday': True}\"\n",
      " \"{u'monday': True, u'tuesday': False, u'wednesday': False, u'thursday': False, u'friday': True, u'saturday': True, u'sunday': False}\"\n",
      " \"{'monday': True, 'tuesday': True, 'friday': False, 'wednesday': False, 'thursday': True, 'sunday': False, 'saturday': False}\"\n",
      " \"{'monday': True, 'tuesday': False, 'friday': False, 'wednesday': True, 'thursday': False, 'sunday': True, 'saturday': False}\"\n",
      " \"{u'monday': True, u'tuesday': False, u'wednesday': False, u'thursday': False, u'friday': True, u'saturday': False, u'sunday': True}\"\n",
      " \"{u'monday': False, u'tuesday': False, u'wednesday': True, u'thursday': False, u'friday': False, u'saturday': True, u'sunday': False}\"\n",
      " \"{'monday': False, 'tuesday': True, 'friday': False, 'wednesday': True, 'thursday': False, 'sunday': False, 'saturday': True}\"\n",
      " \"{u'monday': False, u'tuesday': False, u'wednesday': False, u'thursday': True, u'friday': False, u'saturday': False, u'sunday': False}\"\n",
      " \"{'monday': True, 'tuesday': False, 'friday': True, 'wednesday': False, 'thursday': False, 'sunday': True, 'saturday': False}\"\n",
      " \"{u'monday': False, u'tuesday': False, u'wednesday': False, u'thursday': False, u'friday': True, u'saturday': False, u'sunday': True}\"\n",
      " \"{'monday': True, 'tuesday': False, 'friday': False, 'wednesday': False, 'thursday': True, 'sunday': False, 'saturday': False}\"\n",
      " \"{'monday': True, 'tuesday': True, 'friday': False, 'wednesday': False, 'thursday': False, 'sunday': False, 'saturday': False}\"\n",
      " \"{'monday': False, 'tuesday': False, 'friday': False, 'wednesday': False, 'thursday': True, 'sunday': True, 'saturday': False}\"\n",
      " \"{'monday': False, 'tuesday': False, 'friday': False, 'wednesday': True, 'thursday': True, 'sunday': True, 'saturday': False}\"\n",
      " \"{'monday': True, 'tuesday': True, 'friday': False, 'wednesday': False, 'thursday': False, 'sunday': True, 'saturday': False}\"\n",
      " \"{u'monday': False, u'tuesday': False, u'wednesday': True, u'thursday': True, u'friday': True, u'saturday': False, u'sunday': False}\"\n",
      " \"{u'monday': True, u'tuesday': False, u'wednesday': False, u'thursday': False, u'friday': True, u'saturday': False, u'sunday': False}\"\n",
      " \"{'monday': False, 'tuesday': True, 'friday': False, 'wednesday': True, 'thursday': False, 'sunday': True, 'saturday': False}\"\n",
      " \"{u'monday': False, u'tuesday': True, u'wednesday': True, u'thursday': False, u'friday': False, u'saturday': True, u'sunday': False}\"\n",
      " \"{'monday': False, 'tuesday': True, 'friday': False, 'wednesday': False, 'thursday': True, 'sunday': True, 'saturday': False}\"\n",
      " \"{'monday': False, 'tuesday': True, 'friday': False, 'wednesday': True, 'thursday': False, 'sunday': False, 'saturday': False}\"\n",
      " \"{u'monday': False, u'tuesday': False, u'wednesday': False, u'thursday': False, u'friday': False, u'saturday': False, u'sunday': True}\"\n",
      " 'None'\n",
      " \"{'monday': True, 'tuesday': True, 'friday': False, 'wednesday': False, 'thursday': False, 'sunday': False, 'saturday': True}\"\n",
      " \"{u'monday': False, u'tuesday': False, u'wednesday': False, u'thursday': False, u'friday': False, u'saturday': True, u'sunday': True}\"\n",
      " \"{'monday': False, 'tuesday': False, 'friday': False, 'wednesday': True, 'thursday': False, 'sunday': True, 'saturday': True}\"\n",
      " \"{'monday': False, 'tuesday': False, 'friday': False, 'wednesday': True, 'thursday': False, 'sunday': False, 'saturday': True}\"\n",
      " \"{u'monday': False, u'tuesday': True, u'wednesday': False, u'thursday': False, u'friday': False, u'saturday': False, u'sunday': False}\"\n",
      " \"{u'monday': False, u'tuesday': True, u'wednesday': False, u'thursday': False, u'friday': False, u'saturday': True, u'sunday': False}\"\n",
      " \"{u'monday': True, u'tuesday': True, u'wednesday': False, u'thursday': False, u'friday': False, u'saturday': True, u'sunday': False}\"\n",
      " \"{u'monday': False, u'tuesday': False, u'wednesday': True, u'thursday': False, u'friday': True, u'saturday': False, u'sunday': False}\"\n",
      " \"{'monday': True, 'tuesday': False, 'friday': False, 'wednesday': True, 'thursday': True, 'sunday': False, 'saturday': False}\"\n",
      " \"{u'monday': False, u'tuesday': True, u'wednesday': False, u'thursday': False, u'friday': True, u'saturday': True, u'sunday': False}\"\n",
      " \"{u'monday': False, u'tuesday': True, u'wednesday': True, u'thursday': False, u'friday': True, u'saturday': False, u'sunday': False}\"\n",
      " \"{u'monday': False, u'tuesday': False, u'wednesday': False, u'thursday': True, u'friday': False, u'saturday': True, u'sunday': True}\"\n",
      " \"{u'monday': True, u'tuesday': False, u'wednesday': False, u'thursday': True, u'friday': True, u'saturday': False, u'sunday': False}\"\n",
      " \"{u'monday': True, u'tuesday': True, u'wednesday': False, u'thursday': False, u'friday': True, u'saturday': False, u'sunday': False}\"\n",
      " \"{u'monday': True, u'tuesday': True, u'wednesday': False, u'thursday': False, u'friday': False, u'saturday': False, u'sunday': False}\"\n",
      " \"{u'monday': False, u'tuesday': True, u'wednesday': False, u'thursday': True, u'friday': False, u'saturday': False, u'sunday': False}\"\n",
      " \"{u'monday': False, u'tuesday': False, u'wednesday': False, u'thursday': True, u'friday': False, u'saturday': True, u'sunday': False}\"\n",
      " \"{u'monday': False, u'tuesday': True, u'wednesday': False, u'thursday': False, u'friday': False, u'saturday': True, u'sunday': True}\"\n",
      " \"{u'monday': True, u'tuesday': False, u'wednesday': False, u'thursday': True, u'friday': False, u'saturday': True, u'sunday': False}\"\n",
      " \"{u'monday': False, u'tuesday': True, u'wednesday': False, u'thursday': False, u'friday': True, u'saturday': False, u'sunday': False}\"\n",
      " \"{'monday': True, 'tuesday': False, 'friday': False, 'wednesday': True, 'thursday': False, 'sunday': False, 'saturday': False}\"\n",
      " \"{u'monday': False, u'tuesday': True, u'wednesday': False, u'thursday': False, u'friday': False, u'saturday': False, u'sunday': True}\"\n",
      " \"{u'monday': False, u'tuesday': True, u'wednesday': True, u'thursday': False, u'friday': False, u'saturday': False, u'sunday': False}\"\n",
      " \"{u'monday': True, u'tuesday': False, u'wednesday': False, u'thursday': True, u'friday': False, u'saturday': False, u'sunday': True}\"\n",
      " \"{u'monday': False, u'tuesday': False, u'wednesday': True, u'thursday': False, u'friday': False, u'saturday': True, u'sunday': True}\"\n",
      " \"{u'monday': False, u'tuesday': True, u'wednesday': False, u'thursday': True, u'friday': False, u'saturday': True, u'sunday': False}\"]\n",
      "--------------------------------------------------\n",
      "BYOBCorkage\n",
      "[nan \"'yes_free'\" \"'no'\" \"'yes_corkage'\" \"u'yes_free'\" \"u'yes_corkage'\"\n",
      " \"u'no'\" 'None']\n",
      "--------------------------------------------------\n",
      "HairSpecializesIn\n",
      "[nan\n",
      " \"{'straightperms': True, 'coloring': True, 'extensions': False, 'africanamerican': False, 'curly': True, 'kids': True, 'perms': True, 'asian': True}\"\n",
      " \"{'straightperms': True, 'coloring': True, 'extensions': False, 'africanamerican': False, 'curly': True, 'kids': False, 'perms': True, 'asian': False}\"\n",
      " \"{'straightperms': True, 'coloring': True, 'extensions': False, 'africanamerican': True, 'curly': True, 'kids': False, 'perms': False, 'asian': False}\"\n",
      " \"{'straightperms': False, 'coloring': True, 'extensions': True, 'africanamerican': False, 'curly': False, 'kids': False, 'perms': False, 'asian': True}\"\n",
      " \"{'straightperms': True, 'coloring': True, 'extensions': True, 'africanamerican': False, 'curly': True, 'kids': True, 'perms': False, 'asian': True}\"\n",
      " \"{u'africanamerican': False, u'asian': True, u'curly': False, u'perms': False, u'extensions': False, u'straightperms': True, u'coloring': True, u'kids': False}\"\n",
      " \"{'straightperms': True, 'coloring': True, 'extensions': False, 'africanamerican': False, 'curly': False, 'kids': True, 'perms': True, 'asian': False}\"\n",
      " \"{'straightperms': False, 'coloring': False, 'extensions': False, 'africanamerican': True, 'curly': True, 'kids': True, 'perms': False, 'asian': True}\"\n",
      " \"{'straightperms': False, 'coloring': False, 'extensions': False, 'africanamerican': False, 'curly': False, 'kids': False, 'perms': False, 'asian': False}\"\n",
      " \"{'straightperms': False, 'coloring': True, 'extensions': True, 'africanamerican': False, 'curly': True, 'kids': True, 'perms': True, 'asian': True}\"\n",
      " \"{'straightperms': True, 'coloring': True, 'extensions': True, 'africanamerican': True, 'curly': True, 'kids': True, 'perms': True, 'asian': True}\"\n",
      " \"{'straightperms': False, 'coloring': True, 'extensions': False, 'africanamerican': False, 'curly': False, 'kids': True, 'perms': True, 'asian': False}\"\n",
      " \"{'straightperms': False, 'coloring': True, 'extensions': True, 'africanamerican': False, 'curly': True, 'kids': False, 'perms': False, 'asian': False}\"\n",
      " \"{'straightperms': False, 'coloring': False, 'extensions': False, 'africanamerican': False, 'curly': True, 'kids': False, 'perms': False, 'asian': False}\"\n",
      " \"{'straightperms': False, 'coloring': True, 'extensions': False, 'africanamerican': False, 'curly': True, 'kids': False, 'perms': False, 'asian': False}\"\n",
      " \"{'straightperms': False, 'coloring': True, 'extensions': False, 'africanamerican': False, 'curly': True, 'kids': False, 'perms': False, 'asian': True}\"\n",
      " \"{'straightperms': True, 'coloring': True, 'extensions': False, 'africanamerican': True, 'curly': True, 'kids': True, 'perms': True, 'asian': False}\"\n",
      " \"{'straightperms': False, 'coloring': True, 'extensions': True, 'africanamerican': False, 'curly': False, 'kids': False, 'perms': False, 'asian': False}\"\n",
      " \"{'straightperms': False, 'coloring': True, 'extensions': True, 'africanamerican': False, 'curly': True, 'kids': True, 'perms': False, 'asian': True}\"\n",
      " \"{'perms': True, 'coloring': True, 'extensions': True, 'curly': True, 'kids': True}\"\n",
      " \"{'straightperms': False, 'coloring': True, 'extensions': False, 'africanamerican': False, 'curly': True, 'kids': False, 'perms': True, 'asian': False}\"\n",
      " \"{'straightperms': False, 'coloring': True, 'extensions': False, 'africanamerican': False, 'curly': True, 'kids': True, 'perms': True, 'asian': False}\"\n",
      " \"{'straightperms': False, 'coloring': True, 'extensions': False, 'africanamerican': True, 'curly': True, 'kids': False, 'perms': False, 'asian': True}\"\n",
      " \"{'straightperms': True, 'coloring': True, 'extensions': True, 'africanamerican': False, 'curly': True, 'kids': True, 'perms': True, 'asian': True}\"\n",
      " \"{'straightperms': False, 'coloring': True, 'extensions': True, 'africanamerican': False, 'curly': True, 'kids': True, 'perms': False, 'asian': False}\"\n",
      " \"{u'africanamerican': False, u'asian': True, u'curly': True, u'perms': False, u'extensions': True, u'straightperms': False, u'coloring': True, u'kids': False}\"\n",
      " \"{'straightperms': False, 'coloring': True, 'extensions': True, 'africanamerican': True, 'curly': True, 'kids': False, 'perms': False, 'asian': True}\"\n",
      " 'None'\n",
      " \"{'straightperms': True, 'coloring': True, 'extensions': True, 'africanamerican': False, 'curly': True, 'kids': False, 'perms': True, 'asian': True}\"\n",
      " \"{'straightperms': True, 'coloring': True, 'extensions': True, 'africanamerican': True, 'curly': True, 'kids': False, 'perms': True, 'asian': True}\"\n",
      " \"{'straightperms': False, 'coloring': True, 'extensions': True, 'africanamerican': False, 'curly': True, 'kids': True, 'perms': True, 'asian': False}\"\n",
      " \"{'straightperms': True, 'coloring': True, 'extensions': False, 'africanamerican': True, 'curly': True, 'kids': True, 'perms': False, 'asian': True}\"\n",
      " \"{'straightperms': False, 'coloring': True, 'extensions': True, 'africanamerican': True, 'curly': True, 'kids': False, 'perms': True, 'asian': True}\"\n",
      " \"{'perms': False, 'coloring': True, 'extensions': True, 'curly': True, 'kids': True}\"\n",
      " \"{'straightperms': True, 'coloring': True, 'extensions': False, 'africanamerican': False, 'curly': False, 'kids': False, 'perms': True, 'asian': True}\"\n",
      " \"{'straightperms': True, 'coloring': True, 'extensions': True, 'africanamerican': False, 'curly': True, 'kids': True, 'perms': True, 'asian': False}\"\n",
      " \"{'straightperms': False, 'coloring': False, 'extensions': False, 'africanamerican': True, 'curly': False, 'kids': False, 'perms': False, 'asian': True}\"\n",
      " \"{'straightperms': True, 'coloring': True, 'extensions': True, 'africanamerican': False, 'curly': True, 'kids': False, 'perms': False, 'asian': False}\"\n",
      " \"{u'africanamerican': False, u'asian': False, u'curly': False, u'perms': False, u'extensions': False, u'straightperms': False, u'coloring': False, u'kids': False}\"\n",
      " \"{'straightperms': False, 'coloring': False, 'extensions': True, 'africanamerican': True, 'curly': True, 'kids': True, 'perms': False, 'asian': True}\"\n",
      " \"{'straightperms': False, 'coloring': True, 'extensions': False, 'africanamerican': False, 'curly': True, 'kids': True, 'perms': False, 'asian': True}\"\n",
      " \"{'perms': False, 'coloring': False, 'extensions': False, 'curly': False, 'kids': False}\"\n",
      " \"{u'africanamerican': False, u'asian': True, u'curly': False, u'perms': False, u'extensions': True, u'straightperms': False, u'coloring': True, u'kids': True}\"\n",
      " \"{'straightperms': False, 'coloring': True, 'extensions': True, 'africanamerican': True, 'curly': True, 'kids': True, 'perms': True, 'asian': True}\"\n",
      " \"{'straightperms': False, 'coloring': True, 'extensions': True, 'africanamerican': True, 'curly': True, 'kids': True, 'perms': False, 'asian': False}\"\n",
      " \"{u'africanamerican': True, u'asian': True, u'curly': True, u'perms': True, u'extensions': False, u'straightperms': False, u'coloring': True, u'kids': True}\"\n",
      " \"{'perms': True, 'coloring': True, 'extensions': True, 'curly': True, 'kids': False}\"\n",
      " \"{'straightperms': True, 'coloring': True, 'extensions': True, 'africanamerican': True, 'curly': True, 'kids': True, 'perms': False, 'asian': False}\"\n",
      " \"{u'africanamerican': True, u'asian': False, u'curly': True, u'perms': False, u'extensions': False, u'straightperms': False, u'coloring': True, u'kids': False}\"\n",
      " \"{'straightperms': False, 'coloring': True, 'extensions': False, 'africanamerican': False, 'curly': False, 'kids': False, 'perms': False, 'asian': False}\"\n",
      " \"{u'africanamerican': False, u'asian': True, u'curly': True, u'perms': True, u'extensions': False, u'straightperms': False, u'coloring': True, u'kids': True}\"\n",
      " \"{'straightperms': False, 'coloring': True, 'extensions': True, 'africanamerican': False, 'curly': False, 'kids': True, 'perms': False, 'asian': False}\"\n",
      " \"{'straightperms': False, 'coloring': True, 'extensions': True, 'africanamerican': True, 'curly': True, 'kids': True, 'perms': False, 'asian': True}\"\n",
      " \"{'straightperms': True, 'coloring': True, 'extensions': False, 'africanamerican': False, 'curly': True, 'kids': True, 'perms': False, 'asian': True}\"\n",
      " \"{'straightperms': False, 'coloring': False, 'extensions': True, 'africanamerican': True, 'curly': False, 'kids': False, 'perms': False, 'asian': False}\"\n",
      " \"{'perms': False, 'coloring': True, 'extensions': True, 'curly': False, 'kids': False}\"\n",
      " \"{'straightperms': False, 'coloring': True, 'extensions': False, 'africanamerican': True, 'curly': False, 'kids': True, 'perms': False, 'asian': False}\"\n",
      " \"{'straightperms': False, 'coloring': True, 'extensions': True, 'africanamerican': False, 'curly': True, 'kids': False, 'perms': True, 'asian': False}\"\n",
      " \"{'straightperms': True, 'coloring': True, 'extensions': False, 'africanamerican': False, 'curly': False, 'kids': True, 'perms': True, 'asian': True}\"\n",
      " \"{'straightperms': False, 'coloring': True, 'extensions': False, 'africanamerican': False, 'curly': True, 'kids': True, 'perms': True, 'asian': True}\"\n",
      " \"{u'africanamerican': False, u'asian': False, u'curly': True, u'perms': False, u'extensions': False, u'straightperms': False, u'coloring': True, u'kids': False}\"\n",
      " \"{u'africanamerican': False, u'asian': False, u'curly': True, u'perms': False, u'extensions': False, u'straightperms': True, u'coloring': False, u'kids': False}\"\n",
      " \"{u'africanamerican': False, u'asian': False, u'curly': False, u'perms': True, u'extensions': False, u'straightperms': True, u'coloring': True, u'kids': True}\"\n",
      " \"{'straightperms': True, 'coloring': True, 'extensions': True, 'africanamerican': False, 'curly': True, 'kids': False, 'perms': True, 'asian': False}\"\n",
      " \"{'straightperms': False, 'coloring': False, 'extensions': False, 'africanamerican': True, 'curly': False, 'kids': False, 'perms': False, 'asian': False}\"\n",
      " \"{u'africanamerican': True, u'asian': True, u'curly': True, u'perms': False, u'extensions': True, u'straightperms': False, u'coloring': True, u'kids': True}\"\n",
      " \"{'straightperms': True, 'coloring': True, 'extensions': True, 'africanamerican': True, 'curly': True, 'kids': False, 'perms': False, 'asian': True}\"\n",
      " \"{u'africanamerican': False, u'asian': True, u'curly': True, u'perms': False, u'extensions': False, u'straightperms': True, u'coloring': True, u'kids': False}\"\n",
      " \"{'straightperms': True, 'coloring': True, 'extensions': False, 'africanamerican': True, 'curly': True, 'kids': False, 'perms': False, 'asian': True}\"\n",
      " \"{'straightperms': True, 'coloring': True, 'extensions': False, 'africanamerican': False, 'curly': True, 'kids': False, 'perms': False, 'asian': False}\"\n",
      " \"{'straightperms': True, 'coloring': True, 'extensions': True, 'africanamerican': True, 'curly': True, 'kids': True, 'perms': False, 'asian': True}\"\n",
      " \"{'straightperms': False, 'coloring': False, 'extensions': True, 'africanamerican': False, 'curly': True, 'kids': False, 'perms': False, 'asian': True}\"\n",
      " \"{'straightperms': False, 'coloring': True, 'extensions': True, 'africanamerican': False, 'curly': True, 'kids': False, 'perms': False, 'asian': True}\"\n",
      " \"{'straightperms': True, 'coloring': True, 'extensions': False, 'africanamerican': True, 'curly': True, 'kids': True, 'perms': True, 'asian': True}\"\n",
      " \"{u'africanamerican': True, u'asian': True, u'curly': True, u'perms': True, u'extensions': True, u'straightperms': True, u'coloring': True, u'kids': False}\"\n",
      " \"{'straightperms': False, 'coloring': True, 'extensions': False, 'africanamerican': False, 'curly': True, 'kids': True, 'perms': False, 'asian': False}\"\n",
      " \"{'straightperms': True, 'coloring': True, 'extensions': False, 'africanamerican': False, 'curly': True, 'kids': True, 'perms': True, 'asian': False}\"\n",
      " \"{'straightperms': False, 'coloring': True, 'extensions': True, 'africanamerican': True, 'curly': True, 'kids': False, 'perms': False, 'asian': False}\"\n",
      " \"{u'africanamerican': False, u'asian': False, u'curly': False, u'perms': False, u'extensions': True, u'straightperms': False, u'coloring': True, u'kids': False}\"\n",
      " \"{u'africanamerican': False, u'asian': False, u'curly': True, u'perms': True, u'extensions': True, u'straightperms': True, u'coloring': True, u'kids': False}\"\n",
      " \"{'straightperms': False, 'coloring': False, 'extensions': False, 'africanamerican': True, 'curly': True, 'kids': False, 'perms': False, 'asian': True}\"\n",
      " \"{'straightperms': False, 'coloring': True, 'extensions': False, 'africanamerican': True, 'curly': True, 'kids': True, 'perms': True, 'asian': True}\"\n",
      " \"{'straightperms': True, 'coloring': True, 'extensions': True, 'africanamerican': False, 'curly': True, 'kids': True, 'perms': False, 'asian': False}\"\n",
      " \"{'straightperms': True, 'coloring': True, 'extensions': True, 'africanamerican': True, 'curly': True, 'kids': True, 'perms': True, 'asian': False}\"\n",
      " \"{'straightperms': False, 'coloring': False, 'extensions': False, 'africanamerican': False, 'curly': False, 'kids': False, 'perms': False, 'asian': True}\"\n",
      " \"{u'africanamerican': False, u'asian': False, u'curly': False, u'perms': False, u'extensions': False, u'straightperms': False, u'coloring': True, u'kids': False}\"\n",
      " \"{'straightperms': True, 'coloring': True, 'extensions': False, 'africanamerican': False, 'curly': False, 'kids': True, 'perms': False, 'asian': True}\"\n",
      " \"{'perms': False, 'coloring': True, 'extensions': False, 'curly': True, 'kids': False}\"\n",
      " \"{'straightperms': True, 'coloring': True, 'extensions': True, 'africanamerican': True, 'curly': True, 'kids': False, 'perms': False, 'asian': False}\"\n",
      " \"{'straightperms': True, 'coloring': False, 'extensions': False, 'africanamerican': False, 'curly': True, 'kids': True, 'perms': False, 'asian': True}\"\n",
      " \"{u'africanamerican': True, u'asian': True, u'curly': True, u'perms': False, u'extensions': False, u'straightperms': False, u'coloring': False, u'kids': False}\"\n",
      " \"{u'africanamerican': False, u'asian': False, u'curly': True, u'perms': False, u'extensions': True, u'straightperms': False, u'coloring': True, u'kids': False}\"\n",
      " \"{'straightperms': False, 'coloring': False, 'extensions': False, 'africanamerican': False, 'curly': False, 'kids': False, 'perms': True, 'asian': False}\"\n",
      " \"{u'africanamerican': False, u'asian': True, u'curly': True, u'perms': False, u'extensions': False, u'straightperms': True, u'coloring': False, u'kids': False}\"\n",
      " \"{u'africanamerican': False, u'asian': False, u'curly': True, u'perms': False, u'extensions': True, u'straightperms': True, u'coloring': True, u'kids': False}\"\n",
      " \"{'straightperms': False, 'coloring': False, 'extensions': False, 'africanamerican': False, 'curly': False, 'kids': True, 'perms': False, 'asian': False}\"\n",
      " \"{'straightperms': False, 'coloring': True, 'extensions': False, 'africanamerican': True, 'curly': True, 'kids': True, 'perms': False, 'asian': True}\"\n",
      " \"{u'africanamerican': True, u'asian': True, u'curly': True, u'perms': True, u'extensions': True, u'straightperms': True, u'coloring': True, u'kids': True}\"\n",
      " \"{'straightperms': True, 'coloring': True, 'extensions': True, 'africanamerican': True, 'curly': True, 'kids': False, 'perms': True, 'asian': False}\"\n",
      " \"{'straightperms': False, 'coloring': True, 'extensions': True, 'africanamerican': True, 'curly': False, 'kids': False, 'perms': False, 'asian': False}\"\n",
      " \"{'straightperms': False, 'coloring': True, 'extensions': True, 'africanamerican': False, 'curly': False, 'kids': True, 'perms': True, 'asian': False}\"\n",
      " \"{u'africanamerican': False, u'asian': True, u'curly': True, u'perms': False, u'extensions': False, u'straightperms': False, u'coloring': True, u'kids': False}\"\n",
      " \"{'straightperms': False, 'coloring': False, 'extensions': True, 'africanamerican': True, 'curly': False, 'kids': True, 'perms': False, 'asian': False}\"\n",
      " \"{'straightperms': True, 'coloring': True, 'extensions': True, 'africanamerican': False, 'curly': True, 'kids': False, 'perms': False, 'asian': True}\"\n",
      " \"{'straightperms': False, 'coloring': True, 'extensions': True, 'africanamerican': False, 'curly': True, 'kids': False, 'perms': True, 'asian': True}\"\n",
      " \"{'perms': False, 'coloring': True, 'extensions': True, 'curly': True, 'kids': False}\"\n",
      " \"{'straightperms': True, 'coloring': True, 'extensions': False, 'africanamerican': True, 'curly': True, 'kids': False, 'perms': True, 'asian': False}\"\n",
      " \"{'straightperms': False, 'coloring': False, 'extensions': True, 'africanamerican': True, 'curly': True, 'kids': False, 'perms': False, 'asian': False}\"\n",
      " \"{'straightperms': True, 'coloring': False, 'extensions': True, 'africanamerican': True, 'curly': True, 'kids': True, 'perms': True, 'asian': False}\"\n",
      " \"{'straightperms': False, 'coloring': True, 'extensions': False, 'africanamerican': True, 'curly': True, 'kids': True, 'perms': False, 'asian': False}\"\n",
      " \"{u'africanamerican': False, u'asian': True, u'curly': True, u'perms': False, u'extensions': True, u'straightperms': False, u'coloring': False, u'kids': False}\"\n",
      " \"{'straightperms': False, 'coloring': False, 'extensions': False, 'africanamerican': False, 'curly': True, 'kids': True, 'perms': False, 'asian': True}\"\n",
      " \"{'straightperms': False, 'coloring': True, 'extensions': False, 'africanamerican': False, 'curly': False, 'kids': True, 'perms': False, 'asian': False}\"\n",
      " \"{'straightperms': False, 'coloring': False, 'extensions': True, 'africanamerican': True, 'curly': True, 'kids': False, 'perms': False, 'asian': True}\"\n",
      " \"{'straightperms': False, 'coloring': False, 'extensions': True, 'africanamerican': False, 'curly': False, 'kids': False, 'perms': False, 'asian': False}\"\n",
      " \"{u'africanamerican': True, u'asian': True, u'curly': True, u'perms': False, u'extensions': False, u'straightperms': False, u'coloring': False, u'kids': True}\"\n",
      " \"{'straightperms': True, 'coloring': True, 'extensions': True, 'africanamerican': False, 'curly': False, 'kids': False, 'perms': True, 'asian': False}\"\n",
      " \"{'straightperms': False, 'coloring': True, 'extensions': False, 'africanamerican': False, 'curly': True, 'kids': False, 'perms': True, 'asian': True}\"\n",
      " \"{'straightperms': True, 'coloring': True, 'extensions': False, 'africanamerican': False, 'curly': True, 'kids': False, 'perms': False, 'asian': True}\"\n",
      " \"{'straightperms': False, 'coloring': False, 'extensions': True, 'africanamerican': False, 'curly': True, 'kids': False, 'perms': False, 'asian': False}\"\n",
      " \"{u'africanamerican': False, u'asian': False, u'curly': True, u'perms': True, u'extensions': True, u'straightperms': False, u'coloring': True, u'kids': True}\"\n",
      " \"{'straightperms': False, 'coloring': True, 'extensions': False, 'africanamerican': True, 'curly': True, 'kids': False, 'perms': True, 'asian': False}\"\n",
      " \"{'straightperms': False, 'coloring': False, 'extensions': False, 'africanamerican': True, 'curly': True, 'kids': False, 'perms': False, 'asian': False}\"\n",
      " \"{'perms': True, 'coloring': True, 'extensions': False, 'curly': True, 'kids': True}\"\n",
      " \"{'straightperms': False, 'coloring': True, 'extensions': True, 'africanamerican': True, 'curly': True, 'kids': True, 'perms': True, 'asian': False}\"\n",
      " \"{'straightperms': False, 'coloring': True, 'extensions': False, 'africanamerican': False, 'curly': False, 'kids': False, 'perms': False, 'asian': True}\"\n",
      " \"{'straightperms': False, 'coloring': True, 'extensions': False, 'africanamerican': True, 'curly': True, 'kids': False, 'perms': False, 'asian': False}\"\n",
      " \"{'straightperms': True, 'coloring': False, 'extensions': True, 'africanamerican': True, 'curly': True, 'kids': True, 'perms': False, 'asian': True}\"\n",
      " \"{u'africanamerican': True, u'asian': False, u'curly': True, u'perms': False, u'extensions': False, u'straightperms': False, u'coloring': False, u'kids': True}\"\n",
      " \"{'perms': False, 'coloring': True, 'extensions': False, 'curly': True, 'kids': True}\"\n",
      " \"{u'africanamerican': False, u'asian': False, u'curly': False, u'perms': False, u'extensions': True, u'straightperms': False, u'coloring': True, u'kids': True}\"\n",
      " \"{u'africanamerican': False, u'asian': False, u'curly': False, u'perms': False, u'extensions': False, u'straightperms': False, u'coloring': False, u'kids': True}\"\n",
      " \"{'perms': True, 'coloring': True, 'extensions': False, 'curly': True, 'kids': False}\"\n",
      " \"{'straightperms': True, 'coloring': True, 'extensions': True, 'africanamerican': False, 'curly': False, 'kids': True, 'perms': True, 'asian': False}\"\n",
      " \"{u'africanamerican': False, u'asian': False, u'curly': True, u'perms': True, u'extensions': True, u'straightperms': True, u'coloring': True, u'kids': True}\"\n",
      " \"{'straightperms': True, 'coloring': False, 'extensions': True, 'africanamerican': True, 'curly': True, 'kids': False, 'perms': True, 'asian': True}\"\n",
      " \"{u'africanamerican': False, u'asian': True, u'curly': True, u'perms': True, u'extensions': True, u'straightperms': False, u'coloring': True, u'kids': True}\"\n",
      " \"{u'coloring': True, u'africanamerican': False, u'curly': True, u'perms': True, u'kids': True, u'extensions': True, u'asian': True, u'straightperms': True}\"\n",
      " \"{'straightperms': True, 'coloring': True, 'extensions': False, 'africanamerican': False, 'curly': True, 'kids': False, 'perms': True, 'asian': True}\"\n",
      " \"{u'africanamerican': True, u'asian': True, u'curly': True, u'perms': True, u'extensions': False, u'straightperms': True, u'coloring': True, u'kids': True}\"\n",
      " \"{'straightperms': True, 'coloring': True, 'extensions': False, 'africanamerican': True, 'curly': True, 'kids': False, 'perms': True, 'asian': True}\"\n",
      " \"{u'africanamerican': False, u'asian': True, u'curly': False, u'perms': False, u'extensions': False, u'straightperms': False, u'coloring': False, u'kids': False}\"\n",
      " \"{'straightperms': True, 'coloring': True, 'extensions': True, 'africanamerican': False, 'curly': False, 'kids': False, 'perms': False, 'asian': False}\"\n",
      " \"{u'coloring': True, u'africanamerican': False, u'curly': True, u'perms': True, u'kids': True, u'extensions': True, u'asian': False, u'straightperms': True}\"\n",
      " \"{'straightperms': True, 'coloring': True, 'extensions': False, 'africanamerican': False, 'curly': False, 'kids': False, 'perms': True, 'asian': False}\"\n",
      " \"{'perms': True, 'coloring': True, 'extensions': False, 'curly': False, 'kids': True}\"\n",
      " \"{'straightperms': True, 'coloring': False, 'extensions': True, 'africanamerican': True, 'curly': True, 'kids': False, 'perms': False, 'asian': False}\"\n",
      " \"{u'africanamerican': False, u'asian': False, u'curly': True, u'perms': True, u'extensions': True, u'straightperms': False, u'coloring': True, u'kids': False}\"\n",
      " \"{'perms': True, 'coloring': True, 'extensions': True, 'curly': False, 'kids': True}\"\n",
      " \"{u'africanamerican': False, u'asian': False, u'curly': True, u'perms': False, u'extensions': False, u'straightperms': False, u'coloring': False, u'kids': False}\"\n",
      " \"{u'africanamerican': False, u'asian': False, u'curly': True, u'perms': False, u'extensions': False, u'straightperms': False, u'coloring': True, u'kids': True}\"\n",
      " \"{u'africanamerican': True, u'asian': True, u'curly': True, u'perms': False, u'extensions': True, u'straightperms': False, u'coloring': False, u'kids': False}\"\n",
      " \"{'straightperms': True, 'coloring': True, 'extensions': True, 'africanamerican': False, 'curly': False, 'kids': True, 'perms': True, 'asian': True}\"]\n",
      "--------------------------------------------------\n",
      "AgesAllowed\n",
      "[nan \"u'21plus'\" \"u'allages'\" \"u'18plus'\"]\n",
      "--------------------------------------------------\n"
     ]
    }
   ],
   "source": [
    "#explore unique entries in attribute columns\n",
    "for col in atr_dum_df_cols:\n",
    "    print(col)\n",
    "    print(df_atr[col].unique())\n",
    "    print(50*'-')"
   ]
  },
  {
   "cell_type": "markdown",
   "id": "57c41d78-0107-4ed6-8d80-045f7a6d4911",
   "metadata": {},
   "source": [
    "Creation of a mapping dictionary attire_mapping to assign numerical values to attire categories.\n",
    "Use of the map() function to replace categorical values with numerical values based on the mapping dictionary.\n",
    "Display of the original 'attire' column alongside the new 'attire_numerical' column to demonstrate the transformation."
   ]
  },
  {
   "cell_type": "code",
   "execution_count": 54,
   "id": "22506ce0-0517-40d6-a478-effd99322f98",
   "metadata": {
    "tags": []
   },
   "outputs": [
    {
     "name": "stdout",
     "output_type": "stream",
     "text": [
      "{nan: 0, \"u'loud'\": 3, \"u'average'\": 2, \"'average'\": 2, \"u'quiet'\": 1, \"'loud'\": 3, \"'very_loud'\": 4, \"'quiet'\": 1, \"u'very_loud'\": 4, 'None': 0}\n"
     ]
    }
   ],
   "source": [
    "#noise level\n",
    "noise_level_dict = dict(zip([np.nan, \"u'loud'\" ,\"u'average'\" ,\n",
    "                             \"'average'\" ,\"u'quiet'\" ,\"'loud'\" ,\n",
    "                             \"'very_loud'\", \"'quiet'\" ,\"u'very_loud'\" ,'None'], \n",
    "                            [0, 3, 2, \n",
    "                             2, 1, 3, \n",
    "                             4, 1 , 4, 0]))\n",
    "print(noise_level_dict)"
   ]
  },
  {
   "cell_type": "code",
   "execution_count": 55,
   "id": "cfb2db0e-d76a-4d32-8e74-4e5988bd1b37",
   "metadata": {
    "tags": []
   },
   "outputs": [
    {
     "name": "stdout",
     "output_type": "stream",
     "text": [
      "{nan: 0, \"u'no'\": 1, \"'free'\": 3, \"u'free'\": 3, \"'no'\": 1, \"u'paid'\": 2, \"'paid'\": 2, 'None': 0}\n"
     ]
    }
   ],
   "source": [
    "#free wifi is the best kind of wifi\n",
    "wifi_dict = dict(zip(\n",
    "    [np.nan ,\"u'no'\" ,\"'free'\" ,\n",
    "     \"u'free'\" ,\"'no'\" ,\"u'paid'\" ,\"'paid'\" ,'None'], \n",
    "    [0, 1, 3, \n",
    "     3, 1, 2, 2, 0]))\n",
    "print(wifi_dict)"
   ]
  },
  {
   "cell_type": "code",
   "execution_count": 56,
   "id": "eed8aab1-8b8b-4e63-a8d1-f8743a98bb01",
   "metadata": {
    "tags": []
   },
   "outputs": [
    {
     "name": "stdout",
     "output_type": "stream",
     "text": [
      "{nan: 0, \"u'full_bar'\": 2, \"u'beer_and_wine'\": 1, \"u'none'\": 0, \"'beer_and_wine'\": 1, \"'none'\": 0, \"'full_bar'\": 2, 'None': 0}\n"
     ]
    }
   ],
   "source": [
    "#more alcohol is better\n",
    "alcohol_dict = dict(zip([np.nan ,\"u'full_bar'\" ,\"u'beer_and_wine'\" ,\n",
    "                         \"u'none'\" ,\"'beer_and_wine'\" ,\"'none'\", \n",
    "                         \"'full_bar'\" ,'None'],\n",
    "                        [0, 2, 1, \n",
    "                         0, 1, 0, \n",
    "                         2, 0]))\n",
    "print(alcohol_dict)"
   ]
  },
  {
   "cell_type": "code",
   "execution_count": 57,
   "id": "795eff24-02e9-4e39-ad3f-e492a10c2dcf",
   "metadata": {
    "tags": []
   },
   "outputs": [
    {
     "name": "stdout",
     "output_type": "stream",
     "text": [
      "{nan: 0, \"u'casual'\": 1, \"'casual'\": 1, \"'dressy'\": 2, \"u'dressy'\": 2, \"u'formal'\": 3, 'None': 0, \"'formal'\": 3}\n"
     ]
    }
   ],
   "source": [
    "#rank by formality\n",
    "restaurant_attire_dict = dict(zip(\n",
    "    [np.nan ,\"u'casual'\" ,\"'casual'\" ,\n",
    "     \"'dressy'\" ,\"u'dressy'\" ,\"u'formal'\" ,\n",
    "     'None',\"'formal'\"], \n",
    "    [0, 1, 1, \n",
    "     2, 2, 3, \n",
    "     0, 3]))\n",
    "print(restaurant_attire_dict)"
   ]
  },
  {
   "cell_type": "code",
   "execution_count": 58,
   "id": "ca3b938a-ee3d-44d6-bcd3-96df5a9abc6c",
   "metadata": {
    "tags": []
   },
   "outputs": [
    {
     "name": "stdout",
     "output_type": "stream",
     "text": [
      "{nan: 0, \"'no'\": 1, \"'yes_corkage'\": 2, \"'yes_free'\": 3, \"u'no'\": 1, \"u'yes_free'\": 3, \"u'yes_corkage'\": 2}\n"
     ]
    }
   ],
   "source": [
    "#free corkage is best\n",
    "byob_corkage_dict = dict(zip(\n",
    "    [np.nan ,\"'no'\" ,\"'yes_corkage'\" ,\n",
    "     \"'yes_free'\" ,\"u'no'\" ,\"u'yes_free'\",\"u'yes_corkage'\"],\n",
    "    [0, 1, 2, \n",
    "     3, 1, 3, 2]))\n",
    "print(byob_corkage_dict)"
   ]
  },
  {
   "cell_type": "code",
   "execution_count": 59,
   "id": "e3da90c9-6b78-490b-8ae2-b3195bc73503",
   "metadata": {
    "tags": []
   },
   "outputs": [
    {
     "name": "stdout",
     "output_type": "stream",
     "text": [
      "{nan: 0, \"u'no'\": 1, \"u'outdoor'\": 2, \"u'yes'\": 3, \"'no'\": 1, 'None': 0, \"'outdoor'\": 2, \"'yes'\": 3}\n"
     ]
    }
   ],
   "source": [
    "#from least to most accomodating for smokers\n",
    "smoking_dict = dict(zip(\n",
    "    [np.nan ,\"u'no'\" ,\"u'outdoor'\" ,\n",
    "     \"u'yes'\" ,\"'no'\" ,'None' ,\n",
    "     \"'outdoor'\" ,\"'yes'\"], \n",
    "    [0, 1, 2, \n",
    "     3, 1, 0, \n",
    "     2, 3]))\n",
    "print(smoking_dict)"
   ]
  },
  {
   "cell_type": "code",
   "execution_count": 60,
   "id": "aa84e1f7-c806-4c1c-bca6-414dc7dbb14a",
   "metadata": {
    "tags": []
   },
   "outputs": [
    {
     "name": "stdout",
     "output_type": "stream",
     "text": [
      "{nan: 0, \"u'allages'\": 1, \"u'21plus'\": 4, \"u'18plus'\": 2, \"u'19plus'\": 3, 'None': 0}\n"
     ]
    }
   ],
   "source": [
    "#from youngest to oldest crowd\n",
    "ages_allowed_dict = dict(zip(\n",
    "    [np.nan ,\"u'allages'\" ,\"u'21plus'\" ,\n",
    "     \"u'18plus'\" ,\"u'19plus'\" ,'None'], \n",
    "    [0, 1, 4, \n",
    "     2, 3, 0]))\n",
    "print(ages_allowed_dict)"
   ]
  },
  {
   "cell_type": "code",
   "execution_count": 61,
   "id": "f12992c6-de70-467f-b1a2-f885978f9753",
   "metadata": {
    "tags": []
   },
   "outputs": [],
   "source": [
    "#define mapping for replace method\n",
    "atr_dict_map = {'NoiseLevel': noise_level_dict, \n",
    "                'WiFi': wifi_dict, \n",
    "                'Alcohol': alcohol_dict, \n",
    "                'RestaurantsAttire': restaurant_attire_dict, \n",
    "                'BYOBCorkage': byob_corkage_dict, \n",
    "                'Smoking': smoking_dict, \n",
    "                'AgesAllowed': ages_allowed_dict}"
   ]
  },
  {
   "cell_type": "code",
   "execution_count": 62,
   "id": "ad04abc7-4536-469e-a416-1f5f43f63e6d",
   "metadata": {
    "tags": []
   },
   "outputs": [
    {
     "data": {
      "text/html": [
       "<div>\n",
       "<style scoped>\n",
       "    .dataframe tbody tr th:only-of-type {\n",
       "        vertical-align: middle;\n",
       "    }\n",
       "\n",
       "    .dataframe tbody tr th {\n",
       "        vertical-align: top;\n",
       "    }\n",
       "\n",
       "    .dataframe thead th {\n",
       "        text-align: right;\n",
       "    }\n",
       "</style>\n",
       "<table border=\"1\" class=\"dataframe\">\n",
       "  <thead>\n",
       "    <tr style=\"text-align: right;\">\n",
       "      <th></th>\n",
       "      <th>BusinessParking</th>\n",
       "      <th>WiFi</th>\n",
       "      <th>Alcohol</th>\n",
       "      <th>RestaurantsAttire</th>\n",
       "      <th>NoiseLevel</th>\n",
       "      <th>Ambience</th>\n",
       "      <th>GoodForMeal</th>\n",
       "      <th>Smoking</th>\n",
       "      <th>Music</th>\n",
       "      <th>BestNights</th>\n",
       "      <th>BYOBCorkage</th>\n",
       "      <th>HairSpecializesIn</th>\n",
       "      <th>AgesAllowed</th>\n",
       "    </tr>\n",
       "  </thead>\n",
       "  <tbody>\n",
       "    <tr>\n",
       "      <th>0</th>\n",
       "      <td>NaN</td>\n",
       "      <td>0</td>\n",
       "      <td>0</td>\n",
       "      <td>0</td>\n",
       "      <td>0</td>\n",
       "      <td>NaN</td>\n",
       "      <td>NaN</td>\n",
       "      <td>0</td>\n",
       "      <td>NaN</td>\n",
       "      <td>NaN</td>\n",
       "      <td>0</td>\n",
       "      <td>NaN</td>\n",
       "      <td>0</td>\n",
       "    </tr>\n",
       "    <tr>\n",
       "      <th>1</th>\n",
       "      <td>{'garage': False, 'street': True, 'validated':...</td>\n",
       "      <td>3</td>\n",
       "      <td>0</td>\n",
       "      <td>0</td>\n",
       "      <td>0</td>\n",
       "      <td>NaN</td>\n",
       "      <td>NaN</td>\n",
       "      <td>0</td>\n",
       "      <td>NaN</td>\n",
       "      <td>NaN</td>\n",
       "      <td>0</td>\n",
       "      <td>NaN</td>\n",
       "      <td>0</td>\n",
       "    </tr>\n",
       "    <tr>\n",
       "      <th>2</th>\n",
       "      <td>{'garage': None, 'street': None, 'validated': ...</td>\n",
       "      <td>0</td>\n",
       "      <td>0</td>\n",
       "      <td>0</td>\n",
       "      <td>0</td>\n",
       "      <td>NaN</td>\n",
       "      <td>NaN</td>\n",
       "      <td>0</td>\n",
       "      <td>NaN</td>\n",
       "      <td>NaN</td>\n",
       "      <td>0</td>\n",
       "      <td>NaN</td>\n",
       "      <td>0</td>\n",
       "    </tr>\n",
       "    <tr>\n",
       "      <th>3</th>\n",
       "      <td>NaN</td>\n",
       "      <td>0</td>\n",
       "      <td>0</td>\n",
       "      <td>0</td>\n",
       "      <td>0</td>\n",
       "      <td>NaN</td>\n",
       "      <td>NaN</td>\n",
       "      <td>0</td>\n",
       "      <td>NaN</td>\n",
       "      <td>NaN</td>\n",
       "      <td>0</td>\n",
       "      <td>NaN</td>\n",
       "      <td>0</td>\n",
       "    </tr>\n",
       "    <tr>\n",
       "      <th>4</th>\n",
       "      <td>{'garage': False, 'street': False, 'validated'...</td>\n",
       "      <td>3</td>\n",
       "      <td>2</td>\n",
       "      <td>1</td>\n",
       "      <td>2</td>\n",
       "      <td>{'romantic': False, 'intimate': False, 'touris...</td>\n",
       "      <td>NaN</td>\n",
       "      <td>0</td>\n",
       "      <td>NaN</td>\n",
       "      <td>NaN</td>\n",
       "      <td>0</td>\n",
       "      <td>NaN</td>\n",
       "      <td>0</td>\n",
       "    </tr>\n",
       "  </tbody>\n",
       "</table>\n",
       "</div>"
      ],
      "text/plain": [
       "                                     BusinessParking  WiFi  Alcohol  \\\n",
       "0                                                NaN     0        0   \n",
       "1  {'garage': False, 'street': True, 'validated':...     3        0   \n",
       "2  {'garage': None, 'street': None, 'validated': ...     0        0   \n",
       "3                                                NaN     0        0   \n",
       "4  {'garage': False, 'street': False, 'validated'...     3        2   \n",
       "\n",
       "   RestaurantsAttire  NoiseLevel  \\\n",
       "0                  0           0   \n",
       "1                  0           0   \n",
       "2                  0           0   \n",
       "3                  0           0   \n",
       "4                  1           2   \n",
       "\n",
       "                                            Ambience GoodForMeal  Smoking  \\\n",
       "0                                                NaN         NaN        0   \n",
       "1                                                NaN         NaN        0   \n",
       "2                                                NaN         NaN        0   \n",
       "3                                                NaN         NaN        0   \n",
       "4  {'romantic': False, 'intimate': False, 'touris...         NaN        0   \n",
       "\n",
       "  Music BestNights BYOBCorkage HairSpecializesIn  AgesAllowed  \n",
       "0   NaN        NaN           0               NaN            0  \n",
       "1   NaN        NaN           0               NaN            0  \n",
       "2   NaN        NaN           0               NaN            0  \n",
       "3   NaN        NaN           0               NaN            0  \n",
       "4   NaN        NaN           0               NaN            0  "
      ]
     },
     "execution_count": 62,
     "metadata": {},
     "output_type": "execute_result"
    }
   ],
   "source": [
    "#get a copy with relevant columns\n",
    "df_atr_categorical = df_atr[atr_dum_df_cols].copy()\n",
    "#apply replacement\n",
    "df_atr_categorical = df_atr_categorical.replace(atr_dict_map)\n",
    "\n",
    "df_atr_categorical.head()"
   ]
  },
  {
   "cell_type": "code",
   "execution_count": 63,
   "id": "7e95a028-87ac-4c69-8422-ee3d327cd4fd",
   "metadata": {
    "tags": []
   },
   "outputs": [
    {
     "name": "stdout",
     "output_type": "stream",
     "text": [
      "['BusinessParking', 0, 'Ambience', 'GoodForMeal', 'Music', 'BestNights', 'HairSpecializesIn', 'DietaryRestrictions', 'BusinessParking', 'WiFi', 'Alcohol', 'RestaurantsAttire', 'NoiseLevel', 'Ambience', 'GoodForMeal', 'Smoking', 'Music', 'BestNights', 'BYOBCorkage', 'HairSpecializesIn', 'AgesAllowed']\n"
     ]
    }
   ],
   "source": [
    "#add to the list\n",
    "atr_to_drop =  dict_cols_list + list(df_atr_categorical.columns)\n",
    "print(atr_to_drop)"
   ]
  },
  {
   "cell_type": "code",
   "execution_count": 64,
   "id": "ed16bf45-6cf3-41b4-a3a9-c99fb08a666f",
   "metadata": {
    "tags": []
   },
   "outputs": [],
   "source": [
    "# Define a dictionary to map boolean values to integers\n",
    "bool_to_int = {True: 1, False: 0}\n"
   ]
  },
  {
   "cell_type": "code",
   "execution_count": 65,
   "id": "81237259-d308-424a-a5c8-123864a81b4b",
   "metadata": {
    "tags": []
   },
   "outputs": [
    {
     "data": {
      "text/html": [
       "<div>\n",
       "<style scoped>\n",
       "    .dataframe tbody tr th:only-of-type {\n",
       "        vertical-align: middle;\n",
       "    }\n",
       "\n",
       "    .dataframe tbody tr th {\n",
       "        vertical-align: top;\n",
       "    }\n",
       "\n",
       "    .dataframe thead th {\n",
       "        text-align: right;\n",
       "    }\n",
       "</style>\n",
       "<table border=\"1\" class=\"dataframe\">\n",
       "  <thead>\n",
       "    <tr style=\"text-align: right;\">\n",
       "      <th></th>\n",
       "      <th>ByAppointmentOnly</th>\n",
       "      <th>RestaurantsDelivery</th>\n",
       "      <th>OutdoorSeating</th>\n",
       "      <th>BusinessAcceptsCreditCards</th>\n",
       "      <th>BikeParking</th>\n",
       "      <th>RestaurantsPriceRange2</th>\n",
       "      <th>RestaurantsTakeOut</th>\n",
       "      <th>Caters</th>\n",
       "      <th>WheelchairAccessible</th>\n",
       "      <th>GoodForKids</th>\n",
       "      <th>...</th>\n",
       "      <th>RestaurantsAttire</th>\n",
       "      <th>NoiseLevel</th>\n",
       "      <th>Ambience</th>\n",
       "      <th>GoodForMeal</th>\n",
       "      <th>Smoking</th>\n",
       "      <th>Music</th>\n",
       "      <th>BestNights</th>\n",
       "      <th>BYOBCorkage</th>\n",
       "      <th>HairSpecializesIn</th>\n",
       "      <th>AgesAllowed</th>\n",
       "    </tr>\n",
       "  </thead>\n",
       "  <tbody>\n",
       "    <tr>\n",
       "      <th>0</th>\n",
       "      <td>True</td>\n",
       "      <td>NaN</td>\n",
       "      <td>NaN</td>\n",
       "      <td>NaN</td>\n",
       "      <td>NaN</td>\n",
       "      <td>NaN</td>\n",
       "      <td>NaN</td>\n",
       "      <td>NaN</td>\n",
       "      <td>NaN</td>\n",
       "      <td>NaN</td>\n",
       "      <td>...</td>\n",
       "      <td>0.0</td>\n",
       "      <td>0.0</td>\n",
       "      <td>NaN</td>\n",
       "      <td>NaN</td>\n",
       "      <td>0.0</td>\n",
       "      <td>NaN</td>\n",
       "      <td>NaN</td>\n",
       "      <td>0</td>\n",
       "      <td>NaN</td>\n",
       "      <td>0.0</td>\n",
       "    </tr>\n",
       "    <tr>\n",
       "      <th>1</th>\n",
       "      <td>False</td>\n",
       "      <td>False</td>\n",
       "      <td>False</td>\n",
       "      <td>False</td>\n",
       "      <td>True</td>\n",
       "      <td>1</td>\n",
       "      <td>True</td>\n",
       "      <td>True</td>\n",
       "      <td>NaN</td>\n",
       "      <td>NaN</td>\n",
       "      <td>...</td>\n",
       "      <td>0.0</td>\n",
       "      <td>0.0</td>\n",
       "      <td>NaN</td>\n",
       "      <td>NaN</td>\n",
       "      <td>0.0</td>\n",
       "      <td>NaN</td>\n",
       "      <td>NaN</td>\n",
       "      <td>0</td>\n",
       "      <td>NaN</td>\n",
       "      <td>0.0</td>\n",
       "    </tr>\n",
       "    <tr>\n",
       "      <th>2</th>\n",
       "      <td>NaN</td>\n",
       "      <td>NaN</td>\n",
       "      <td>NaN</td>\n",
       "      <td>True</td>\n",
       "      <td>True</td>\n",
       "      <td>NaN</td>\n",
       "      <td>True</td>\n",
       "      <td>False</td>\n",
       "      <td>True</td>\n",
       "      <td>True</td>\n",
       "      <td>...</td>\n",
       "      <td>0.0</td>\n",
       "      <td>0.0</td>\n",
       "      <td>NaN</td>\n",
       "      <td>NaN</td>\n",
       "      <td>0.0</td>\n",
       "      <td>NaN</td>\n",
       "      <td>NaN</td>\n",
       "      <td>0</td>\n",
       "      <td>NaN</td>\n",
       "      <td>0.0</td>\n",
       "    </tr>\n",
       "    <tr>\n",
       "      <th>3</th>\n",
       "      <td>NaN</td>\n",
       "      <td>NaN</td>\n",
       "      <td>NaN</td>\n",
       "      <td>NaN</td>\n",
       "      <td>NaN</td>\n",
       "      <td>NaN</td>\n",
       "      <td>NaN</td>\n",
       "      <td>NaN</td>\n",
       "      <td>NaN</td>\n",
       "      <td>NaN</td>\n",
       "      <td>...</td>\n",
       "      <td>0.0</td>\n",
       "      <td>0.0</td>\n",
       "      <td>NaN</td>\n",
       "      <td>NaN</td>\n",
       "      <td>0.0</td>\n",
       "      <td>NaN</td>\n",
       "      <td>NaN</td>\n",
       "      <td>0</td>\n",
       "      <td>NaN</td>\n",
       "      <td>0.0</td>\n",
       "    </tr>\n",
       "    <tr>\n",
       "      <th>4</th>\n",
       "      <td>NaN</td>\n",
       "      <td>False</td>\n",
       "      <td>True</td>\n",
       "      <td>True</td>\n",
       "      <td>NaN</td>\n",
       "      <td>1</td>\n",
       "      <td>True</td>\n",
       "      <td>True</td>\n",
       "      <td>NaN</td>\n",
       "      <td>True</td>\n",
       "      <td>...</td>\n",
       "      <td>1.0</td>\n",
       "      <td>2.0</td>\n",
       "      <td>{'romantic': False, 'intimate': False, 'touris...</td>\n",
       "      <td>NaN</td>\n",
       "      <td>0.0</td>\n",
       "      <td>NaN</td>\n",
       "      <td>NaN</td>\n",
       "      <td>0</td>\n",
       "      <td>NaN</td>\n",
       "      <td>0.0</td>\n",
       "    </tr>\n",
       "  </tbody>\n",
       "</table>\n",
       "<p>5 rows × 87 columns</p>\n",
       "</div>"
      ],
      "text/plain": [
       "  ByAppointmentOnly RestaurantsDelivery OutdoorSeating  \\\n",
       "0              True                 NaN            NaN   \n",
       "1             False               False          False   \n",
       "2               NaN                 NaN            NaN   \n",
       "3               NaN                 NaN            NaN   \n",
       "4               NaN               False           True   \n",
       "\n",
       "  BusinessAcceptsCreditCards BikeParking RestaurantsPriceRange2  \\\n",
       "0                        NaN         NaN                    NaN   \n",
       "1                      False        True                      1   \n",
       "2                       True        True                    NaN   \n",
       "3                        NaN         NaN                    NaN   \n",
       "4                       True         NaN                      1   \n",
       "\n",
       "  RestaurantsTakeOut Caters WheelchairAccessible GoodForKids  ...  \\\n",
       "0                NaN    NaN                  NaN         NaN  ...   \n",
       "1               True   True                  NaN         NaN  ...   \n",
       "2               True  False                 True        True  ...   \n",
       "3                NaN    NaN                  NaN         NaN  ...   \n",
       "4               True   True                  NaN        True  ...   \n",
       "\n",
       "  RestaurantsAttire NoiseLevel  \\\n",
       "0               0.0        0.0   \n",
       "1               0.0        0.0   \n",
       "2               0.0        0.0   \n",
       "3               0.0        0.0   \n",
       "4               1.0        2.0   \n",
       "\n",
       "                                            Ambience GoodForMeal Smoking  \\\n",
       "0                                                NaN         NaN     0.0   \n",
       "1                                                NaN         NaN     0.0   \n",
       "2                                                NaN         NaN     0.0   \n",
       "3                                                NaN         NaN     0.0   \n",
       "4  {'romantic': False, 'intimate': False, 'touris...         NaN     0.0   \n",
       "\n",
       "  Music BestNights BYOBCorkage HairSpecializesIn AgesAllowed  \n",
       "0   NaN        NaN           0               NaN         0.0  \n",
       "1   NaN        NaN           0               NaN         0.0  \n",
       "2   NaN        NaN           0               NaN         0.0  \n",
       "3   NaN        NaN           0               NaN         0.0  \n",
       "4   NaN        NaN           0               NaN         0.0  \n",
       "\n",
       "[5 rows x 87 columns]"
      ]
     },
     "execution_count": 65,
     "metadata": {},
     "output_type": "execute_result"
    }
   ],
   "source": [
    "#combine features in one dataframes\n",
    "df_atr_conc = pd.concat([df_atr.drop(columns=atr_to_drop),dict_col_df, df_atr_categorical], axis=1)\n",
    "\n",
    "#standardize name\n",
    "df_atr_conc.columns = df_atr_conc.columns.str.replace(\"-\", \"_\")\n",
    "\n",
    "#make 1/0\n",
    "df_atr_conc = df_atr_conc.replace(bool_to_int)\n",
    "\n",
    "df_atr_conc.head()"
   ]
  },
  {
   "cell_type": "code",
   "execution_count": 66,
   "id": "d11c9e15-ce31-425b-9fe7-5f7c9c52f31d",
   "metadata": {
    "tags": []
   },
   "outputs": [
    {
     "data": {
      "text/plain": [
       "Index(['ByAppointmentOnly', 'RestaurantsDelivery', 'OutdoorSeating',\n",
       "       'BusinessAcceptsCreditCards', 'BikeParking', 'RestaurantsPriceRange2',\n",
       "       'RestaurantsTakeOut', 'Caters', 'WheelchairAccessible', 'GoodForKids',\n",
       "       'HasTV', 'RestaurantsReservations', 'RestaurantsGoodForGroups',\n",
       "       'BusinessAcceptsBitcoin', 'RestaurantsTableService', 'DogsAllowed',\n",
       "       'HappyHour', 'DriveThru', 'GoodForDancing', 'AcceptsInsurance',\n",
       "       'CoatCheck', 'BYOB', 'Corkage', 'Open24Hours',\n",
       "       'RestaurantsCounterService', 'garage', 'street', 'validated', 'lot',\n",
       "       'valet', 'romantic', 'intimate', 'touristy', 'hipster', 'divey',\n",
       "       'classy', 'trendy', 'upscale', 'casual', 'dessert', 'latenight',\n",
       "       'lunch', 'dinner', 'brunch', 'breakfast', 'dj', 'background_music',\n",
       "       'no_music', 'jukebox', 'live', 'video', 'karaoke', 'monday', 'tuesday',\n",
       "       'friday', 'wednesday', 'thursday', 'sunday', 'saturday',\n",
       "       'straightperms', 'coloring', 'extensions', 'africanamerican', 'curly',\n",
       "       'kids', 'perms', 'asian', 'dairy_free', 'gluten_free', 'vegan',\n",
       "       'kosher', 'halal', 'soy_free', 'vegetarian', 'BusinessParking', 'WiFi',\n",
       "       'Alcohol', 'RestaurantsAttire', 'NoiseLevel', 'Ambience', 'GoodForMeal',\n",
       "       'Smoking', 'Music', 'BestNights', 'BYOBCorkage', 'HairSpecializesIn',\n",
       "       'AgesAllowed'],\n",
       "      dtype='object')"
      ]
     },
     "execution_count": 66,
     "metadata": {},
     "output_type": "execute_result"
    }
   ],
   "source": [
    "#quick check for column names\n",
    "df_atr_conc.columns"
   ]
  },
  {
   "cell_type": "code",
   "execution_count": 67,
   "id": "60d579eb-01f6-4afe-9428-e352a8c33791",
   "metadata": {
    "tags": []
   },
   "outputs": [],
   "source": [
    "\n",
    "# Reset index of the DataFrame containing categorical information\n",
    "df_atr_conc.reset_index(inplace=True)\n",
    "\n",
    "# Merge the two DataFrames on the 'index' column\n",
    "df_business = df_business.merge(df_atr_conc, left_index=True, right_index=True)\n",
    "\n",
    "# Drop the redundant 'index' column after merging\n",
    "df_business.drop(columns='index', inplace=True)\n"
   ]
  },
  {
   "cell_type": "code",
   "execution_count": 68,
   "id": "22dcc6c9-4a7a-431d-93d3-a615e84a568c",
   "metadata": {
    "tags": []
   },
   "outputs": [],
   "source": [
    "#save the work\n",
    "df_atr_conc.to_csv(path_or_buf='data/cleaned/business_attributes.csv')"
   ]
  },
  {
   "cell_type": "code",
   "execution_count": 69,
   "id": "4d30091c-4382-43f8-b54e-fd85d5256e0b",
   "metadata": {
    "tags": []
   },
   "outputs": [
    {
     "data": {
      "text/html": [
       "<div>\n",
       "<style scoped>\n",
       "    .dataframe tbody tr th:only-of-type {\n",
       "        vertical-align: middle;\n",
       "    }\n",
       "\n",
       "    .dataframe tbody tr th {\n",
       "        vertical-align: top;\n",
       "    }\n",
       "\n",
       "    .dataframe thead th {\n",
       "        text-align: right;\n",
       "    }\n",
       "</style>\n",
       "<table border=\"1\" class=\"dataframe\">\n",
       "  <thead>\n",
       "    <tr style=\"text-align: right;\">\n",
       "      <th></th>\n",
       "      <th>latitude</th>\n",
       "      <th>longitude</th>\n",
       "      <th>stars</th>\n",
       "      <th>review_count</th>\n",
       "      <th>is_open</th>\n",
       "      <th>Monday_open</th>\n",
       "      <th>Monday_close</th>\n",
       "      <th>Tuesday_open</th>\n",
       "      <th>Tuesday_close</th>\n",
       "      <th>Wednesday_open</th>\n",
       "      <th>...</th>\n",
       "      <th>kosher</th>\n",
       "      <th>halal</th>\n",
       "      <th>soy_free</th>\n",
       "      <th>vegetarian</th>\n",
       "      <th>WiFi</th>\n",
       "      <th>Alcohol</th>\n",
       "      <th>RestaurantsAttire</th>\n",
       "      <th>NoiseLevel</th>\n",
       "      <th>Smoking</th>\n",
       "      <th>AgesAllowed</th>\n",
       "    </tr>\n",
       "  </thead>\n",
       "  <tbody>\n",
       "    <tr>\n",
       "      <th>count</th>\n",
       "      <td>105977.000000</td>\n",
       "      <td>105977.000000</td>\n",
       "      <td>105977.000000</td>\n",
       "      <td>105977.000000</td>\n",
       "      <td>105977.000000</td>\n",
       "      <td>105977</td>\n",
       "      <td>105977</td>\n",
       "      <td>105977</td>\n",
       "      <td>105977</td>\n",
       "      <td>105977</td>\n",
       "      <td>...</td>\n",
       "      <td>17.0</td>\n",
       "      <td>17.000000</td>\n",
       "      <td>17.0</td>\n",
       "      <td>17.000000</td>\n",
       "      <td>105887.000000</td>\n",
       "      <td>105887.000000</td>\n",
       "      <td>105887.000000</td>\n",
       "      <td>105887.000000</td>\n",
       "      <td>105887.000000</td>\n",
       "      <td>105887.000000</td>\n",
       "    </tr>\n",
       "    <tr>\n",
       "      <th>mean</th>\n",
       "      <td>36.603261</td>\n",
       "      <td>-89.464856</td>\n",
       "      <td>3.783797</td>\n",
       "      <td>45.548591</td>\n",
       "      <td>0.791672</td>\n",
       "      <td>1900-01-01 07:08:48.142396672</td>\n",
       "      <td>1900-01-01 13:15:26.462983680</td>\n",
       "      <td>1900-01-01 09:10:23.990870272</td>\n",
       "      <td>1900-01-01 16:52:01.959931904</td>\n",
       "      <td>1900-01-01 09:17:23.075467264</td>\n",
       "      <td>...</td>\n",
       "      <td>0.0</td>\n",
       "      <td>0.058824</td>\n",
       "      <td>0.0</td>\n",
       "      <td>0.352941</td>\n",
       "      <td>0.824143</td>\n",
       "      <td>0.275303</td>\n",
       "      <td>0.234457</td>\n",
       "      <td>0.447373</td>\n",
       "      <td>0.056759</td>\n",
       "      <td>0.001738</td>\n",
       "    </tr>\n",
       "    <tr>\n",
       "      <th>min</th>\n",
       "      <td>27.555127</td>\n",
       "      <td>-120.095137</td>\n",
       "      <td>1.000000</td>\n",
       "      <td>5.000000</td>\n",
       "      <td>0.000000</td>\n",
       "      <td>1900-01-01 00:00:00</td>\n",
       "      <td>1900-01-01 00:00:00</td>\n",
       "      <td>1900-01-01 00:00:00</td>\n",
       "      <td>1900-01-01 00:00:00</td>\n",
       "      <td>1900-01-01 00:00:00</td>\n",
       "      <td>...</td>\n",
       "      <td>0.0</td>\n",
       "      <td>0.000000</td>\n",
       "      <td>0.0</td>\n",
       "      <td>0.000000</td>\n",
       "      <td>0.000000</td>\n",
       "      <td>0.000000</td>\n",
       "      <td>0.000000</td>\n",
       "      <td>0.000000</td>\n",
       "      <td>0.000000</td>\n",
       "      <td>0.000000</td>\n",
       "    </tr>\n",
       "    <tr>\n",
       "      <th>25%</th>\n",
       "      <td>32.161558</td>\n",
       "      <td>-90.360927</td>\n",
       "      <td>3.500000</td>\n",
       "      <td>7.000000</td>\n",
       "      <td>1.000000</td>\n",
       "      <td>1900-01-01 07:00:00</td>\n",
       "      <td>1900-01-01 13:15:26.462983424</td>\n",
       "      <td>1900-01-01 08:00:00</td>\n",
       "      <td>1900-01-01 16:52:01.959931904</td>\n",
       "      <td>1900-01-01 08:00:00</td>\n",
       "      <td>...</td>\n",
       "      <td>0.0</td>\n",
       "      <td>0.000000</td>\n",
       "      <td>0.0</td>\n",
       "      <td>0.000000</td>\n",
       "      <td>0.000000</td>\n",
       "      <td>0.000000</td>\n",
       "      <td>0.000000</td>\n",
       "      <td>0.000000</td>\n",
       "      <td>0.000000</td>\n",
       "      <td>0.000000</td>\n",
       "    </tr>\n",
       "    <tr>\n",
       "      <th>50%</th>\n",
       "      <td>38.771676</td>\n",
       "      <td>-86.109012</td>\n",
       "      <td>4.000000</td>\n",
       "      <td>14.000000</td>\n",
       "      <td>1.000000</td>\n",
       "      <td>1900-01-01 07:08:48.142396928</td>\n",
       "      <td>1900-01-01 14:00:00</td>\n",
       "      <td>1900-01-01 09:10:23.990870272</td>\n",
       "      <td>1900-01-01 17:00:00</td>\n",
       "      <td>1900-01-01 09:17:23.075467264</td>\n",
       "      <td>...</td>\n",
       "      <td>0.0</td>\n",
       "      <td>0.000000</td>\n",
       "      <td>0.0</td>\n",
       "      <td>0.000000</td>\n",
       "      <td>0.000000</td>\n",
       "      <td>0.000000</td>\n",
       "      <td>0.000000</td>\n",
       "      <td>0.000000</td>\n",
       "      <td>0.000000</td>\n",
       "      <td>0.000000</td>\n",
       "    </tr>\n",
       "    <tr>\n",
       "      <th>75%</th>\n",
       "      <td>39.955188</td>\n",
       "      <td>-75.388236</td>\n",
       "      <td>4.500000</td>\n",
       "      <td>36.000000</td>\n",
       "      <td>1.000000</td>\n",
       "      <td>1900-01-01 09:00:00</td>\n",
       "      <td>1900-01-01 19:00:00</td>\n",
       "      <td>1900-01-01 10:00:00</td>\n",
       "      <td>1900-01-01 20:00:00</td>\n",
       "      <td>1900-01-01 10:00:00</td>\n",
       "      <td>...</td>\n",
       "      <td>0.0</td>\n",
       "      <td>0.000000</td>\n",
       "      <td>0.0</td>\n",
       "      <td>1.000000</td>\n",
       "      <td>1.000000</td>\n",
       "      <td>0.000000</td>\n",
       "      <td>0.000000</td>\n",
       "      <td>0.000000</td>\n",
       "      <td>0.000000</td>\n",
       "      <td>0.000000</td>\n",
       "    </tr>\n",
       "    <tr>\n",
       "      <th>max</th>\n",
       "      <td>53.656598</td>\n",
       "      <td>-73.200457</td>\n",
       "      <td>5.000000</td>\n",
       "      <td>7400.000000</td>\n",
       "      <td>1.000000</td>\n",
       "      <td>1900-01-01 23:30:00</td>\n",
       "      <td>1900-01-01 23:59:00</td>\n",
       "      <td>1900-01-01 23:45:00</td>\n",
       "      <td>1900-01-01 23:59:00</td>\n",
       "      <td>1900-01-01 23:30:00</td>\n",
       "      <td>...</td>\n",
       "      <td>0.0</td>\n",
       "      <td>1.000000</td>\n",
       "      <td>0.0</td>\n",
       "      <td>1.000000</td>\n",
       "      <td>3.000000</td>\n",
       "      <td>2.000000</td>\n",
       "      <td>3.000000</td>\n",
       "      <td>4.000000</td>\n",
       "      <td>3.000000</td>\n",
       "      <td>4.000000</td>\n",
       "    </tr>\n",
       "    <tr>\n",
       "      <th>std</th>\n",
       "      <td>5.842153</td>\n",
       "      <td>15.169444</td>\n",
       "      <td>0.932866</td>\n",
       "      <td>124.033517</td>\n",
       "      <td>0.406115</td>\n",
       "      <td>NaN</td>\n",
       "      <td>NaN</td>\n",
       "      <td>NaN</td>\n",
       "      <td>NaN</td>\n",
       "      <td>NaN</td>\n",
       "      <td>...</td>\n",
       "      <td>0.0</td>\n",
       "      <td>0.242536</td>\n",
       "      <td>0.0</td>\n",
       "      <td>0.492592</td>\n",
       "      <td>1.231663</td>\n",
       "      <td>0.657360</td>\n",
       "      <td>0.440063</td>\n",
       "      <td>0.870518</td>\n",
       "      <td>0.317692</td>\n",
       "      <td>0.080589</td>\n",
       "    </tr>\n",
       "  </tbody>\n",
       "</table>\n",
       "<p>8 rows × 74 columns</p>\n",
       "</div>"
      ],
      "text/plain": [
       "            latitude      longitude          stars   review_count  \\\n",
       "count  105977.000000  105977.000000  105977.000000  105977.000000   \n",
       "mean       36.603261     -89.464856       3.783797      45.548591   \n",
       "min        27.555127    -120.095137       1.000000       5.000000   \n",
       "25%        32.161558     -90.360927       3.500000       7.000000   \n",
       "50%        38.771676     -86.109012       4.000000      14.000000   \n",
       "75%        39.955188     -75.388236       4.500000      36.000000   \n",
       "max        53.656598     -73.200457       5.000000    7400.000000   \n",
       "std         5.842153      15.169444       0.932866     124.033517   \n",
       "\n",
       "             is_open                    Monday_open  \\\n",
       "count  105977.000000                         105977   \n",
       "mean        0.791672  1900-01-01 07:08:48.142396672   \n",
       "min         0.000000            1900-01-01 00:00:00   \n",
       "25%         1.000000            1900-01-01 07:00:00   \n",
       "50%         1.000000  1900-01-01 07:08:48.142396928   \n",
       "75%         1.000000            1900-01-01 09:00:00   \n",
       "max         1.000000            1900-01-01 23:30:00   \n",
       "std         0.406115                            NaN   \n",
       "\n",
       "                        Monday_close                   Tuesday_open  \\\n",
       "count                         105977                         105977   \n",
       "mean   1900-01-01 13:15:26.462983680  1900-01-01 09:10:23.990870272   \n",
       "min              1900-01-01 00:00:00            1900-01-01 00:00:00   \n",
       "25%    1900-01-01 13:15:26.462983424            1900-01-01 08:00:00   \n",
       "50%              1900-01-01 14:00:00  1900-01-01 09:10:23.990870272   \n",
       "75%              1900-01-01 19:00:00            1900-01-01 10:00:00   \n",
       "max              1900-01-01 23:59:00            1900-01-01 23:45:00   \n",
       "std                              NaN                            NaN   \n",
       "\n",
       "                       Tuesday_close                 Wednesday_open  ...  \\\n",
       "count                         105977                         105977  ...   \n",
       "mean   1900-01-01 16:52:01.959931904  1900-01-01 09:17:23.075467264  ...   \n",
       "min              1900-01-01 00:00:00            1900-01-01 00:00:00  ...   \n",
       "25%    1900-01-01 16:52:01.959931904            1900-01-01 08:00:00  ...   \n",
       "50%              1900-01-01 17:00:00  1900-01-01 09:17:23.075467264  ...   \n",
       "75%              1900-01-01 20:00:00            1900-01-01 10:00:00  ...   \n",
       "max              1900-01-01 23:59:00            1900-01-01 23:30:00  ...   \n",
       "std                              NaN                            NaN  ...   \n",
       "\n",
       "      kosher      halal soy_free vegetarian           WiFi        Alcohol  \\\n",
       "count   17.0  17.000000     17.0  17.000000  105887.000000  105887.000000   \n",
       "mean     0.0   0.058824      0.0   0.352941       0.824143       0.275303   \n",
       "min      0.0   0.000000      0.0   0.000000       0.000000       0.000000   \n",
       "25%      0.0   0.000000      0.0   0.000000       0.000000       0.000000   \n",
       "50%      0.0   0.000000      0.0   0.000000       0.000000       0.000000   \n",
       "75%      0.0   0.000000      0.0   1.000000       1.000000       0.000000   \n",
       "max      0.0   1.000000      0.0   1.000000       3.000000       2.000000   \n",
       "std      0.0   0.242536      0.0   0.492592       1.231663       0.657360   \n",
       "\n",
       "      RestaurantsAttire     NoiseLevel        Smoking    AgesAllowed  \n",
       "count     105887.000000  105887.000000  105887.000000  105887.000000  \n",
       "mean           0.234457       0.447373       0.056759       0.001738  \n",
       "min            0.000000       0.000000       0.000000       0.000000  \n",
       "25%            0.000000       0.000000       0.000000       0.000000  \n",
       "50%            0.000000       0.000000       0.000000       0.000000  \n",
       "75%            0.000000       0.000000       0.000000       0.000000  \n",
       "max            3.000000       4.000000       3.000000       4.000000  \n",
       "std            0.440063       0.870518       0.317692       0.080589  \n",
       "\n",
       "[8 rows x 74 columns]"
      ]
     },
     "execution_count": 69,
     "metadata": {},
     "output_type": "execute_result"
    }
   ],
   "source": [
    "df_business.describe()"
   ]
  },
  {
   "cell_type": "markdown",
   "id": "d2586e1d-f012-42fc-a5fb-8f938d84e96c",
   "metadata": {
    "tags": []
   },
   "source": [
    "### Categories"
   ]
  },
  {
   "cell_type": "code",
   "execution_count": 70,
   "id": "b8bfe412-aae6-48d9-ab24-9d67a347f123",
   "metadata": {
    "tags": []
   },
   "outputs": [
    {
     "data": {
      "text/html": [
       "<div>\n",
       "<style scoped>\n",
       "    .dataframe tbody tr th:only-of-type {\n",
       "        vertical-align: middle;\n",
       "    }\n",
       "\n",
       "    .dataframe tbody tr th {\n",
       "        vertical-align: top;\n",
       "    }\n",
       "\n",
       "    .dataframe thead th {\n",
       "        text-align: right;\n",
       "    }\n",
       "</style>\n",
       "<table border=\"1\" class=\"dataframe\">\n",
       "  <thead>\n",
       "    <tr style=\"text-align: right;\">\n",
       "      <th></th>\n",
       "      <th>business_id</th>\n",
       "      <th>name</th>\n",
       "      <th>address</th>\n",
       "      <th>city</th>\n",
       "      <th>state</th>\n",
       "      <th>postal_code</th>\n",
       "      <th>latitude</th>\n",
       "      <th>longitude</th>\n",
       "      <th>stars</th>\n",
       "      <th>review_count</th>\n",
       "      <th>...</th>\n",
       "      <th>RestaurantsAttire</th>\n",
       "      <th>NoiseLevel</th>\n",
       "      <th>Ambience</th>\n",
       "      <th>GoodForMeal</th>\n",
       "      <th>Smoking</th>\n",
       "      <th>Music</th>\n",
       "      <th>BestNights</th>\n",
       "      <th>BYOBCorkage</th>\n",
       "      <th>HairSpecializesIn</th>\n",
       "      <th>AgesAllowed</th>\n",
       "    </tr>\n",
       "  </thead>\n",
       "  <tbody>\n",
       "    <tr>\n",
       "      <th>0</th>\n",
       "      <td>Pns2l4eNsfO8kk83dixA6A</td>\n",
       "      <td>Abby Rappoport, LAC, CMQ</td>\n",
       "      <td>1616 chapala st, ste 2</td>\n",
       "      <td>Santa Barbara</td>\n",
       "      <td>CA</td>\n",
       "      <td>93101</td>\n",
       "      <td>34.426679</td>\n",
       "      <td>-119.711197</td>\n",
       "      <td>5.0</td>\n",
       "      <td>7</td>\n",
       "      <td>...</td>\n",
       "      <td>0.0</td>\n",
       "      <td>0.0</td>\n",
       "      <td>NaN</td>\n",
       "      <td>NaN</td>\n",
       "      <td>0.0</td>\n",
       "      <td>NaN</td>\n",
       "      <td>NaN</td>\n",
       "      <td>0</td>\n",
       "      <td>NaN</td>\n",
       "      <td>0.0</td>\n",
       "    </tr>\n",
       "    <tr>\n",
       "      <th>1</th>\n",
       "      <td>MTSW4McQd7CbVtyjqoe9mw</td>\n",
       "      <td>St Honore Pastries</td>\n",
       "      <td>935 race st</td>\n",
       "      <td>Philadelphia</td>\n",
       "      <td>PA</td>\n",
       "      <td>19107</td>\n",
       "      <td>39.955505</td>\n",
       "      <td>-75.155564</td>\n",
       "      <td>4.0</td>\n",
       "      <td>80</td>\n",
       "      <td>...</td>\n",
       "      <td>0.0</td>\n",
       "      <td>0.0</td>\n",
       "      <td>NaN</td>\n",
       "      <td>NaN</td>\n",
       "      <td>0.0</td>\n",
       "      <td>NaN</td>\n",
       "      <td>NaN</td>\n",
       "      <td>0</td>\n",
       "      <td>NaN</td>\n",
       "      <td>0.0</td>\n",
       "    </tr>\n",
       "    <tr>\n",
       "      <th>2</th>\n",
       "      <td>mWMc6_wTdE0EUBKIGXDVfA</td>\n",
       "      <td>Perkiomen Valley Brewery</td>\n",
       "      <td>101 walnut st</td>\n",
       "      <td>Green Lane</td>\n",
       "      <td>PA</td>\n",
       "      <td>18054</td>\n",
       "      <td>40.338183</td>\n",
       "      <td>-75.471659</td>\n",
       "      <td>4.5</td>\n",
       "      <td>13</td>\n",
       "      <td>...</td>\n",
       "      <td>0.0</td>\n",
       "      <td>0.0</td>\n",
       "      <td>NaN</td>\n",
       "      <td>NaN</td>\n",
       "      <td>0.0</td>\n",
       "      <td>NaN</td>\n",
       "      <td>NaN</td>\n",
       "      <td>0</td>\n",
       "      <td>NaN</td>\n",
       "      <td>0.0</td>\n",
       "    </tr>\n",
       "    <tr>\n",
       "      <th>3</th>\n",
       "      <td>qkRM_2X51Yqxk3btlwAQIg</td>\n",
       "      <td>Temple Beth-El</td>\n",
       "      <td>400 pasadena ave s</td>\n",
       "      <td>St. Petersburg</td>\n",
       "      <td>FL</td>\n",
       "      <td>33707</td>\n",
       "      <td>27.766590</td>\n",
       "      <td>-82.732983</td>\n",
       "      <td>3.5</td>\n",
       "      <td>5</td>\n",
       "      <td>...</td>\n",
       "      <td>0.0</td>\n",
       "      <td>0.0</td>\n",
       "      <td>NaN</td>\n",
       "      <td>NaN</td>\n",
       "      <td>0.0</td>\n",
       "      <td>NaN</td>\n",
       "      <td>NaN</td>\n",
       "      <td>0</td>\n",
       "      <td>NaN</td>\n",
       "      <td>0.0</td>\n",
       "    </tr>\n",
       "    <tr>\n",
       "      <th>4</th>\n",
       "      <td>k0hlBqXX-Bt0vf1op7Jr1w</td>\n",
       "      <td>Tsevi's Pub And Grill</td>\n",
       "      <td>8025 mackenzie rd</td>\n",
       "      <td>Affton</td>\n",
       "      <td>MO</td>\n",
       "      <td>63123</td>\n",
       "      <td>38.565165</td>\n",
       "      <td>-90.321087</td>\n",
       "      <td>3.0</td>\n",
       "      <td>19</td>\n",
       "      <td>...</td>\n",
       "      <td>1.0</td>\n",
       "      <td>2.0</td>\n",
       "      <td>{'romantic': False, 'intimate': False, 'touris...</td>\n",
       "      <td>NaN</td>\n",
       "      <td>0.0</td>\n",
       "      <td>NaN</td>\n",
       "      <td>NaN</td>\n",
       "      <td>0</td>\n",
       "      <td>NaN</td>\n",
       "      <td>0.0</td>\n",
       "    </tr>\n",
       "  </tbody>\n",
       "</table>\n",
       "<p>5 rows × 115 columns</p>\n",
       "</div>"
      ],
      "text/plain": [
       "              business_id                      name                 address  \\\n",
       "0  Pns2l4eNsfO8kk83dixA6A  Abby Rappoport, LAC, CMQ  1616 chapala st, ste 2   \n",
       "1  MTSW4McQd7CbVtyjqoe9mw        St Honore Pastries             935 race st   \n",
       "2  mWMc6_wTdE0EUBKIGXDVfA  Perkiomen Valley Brewery           101 walnut st   \n",
       "3  qkRM_2X51Yqxk3btlwAQIg            Temple Beth-El      400 pasadena ave s   \n",
       "4  k0hlBqXX-Bt0vf1op7Jr1w     Tsevi's Pub And Grill       8025 mackenzie rd   \n",
       "\n",
       "             city state postal_code   latitude   longitude  stars  \\\n",
       "0   Santa Barbara    CA       93101  34.426679 -119.711197    5.0   \n",
       "1    Philadelphia    PA       19107  39.955505  -75.155564    4.0   \n",
       "2      Green Lane    PA       18054  40.338183  -75.471659    4.5   \n",
       "3  St. Petersburg    FL       33707  27.766590  -82.732983    3.5   \n",
       "4          Affton    MO       63123  38.565165  -90.321087    3.0   \n",
       "\n",
       "   review_count  ...  RestaurantsAttire NoiseLevel  \\\n",
       "0             7  ...                0.0        0.0   \n",
       "1            80  ...                0.0        0.0   \n",
       "2            13  ...                0.0        0.0   \n",
       "3             5  ...                0.0        0.0   \n",
       "4            19  ...                1.0        2.0   \n",
       "\n",
       "                                            Ambience GoodForMeal Smoking  \\\n",
       "0                                                NaN         NaN     0.0   \n",
       "1                                                NaN         NaN     0.0   \n",
       "2                                                NaN         NaN     0.0   \n",
       "3                                                NaN         NaN     0.0   \n",
       "4  {'romantic': False, 'intimate': False, 'touris...         NaN     0.0   \n",
       "\n",
       "  Music BestNights BYOBCorkage HairSpecializesIn AgesAllowed  \n",
       "0   NaN        NaN           0               NaN         0.0  \n",
       "1   NaN        NaN           0               NaN         0.0  \n",
       "2   NaN        NaN           0               NaN         0.0  \n",
       "3   NaN        NaN           0               NaN         0.0  \n",
       "4   NaN        NaN           0               NaN         0.0  \n",
       "\n",
       "[5 rows x 115 columns]"
      ]
     },
     "execution_count": 70,
     "metadata": {},
     "output_type": "execute_result"
    }
   ],
   "source": [
    "df_business.head()"
   ]
  },
  {
   "cell_type": "code",
   "execution_count": 71,
   "id": "fa36bf41-5486-4e6c-98f5-42e8f7d5f43c",
   "metadata": {
    "tags": []
   },
   "outputs": [],
   "source": [
    "# Create dataframe having only Restaurant business.\n",
    "all_cities = df_business[df_business['categories'].str.contains('Rest.*')==True]\n",
    "\n",
    "# Creating dummies dataframe from series for 'categories' \n",
    "df_rest = pd.Series(all_cities['categories']).str.get_dummies(',')\n",
    "\n",
    "# Dropping Restaurants and Food columns as this analysis is for Resturants and these words are common to all entries\n",
    "#df_rest.drop([\"Restaurants\", \" Restaurants\", \"Food\", \" Food\"], axis=1, inplace=True)\n",
    "\n",
    "# Removing the whitespaces from the column names\n",
    "df_rest.columns = df_rest.columns.str.lstrip()\n",
    "\n",
    "# Adding up all the rows to get the sum of columns and merging the columns with same names\n",
    "all_rest = df_rest.groupby(by=df_rest.columns, axis=1).sum()"
   ]
  },
  {
   "cell_type": "code",
   "execution_count": 72,
   "id": "1b03ef92-5baf-441d-a06a-9f1a3146a72f",
   "metadata": {
    "tags": []
   },
   "outputs": [
    {
     "data": {
      "text/html": [
       "<div>\n",
       "<style scoped>\n",
       "    .dataframe tbody tr th:only-of-type {\n",
       "        vertical-align: middle;\n",
       "    }\n",
       "\n",
       "    .dataframe tbody tr th {\n",
       "        vertical-align: top;\n",
       "    }\n",
       "\n",
       "    .dataframe thead th {\n",
       "        text-align: right;\n",
       "    }\n",
       "</style>\n",
       "<table border=\"1\" class=\"dataframe\">\n",
       "  <thead>\n",
       "    <tr style=\"text-align: right;\">\n",
       "      <th></th>\n",
       "    </tr>\n",
       "  </thead>\n",
       "  <tbody>\n",
       "  </tbody>\n",
       "</table>\n",
       "</div>"
      ],
      "text/plain": [
       "Empty DataFrame\n",
       "Columns: []\n",
       "Index: []"
      ]
     },
     "execution_count": 72,
     "metadata": {},
     "output_type": "execute_result"
    }
   ],
   "source": [
    "all_rest"
   ]
  },
  {
   "cell_type": "code",
   "execution_count": 73,
   "id": "3ba36f1c-17c6-4680-969b-7571449ddb80",
   "metadata": {
    "tags": []
   },
   "outputs": [],
   "source": [
    "\n",
    "# Reset index of the DataFrame containing categorical information\n",
    "all_rest.reset_index(inplace=True)\n",
    "\n",
    "# Merge the two DataFrames on the 'index' column\n",
    "df_business = df_business.merge(all_rest, left_index=True, right_index=True)\n",
    "\n",
    "# Drop the redundant 'index' column after merging\n",
    "df_business.drop(columns='index', inplace=True)\n",
    "\n",
    "# Now 'merged_df' contains the merged DataFrame with 'business_id' from 'df_business' and categorical information\n"
   ]
  },
  {
   "cell_type": "code",
   "execution_count": 74,
   "id": "1a725d49-8418-4835-8dd7-3dd558fa532e",
   "metadata": {
    "tags": []
   },
   "outputs": [],
   "source": [
    "#key for reference if we want to join\n",
    "#all_rest['business_id'] = df_business['business_id']"
   ]
  },
  {
   "cell_type": "code",
   "execution_count": 75,
   "id": "b856eda3-f08a-4a9e-a1b9-139556c15b8d",
   "metadata": {
    "tags": []
   },
   "outputs": [
    {
     "name": "stdout",
     "output_type": "stream",
     "text": [
      "Object-type columns:\n",
      "Index(['business_id', 'name', 'address', 'city', 'state', 'postal_code',\n",
      "       'attributes', 'categories', 'business_id', 'ByAppointmentOnly',\n",
      "       'RestaurantsDelivery', 'OutdoorSeating', 'BusinessAcceptsCreditCards',\n",
      "       'BikeParking', 'RestaurantsPriceRange2', 'RestaurantsTakeOut', 'Caters',\n",
      "       'WheelchairAccessible', 'GoodForKids', 'HasTV',\n",
      "       'RestaurantsReservations', 'RestaurantsGoodForGroups',\n",
      "       'BusinessAcceptsBitcoin', 'RestaurantsTableService', 'DogsAllowed',\n",
      "       'HappyHour', 'DriveThru', 'GoodForDancing', 'AcceptsInsurance',\n",
      "       'CoatCheck', 'BYOB', 'Corkage', 'Open24Hours',\n",
      "       'RestaurantsCounterService', 'BusinessParking', 'Ambience',\n",
      "       'GoodForMeal', 'Music', 'BestNights', 'BYOBCorkage',\n",
      "       'HairSpecializesIn'],\n",
      "      dtype='object')\n"
     ]
    }
   ],
   "source": [
    "\n",
    "object_columns = df_business.select_dtypes(include='object').columns\n",
    "\n",
    "print(\"Object-type columns:\")\n",
    "print(object_columns)\n"
   ]
  },
  {
   "cell_type": "code",
   "execution_count": 76,
   "id": "a82b296a-d77f-4baf-b4d8-6f99dd56696c",
   "metadata": {
    "tags": []
   },
   "outputs": [
    {
     "name": "stdout",
     "output_type": "stream",
     "text": [
      "Object-type columns:\n",
      "Index(['business_id', 'name', 'address', 'city', 'state', 'postal_code',\n",
      "       'attributes', 'categories', 'business_id', 'ByAppointmentOnly',\n",
      "       'RestaurantsDelivery', 'OutdoorSeating', 'BusinessAcceptsCreditCards',\n",
      "       'BikeParking', 'RestaurantsPriceRange2', 'RestaurantsTakeOut', 'Caters',\n",
      "       'WheelchairAccessible', 'GoodForKids', 'HasTV',\n",
      "       'RestaurantsReservations', 'RestaurantsGoodForGroups',\n",
      "       'BusinessAcceptsBitcoin', 'RestaurantsTableService', 'DogsAllowed',\n",
      "       'HappyHour', 'DriveThru', 'GoodForDancing', 'AcceptsInsurance',\n",
      "       'CoatCheck', 'BYOB', 'Corkage', 'Open24Hours',\n",
      "       'RestaurantsCounterService', 'BusinessParking', 'Ambience',\n",
      "       'GoodForMeal', 'Music', 'BestNights', 'BYOBCorkage',\n",
      "       'HairSpecializesIn'],\n",
      "      dtype='object')\n"
     ]
    }
   ],
   "source": [
    "object_columns = df_business.select_dtypes(include='object').columns\n",
    "\n",
    "print(\"Object-type columns:\")\n",
    "print(object_columns)"
   ]
  },
  {
   "cell_type": "markdown",
   "id": "377bb130-c520-4d5b-880e-0e3b20ae51b3",
   "metadata": {
    "tags": []
   },
   "source": [
    "### Address"
   ]
  },
  {
   "cell_type": "code",
   "execution_count": 77,
   "id": "1b268b46-4db8-4ed0-9413-8ab1c91aa69f",
   "metadata": {
    "tags": []
   },
   "outputs": [],
   "source": [
    "#create copy\n",
    "df_bus_adr = df_business.copy()\n",
    "#make everything lower case\n",
    "df_bus_adr['address'] = df_bus_adr['address'].str.lower()\n",
    "#remove punctuation\n",
    "df_bus_adr['address'] = df_bus_adr['address'].str.replace('[^\\w\\s]','')"
   ]
  },
  {
   "cell_type": "code",
   "execution_count": 78,
   "id": "3347a7cd-9448-4248-bd6b-dc2bc1c5cc38",
   "metadata": {
    "tags": []
   },
   "outputs": [],
   "source": [
    "from collections import Counter\n",
    "#define counter object\n",
    "adr_counter = Counter()\n",
    "#loop over every address entry\n",
    "for add in df_bus_adr.address:\n",
    "    #loop over each individial word\n",
    "    for word in add.lower().split():\n",
    "        #add word to counter\n",
    "        adr_counter[word] +=1"
   ]
  },
  {
   "cell_type": "code",
   "execution_count": 79,
   "id": "79f058ea-5d21-4fbc-b3db-21193c257732",
   "metadata": {
    "tags": []
   },
   "outputs": [
    {
     "name": "stdout",
     "output_type": "stream",
     "text": [
      "[]\n"
     ]
    }
   ],
   "source": [
    "#list top k words\n",
    "print(adr_counter.most_common(100))"
   ]
  },
  {
   "cell_type": "code",
   "execution_count": 80,
   "id": "03893204-c9c9-4bb1-8cc3-2a6ac6e64f8b",
   "metadata": {
    "tags": []
   },
   "outputs": [],
   "source": [
    "#road type mapping to homogenize road names\n",
    "road_type_dict = {'rd': 'road','rue': 'road', 'avenue': 'ave',\n",
    "                  'street': 'str', 'blvd': 'boulevard',\n",
    "                  'drive': 'dr', 'highway': 'hwy',\n",
    "                  'parkway': 'pkwy', 'center': 'ct', 'lane': 'ln'}\n",
    "\n",
    "#replace names\n",
    "df_bus_adr['address'] = df_bus_adr['address'].replace(road_type_dict, regex=True)"
   ]
  },
  {
   "cell_type": "code",
   "execution_count": 81,
   "id": "0a881a7d-6719-46e2-920a-73a9da1e0e28",
   "metadata": {
    "tags": []
   },
   "outputs": [
    {
     "name": "stdout",
     "output_type": "stream",
     "text": [
      "['ln', 'ave', 'road', 'boulevard', 'hwy', 'str', 'dr', 'pkwy', 'ct']\n"
     ]
    }
   ],
   "source": [
    "#get list of finalized road values\n",
    "#set to remove duplicates\n",
    "road_types_list = list(set(road_type_dict.values()))\n",
    "print(road_types_list)"
   ]
  },
  {
   "cell_type": "code",
   "execution_count": 82,
   "id": "e9583c8f-a7fa-4ffd-b805-10b258afa33a",
   "metadata": {
    "tags": []
   },
   "outputs": [
    {
     "data": {
      "text/html": [
       "<div>\n",
       "<style scoped>\n",
       "    .dataframe tbody tr th:only-of-type {\n",
       "        vertical-align: middle;\n",
       "    }\n",
       "\n",
       "    .dataframe tbody tr th {\n",
       "        vertical-align: top;\n",
       "    }\n",
       "\n",
       "    .dataframe thead th {\n",
       "        text-align: right;\n",
       "    }\n",
       "</style>\n",
       "<table border=\"1\" class=\"dataframe\">\n",
       "  <thead>\n",
       "    <tr style=\"text-align: right;\">\n",
       "      <th></th>\n",
       "      <th>ln</th>\n",
       "      <th>ave</th>\n",
       "      <th>road</th>\n",
       "      <th>boulevard</th>\n",
       "      <th>hwy</th>\n",
       "      <th>str</th>\n",
       "      <th>dr</th>\n",
       "      <th>pkwy</th>\n",
       "      <th>ct</th>\n",
       "    </tr>\n",
       "  </thead>\n",
       "  <tbody>\n",
       "  </tbody>\n",
       "</table>\n",
       "</div>"
      ],
      "text/plain": [
       "Empty DataFrame\n",
       "Columns: [ln, ave, road, boulevard, hwy, str, dr, pkwy, ct]\n",
       "Index: []"
      ]
     },
     "execution_count": 82,
     "metadata": {},
     "output_type": "execute_result"
    }
   ],
   "source": [
    "#dict for dummies\n",
    "road_col_dict = {}\n",
    "#iterate over road types\n",
    "for road in road_types_list:\n",
    "    #create a dummy for that type\n",
    "    dum_col = df_bus_adr['address'].str.contains(road)\n",
    "    #add it to the dict\n",
    "    road_col_dict[road] = dum_col\n",
    "\n",
    "#convert boolean to 1/0\n",
    "road_type_df = pd.DataFrame.from_dict(road_col_dict).replace({False:0, True:1})\n",
    "\n",
    "road_type_df.head()"
   ]
  },
  {
   "cell_type": "code",
   "execution_count": 83,
   "id": "60a7e3a3-7125-43ae-a719-d2976de2336b",
   "metadata": {
    "tags": []
   },
   "outputs": [],
   "source": [
    "#save the work\n",
    "road_type_df.to_csv(path_or_buf='data/cleaned/business_roadtype.csv')"
   ]
  },
  {
   "cell_type": "code",
   "execution_count": 84,
   "id": "e2443c76-ff04-4bfb-ae32-2bc06692c22d",
   "metadata": {
    "tags": []
   },
   "outputs": [
    {
     "name": "stdout",
     "output_type": "stream",
     "text": [
      "Empty DataFrame\n",
      "Columns: [business_id, name, address, city, state, postal_code, latitude, longitude, stars, review_count, is_open, attributes, categories, Monday_open, Monday_close, Tuesday_open, Tuesday_close, Wednesday_open, Wednesday_close, Thursday_open, Thursday_close, Friday_open, Friday_close, Saturday_open, Saturday_close, Sunday_open, Sunday_close, business_id, ByAppointmentOnly, RestaurantsDelivery, OutdoorSeating, BusinessAcceptsCreditCards, BikeParking, RestaurantsPriceRange2, RestaurantsTakeOut, Caters, WheelchairAccessible, GoodForKids, HasTV, RestaurantsReservations, RestaurantsGoodForGroups, BusinessAcceptsBitcoin, RestaurantsTableService, DogsAllowed, HappyHour, DriveThru, GoodForDancing, AcceptsInsurance, CoatCheck, BYOB, Corkage, Open24Hours, RestaurantsCounterService, garage, street, validated, lot, valet, romantic, intimate, touristy, hipster, divey, classy, trendy, upscale, casual, dessert, latenight, lunch, dinner, brunch, breakfast, dj, background_music, no_music, jukebox, live, video, karaoke, monday, tuesday, friday, wednesday, thursday, sunday, saturday, straightperms, coloring, extensions, africanamerican, curly, kids, perms, asian, dairy_free, gluten_free, vegan, kosher, halal, ...]\n",
      "Index: []\n",
      "\n",
      "[0 rows x 124 columns]\n"
     ]
    }
   ],
   "source": [
    "\n",
    "# Add \"address_\" prefix to all column names\n",
    "road_type_df.columns = ['address_' + col for col in road_type_df.columns]\n",
    "\n",
    "# Create a DataFrame with the prefix columns\n",
    "prefixes_df = road_type_df.copy()\n",
    "\n",
    "# Merge the prefix DataFrame with df_business\n",
    "df_business = pd.concat([df_business, prefixes_df], axis=1)\n",
    "\n",
    "# Display the updated DataFrame\n",
    "print(df_business.head())\n"
   ]
  },
  {
   "cell_type": "code",
   "execution_count": 85,
   "id": "1e241828-ee16-46bd-a05a-3a6500a356e5",
   "metadata": {
    "tags": []
   },
   "outputs": [],
   "source": [
    "df_business.drop(columns='address',inplace=True)"
   ]
  },
  {
   "cell_type": "code",
   "execution_count": 86,
   "id": "51baa139-7ab3-47d0-891f-c8bf30cd2430",
   "metadata": {
    "tags": []
   },
   "outputs": [
    {
     "data": {
      "text/plain": [
       "business_id     object\n",
       "name            object\n",
       "city            object\n",
       "state           object\n",
       "postal_code     object\n",
       "                 ...  \n",
       "address_hwy       bool\n",
       "address_str       bool\n",
       "address_dr        bool\n",
       "address_pkwy      bool\n",
       "address_ct        bool\n",
       "Length: 123, dtype: object"
      ]
     },
     "execution_count": 86,
     "metadata": {},
     "output_type": "execute_result"
    }
   ],
   "source": [
    "df_business.dtypes"
   ]
  },
  {
   "cell_type": "markdown",
   "id": "c887829c-86d2-4b4b-b31b-af50d568d612",
   "metadata": {},
   "source": [
    "Is_open"
   ]
  },
  {
   "cell_type": "code",
   "execution_count": 87,
   "id": "01bba109-ddf7-418f-ad64-803b276253b1",
   "metadata": {
    "tags": []
   },
   "outputs": [],
   "source": [
    "# Convert 'Is_open' to boolean\n",
    "df_business['is_open'] = df_business['is_open'].astype(bool)\n"
   ]
  },
  {
   "cell_type": "code",
   "execution_count": 88,
   "id": "7145a335-6783-43d6-ab8e-ac292e3433fd",
   "metadata": {
    "tags": []
   },
   "outputs": [
    {
     "data": {
      "text/plain": [
       "Series([], Name: count, dtype: int64)"
      ]
     },
     "execution_count": 88,
     "metadata": {},
     "output_type": "execute_result"
    }
   ],
   "source": [
    "df_business['is_open'].value_counts()"
   ]
  },
  {
   "cell_type": "markdown",
   "id": "1d162595-d50b-4042-abc4-6c5fa44b6d2c",
   "metadata": {
    "tags": []
   },
   "source": [
    "#### Merging Checkin"
   ]
  },
  {
   "cell_type": "code",
   "execution_count": 89,
   "id": "6b32b789-e6bf-4a18-924a-c38f5eb1bd13",
   "metadata": {
    "tags": []
   },
   "outputs": [
    {
     "data": {
      "text/plain": [
       "business_id                               --0iUa4sNDFiZFrAdIWhZQ\n",
       "date           2010-09-13 21:43:09, 2011-05-04 23:08:15, 2011...\n",
       "Name: 1, dtype: object"
      ]
     },
     "execution_count": 89,
     "metadata": {},
     "output_type": "execute_result"
    }
   ],
   "source": [
    "df_checkin.iloc[1]"
   ]
  },
  {
   "cell_type": "code",
   "execution_count": 90,
   "id": "3705aa49-6e3c-4b3b-b890-4faf4c6cbbdc",
   "metadata": {
    "tags": []
   },
   "outputs": [
    {
     "data": {
      "text/html": [
       "<div>\n",
       "<style scoped>\n",
       "    .dataframe tbody tr th:only-of-type {\n",
       "        vertical-align: middle;\n",
       "    }\n",
       "\n",
       "    .dataframe tbody tr th {\n",
       "        vertical-align: top;\n",
       "    }\n",
       "\n",
       "    .dataframe thead th {\n",
       "        text-align: right;\n",
       "    }\n",
       "</style>\n",
       "<table border=\"1\" class=\"dataframe\">\n",
       "  <thead>\n",
       "    <tr style=\"text-align: right;\">\n",
       "      <th></th>\n",
       "      <th>business_id</th>\n",
       "      <th>date</th>\n",
       "    </tr>\n",
       "  </thead>\n",
       "  <tbody>\n",
       "    <tr>\n",
       "      <th>0</th>\n",
       "      <td>---kPU91CF4Lq2-WlRu9Lw</td>\n",
       "      <td>2020-03-13 21:10:56, 2020-06-02 22:18:06, 2020...</td>\n",
       "    </tr>\n",
       "    <tr>\n",
       "      <th>1</th>\n",
       "      <td>--0iUa4sNDFiZFrAdIWhZQ</td>\n",
       "      <td>2010-09-13 21:43:09, 2011-05-04 23:08:15, 2011...</td>\n",
       "    </tr>\n",
       "    <tr>\n",
       "      <th>2</th>\n",
       "      <td>--30_8IhuyMHbSOcNWd6DQ</td>\n",
       "      <td>2013-06-14 23:29:17, 2014-08-13 23:20:22</td>\n",
       "    </tr>\n",
       "    <tr>\n",
       "      <th>3</th>\n",
       "      <td>--7PUidqRWpRSpXebiyxTg</td>\n",
       "      <td>2011-02-15 17:12:00, 2011-07-28 02:46:10, 2012...</td>\n",
       "    </tr>\n",
       "    <tr>\n",
       "      <th>4</th>\n",
       "      <td>--7jw19RH9JKXgFohspgQw</td>\n",
       "      <td>2014-04-21 20:42:11, 2014-04-28 21:04:46, 2014...</td>\n",
       "    </tr>\n",
       "  </tbody>\n",
       "</table>\n",
       "</div>"
      ],
      "text/plain": [
       "              business_id                                               date\n",
       "0  ---kPU91CF4Lq2-WlRu9Lw  2020-03-13 21:10:56, 2020-06-02 22:18:06, 2020...\n",
       "1  --0iUa4sNDFiZFrAdIWhZQ  2010-09-13 21:43:09, 2011-05-04 23:08:15, 2011...\n",
       "2  --30_8IhuyMHbSOcNWd6DQ           2013-06-14 23:29:17, 2014-08-13 23:20:22\n",
       "3  --7PUidqRWpRSpXebiyxTg  2011-02-15 17:12:00, 2011-07-28 02:46:10, 2012...\n",
       "4  --7jw19RH9JKXgFohspgQw  2014-04-21 20:42:11, 2014-04-28 21:04:46, 2014..."
      ]
     },
     "execution_count": 90,
     "metadata": {},
     "output_type": "execute_result"
    }
   ],
   "source": [
    "df_checkin.head()"
   ]
  },
  {
   "cell_type": "code",
   "execution_count": 91,
   "id": "6913a7d1-e9a9-4671-817b-be18dc222361",
   "metadata": {
    "tags": []
   },
   "outputs": [
    {
     "name": "stdout",
     "output_type": "stream",
     "text": [
      "                 business_id  \\\n",
      "0     ---kPU91CF4Lq2-WlRu9Lw   \n",
      "1     --0iUa4sNDFiZFrAdIWhZQ   \n",
      "2     --30_8IhuyMHbSOcNWd6DQ   \n",
      "3     --7PUidqRWpRSpXebiyxTg   \n",
      "4     --7jw19RH9JKXgFohspgQw   \n",
      "...                      ...   \n",
      "9995  3mmdlUolqZUWb4mARAmYjw   \n",
      "9996  3modvHvkGiGhJdnu7G0cbA   \n",
      "9997  3mu3ijii3J4WYDQz-RxCMA   \n",
      "9998  3mvxD13_It5uFt-uEjH_Gw   \n",
      "9999  3n1eMMBYX6pUbi8GwTLTiQ   \n",
      "\n",
      "                                                   date          start_date  \n",
      "0     [2020-03-13 21:10:56, 2020-06-02 22:18:06, 202... 2020-03-13 21:10:56  \n",
      "1     [2010-09-13 21:43:09, 2011-05-04 23:08:15, 201... 2010-09-13 21:43:09  \n",
      "2            [2013-06-14 23:29:17, 2014-08-13 23:20:22] 2013-06-14 23:29:17  \n",
      "3     [2011-02-15 17:12:00, 2011-07-28 02:46:10, 201... 2011-02-15 17:12:00  \n",
      "4     [2014-04-21 20:42:11, 2014-04-28 21:04:46, 201... 2014-04-21 20:42:11  \n",
      "...                                                 ...                 ...  \n",
      "9995  [2017-11-07 00:54:32, 2017-11-11 23:10:56, 201... 2017-11-07 00:54:32  \n",
      "9996         [2017-10-14 18:35:58, 2019-11-19 21:58:35] 2017-10-14 18:35:58  \n",
      "9997  [2015-12-08 18:11:17, 2015-12-12 13:38:37, 201... 2015-12-08 18:11:17  \n",
      "9998  [2010-06-29 23:58:14, 2010-07-24 05:27:39, 201... 2010-06-29 23:58:14  \n",
      "9999  [2014-09-30 17:05:14, 2014-10-07 15:52:32, 201... 2014-09-30 17:05:14  \n",
      "\n",
      "[10000 rows x 3 columns]\n"
     ]
    }
   ],
   "source": [
    "\n",
    "# Split the 'date' column by commas and convert each datetime string to a datetime object\n",
    "df_checkin['date'] = df_checkin['date'].str.split(',').apply(lambda x: [pd.to_datetime(date_str.strip()) for date_str in x])\n",
    "\n",
    "# Get the first date for each row\n",
    "df_checkin['start_date'] = df_checkin['date'].apply(lambda x: min(x) if x else None)\n",
    "\n",
    "# Display the DataFrame with the start date for each row\n",
    "print(df_checkin)\n"
   ]
  },
  {
   "cell_type": "code",
   "execution_count": 92,
   "id": "8bd75772-be95-4f8e-86cf-faa2ba2725d1",
   "metadata": {
    "tags": []
   },
   "outputs": [],
   "source": [
    "df_checkin.drop(columns='date',inplace=True)"
   ]
  },
  {
   "cell_type": "code",
   "execution_count": 93,
   "id": "23047ba6-e640-49e8-ade1-89242ad79a54",
   "metadata": {
    "tags": []
   },
   "outputs": [
    {
     "name": "stdout",
     "output_type": "stream",
     "text": [
      "<class 'pandas.core.frame.DataFrame'>\n",
      "RangeIndex: 0 entries\n",
      "Columns: 123 entries, business_id to address_ct\n",
      "dtypes: bool(10), datetime64[ns](14), float64(58), int64(1), object(40)\n",
      "memory usage: 132.0+ bytes\n"
     ]
    }
   ],
   "source": [
    "df_business.info()"
   ]
  },
  {
   "cell_type": "code",
   "execution_count": 94,
   "id": "7c229814-ee7f-4732-90da-397ef57526f2",
   "metadata": {
    "tags": []
   },
   "outputs": [
    {
     "data": {
      "text/html": [
       "<div>\n",
       "<style scoped>\n",
       "    .dataframe tbody tr th:only-of-type {\n",
       "        vertical-align: middle;\n",
       "    }\n",
       "\n",
       "    .dataframe tbody tr th {\n",
       "        vertical-align: top;\n",
       "    }\n",
       "\n",
       "    .dataframe thead th {\n",
       "        text-align: right;\n",
       "    }\n",
       "</style>\n",
       "<table border=\"1\" class=\"dataframe\">\n",
       "  <thead>\n",
       "    <tr style=\"text-align: right;\">\n",
       "      <th></th>\n",
       "      <th>business_id</th>\n",
       "      <th>name</th>\n",
       "      <th>city</th>\n",
       "      <th>state</th>\n",
       "      <th>postal_code</th>\n",
       "      <th>latitude</th>\n",
       "      <th>longitude</th>\n",
       "      <th>stars</th>\n",
       "      <th>review_count</th>\n",
       "      <th>is_open</th>\n",
       "      <th>...</th>\n",
       "      <th>AgesAllowed</th>\n",
       "      <th>address_ln</th>\n",
       "      <th>address_ave</th>\n",
       "      <th>address_road</th>\n",
       "      <th>address_boulevard</th>\n",
       "      <th>address_hwy</th>\n",
       "      <th>address_str</th>\n",
       "      <th>address_dr</th>\n",
       "      <th>address_pkwy</th>\n",
       "      <th>address_ct</th>\n",
       "    </tr>\n",
       "  </thead>\n",
       "  <tbody>\n",
       "  </tbody>\n",
       "</table>\n",
       "<p>0 rows × 123 columns</p>\n",
       "</div>"
      ],
      "text/plain": [
       "Empty DataFrame\n",
       "Columns: [business_id, name, city, state, postal_code, latitude, longitude, stars, review_count, is_open, attributes, categories, Monday_open, Monday_close, Tuesday_open, Tuesday_close, Wednesday_open, Wednesday_close, Thursday_open, Thursday_close, Friday_open, Friday_close, Saturday_open, Saturday_close, Sunday_open, Sunday_close, business_id, ByAppointmentOnly, RestaurantsDelivery, OutdoorSeating, BusinessAcceptsCreditCards, BikeParking, RestaurantsPriceRange2, RestaurantsTakeOut, Caters, WheelchairAccessible, GoodForKids, HasTV, RestaurantsReservations, RestaurantsGoodForGroups, BusinessAcceptsBitcoin, RestaurantsTableService, DogsAllowed, HappyHour, DriveThru, GoodForDancing, AcceptsInsurance, CoatCheck, BYOB, Corkage, Open24Hours, RestaurantsCounterService, garage, street, validated, lot, valet, romantic, intimate, touristy, hipster, divey, classy, trendy, upscale, casual, dessert, latenight, lunch, dinner, brunch, breakfast, dj, background_music, no_music, jukebox, live, video, karaoke, monday, tuesday, friday, wednesday, thursday, sunday, saturday, straightperms, coloring, extensions, africanamerican, curly, kids, perms, asian, dairy_free, gluten_free, vegan, kosher, halal, soy_free, ...]\n",
       "Index: []\n",
       "\n",
       "[0 rows x 123 columns]"
      ]
     },
     "execution_count": 94,
     "metadata": {},
     "output_type": "execute_result"
    }
   ],
   "source": [
    "df_business.head()"
   ]
  },
  {
   "cell_type": "markdown",
   "id": "7b237976-7fcf-41f6-90c7-d0096064b105",
   "metadata": {},
   "source": [
    "#### Merging Users and Reviews"
   ]
  },
  {
   "cell_type": "code",
   "execution_count": 95,
   "id": "4e205406-f1f4-4d7b-846f-158fac188c03",
   "metadata": {
    "tags": []
   },
   "outputs": [
    {
     "data": {
      "text/plain": [
       "review_id                                 KU_O5udG6zpxOg-VcAEodg\n",
       "user_id                                   mh_-eMZ6K5RLWhZyISBhwA\n",
       "business_id                               XQfwVwDr-v0ZS3_CbbE5Xw\n",
       "stars                                                          3\n",
       "useful                                                         0\n",
       "funny                                                          0\n",
       "cool                                                           0\n",
       "text           If you decide to eat here, just be aware it is...\n",
       "date                                         2018-07-07 22:09:11\n",
       "Name: 0, dtype: object"
      ]
     },
     "execution_count": 95,
     "metadata": {},
     "output_type": "execute_result"
    }
   ],
   "source": [
    "df_review.iloc[0]"
   ]
  },
  {
   "cell_type": "code",
   "execution_count": 98,
   "id": "85a904f2-26c4-479a-9ff0-0b54b0c78b14",
   "metadata": {
    "tags": []
   },
   "outputs": [],
   "source": [
    "df_review.drop(columns=['review_id','user_id','useful','funny','cool'],inplace=True)\n"
   ]
  },
  {
   "cell_type": "code",
   "execution_count": 99,
   "id": "fb7bee19-5f14-4772-9cb8-f856b841519f",
   "metadata": {
    "tags": []
   },
   "outputs": [],
   "source": [
    "# Merge the two DataFrames on 'Business ID'\n",
    "#merged_df = pd.merge(df_business, df_review, on='business_id', how='left')\n",
    "\n",
    "# Display the merged DataFrame\n",
    "#print(merged_df.head())"
   ]
  },
  {
   "cell_type": "code",
   "execution_count": 100,
   "id": "48de8da2-0e86-4cf3-b57a-2ac5ad84ab08",
   "metadata": {
    "tags": []
   },
   "outputs": [
    {
     "data": {
      "text/plain": [
       "(3930, 3)"
      ]
     },
     "execution_count": 100,
     "metadata": {},
     "output_type": "execute_result"
    }
   ],
   "source": [
    "merged_df.shape"
   ]
  },
  {
   "cell_type": "code",
   "execution_count": 101,
   "id": "6a6ea8d1-1de2-4494-82de-df3cf8e2cc1f",
   "metadata": {
    "tags": []
   },
   "outputs": [],
   "source": [
    "#merged_df.isna().mean()"
   ]
  },
  {
   "cell_type": "markdown",
   "id": "8a4c2e57-26ba-4d1b-907f-f2b3b1533c71",
   "metadata": {},
   "source": [
    "Getting rid of business Id as we do not need anymore"
   ]
  },
  {
   "cell_type": "code",
   "execution_count": 102,
   "id": "ad2ea06a-2aff-4947-9bc9-46f4991e80a2",
   "metadata": {
    "tags": []
   },
   "outputs": [],
   "source": [
    "\n",
    "#merged_df.to_json('data\\cleaned_dataset.json', orient='records')"
   ]
  },
  {
   "cell_type": "code",
   "execution_count": 103,
   "id": "b17c4e1c-ff25-4650-a2df-029c42bbc4a6",
   "metadata": {
    "tags": []
   },
   "outputs": [],
   "source": [
    "# Joining the datasets on the 'business_id' column\n",
    "#merged_df = pd.merge(df_business, df_atr_conc, on='business_id', how='left')\n",
    "\n",
    "# Displaying the merged DataFrame\n",
    "#print(merged_df)\n"
   ]
  },
  {
   "cell_type": "code",
   "execution_count": 104,
   "id": "c719d4d9-44b8-46c5-b020-3e37ae48f66d",
   "metadata": {
    "tags": []
   },
   "outputs": [
    {
     "data": {
      "text/html": [
       "<div>\n",
       "<style scoped>\n",
       "    .dataframe tbody tr th:only-of-type {\n",
       "        vertical-align: middle;\n",
       "    }\n",
       "\n",
       "    .dataframe tbody tr th {\n",
       "        vertical-align: top;\n",
       "    }\n",
       "\n",
       "    .dataframe thead th {\n",
       "        text-align: right;\n",
       "    }\n",
       "</style>\n",
       "<table border=\"1\" class=\"dataframe\">\n",
       "  <thead>\n",
       "    <tr style=\"text-align: right;\">\n",
       "      <th></th>\n",
       "      <th>business_id</th>\n",
       "      <th>name</th>\n",
       "      <th>city</th>\n",
       "      <th>state</th>\n",
       "      <th>postal_code</th>\n",
       "      <th>latitude</th>\n",
       "      <th>longitude</th>\n",
       "      <th>stars</th>\n",
       "      <th>review_count</th>\n",
       "      <th>is_open</th>\n",
       "      <th>...</th>\n",
       "      <th>AgesAllowed</th>\n",
       "      <th>address_ln</th>\n",
       "      <th>address_ave</th>\n",
       "      <th>address_road</th>\n",
       "      <th>address_boulevard</th>\n",
       "      <th>address_hwy</th>\n",
       "      <th>address_str</th>\n",
       "      <th>address_dr</th>\n",
       "      <th>address_pkwy</th>\n",
       "      <th>address_ct</th>\n",
       "    </tr>\n",
       "  </thead>\n",
       "  <tbody>\n",
       "  </tbody>\n",
       "</table>\n",
       "<p>0 rows × 123 columns</p>\n",
       "</div>"
      ],
      "text/plain": [
       "Empty DataFrame\n",
       "Columns: [business_id, name, city, state, postal_code, latitude, longitude, stars, review_count, is_open, attributes, categories, Monday_open, Monday_close, Tuesday_open, Tuesday_close, Wednesday_open, Wednesday_close, Thursday_open, Thursday_close, Friday_open, Friday_close, Saturday_open, Saturday_close, Sunday_open, Sunday_close, business_id, ByAppointmentOnly, RestaurantsDelivery, OutdoorSeating, BusinessAcceptsCreditCards, BikeParking, RestaurantsPriceRange2, RestaurantsTakeOut, Caters, WheelchairAccessible, GoodForKids, HasTV, RestaurantsReservations, RestaurantsGoodForGroups, BusinessAcceptsBitcoin, RestaurantsTableService, DogsAllowed, HappyHour, DriveThru, GoodForDancing, AcceptsInsurance, CoatCheck, BYOB, Corkage, Open24Hours, RestaurantsCounterService, garage, street, validated, lot, valet, romantic, intimate, touristy, hipster, divey, classy, trendy, upscale, casual, dessert, latenight, lunch, dinner, brunch, breakfast, dj, background_music, no_music, jukebox, live, video, karaoke, monday, tuesday, friday, wednesday, thursday, sunday, saturday, straightperms, coloring, extensions, africanamerican, curly, kids, perms, asian, dairy_free, gluten_free, vegan, kosher, halal, soy_free, ...]\n",
       "Index: []\n",
       "\n",
       "[0 rows x 123 columns]"
      ]
     },
     "execution_count": 104,
     "metadata": {},
     "output_type": "execute_result"
    }
   ],
   "source": [
    "df_business"
   ]
  },
  {
   "cell_type": "markdown",
   "id": "6647d71b-0745-4d0f-a747-6c4975fff2f5",
   "metadata": {},
   "source": [
    "## EDA"
   ]
  },
  {
   "cell_type": "markdown",
   "id": "8f1c2022-6f93-4db7-80c4-2c006c4a9ff1",
   "metadata": {},
   "source": [
    "\n",
    "Before proceeding with modeling, it's essential to derive useful insights from visualizations to better understand the data. By visualizing the data, we can identify patterns, trends, and relationships that can inform our modeling approach. "
   ]
  },
  {
   "cell_type": "code",
   "execution_count": 105,
   "id": "622302f8-ef3f-4c85-801a-420f547752bc",
   "metadata": {
    "tags": []
   },
   "outputs": [
    {
     "ename": "ValueError",
     "evalue": "Invalid color argument: []",
     "output_type": "error",
     "traceback": [
      "\u001b[0;31m---------------------------------------------------------------------------\u001b[0m",
      "\u001b[0;31mValueError\u001b[0m                                Traceback (most recent call last)",
      "Cell \u001b[0;32mIn[105], line 11\u001b[0m\n\u001b[1;32m      8\u001b[0m colors \u001b[38;5;241m=\u001b[39m plt\u001b[38;5;241m.\u001b[39mcm\u001b[38;5;241m.\u001b[39mtab10(\u001b[38;5;28mrange\u001b[39m(\u001b[38;5;28mlen\u001b[39m(category_counts)))  \u001b[38;5;66;03m# Choose colors from a predefined colormap\u001b[39;00m\n\u001b[1;32m     10\u001b[0m \u001b[38;5;66;03m# Plot the bar chart with customizations\u001b[39;00m\n\u001b[0;32m---> 11\u001b[0m category_counts\u001b[38;5;241m.\u001b[39msort_values()\u001b[38;5;241m.\u001b[39mplot(kind\u001b[38;5;241m=\u001b[39m\u001b[38;5;124m'\u001b[39m\u001b[38;5;124mbarh\u001b[39m\u001b[38;5;124m'\u001b[39m, color\u001b[38;5;241m=\u001b[39mcolors)\n\u001b[1;32m     12\u001b[0m plt\u001b[38;5;241m.\u001b[39mtitle(\u001b[38;5;124m'\u001b[39m\u001b[38;5;124mTop 10 Categories of Businesses\u001b[39m\u001b[38;5;124m'\u001b[39m, fontsize\u001b[38;5;241m=\u001b[39m\u001b[38;5;241m16\u001b[39m, fontweight\u001b[38;5;241m=\u001b[39m\u001b[38;5;124m'\u001b[39m\u001b[38;5;124mbold\u001b[39m\u001b[38;5;124m'\u001b[39m)  \u001b[38;5;66;03m# Set title with custom font size and weight\u001b[39;00m\n\u001b[1;32m     13\u001b[0m plt\u001b[38;5;241m.\u001b[39mxlabel(\u001b[38;5;124m'\u001b[39m\u001b[38;5;124mCount\u001b[39m\u001b[38;5;124m'\u001b[39m, fontsize\u001b[38;5;241m=\u001b[39m\u001b[38;5;241m14\u001b[39m)  \u001b[38;5;66;03m# Set x-axis label with custom font size\u001b[39;00m\n",
      "File \u001b[0;32m~/anaconda3/lib/python3.11/site-packages/pandas/plotting/_core.py:975\u001b[0m, in \u001b[0;36mPlotAccessor.__call__\u001b[0;34m(self, *args, **kwargs)\u001b[0m\n\u001b[1;32m    972\u001b[0m             label_name \u001b[38;5;241m=\u001b[39m label_kw \u001b[38;5;129;01mor\u001b[39;00m data\u001b[38;5;241m.\u001b[39mcolumns\n\u001b[1;32m    973\u001b[0m             data\u001b[38;5;241m.\u001b[39mcolumns \u001b[38;5;241m=\u001b[39m label_name\n\u001b[0;32m--> 975\u001b[0m \u001b[38;5;28;01mreturn\u001b[39;00m plot_backend\u001b[38;5;241m.\u001b[39mplot(data, kind\u001b[38;5;241m=\u001b[39mkind, \u001b[38;5;241m*\u001b[39m\u001b[38;5;241m*\u001b[39mkwargs)\n",
      "File \u001b[0;32m~/anaconda3/lib/python3.11/site-packages/pandas/plotting/_matplotlib/__init__.py:71\u001b[0m, in \u001b[0;36mplot\u001b[0;34m(data, kind, **kwargs)\u001b[0m\n\u001b[1;32m     69\u001b[0m         kwargs[\u001b[38;5;124m\"\u001b[39m\u001b[38;5;124max\u001b[39m\u001b[38;5;124m\"\u001b[39m] \u001b[38;5;241m=\u001b[39m \u001b[38;5;28mgetattr\u001b[39m(ax, \u001b[38;5;124m\"\u001b[39m\u001b[38;5;124mleft_ax\u001b[39m\u001b[38;5;124m\"\u001b[39m, ax)\n\u001b[1;32m     70\u001b[0m plot_obj \u001b[38;5;241m=\u001b[39m PLOT_CLASSES[kind](data, \u001b[38;5;241m*\u001b[39m\u001b[38;5;241m*\u001b[39mkwargs)\n\u001b[0;32m---> 71\u001b[0m plot_obj\u001b[38;5;241m.\u001b[39mgenerate()\n\u001b[1;32m     72\u001b[0m plot_obj\u001b[38;5;241m.\u001b[39mdraw()\n\u001b[1;32m     73\u001b[0m \u001b[38;5;28;01mreturn\u001b[39;00m plot_obj\u001b[38;5;241m.\u001b[39mresult\n",
      "File \u001b[0;32m~/anaconda3/lib/python3.11/site-packages/pandas/plotting/_matplotlib/core.py:448\u001b[0m, in \u001b[0;36mMPLPlot.generate\u001b[0;34m(self)\u001b[0m\n\u001b[1;32m    446\u001b[0m \u001b[38;5;28mself\u001b[39m\u001b[38;5;241m.\u001b[39m_compute_plot_data()\n\u001b[1;32m    447\u001b[0m \u001b[38;5;28mself\u001b[39m\u001b[38;5;241m.\u001b[39m_setup_subplots()\n\u001b[0;32m--> 448\u001b[0m \u001b[38;5;28mself\u001b[39m\u001b[38;5;241m.\u001b[39m_make_plot()\n\u001b[1;32m    449\u001b[0m \u001b[38;5;28mself\u001b[39m\u001b[38;5;241m.\u001b[39m_add_table()\n\u001b[1;32m    450\u001b[0m \u001b[38;5;28mself\u001b[39m\u001b[38;5;241m.\u001b[39m_make_legend()\n",
      "File \u001b[0;32m~/anaconda3/lib/python3.11/site-packages/pandas/plotting/_matplotlib/core.py:1671\u001b[0m, in \u001b[0;36mBarPlot._make_plot\u001b[0;34m(self)\u001b[0m\n\u001b[1;32m   1670\u001b[0m \u001b[38;5;28;01mdef\u001b[39;00m \u001b[38;5;21m_make_plot\u001b[39m(\u001b[38;5;28mself\u001b[39m) \u001b[38;5;241m-\u001b[39m\u001b[38;5;241m>\u001b[39m \u001b[38;5;28;01mNone\u001b[39;00m:\n\u001b[0;32m-> 1671\u001b[0m     colors \u001b[38;5;241m=\u001b[39m \u001b[38;5;28mself\u001b[39m\u001b[38;5;241m.\u001b[39m_get_colors()\n\u001b[1;32m   1672\u001b[0m     ncolors \u001b[38;5;241m=\u001b[39m \u001b[38;5;28mlen\u001b[39m(colors)\n\u001b[1;32m   1674\u001b[0m     pos_prior \u001b[38;5;241m=\u001b[39m neg_prior \u001b[38;5;241m=\u001b[39m np\u001b[38;5;241m.\u001b[39mzeros(\u001b[38;5;28mlen\u001b[39m(\u001b[38;5;28mself\u001b[39m\u001b[38;5;241m.\u001b[39mdata))\n",
      "File \u001b[0;32m~/anaconda3/lib/python3.11/site-packages/pandas/plotting/_matplotlib/core.py:995\u001b[0m, in \u001b[0;36mMPLPlot._get_colors\u001b[0;34m(self, num_colors, color_kwds)\u001b[0m\n\u001b[1;32m    992\u001b[0m \u001b[38;5;28;01mif\u001b[39;00m num_colors \u001b[38;5;129;01mis\u001b[39;00m \u001b[38;5;28;01mNone\u001b[39;00m:\n\u001b[1;32m    993\u001b[0m     num_colors \u001b[38;5;241m=\u001b[39m \u001b[38;5;28mself\u001b[39m\u001b[38;5;241m.\u001b[39mnseries\n\u001b[0;32m--> 995\u001b[0m \u001b[38;5;28;01mreturn\u001b[39;00m get_standard_colors(\n\u001b[1;32m    996\u001b[0m     num_colors\u001b[38;5;241m=\u001b[39mnum_colors,\n\u001b[1;32m    997\u001b[0m     colormap\u001b[38;5;241m=\u001b[39m\u001b[38;5;28mself\u001b[39m\u001b[38;5;241m.\u001b[39mcolormap,\n\u001b[1;32m    998\u001b[0m     color\u001b[38;5;241m=\u001b[39m\u001b[38;5;28mself\u001b[39m\u001b[38;5;241m.\u001b[39mkwds\u001b[38;5;241m.\u001b[39mget(color_kwds),\n\u001b[1;32m    999\u001b[0m )\n",
      "File \u001b[0;32m~/anaconda3/lib/python3.11/site-packages/pandas/plotting/_matplotlib/style.py:68\u001b[0m, in \u001b[0;36mget_standard_colors\u001b[0;34m(num_colors, colormap, color_type, color)\u001b[0m\n\u001b[1;32m     65\u001b[0m \u001b[38;5;28;01mif\u001b[39;00m \u001b[38;5;28misinstance\u001b[39m(color, \u001b[38;5;28mdict\u001b[39m):\n\u001b[1;32m     66\u001b[0m     \u001b[38;5;28;01mreturn\u001b[39;00m color\n\u001b[0;32m---> 68\u001b[0m colors \u001b[38;5;241m=\u001b[39m _derive_colors(\n\u001b[1;32m     69\u001b[0m     color\u001b[38;5;241m=\u001b[39mcolor,\n\u001b[1;32m     70\u001b[0m     colormap\u001b[38;5;241m=\u001b[39mcolormap,\n\u001b[1;32m     71\u001b[0m     color_type\u001b[38;5;241m=\u001b[39mcolor_type,\n\u001b[1;32m     72\u001b[0m     num_colors\u001b[38;5;241m=\u001b[39mnum_colors,\n\u001b[1;32m     73\u001b[0m )\n\u001b[1;32m     75\u001b[0m \u001b[38;5;28;01mreturn\u001b[39;00m \u001b[38;5;28mlist\u001b[39m(_cycle_colors(colors, num_colors\u001b[38;5;241m=\u001b[39mnum_colors))\n",
      "File \u001b[0;32m~/anaconda3/lib/python3.11/site-packages/pandas/plotting/_matplotlib/style.py:125\u001b[0m, in \u001b[0;36m_derive_colors\u001b[0;34m(color, colormap, color_type, num_colors)\u001b[0m\n\u001b[1;32m    120\u001b[0m     \u001b[38;5;28;01mif\u001b[39;00m colormap \u001b[38;5;129;01mis\u001b[39;00m \u001b[38;5;129;01mnot\u001b[39;00m \u001b[38;5;28;01mNone\u001b[39;00m:\n\u001b[1;32m    121\u001b[0m         warnings\u001b[38;5;241m.\u001b[39mwarn(\n\u001b[1;32m    122\u001b[0m             \u001b[38;5;124m\"\u001b[39m\u001b[38;5;124m'\u001b[39m\u001b[38;5;124mcolor\u001b[39m\u001b[38;5;124m'\u001b[39m\u001b[38;5;124m and \u001b[39m\u001b[38;5;124m'\u001b[39m\u001b[38;5;124mcolormap\u001b[39m\u001b[38;5;124m'\u001b[39m\u001b[38;5;124m cannot be used simultaneously. Using \u001b[39m\u001b[38;5;124m'\u001b[39m\u001b[38;5;124mcolor\u001b[39m\u001b[38;5;124m'\u001b[39m\u001b[38;5;124m\"\u001b[39m,\n\u001b[1;32m    123\u001b[0m             stacklevel\u001b[38;5;241m=\u001b[39mfind_stack_level(),\n\u001b[1;32m    124\u001b[0m         )\n\u001b[0;32m--> 125\u001b[0m     \u001b[38;5;28;01mreturn\u001b[39;00m _get_colors_from_color(color)\n\u001b[1;32m    126\u001b[0m \u001b[38;5;28;01melse\u001b[39;00m:\n\u001b[1;32m    127\u001b[0m     \u001b[38;5;28;01mreturn\u001b[39;00m _get_colors_from_color_type(color_type, num_colors\u001b[38;5;241m=\u001b[39mnum_colors)\n",
      "File \u001b[0;32m~/anaconda3/lib/python3.11/site-packages/pandas/plotting/_matplotlib/style.py:164\u001b[0m, in \u001b[0;36m_get_colors_from_color\u001b[0;34m(color)\u001b[0m\n\u001b[1;32m    162\u001b[0m \u001b[38;5;250m\u001b[39m\u001b[38;5;124;03m\"\"\"Get colors from user input color.\"\"\"\u001b[39;00m\n\u001b[1;32m    163\u001b[0m \u001b[38;5;28;01mif\u001b[39;00m \u001b[38;5;28mlen\u001b[39m(color) \u001b[38;5;241m==\u001b[39m \u001b[38;5;241m0\u001b[39m:\n\u001b[0;32m--> 164\u001b[0m     \u001b[38;5;28;01mraise\u001b[39;00m \u001b[38;5;167;01mValueError\u001b[39;00m(\u001b[38;5;124mf\u001b[39m\u001b[38;5;124m\"\u001b[39m\u001b[38;5;124mInvalid color argument: \u001b[39m\u001b[38;5;132;01m{\u001b[39;00mcolor\u001b[38;5;132;01m}\u001b[39;00m\u001b[38;5;124m\"\u001b[39m)\n\u001b[1;32m    166\u001b[0m \u001b[38;5;28;01mif\u001b[39;00m _is_single_color(color):\n\u001b[1;32m    167\u001b[0m     color \u001b[38;5;241m=\u001b[39m cast(Color, color)\n",
      "\u001b[0;31mValueError\u001b[0m: Invalid color argument: []"
     ]
    },
    {
     "data": {
      "image/png": "[encoded data removed]",
      "text/plain": [
       "<Figure size 1000x600 with 1 Axes>"
      ]
     },
     "metadata": {},
     "output_type": "display_data"
    }
   ],
   "source": [
    "import matplotlib.pyplot as plt\n",
    "\n",
    "# Calculate category counts\n",
    "category_counts = df_business['categories'].str.split(', ').explode().value_counts().head(10)\n",
    "\n",
    "# Create a horizontal bar plot\n",
    "plt.figure(figsize=(10, 6))\n",
    "colors = plt.cm.tab10(range(len(category_counts)))  # Choose colors from a predefined colormap\n",
    "\n",
    "# Plot the bar chart with customizations\n",
    "category_counts.sort_values().plot(kind='barh', color=colors)\n",
    "plt.title('Top 10 Categories of Businesses', fontsize=16, fontweight='bold')  # Set title with custom font size and weight\n",
    "plt.xlabel('Count', fontsize=14)  # Set x-axis label with custom font size\n",
    "plt.ylabel('Category', fontsize=14)  # Set y-axis label with custom font size\n",
    "plt.xticks(fontsize=12)  # Set font size for x-axis tick labels\n",
    "plt.yticks(fontsize=12)  # Set font size for y-axis tick labels\n",
    "plt.grid(axis='x', linestyle='--', alpha=0.7)  # Add grid lines with custom style and transparency\n",
    "plt.tight_layout()  # Adjust layout to prevent clipping of labels\n",
    "plt.show()\n"
   ]
  },
  {
   "cell_type": "markdown",
   "id": "39347677-9c1b-46ef-836c-fdd1e507c286",
   "metadata": {},
   "source": [
    "The bar chart illustrates the distribution of businesses by category, revealing that restaurants constitute the largest proportion of opened businesses, followed by food-related establishments, shopping outlets, home services, and so forth."
   ]
  },
  {
   "cell_type": "code",
   "execution_count": null,
   "id": "4c8fe6db-3a89-4a84-8598-2d36dd635196",
   "metadata": {
    "tags": []
   },
   "outputs": [],
   "source": [
    "from wordcloud import WordCloud\n",
    "\n",
    "# Remove commas from the categories data\n",
    "categories_data = df_business['categories'].str.replace(',', '')\n",
    "\n",
    "# Count the occurrences of each category\n",
    "category_counts = categories_data.value_counts()\n",
    "\n",
    "# Convert the category counts to a dictionary\n",
    "category_dict = category_counts.to_dict()\n",
    "\n",
    "# Generate word cloud\n",
    "wordcloud = WordCloud(width=800, height=400, background_color='white').generate_from_frequencies(category_dict)\n",
    "\n",
    "# Display the word cloud\n",
    "plt.figure(figsize=(20, 20))\n",
    "plt.imshow(wordcloud, interpolation='bilinear')\n",
    "plt.axis('off')\n",
    "plt.show()\n"
   ]
  },
  {
   "cell_type": "markdown",
   "id": "e70c8abf-0bc6-4349-a27d-fc21a1f1596f",
   "metadata": {},
   "source": [
    "The word cloud highlights prominent trends in the market, indicating that pizza and Chinese restaurants are particularly prevalent, with multiple occurrences. Similarly, beauty and spas emerge as dominant categories within the industry."
   ]
  },
  {
   "cell_type": "code",
   "execution_count": null,
   "id": "6923f8cd-9b75-4eb8-a723-f9f1e59b8c74",
   "metadata": {
    "tags": []
   },
   "outputs": [],
   "source": [
    "df_business['state'].value_counts()"
   ]
  },
  {
   "cell_type": "code",
   "execution_count": null,
   "id": "3228bd6f-7bb7-4b6a-949b-360eccb153b8",
   "metadata": {
    "tags": []
   },
   "outputs": [],
   "source": [
    "\n",
    "city_counts = df_business['city'].value_counts().head(20)  # Example: showing top 20 cities\n",
    "\n",
    "# Creating a bar plot\n",
    "plt.figure(figsize=(14, 8))\n",
    "city_counts.plot(kind='bar', color='skyblue')\n",
    "plt.title('Count of Businesses by City')\n",
    "plt.xlabel('City')\n",
    "plt.ylabel('Count')\n",
    "plt.xticks(rotation=45, ha='right')\n",
    "plt.tight_layout()\n",
    "plt.show()\n"
   ]
  },
  {
   "cell_type": "markdown",
   "id": "b28ede19-f014-4b92-87dc-c03590e019b5",
   "metadata": {},
   "source": [
    "The bar chart depicts the distribution of businesses across different locations, with Philadelphia hosting the highest number of establishments, followed by Tucson and Tampa. Conversely, Meridian, St. Petersburg, and St. Louis exhibit the lowest counts of businesses."
   ]
  },
  {
   "cell_type": "code",
   "execution_count": null,
   "id": "8a05463f-48aa-48ed-9cb4-b9a7d786bb73",
   "metadata": {
    "tags": []
   },
   "outputs": [],
   "source": [
    "\n",
    "state_counts = df_business['state'].value_counts()\n",
    "\n",
    "# Define full names for US states and Canadian provinces/territories\n",
    "state_names = {\n",
    "    'PA': 'Pennsylvania', 'FL': 'Florida', 'TN': 'Tennessee', 'IN': 'Indiana', 'MO': 'Missouri', \n",
    "    'AZ': 'Arizona', 'LA': 'Louisiana', 'NJ': 'New Jersey', 'NV': 'Nevada', 'CA': 'California', \n",
    "    'ID': 'Idaho', 'DE': 'Delaware', 'IL': 'Illinois', 'MA': 'Massachusetts', 'VI': 'Virgin Islands', \n",
    "    'VT': 'Vermont', 'AB': 'Alberta'  # Add more as needed\n",
    "}\n",
    "\n",
    "# Define colors for US states and Canadian provinces/territories\n",
    "us_states = ['PA', 'FL', 'TN', 'IN', 'MO', 'AZ', 'LA', 'NJ', 'NV', 'CA', 'ID', 'DE', 'IL', 'MA', 'VI', 'VT']\n",
    "us_state_color = 'skyblue'\n",
    "canadian_provinces = ['AB']  # Add more Canadian provinces if needed\n",
    "canadian_province_color = 'lightgreen'\n",
    "\n",
    "# Create a bar plot\n",
    "plt.figure(figsize=(14, 8))\n",
    "for state, count in state_counts.items():\n",
    "    if state in us_states:\n",
    "        full_name = state_names[state]\n",
    "        plt.bar(full_name, count, color=us_state_color)\n",
    "    elif state in canadian_provinces:\n",
    "        full_name = state_names[state]\n",
    "        plt.bar(full_name, count, color=canadian_province_color)\n",
    "\n",
    "plt.title('Count of Businesses by State/Province')\n",
    "plt.xlabel('State/Province')\n",
    "plt.ylabel('Count')\n",
    "plt.xticks(rotation=45, ha='right')\n",
    "plt.tight_layout()\n",
    "plt.show()\n"
   ]
  },
  {
   "cell_type": "markdown",
   "id": "30b5e62f-b4b4-41f4-b6a4-793124ce60d0",
   "metadata": {
    "tags": []
   },
   "source": [
    "Upon examining the statewise distribution, it becomes evident that Pennsylvania, Florida, and Tennessee are the dominant regions, with notable business presence. Notably, Alberta represents the sole Canadian province included. Conversely, Delaware, Illinois, and Idaho exhibit comparatively fewer businesses"
   ]
  },
  {
   "cell_type": "code",
   "execution_count": null,
   "id": "d470288e-073f-4795-97ee-cf672955182b",
   "metadata": {
    "tags": []
   },
   "outputs": [],
   "source": [
    "df_business.iloc[0]"
   ]
  },
  {
   "cell_type": "code",
   "execution_count": null,
   "id": "97028edd-47bd-490c-bb97-71fbaea12cbe",
   "metadata": {
    "tags": []
   },
   "outputs": [],
   "source": [
    "\n",
    "# Sort the dataframe by star rating and review count\n",
    "sorted_businesses = df_business.sort_values(by=['stars', 'review_count'], ascending=[False, False])\n",
    "\n",
    "# Select the top 20 businesses\n",
    "top_20_businesses = sorted_businesses.head(20)\n",
    "\n",
    "# Set up the figure and axis\n",
    "fig, ax = plt.subplots(figsize=(12, 10))\n",
    "\n",
    "# Generate a color map\n",
    "colors = plt.cm.viridis(np.linspace(0, 1, len(top_20_businesses)))\n",
    "\n",
    "# Plotting\n",
    "bars = ax.barh(top_20_businesses['name'], top_20_businesses['review_count'], color=colors)\n",
    "\n",
    "# Adding labels and title\n",
    "ax.set_xlabel('Review Count', fontsize=14)\n",
    "ax.set_ylabel('Business Name', fontsize=14)\n",
    "ax.set_title('Top 20 Businesses by Star Rating and Review Count', fontsize=16)\n",
    "\n",
    "# Adding data labels\n",
    "for bar in bars:\n",
    "    width = bar.get_width()\n",
    "    ax.text(width, bar.get_y() + bar.get_height()/2, '{:,}'.format(int(width)), \n",
    "            va='center', ha='left', fontsize=12, color='black')\n",
    "\n",
    "# Adding gridlines\n",
    "ax.grid(axis='x', linestyle='--', alpha=0.7)\n",
    "\n",
    "# Removing spines\n",
    "ax.spines['top'].set_visible(False)\n",
    "ax.spines['right'].set_visible(False)\n",
    "\n",
    "# Invert y-axis for better readability\n",
    "ax.invert_yaxis()\n",
    "\n",
    "# Tight layout\n",
    "plt.tight_layout()\n",
    "\n",
    "# Show plot\n",
    "plt.show()\n"
   ]
  },
  {
   "cell_type": "markdown",
   "id": "6a1607d2-f360-4636-9859-a3c10924d8dd",
   "metadata": {},
   "source": [
    "The bar chart, considering cumulative reviews and star ratings, reveals Blues City Deli as the top performer with 991 reviews, followed by Free Tours by Foot and Termerico\""
   ]
  },
  {
   "cell_type": "code",
   "execution_count": null,
   "id": "036cc55e-f52d-4376-a05b-7d63163b22b6",
   "metadata": {
    "tags": []
   },
   "outputs": [],
   "source": [
    "# Filter businesses located in Alberta with star rating greater than 4\n",
    "alberta_businesses_filtered = alberta_businesses[(alberta_businesses['stars'] > 4)]\n",
    "\n",
    "# Sort the filtered dataframe by review count and star rating\n",
    "sorted_alberta_businesses_filtered = alberta_businesses_filtered.sort_values(by=['review_count', 'stars'], ascending=[False, False])\n",
    "\n",
    "# Select the top 20 businesses\n",
    "top_20_alberta_businesses_filtered = sorted_alberta_businesses_filtered.head(20)\n",
    "\n",
    "# Set up the figure and axis\n",
    "fig, ax = plt.subplots(figsize=(12, 10))\n",
    "\n",
    "# Generate a color map\n",
    "colors = plt.cm.viridis(np.linspace(0, 1, len(top_20_alberta_businesses_filtered)))\n",
    "\n",
    "# Plotting\n",
    "bars = ax.barh(top_20_alberta_businesses_filtered['name'], top_20_alberta_businesses_filtered['review_count'], color=colors)\n",
    "\n",
    "# Adding labels and title\n",
    "ax.set_xlabel('Review Count', fontsize=14)\n",
    "ax.set_ylabel('Business Name', fontsize=14)\n",
    "ax.set_title('Top 20 Businesses in Alberta by Star Rating (>4.5) and Review Count', fontsize=16)\n",
    "\n",
    "# Adding data labels\n",
    "for bar in bars:\n",
    "    width = bar.get_width()\n",
    "    ax.text(width, bar.get_y() + bar.get_height()/2, '{:,}'.format(int(width)), \n",
    "            va='center', ha='left', fontsize=12, color='black')\n",
    "\n",
    "# Adding gridlines\n",
    "ax.grid(axis='x', linestyle='--', alpha=0.7)\n",
    "\n",
    "# Removing spines\n",
    "ax.spines['top'].set_visible(False)\n",
    "ax.spines['right'].set_visible(False)\n",
    "\n",
    "# Invert y-axis for better readability\n",
    "ax.invert_yaxis()\n",
    "\n",
    "# Tight layout\n",
    "plt.tight_layout()\n",
    "\n",
    "# Show plot\n",
    "plt.show()\n"
   ]
  },
  {
   "cell_type": "markdown",
   "id": "2293d86c-890c-438c-92bd-5bffa3f3f15c",
   "metadata": {},
   "source": [
    "Diving deeper into businesses in Alberta, filtering by rating greater than 4 and maximum number of reviews"
   ]
  },
  {
   "cell_type": "code",
   "execution_count": null,
   "id": "9efa6718-9270-472a-ace7-0206ab0cd108",
   "metadata": {
    "tags": []
   },
   "outputs": [],
   "source": [
    "\n",
    "# Count the occurrences of each business name\n",
    "name_counts = df_business['name'].value_counts()\n",
    "\n",
    "# Filter businesses where the name occurs more than 5 times\n",
    "chain_businesses = df_business[df_business['name'].isin(name_counts[name_counts > 5].index)]\n",
    "\n",
    "# Display the filtered DataFrame\n",
    "print(chain_businesses['name'])\n"
   ]
  },
  {
   "cell_type": "code",
   "execution_count": null,
   "id": "63d96c20-d65b-4bc7-935c-ffae2f6efc95",
   "metadata": {
    "tags": []
   },
   "outputs": [],
   "source": [
    "import matplotlib.pyplot as plt\n",
    "\n",
    "# Filter businesses with a rating of 5\n",
    "top_rated_businesses = df_business[df_business['stars'] >= 4.5]  # Adjust the rating threshold as needed\n",
    "\n",
    "# Identify chains based on repeating names\n",
    "chain_businesses = top_rated_businesses[top_rated_businesses['name'].duplicated(keep=False)]\n",
    "chains = chain_businesses.groupby('name').filter(lambda x: len(x) > 3)\n",
    "\n",
    "# Group by business name, calculate total review count and average star rating, and sort by combined metric\n",
    "chain_performance = chains.groupby('name').agg({'review_count': 'sum', 'stars': 'mean'})\n",
    "chain_performance['combined_metric'] = chain_performance['review_count'] * chain_performance['stars']\n",
    "top_chains = chain_performance.sort_values(by='combined_metric', ascending=False).head(20)\n",
    "\n",
    "# Set up the figure and axis\n",
    "fig, ax = plt.subplots(figsize=(12, 10))\n",
    "\n",
    "# Define custom bar colors\n",
    "bar_colors = plt.cm.tab20c(range(len(top_chains)))\n",
    "\n",
    "# Plotting\n",
    "ax.barh(top_chains.index, top_chains['combined_metric'], color=bar_colors, edgecolor='black', linewidth=1.5)\n",
    "\n",
    "# Adding shadows to the bars\n",
    "for spine in ax.spines.values():\n",
    "    spine.set_visible(False)\n",
    "\n",
    "# Adding labels and title with custom styling\n",
    "ax.set_xlabel('Combined Metric (Star Rating * Number of Reviews)', fontsize=14, fontweight='bold', color='black')\n",
    "ax.set_ylabel('Chain Name', fontsize=14, fontweight='bold', color='black')\n",
    "ax.set_title('Top 20 Chains with Maximum Combined Metric', fontsize=18, fontweight='bold', color='black')\n",
    "\n",
    "# Customize tick labels\n",
    "ax.tick_params(axis='both', which='major', labelsize=12, colors='black')\n",
    "\n",
    "# Invert y-axis for better readability\n",
    "ax.invert_yaxis()\n",
    "\n",
    "# Display the plot with a tight layout\n",
    "plt.tight_layout()\n",
    "plt.show()\n"
   ]
  },
  {
   "cell_type": "code",
   "execution_count": null,
   "id": "8a69613f-0fb1-4b6c-b958-2d7b2ab0dd2b",
   "metadata": {
    "tags": []
   },
   "outputs": [],
   "source": [
    "\n",
    "chain_performance.head(20)"
   ]
  },
  {
   "cell_type": "code",
   "execution_count": null,
   "id": "ec7b9c58-eb06-42a7-98c5-7648cda9d23a",
   "metadata": {
    "tags": []
   },
   "outputs": [],
   "source": [
    "import matplotlib.pyplot as plt\n",
    "\n",
    "# Filter businesses with maximum review count and rating\n",
    "top_businesses = df_business.sort_values(by=['review_count', 'stars'], ascending=[False, False])\n",
    "\n",
    "# Select top 20 businesses\n",
    "top_20_businesses = top_businesses.head(20)\n",
    "\n",
    "# Visualize top 20 businesses\n",
    "fig, ax = plt.subplots(figsize=(10, 8))\n",
    "\n",
    "# Plotting\n",
    "ax.barh(top_20_businesses['name'], top_20_businesses['review_count'], color='skyblue')\n",
    "\n",
    "# Adding labels and title\n",
    "ax.set_xlabel('Total Review Count')\n",
    "ax.set_ylabel('Business Name')\n",
    "ax.set_title('Top 20 Businesses with Maximum Review Count and Highest Rating')\n",
    "\n",
    "# Display the plot\n",
    "plt.tight_layout()\n",
    "plt.show()\n"
   ]
  },
  {
   "cell_type": "code",
   "execution_count": null,
   "id": "ea40be8c-a686-495c-aa09-fc5b0f05f6e5",
   "metadata": {
    "tags": []
   },
   "outputs": [],
   "source": [
    "# Identify small businesses (single-location) and large businesses (chains)\n",
    "small_businesses = df_business[df_business['name'].duplicated(keep=False)].drop_duplicates(subset=['name'], keep=False)\n",
    "large_businesses = df_business[df_business['name'].duplicated(keep=False)].drop_duplicates(subset=['name'], keep='first')\n",
    "\n",
    "# Count the number of locations for each chain\n",
    "chain_counts = df_business['name'].value_counts()\n",
    "\n",
    "# Filter large businesses (chains) with more than three locations\n",
    "large_businesses = large_businesses[large_businesses['name'].map(chain_counts) > 3]\n",
    "\n",
    "# Get the counts of small and large businesses\n",
    "count_small_businesses = len(small_businesses)\n",
    "count_large_businesses = len(large_businesses)\n",
    "\n",
    "print(\"Number of small businesses (single-location):\", count_small_businesses)\n",
    "print(\"Number of large businesses (chains with more than 3 locations):\", count_large_businesses)\n"
   ]
  },
  {
   "cell_type": "code",
   "execution_count": null,
   "id": "74f3c229-b02d-45dd-a445-3366a042926a",
   "metadata": {
    "tags": []
   },
   "outputs": [],
   "source": [
    "\n",
    "# Count the number of locations for each chain\n",
    "chain_counts = df_business['name'].value_counts()\n",
    "chain_counts"
   ]
  },
  {
   "cell_type": "code",
   "execution_count": null,
   "id": "4497e119-9808-439d-a75a-a6b7996ad64f",
   "metadata": {
    "tags": []
   },
   "outputs": [],
   "source": [
    "# Filter small businesses (single-location or with name repeating max twice or thrice)\n",
    "small_businesses = df_business[df_business['name'].duplicated(keep=False)].drop_duplicates(subset=['name'], keep=False)\n",
    "small_businesses_count = len(small_businesses)\n",
    "max_name_repeats = 3\n",
    "\n",
    "# Identify small businesses with name repeating max twice or thrice\n",
    "small_businesses_max_repeat = df_business[df_business['name'].duplicated(keep=False)]\n",
    "small_businesses_max_repeat_count = len(small_businesses_max_repeat['name'].unique())\n",
    "\n",
    "# Filter large businesses (chains) with more than three locations\n",
    "large_businesses = df_business[df_business['name'].duplicated(keep=False)].drop_duplicates(subset=['name'], keep='first')\n",
    "chain_counts = df_business['name'].value_counts()\n",
    "large_businesses = large_businesses[large_businesses['name'].map(chain_counts) > max_name_repeats]\n",
    "large_businesses_count = len(large_businesses)\n",
    "\n",
    "print(\"Number of small businesses (single-location or name repeating max twice or thrice):\", small_businesses_count + small_businesses_max_repeat_count)\n",
    "print(\"Number of large businesses (chains with more than\", max_name_repeats, \"locations):\", large_businesses_count)\n"
   ]
  },
  {
   "cell_type": "code",
   "execution_count": null,
   "id": "fb9551f9-1ae3-4aa4-b4de-3efcfec6cf4a",
   "metadata": {
    "tags": []
   },
   "outputs": [],
   "source": [
    "import matplotlib.pyplot as plt\n",
    "\n",
    "# Define the counts and categories\n",
    "counts = [small_businesses_count + small_businesses_max_repeat_count, large_businesses_count]\n",
    "categories = ['Small Businesses (Less than 3 stores)', 'Large Businesses (>3 stores)']\n",
    "\n",
    "# Define colors\n",
    "colors = ['#1f77b4', '#ff7f0e']\n",
    "\n",
    "# Create bar plot\n",
    "plt.figure(figsize=(10, 6))\n",
    "bars = plt.bar(categories, counts, color=colors)\n",
    "\n",
    "# Add data labels on top of bars\n",
    "for bar in bars:\n",
    "    yval = bar.get_height()\n",
    "    plt.text(bar.get_x() + bar.get_width()/2, yval + 0.1, round(yval, 2), ha='center', va='bottom', color='black', fontsize=12)\n",
    "\n",
    "# Add title and labels\n",
    "plt.title('Comparison of Small and Large Businesses')\n",
    "plt.xlabel('Category')\n",
    "plt.ylabel('Count')\n",
    "\n",
    "# Show plot\n",
    "plt.tight_layout()\n",
    "plt.show()\n"
   ]
  },
  {
   "cell_type": "code",
   "execution_count": null,
   "id": "187d8a46-74de-4374-9863-fac1cb9e802d",
   "metadata": {
    "tags": []
   },
   "outputs": [],
   "source": [
    "import matplotlib.pyplot as plt\n",
    "\n",
    "# Calculate total review count for small businesses\n",
    "total_reviews_small = df_business[df_business['name'].duplicated(keep=False) & \n",
    "                                  ~df_business['name'].duplicated(keep='first')]['review_count'].sum()\n",
    "\n",
    "# Calculate total review count for large businesses\n",
    "total_reviews_large = df_business[df_business['name'].duplicated(keep=False) & \n",
    "                                  df_business['name'].duplicated(keep='first')]['review_count'].sum()\n",
    "\n",
    "# Create a bar plot\n",
    "plt.figure(figsize=(10, 6))\n",
    "plt.bar(['Small Businesses', 'Large Businesses'], [total_reviews_small, total_reviews_large], color=['skyblue', 'salmon'])\n",
    "\n",
    "# Add labels and title\n",
    "plt.xlabel('Business Size')\n",
    "plt.ylabel('Total Reviews Received')\n",
    "plt.title('Total Reviews Received by Small vs Large Businesses')\n",
    "\n",
    "# Show plot\n",
    "plt.tight_layout()\n",
    "plt.show()\n"
   ]
  },
  {
   "cell_type": "code",
   "execution_count": null,
   "id": "c0b515f0-592c-404c-a2d7-25f422358e5e",
   "metadata": {
    "tags": []
   },
   "outputs": [],
   "source": [
    "import matplotlib.pyplot as plt\n",
    "\n",
    "# Calculate total review count for small businesses based on star rating\n",
    "total_reviews_small_rating = df_business[df_business['name'].duplicated(keep=False) & \n",
    "                                         ~df_business['name'].duplicated(keep='first')].groupby('stars')['review_count'].sum()\n",
    "\n",
    "# Calculate total review count for large businesses based on star rating\n",
    "total_reviews_large_rating = df_business[df_business['name'].duplicated(keep=False) & \n",
    "                                         df_business['name'].duplicated(keep='first')].groupby('stars')['review_count'].sum()\n",
    "\n",
    "# Create a bar plot for small businesses\n",
    "plt.figure(figsize=(10, 6))\n",
    "plt.bar(total_reviews_small_rating.index - 0.1, total_reviews_small_rating.values, width=0.2, label='Small Businesses', color='skyblue')\n",
    "\n",
    "# Create a bar plot for large businesses\n",
    "plt.bar(total_reviews_large_rating.index + 0.1, total_reviews_large_rating.values, width=0.2, label='Large Businesses', color='salmon')\n",
    "\n",
    "# Add labels and title\n",
    "plt.xlabel('Star Rating')\n",
    "plt.ylabel('Total Reviews Received')\n",
    "plt.title('Total Reviews Received by Small vs Large Businesses based on Star Rating')\n",
    "plt.xticks(total_reviews_small_rating.index)\n",
    "\n",
    "# Add legend\n",
    "plt.legend()\n",
    "\n",
    "# Show plot\n",
    "plt.tight_layout()\n",
    "plt.show()\n"
   ]
  },
  {
   "cell_type": "code",
   "execution_count": null,
   "id": "3bc62229-45be-4dc1-a9dc-a43c0fee5e63",
   "metadata": {
    "tags": []
   },
   "outputs": [],
   "source": [
    "import matplotlib.pyplot as plt\n",
    "\n",
    "# Get the top 20 small businesses\n",
    "top_20_small_businesses = df_business[df_business['name'].duplicated(keep=False) & \n",
    "                                      ~df_business['name'].duplicated(keep='first')].nlargest(20, 'review_count')\n",
    "\n",
    "# Get the top 20 large businesses\n",
    "top_20_large_businesses = df_business[df_business['name'].duplicated(keep=False) & \n",
    "                                      df_business['name'].duplicated(keep='first')].nlargest(20, 'review_count')\n",
    "\n",
    "# Create subplots\n",
    "fig, axs = plt.subplots(2, 1, figsize=(12, 10))\n",
    "\n",
    "# Plot for top 20 small businesses\n",
    "axs[0].barh(top_20_small_businesses['name'], top_20_small_businesses['review_count'], color='skyblue', label='Review Count')\n",
    "axs[0].barh(top_20_small_businesses['name'], top_20_small_businesses['stars'], color='salmon', label='Star Rating')\n",
    "axs[0].set_xlabel('Count')\n",
    "axs[0].set_title('Top 20 Small Businesses')\n",
    "\n",
    "# Plot for top 20 large businesses\n",
    "axs[1].barh(top_20_large_businesses['name'], top_20_large_businesses['review_count'], color='skyblue', label='Review Count')\n",
    "axs[1].barh(top_20_large_businesses['name'], top_20_large_businesses['stars'], color='salmon', label='Star Rating')\n",
    "axs[1].set_xlabel('Count')\n",
    "axs[1].set_title('Top 20 Large Businesses')\n",
    "\n",
    "# Add legends\n",
    "axs[0].legend()\n",
    "axs[1].legend()\n",
    "\n",
    "# Adjust layout\n",
    "plt.tight_layout()\n",
    "\n",
    "# Show plot\n",
    "plt.show()\n"
   ]
  },
  {
   "cell_type": "code",
   "execution_count": null,
   "id": "8e370383-415e-4d6c-be1d-3656d04cd833",
   "metadata": {
    "tags": []
   },
   "outputs": [],
   "source": [
    "import numpy as np\n",
    "import matplotlib.pyplot as plt\n",
    "\n",
    "# Get the top 20 small businesses\n",
    "top_20_small_businesses = df_business[df_business['name'].duplicated(keep=False) & \n",
    "                                      ~df_business['name'].duplicated(keep='first')].nlargest(20, 'review_count')\n",
    "\n",
    "# Get the top 20 large businesses\n",
    "top_20_large_businesses = df_business[df_business['name'].duplicated(keep=False) & \n",
    "                                      df_business['name'].duplicated(keep='first')].nlargest(20, 'review_count')\n",
    "\n",
    "# Create a figure and axis object\n",
    "fig, ax = plt.subplots(figsize=(12, 8))\n",
    "\n",
    "# Set the width of the bars\n",
    "bar_width = 0.35\n",
    "\n",
    "# Set the position of the bars on the x-axis\n",
    "x = np.arange(len(top_20_small_businesses))\n",
    "\n",
    "# Plot the bars for small businesses\n",
    "bars1 = ax.bar(x - bar_width/2, top_20_small_businesses['review_count'], bar_width, color='skyblue', label='Small Business')\n",
    "bars2 = ax.bar(x + bar_width/2, top_20_large_businesses['review_count'], bar_width, color='salmon', label='Large Business')\n",
    "\n",
    "# Add labels, title, and legend\n",
    "ax.set_xlabel('Businesses')\n",
    "ax.set_ylabel('Review Count')\n",
    "ax.set_title('Comparison of Ratings and Reviews: Small vs Large Businesses')\n",
    "ax.set_xticks(x)\n",
    "ax.set_xticklabels(top_20_small_businesses['name'], rotation=90)\n",
    "ax.legend()\n",
    "\n",
    "# Show plot\n",
    "plt.tight_layout()\n",
    "plt.show()\n"
   ]
  },
  {
   "cell_type": "code",
   "execution_count": null,
   "id": "88adc309-87df-4fab-b12b-13a6766099c3",
   "metadata": {
    "tags": []
   },
   "outputs": [],
   "source": [
    "import numpy as np\n",
    "import matplotlib.pyplot as plt\n",
    "\n",
    "# Get the top 20 small businesses\n",
    "top_20_small_businesses = df_business[df_business['name'].duplicated(keep=False) & \n",
    "                                      ~df_business['name'].duplicated(keep='first')].nlargest(20, 'review_count')\n",
    "\n",
    "# Get the top 20 large businesses\n",
    "top_20_large_businesses = df_business[df_business['name'].duplicated(keep=False) & \n",
    "                                      df_business['name'].duplicated(keep='first')].nlargest(20, 'review_count')\n",
    "\n",
    "# Concatenate names of both sets of businesses\n",
    "business_names = np.concatenate((top_20_small_businesses['name'], top_20_large_businesses['name']))\n",
    "\n",
    "# Create a figure and axis object\n",
    "fig, ax = plt.subplots(figsize=(12, 8))\n",
    "\n",
    "# Set the width of the bars\n",
    "bar_width = 0.35\n",
    "\n",
    "# Set the position of the bars on the x-axis\n",
    "x = np.arange(len(business_names))\n",
    "\n",
    "# Plot the bars for small businesses\n",
    "bars1 = ax.bar(x[:len(top_20_small_businesses)], top_20_small_businesses['review_count'], bar_width, color='skyblue', label='Small Business')\n",
    "\n",
    "# Plot the bars for large businesses\n",
    "bars2 = ax.bar(x[len(top_20_small_businesses):], top_20_large_businesses['review_count'], bar_width, color='salmon', label='Large Business')\n",
    "\n",
    "# Add labels, title, and legend\n",
    "ax.set_xlabel('Businesses')\n",
    "ax.set_ylabel('Review Count')\n",
    "ax.set_title('Comparison of Ratings and Reviews: Small vs Large Businesses')\n",
    "ax.set_xticks(x)\n",
    "ax.set_xticklabels(business_names, rotation=90)\n",
    "ax.legend()\n",
    "\n",
    "# Show plot\n",
    "plt.tight_layout()\n",
    "plt.show()\n"
   ]
  },
  {
   "cell_type": "code",
   "execution_count": null,
   "id": "ddc78fb4-fdac-4ecc-827e-acb8816ddc0c",
   "metadata": {
    "tags": []
   },
   "outputs": [],
   "source": []
  },
  {
   "cell_type": "code",
   "execution_count": null,
   "id": "01309491-4f15-437d-acd6-72c60101b8b9",
   "metadata": {
    "tags": []
   },
   "outputs": [],
   "source": [
    "df_business.info()"
   ]
  },
  {
   "cell_type": "markdown",
   "id": "096dbe4c-1d22-474a-8a62-708e5f1010c3",
   "metadata": {},
   "source": []
  },
  {
   "cell_type": "code",
   "execution_count": null,
   "id": "4216751f-6050-4e48-bc36-35fada48f53d",
   "metadata": {
    "tags": []
   },
   "outputs": [],
   "source": [
    "df_business.iloc[0]"
   ]
  },
  {
   "cell_type": "code",
   "execution_count": null,
   "id": "a4893279-273c-4e64-8941-92f0acb42fe0",
   "metadata": {
    "tags": []
   },
   "outputs": [],
   "source": [
    "df_business.head()"
   ]
  },
  {
   "cell_type": "code",
   "execution_count": null,
   "id": "04a2f118-6272-42c2-866c-e38ec915472b",
   "metadata": {
    "tags": []
   },
   "outputs": [],
   "source": [
    "import matplotlib.pyplot as plt\n",
    "\n",
    "# Select only columns of type 'number'\n",
    "numeric_columns = df_business.select_dtypes(include=['number']).columns\n",
    "\n",
    "# Select the first 10 numeric columns\n",
    "numeric_columns_subset = numeric_columns[:5]\n",
    "\n",
    "# Create subplots\n",
    "num_plots = len(numeric_columns_subset)\n",
    "fig, axes = plt.subplots(nrows=num_plots, ncols=1, figsize=(4, 3 * num_plots))\n",
    "\n",
    "# Plot histograms for each numeric column\n",
    "for i, column in enumerate(numeric_columns_subset):\n",
    "    ax = axes[i]\n",
    "    ax.hist(df_business[column], bins=20, color='skyblue', edgecolor='black')\n",
    "    ax.set_title(f'Histogram of {column}')\n",
    "    ax.set_xlabel(column)\n",
    "    ax.set_ylabel('Frequency')\n",
    "\n",
    "# Adjust layout\n",
    "plt.tight_layout()\n",
    "plt.show()\n"
   ]
  },
  {
   "cell_type": "code",
   "execution_count": null,
   "id": "740e87d4-450d-4442-9275-87e5cc9a5267",
   "metadata": {
    "tags": []
   },
   "outputs": [],
   "source": [
    "# Assuming df_business is your DataFrame containing numeric columns\n",
    "numeric_columns = df_business.select_dtypes(include=['number', 'float'])\n",
    "\n",
    "# Lets get the correlation matrix and save to variable 'corr_mat'\n",
    "corr_mat = numeric_columns.corr()\n",
    "\n",
    "# Display corr_mat\n",
    "corr_mat"
   ]
  },
  {
   "cell_type": "code",
   "execution_count": null,
   "id": "ec59f42b-65e2-4ed6-acec-2bda615ed853",
   "metadata": {
    "tags": []
   },
   "outputs": [],
   "source": [
    "plt.figure(figsize=(10, 7))\n",
    "\n",
    "# Selecting first 10 features\n",
    "corr_mat_subset = corr_mat.iloc[:10, :10]\n",
    "\n",
    "# Creating mask of duplicated combinations\n",
    "mask = np.triu(np.ones_like(corr_mat_subset, dtype=bool))\n",
    "\n",
    "# Plotting heatmap\n",
    "sns.heatmap(corr_mat_subset, mask=mask, cmap='coolwarm', center=0, vmin=-1, vmax=1, annot=True)\n",
    "\n",
    "plt.show()\n"
   ]
  },
  {
   "cell_type": "markdown",
   "id": "7ae0d717-177f-4447-8faa-974955f8779d",
   "metadata": {},
   "source": [
    "We dont see any correlation in the matrix between latitude, longitude, stars, review count or is open. As the coefficients are close to zero, it indicates little to no correlation between these variables."
   ]
  },
  {
   "cell_type": "code",
   "execution_count": null,
   "id": "b1d171bf-118a-4862-8dee-71dff266b40c",
   "metadata": {
    "tags": []
   },
   "outputs": [],
   "source": [
    "small_businesses.shape"
   ]
  },
  {
   "cell_type": "code",
   "execution_count": null,
   "id": "96251d0d-bfea-4597-9e9d-2473b7b59849",
   "metadata": {
    "tags": []
   },
   "outputs": [],
   "source": [
    "df_business=small_businesses.copy()"
   ]
  },
  {
   "cell_type": "code",
   "execution_count": null,
   "id": "30578415-bd97-4f12-abe0-e4c070860fd6",
   "metadata": {
    "tags": []
   },
   "outputs": [],
   "source": [
    "df_business.dtypes"
   ]
  },
  {
   "cell_type": "code",
   "execution_count": null,
   "id": "20f0852c-a1a3-4c36-adef-3af20e48c1d8",
   "metadata": {
    "tags": []
   },
   "outputs": [],
   "source": [
    "df_business.drop(columns='name',inplace=True)\n"
   ]
  },
  {
   "cell_type": "code",
   "execution_count": null,
   "id": "f4c341f3-968d-4cda-91b6-413a811adc9d",
   "metadata": {
    "tags": []
   },
   "outputs": [],
   "source": [
    "# Create dummy variables for the 'name' column\n",
    "#name_dummies = pd.get_dummies(df_business['name'])\n",
    "\n",
    "# Concatenate the dummy variables with the original DataFrame\n",
    "#df_with_dummies = pd.concat([df_business, name_dummies], axis=1)\n",
    "\n",
    "# Display the DataFrame with dummy variables\n",
    "#print(df_with_dummies.head())"
   ]
  },
  {
   "cell_type": "code",
   "execution_count": null,
   "id": "686764db-2d85-490a-9af7-a3f91dd23b94",
   "metadata": {},
   "outputs": [],
   "source": [
    "df_business.dtypes"
   ]
  },
  {
   "cell_type": "code",
   "execution_count": null,
   "id": "030743f5-e5d3-41df-8d31-39825c247292",
   "metadata": {
    "tags": []
   },
   "outputs": [],
   "source": [
    "df_business = pd.merge(df_business, hours_day_df, on='business_id', how='inner')"
   ]
  },
  {
   "cell_type": "code",
   "execution_count": null,
   "id": "77f0fd07-f100-4d07-86f0-779f688bcf54",
   "metadata": {
    "tags": []
   },
   "outputs": [],
   "source": [
    "hours_day_df.head()"
   ]
  },
  {
   "cell_type": "code",
   "execution_count": null,
   "id": "19840864-f311-4fce-853f-2db3537fb70c",
   "metadata": {
    "tags": []
   },
   "outputs": [],
   "source": [
    "#dropping all irrelevant columns that we have already converted\n",
    "df_business.drop(columns=['business_id','attributes','categories','postal_code'],inplace=True)"
   ]
  },
  {
   "cell_type": "code",
   "execution_count": null,
   "id": "5d05c669-7e04-42ed-9daf-ab38598d4501",
   "metadata": {
    "tags": []
   },
   "outputs": [],
   "source": [
    "df_business.dtypes"
   ]
  },
  {
   "cell_type": "code",
   "execution_count": null,
   "id": "dbb72e2b-78b5-4aee-9bdb-52ab613e85d7",
   "metadata": {
    "tags": []
   },
   "outputs": [],
   "source": [
    "df_business['is_open'].value_counts()"
   ]
  },
  {
   "cell_type": "code",
   "execution_count": null,
   "id": "afd1f4c0-4752-4674-a179-78c0885aab00",
   "metadata": {},
   "outputs": [],
   "source": []
  },
  {
   "cell_type": "markdown",
   "id": "c44d8932-bd9f-4d24-b6ee-199779cf2354",
   "metadata": {},
   "source": [
    "### One Hot Encoding"
   ]
  },
  {
   "cell_type": "code",
   "execution_count": null,
   "id": "bb9eb004-00b8-4621-b58c-07c9e8a87419",
   "metadata": {
    "tags": []
   },
   "outputs": [],
   "source": [
    "# Perform one-hot encoding on the 'city' column\n",
    "city_encoded = pd.get_dummies(df_business['city'], prefix='city')\n",
    "\n",
    "# Concatenate the one-hot encoded DataFrame with the original DataFrame\n",
    "city_df_encoded = pd.concat([df_business.drop(columns=['city']), city_encoded], axis=1)\n"
   ]
  },
  {
   "cell_type": "markdown",
   "id": "928a68ba-2702-4cfd-9500-a39459062f2c",
   "metadata": {},
   "source": [
    "### Modelling"
   ]
  },
  {
   "cell_type": "code",
   "execution_count": null,
   "id": "48b27e68-8064-4e84-b664-3518f8a19281",
   "metadata": {
    "tags": []
   },
   "outputs": [],
   "source": [
    "\n",
    "y = df_business['is_open']  # Target variable\n",
    "X = df_business.drop(columns=['is_open'])  # Features (excluding 'is_open')\n"
   ]
  },
  {
   "cell_type": "code",
   "execution_count": null,
   "id": "98a246de-2f6b-401f-b898-0b95ff8760dd",
   "metadata": {},
   "outputs": [],
   "source": [
    "import numpy as np\n",
    "import pandas as pd\n",
    "import matplotlib.pyplot as plt\n",
    "\n",
    "#a bunch of imports!\n",
    "from sklearn.model_selection import train_test_split\n",
    "from sklearn.datasets import load_iris\n",
    "from sklearn.preprocessing import StandardScaler\n",
    "from sklearn.decomposition import PCA\n",
    "from sklearn import svm\n",
    "\n",
    "# Ignore futurewarnings\n",
    "import warnings\n",
    "warnings.filterwarnings('ignore')\n",
    "\n",
    "\n",
    "# Split the data into train &  test\n",
    "X_train, X_test, y_train, y_test = train_test_split(X, y, test_size=0.4, random_state=1)\n",
    "\n",
    "#scale\n",
    "scaler = StandardScaler()\n",
    "scaler.fit(X_train)\n",
    "X_train = scaler.transform(X_train)\n",
    "\n",
    "#decompose\n",
    "pca = PCA(n_components=3)\n",
    "pca.fit(X_train)\n",
    "X_train = pca.transform(X_train)\n",
    "\n",
    "#fit\n",
    "rbf_svc = svm.SVC(kernel='rbf')\n",
    "model = rbf_svc.fit(X_train, y_train)\n",
    "\n",
    "print(model.score(X_train, y_train))\n"
   ]
  },
  {
   "cell_type": "code",
   "execution_count": null,
   "id": "ea1200a9-81c6-4c09-a2d9-3e67bc8df02e",
   "metadata": {},
   "outputs": [],
   "source": []
  },
  {
   "cell_type": "code",
   "execution_count": null,
   "id": "5cf582e8-cf8f-4db6-8176-e39f75fc42bf",
   "metadata": {},
   "outputs": [],
   "source": []
  },
  {
   "cell_type": "markdown",
   "id": "a639ea0b-765c-4b17-a2a4-2ff1891da047",
   "metadata": {},
   "source": [
    "Modelling \n",
    "Logistic Regression:\n",
    "\n",
    "Logistic Regression can serve as the foundational model for binary classification, where it can learn to predict the probability of a business being open or closed. It can dynamically adjust class weights or employ regularization techniques to ensure robust performance, particularly in handling imbalanced classes.\n",
    "\n",
    "Decision Tree:\n",
    "\n",
    "Decision trees can be instrumental in providing interpretable insights into the underlying data patterns. By recursively partitioning the feature space, they will uncover significant predictors of business openness. Techniques such as pruning will be applied to prevent overfitting, ensuring the generalization of the model to unseen data while maintaining transparency in decision-making.\n",
    "\n",
    "XGBoost:\n",
    "\n",
    "XGBoost plays a pivotal role as a sophisticated ensemble learning algorithm, capable of capturing complex relationships within the data. It can be extensively fine-tuned, optimizing hyperparameters like scale_pos_weight to effectively handle class imbalance. Through iterative training, XGBoost will strive to achieve superior predictive accuracy and resilience to imbalanced data distributions.\n",
    "\n",
    "Handling Imbalance in 'is_open' Target Variable:\n",
    "\n",
    "For imbalanced classification of 'is_open', where one class (e.g., open businesses) may be significantly more prevalent than the other (e.g., closed businesses), several strategies can be applied: Resampling Techniques: Use techniques like oversampling (e.g., SMOTE), undersampling, or a combination of both to balance the class distribution.\n",
    "Algorithmic Approaches: Algorithms like XGBoost, decision trees, and random forests often provide parameters to adjust class weights or explicitly handle class imbalance.\n",
    "Ensemble Methods: Ensemble techniques like bagging and boosting can help improve the model's performance on imbalanced data by combining predictions from multiple models trained on balanced subsets.\n",
    "Evaluation Metrics: Instead of accuracy, consider using evaluation metrics like precision, recall, F1-score, or area under the ROC curve (ROC-AUC) to assess the model's performance, especially in the context of class imbalance."
   ]
  },
  {
   "cell_type": "markdown",
   "id": "2cc989a3-0bfc-4a64-ba4e-2dde4d295730",
   "metadata": {},
   "source": [
    "To be Continued..."
   ]
  }
 ],
 "metadata": {
  "kernelspec": {
   "display_name": "Python 3 (ipykernel)",
   "language": "python",
   "name": "python3"
  },
  "language_info": {
   "codemirror_mode": {
    "name": "ipython",
    "version": 3
   },
   "file_extension": ".py",
   "mimetype": "text/x-python",
   "name": "python",
   "nbconvert_exporter": "python",
   "pygments_lexer": "ipython3",
   "version": "3.11.5"
  }
 },
 "nbformat": 4,
 "nbformat_minor": 5
}
