{
 "cells": [
  {
   "cell_type": "markdown",
   "id": "ddf55d85-2fde-4cd7-ae0a-48f6c61a3c6e",
   "metadata": {},
   "source": [
    "### Capstone Project"
   ]
  },
  {
   "cell_type": "markdown",
   "id": "c9be88d5-7e4a-4a20-9cb1-ea53f5bb2feb",
   "metadata": {
    "jp-MarkdownHeadingCollapsed": true,
    "tags": []
   },
   "source": [
    "##### Author: Guntaas Kaur\n",
    "##### Contact: guntaaskaur1@gmail.com\n",
    "##### Date: 11-03-2024"
   ]
  },
  {
   "cell_type": "markdown",
   "id": "e46f0567-6702-44bd-9e90-0ca95d604923",
   "metadata": {
    "tags": []
   },
   "source": [
    "## Introduction\n",
    "<b>Predicting Small Businesses Success & Failure </b><br>\n",
    "Understanding the Reasons Behind Small Business Failures and Leveraging Machine Learning for Enhanced Success"
   ]
  },
  {
   "cell_type": "markdown",
   "id": "7493187a-b4d0-448d-ba11-60996c40375e",
   "metadata": {},
   "source": [
    "Data Dictionary\n",
    "| Data         | Field        | Description                                      |\n",
    "|--------------|--------------|--------------------------------------------------|\n",
    "| Businesses   | Business ID  | Unique identifier for each business.             |\n",
    "|              | Name         | Name of the business.                            |\n",
    "|              | Address      | Address of the business.                         |\n",
    "|              | City         | The city where the business is located.          |\n",
    "|              | State        | State where the business is located.             |\n",
    "|              | Postal Code  | Postal code of the business.                     |\n",
    "|              | Latitude     | Latitude coordinates of the business location.   |\n",
    "|              | Longitude    | Longitude coordinate of the business location.   |\n",
    "|              | Stars        | Average rating of the business.                  |\n",
    "|              | Review Count | Number of reviews the business has received.     |\n",
    "|              | Is Open      | Indicates if the business is currently open (1 for open, 0 for closed). |\n",
    "|              | Attributes   | Additional attributes or features of the business. |\n",
    "|              | Categories   | Categories or types of services offered by the business. |\n",
    "|              | Hours        | Operating hours of the business.                 |\n",
    "| Reviews      | Review ID    | Unique identifier for each review.               |\n",
    "|              | User ID      | Unique identifier for the user who wrote the review. |\n",
    "|              | Business ID  | Unique identifier for the business being reviewed. |\n",
    "|              | Stars        | Rating given by the user (1 to 5 stars).         |\n",
    "|              | Text         | The text content of the review.                  |\n",
    "|              | Date         | The date when the review was written.            |\n",
    "| Users        | User ID      | Unique identifier for each user.                 |\n",
    "|              | Name         | User's name.                                     |\n",
    "|              | Review Count | Number of reviews written by the user.           |\n",
    "|              | Average Stars| Average rating given by the user.                |\n",
    "|              | Yelper Since | Date when the user joined Yelp.                  |\n",
    "| Tips         | User ID      | Unique identifier for the user who wrote the tip. |\n",
    "|              | Business ID  | Unique identifier for the business the tip is about. |\n",
    "|              | Text         | The text content of the tip.                     |\n",
    "|              | Date         | The date when the tip was written.               |\n",
    "| Checkin      | Business_id  | Unique identifier for each business.             |\n",
    "|              | Date         | Timestamps indicating the dates and times associated with checkins on business.|\n",
    "\n"
   ]
  },
  {
   "cell_type": "markdown",
   "id": "635404a0-ad08-47b8-aefb-cb60fca14496",
   "metadata": {},
   "source": [
    "<b>Target: Is_open<b>"
   ]
  },
  {
   "cell_type": "markdown",
   "id": "be5e1e0d-90f7-467e-9b79-9428a1e7343c",
   "metadata": {
    "tags": []
   },
   "source": [
    "---\n",
    "### <a id=\"BasicAnalysis\"> Part 1 Basic Analysis</a>\n",
    "---"
   ]
  },
  {
   "cell_type": "code",
   "execution_count": 1,
   "id": "41679304-78ce-41b9-9b34-0cd501160789",
   "metadata": {
    "tags": []
   },
   "outputs": [],
   "source": [
    "#importing required libraries\n",
    "import seaborn as sns\n",
    "import numpy as np\n",
    "import matplotlib.pyplot as plt\n",
    "import pandas as pd"
   ]
  },
  {
   "cell_type": "markdown",
   "id": "19641e2e-7db3-4b05-9651-81e3dc5afc0d",
   "metadata": {},
   "source": [
    "The code reads Yelp business data from a JSON file into a pandas DataFrame. It expects each line in the file to represent a separate JSON object. Additionally, it sets the chunk size to 150243 rows, allowing for efficient processing of large datasets."
   ]
  },
  {
   "cell_type": "code",
   "execution_count": 2,
   "id": "020cbd9b-7bc8-400b-b9d1-5270193d5c85",
   "metadata": {
    "tags": []
   },
   "outputs": [],
   "source": [
    "businesses = pd.read_json(\"data/yelp_academic_dataset_business.json\", lines=True, orient='columns', chunksize=150243)\n",
    "\n",
    "# read the data \n",
    "for business in businesses:\n",
    "    df_business = business\n",
    "    break"
   ]
  },
  {
   "cell_type": "code",
   "execution_count": 3,
   "id": "81ec76c7-784e-41a8-bed2-26793d61e478",
   "metadata": {
    "tags": []
   },
   "outputs": [
    {
     "name": "stdout",
     "output_type": "stream",
     "text": [
      "Business : (150243, 14)\n"
     ]
    }
   ],
   "source": [
    "print(\"Business :\",df_business.shape)\n"
   ]
  },
  {
   "cell_type": "code",
   "execution_count": 4,
   "id": "ad46b19a-e6b9-43d8-aec7-2fda1ddad0c5",
   "metadata": {
    "tags": []
   },
   "outputs": [
    {
     "name": "stdout",
     "output_type": "stream",
     "text": [
      "<class 'pandas.core.frame.DataFrame'>\n",
      "RangeIndex: 150243 entries, 0 to 150242\n",
      "Data columns (total 14 columns):\n",
      " #   Column        Non-Null Count   Dtype  \n",
      "---  ------        --------------   -----  \n",
      " 0   business_id   150243 non-null  object \n",
      " 1   name          150243 non-null  object \n",
      " 2   address       150243 non-null  object \n",
      " 3   city          150243 non-null  object \n",
      " 4   state         150243 non-null  object \n",
      " 5   postal_code   150243 non-null  object \n",
      " 6   latitude      150243 non-null  float64\n",
      " 7   longitude     150243 non-null  float64\n",
      " 8   stars         150243 non-null  float64\n",
      " 9   review_count  150243 non-null  int64  \n",
      " 10  is_open       150243 non-null  int64  \n",
      " 11  attributes    136507 non-null  object \n",
      " 12  categories    150140 non-null  object \n",
      " 13  hours         127038 non-null  object \n",
      "dtypes: float64(3), int64(2), object(9)\n",
      "memory usage: 16.0+ MB\n"
     ]
    }
   ],
   "source": [
    "df_business.info()"
   ]
  },
  {
   "cell_type": "markdown",
   "id": "ae53fd4e-9103-46dc-89ba-7345b4a97b9a",
   "metadata": {},
   "source": [
    "<b>Flattening Nested Structures:</b>\n",
    "The dataset contains nested dictionaries and JSON-like structures, had to flatten them into string representations to create flat feature vectors suitable for modeling.\n",
    "First, we will convert hours to string then extract day and time, later we will convert time to timestamp."
   ]
  },
  {
   "cell_type": "code",
   "execution_count": 5,
   "id": "1f56b2f1-e691-4123-aed5-fda889a34145",
   "metadata": {
    "tags": []
   },
   "outputs": [
    {
     "name": "stdout",
     "output_type": "stream",
     "text": [
      "business_id                                mpf3x-BjTdTEA3yCZrAYPw\n",
      "name                                                The UPS Store\n",
      "address                           87 Grasso Plaza Shopping Center\n",
      "city                                                       Affton\n",
      "state                                                          MO\n",
      "postal_code                                                 63123\n",
      "latitude                                                38.551126\n",
      "longitude                                              -90.335695\n",
      "stars                                                         3.0\n",
      "review_count                                                   15\n",
      "is_open                                                         1\n",
      "attributes                 {'BusinessAcceptsCreditCards': 'True'}\n",
      "categories      Shipping Centers, Local Services, Notaries, Ma...\n",
      "hours           {'Monday': '0:0-0:0', 'Tuesday': '8:0-18:30', ...\n",
      "Name: 1, dtype: object\n"
     ]
    }
   ],
   "source": [
    "one_row = df_business.iloc[1]\n",
    "\n",
    "print(one_row)"
   ]
  },
  {
   "cell_type": "markdown",
   "id": "b7bbc57e-7804-41c8-bd0a-9ace3182536e",
   "metadata": {},
   "source": [
    "<b>Size and Structure: \n",
    "    The DataFrame contains 150,346 rows and 16 columns.\n",
    "\n",
    "Data Types: \n",
    "    The columns contain a mix of data types:\n",
    "\n",
    "3 columns are of type float64.\n",
    "2 columns are of type int64.\n",
    "9 columns are of type object (likely strings).\n",
    "Missing Values: Some columns have missing values:\n",
    "\n",
    "The 'attributes','categories' and 'hours' column has missing values. They contain dictionaries."
   ]
  },
  {
   "cell_type": "code",
   "execution_count": 6,
   "id": "494beec4-ccb5-4188-a598-69a857a8737d",
   "metadata": {
    "tags": []
   },
   "outputs": [
    {
     "data": {
      "text/html": [
       "<div>\n",
       "<style scoped>\n",
       "    .dataframe tbody tr th:only-of-type {\n",
       "        vertical-align: middle;\n",
       "    }\n",
       "\n",
       "    .dataframe tbody tr th {\n",
       "        vertical-align: top;\n",
       "    }\n",
       "\n",
       "    .dataframe thead th {\n",
       "        text-align: right;\n",
       "    }\n",
       "</style>\n",
       "<table border=\"1\" class=\"dataframe\">\n",
       "  <thead>\n",
       "    <tr style=\"text-align: right;\">\n",
       "      <th></th>\n",
       "      <th>0</th>\n",
       "      <th>1</th>\n",
       "      <th>2</th>\n",
       "      <th>3</th>\n",
       "      <th>4</th>\n",
       "    </tr>\n",
       "  </thead>\n",
       "  <tbody>\n",
       "    <tr>\n",
       "      <th>business_id</th>\n",
       "      <td>Pns2l4eNsfO8kk83dixA6A</td>\n",
       "      <td>mpf3x-BjTdTEA3yCZrAYPw</td>\n",
       "      <td>tUFrWirKiKi_TAnsVWINQQ</td>\n",
       "      <td>MTSW4McQd7CbVtyjqoe9mw</td>\n",
       "      <td>mWMc6_wTdE0EUBKIGXDVfA</td>\n",
       "    </tr>\n",
       "    <tr>\n",
       "      <th>name</th>\n",
       "      <td>Abby Rappoport, LAC, CMQ</td>\n",
       "      <td>The UPS Store</td>\n",
       "      <td>Target</td>\n",
       "      <td>St Honore Pastries</td>\n",
       "      <td>Perkiomen Valley Brewery</td>\n",
       "    </tr>\n",
       "    <tr>\n",
       "      <th>address</th>\n",
       "      <td>1616 Chapala St, Ste 2</td>\n",
       "      <td>87 Grasso Plaza Shopping Center</td>\n",
       "      <td>5255 E Broadway Blvd</td>\n",
       "      <td>935 Race St</td>\n",
       "      <td>101 Walnut St</td>\n",
       "    </tr>\n",
       "    <tr>\n",
       "      <th>city</th>\n",
       "      <td>Santa Barbara</td>\n",
       "      <td>Affton</td>\n",
       "      <td>Tucson</td>\n",
       "      <td>Philadelphia</td>\n",
       "      <td>Green Lane</td>\n",
       "    </tr>\n",
       "    <tr>\n",
       "      <th>state</th>\n",
       "      <td>CA</td>\n",
       "      <td>MO</td>\n",
       "      <td>AZ</td>\n",
       "      <td>PA</td>\n",
       "      <td>PA</td>\n",
       "    </tr>\n",
       "    <tr>\n",
       "      <th>postal_code</th>\n",
       "      <td>93101</td>\n",
       "      <td>63123</td>\n",
       "      <td>85711</td>\n",
       "      <td>19107</td>\n",
       "      <td>18054</td>\n",
       "    </tr>\n",
       "    <tr>\n",
       "      <th>latitude</th>\n",
       "      <td>34.426679</td>\n",
       "      <td>38.551126</td>\n",
       "      <td>32.223236</td>\n",
       "      <td>39.955505</td>\n",
       "      <td>40.338183</td>\n",
       "    </tr>\n",
       "    <tr>\n",
       "      <th>longitude</th>\n",
       "      <td>-119.711197</td>\n",
       "      <td>-90.335695</td>\n",
       "      <td>-110.880452</td>\n",
       "      <td>-75.155564</td>\n",
       "      <td>-75.471659</td>\n",
       "    </tr>\n",
       "    <tr>\n",
       "      <th>stars</th>\n",
       "      <td>5.0</td>\n",
       "      <td>3.0</td>\n",
       "      <td>3.5</td>\n",
       "      <td>4.0</td>\n",
       "      <td>4.5</td>\n",
       "    </tr>\n",
       "    <tr>\n",
       "      <th>review_count</th>\n",
       "      <td>7</td>\n",
       "      <td>15</td>\n",
       "      <td>22</td>\n",
       "      <td>80</td>\n",
       "      <td>13</td>\n",
       "    </tr>\n",
       "    <tr>\n",
       "      <th>is_open</th>\n",
       "      <td>0</td>\n",
       "      <td>1</td>\n",
       "      <td>0</td>\n",
       "      <td>1</td>\n",
       "      <td>1</td>\n",
       "    </tr>\n",
       "    <tr>\n",
       "      <th>attributes</th>\n",
       "      <td>{'ByAppointmentOnly': 'True'}</td>\n",
       "      <td>{'BusinessAcceptsCreditCards': 'True'}</td>\n",
       "      <td>{'BikeParking': 'True', 'BusinessAcceptsCredit...</td>\n",
       "      <td>{'RestaurantsDelivery': 'False', 'OutdoorSeati...</td>\n",
       "      <td>{'BusinessAcceptsCreditCards': 'True', 'Wheelc...</td>\n",
       "    </tr>\n",
       "    <tr>\n",
       "      <th>categories</th>\n",
       "      <td>Doctors, Traditional Chinese Medicine, Naturop...</td>\n",
       "      <td>Shipping Centers, Local Services, Notaries, Ma...</td>\n",
       "      <td>Department Stores, Shopping, Fashion, Home &amp; G...</td>\n",
       "      <td>Restaurants, Food, Bubble Tea, Coffee &amp; Tea, B...</td>\n",
       "      <td>Brewpubs, Breweries, Food</td>\n",
       "    </tr>\n",
       "    <tr>\n",
       "      <th>hours</th>\n",
       "      <td>None</td>\n",
       "      <td>{'Monday': '0:0-0:0', 'Tuesday': '8:0-18:30', ...</td>\n",
       "      <td>{'Monday': '8:0-22:0', 'Tuesday': '8:0-22:0', ...</td>\n",
       "      <td>{'Monday': '7:0-20:0', 'Tuesday': '7:0-20:0', ...</td>\n",
       "      <td>{'Wednesday': '14:0-22:0', 'Thursday': '16:0-2...</td>\n",
       "    </tr>\n",
       "  </tbody>\n",
       "</table>\n",
       "</div>"
      ],
      "text/plain": [
       "                                                              0  \\\n",
       "business_id                              Pns2l4eNsfO8kk83dixA6A   \n",
       "name                                   Abby Rappoport, LAC, CMQ   \n",
       "address                                  1616 Chapala St, Ste 2   \n",
       "city                                              Santa Barbara   \n",
       "state                                                        CA   \n",
       "postal_code                                               93101   \n",
       "latitude                                              34.426679   \n",
       "longitude                                           -119.711197   \n",
       "stars                                                       5.0   \n",
       "review_count                                                  7   \n",
       "is_open                                                       0   \n",
       "attributes                        {'ByAppointmentOnly': 'True'}   \n",
       "categories    Doctors, Traditional Chinese Medicine, Naturop...   \n",
       "hours                                                      None   \n",
       "\n",
       "                                                              1  \\\n",
       "business_id                              mpf3x-BjTdTEA3yCZrAYPw   \n",
       "name                                              The UPS Store   \n",
       "address                         87 Grasso Plaza Shopping Center   \n",
       "city                                                     Affton   \n",
       "state                                                        MO   \n",
       "postal_code                                               63123   \n",
       "latitude                                              38.551126   \n",
       "longitude                                            -90.335695   \n",
       "stars                                                       3.0   \n",
       "review_count                                                 15   \n",
       "is_open                                                       1   \n",
       "attributes               {'BusinessAcceptsCreditCards': 'True'}   \n",
       "categories    Shipping Centers, Local Services, Notaries, Ma...   \n",
       "hours         {'Monday': '0:0-0:0', 'Tuesday': '8:0-18:30', ...   \n",
       "\n",
       "                                                              2  \\\n",
       "business_id                              tUFrWirKiKi_TAnsVWINQQ   \n",
       "name                                                     Target   \n",
       "address                                    5255 E Broadway Blvd   \n",
       "city                                                     Tucson   \n",
       "state                                                        AZ   \n",
       "postal_code                                               85711   \n",
       "latitude                                              32.223236   \n",
       "longitude                                           -110.880452   \n",
       "stars                                                       3.5   \n",
       "review_count                                                 22   \n",
       "is_open                                                       0   \n",
       "attributes    {'BikeParking': 'True', 'BusinessAcceptsCredit...   \n",
       "categories    Department Stores, Shopping, Fashion, Home & G...   \n",
       "hours         {'Monday': '8:0-22:0', 'Tuesday': '8:0-22:0', ...   \n",
       "\n",
       "                                                              3  \\\n",
       "business_id                              MTSW4McQd7CbVtyjqoe9mw   \n",
       "name                                         St Honore Pastries   \n",
       "address                                             935 Race St   \n",
       "city                                               Philadelphia   \n",
       "state                                                        PA   \n",
       "postal_code                                               19107   \n",
       "latitude                                              39.955505   \n",
       "longitude                                            -75.155564   \n",
       "stars                                                       4.0   \n",
       "review_count                                                 80   \n",
       "is_open                                                       1   \n",
       "attributes    {'RestaurantsDelivery': 'False', 'OutdoorSeati...   \n",
       "categories    Restaurants, Food, Bubble Tea, Coffee & Tea, B...   \n",
       "hours         {'Monday': '7:0-20:0', 'Tuesday': '7:0-20:0', ...   \n",
       "\n",
       "                                                              4  \n",
       "business_id                              mWMc6_wTdE0EUBKIGXDVfA  \n",
       "name                                   Perkiomen Valley Brewery  \n",
       "address                                           101 Walnut St  \n",
       "city                                                 Green Lane  \n",
       "state                                                        PA  \n",
       "postal_code                                               18054  \n",
       "latitude                                              40.338183  \n",
       "longitude                                            -75.471659  \n",
       "stars                                                       4.5  \n",
       "review_count                                                 13  \n",
       "is_open                                                       1  \n",
       "attributes    {'BusinessAcceptsCreditCards': 'True', 'Wheelc...  \n",
       "categories                            Brewpubs, Breweries, Food  \n",
       "hours         {'Wednesday': '14:0-22:0', 'Thursday': '16:0-2...  "
      ]
     },
     "execution_count": 6,
     "metadata": {},
     "output_type": "execute_result"
    }
   ],
   "source": [
    "df_business.head().T"
   ]
  },
  {
   "cell_type": "markdown",
   "id": "e1d10ee8-61b3-4655-a4cc-4d6fc2865329",
   "metadata": {},
   "source": [
    "Finding out the number of small businesses listed by assuming any business is small if they have less than 2 chains of businesses"
   ]
  },
  {
   "cell_type": "code",
   "execution_count": 7,
   "id": "5b37f774-8185-4934-9d09-6581df55d212",
   "metadata": {
    "tags": []
   },
   "outputs": [
    {
     "data": {
      "text/html": [
       "<div>\n",
       "<style scoped>\n",
       "    .dataframe tbody tr th:only-of-type {\n",
       "        vertical-align: middle;\n",
       "    }\n",
       "\n",
       "    .dataframe tbody tr th {\n",
       "        vertical-align: top;\n",
       "    }\n",
       "\n",
       "    .dataframe thead th {\n",
       "        text-align: right;\n",
       "    }\n",
       "</style>\n",
       "<table border=\"1\" class=\"dataframe\">\n",
       "  <thead>\n",
       "    <tr style=\"text-align: right;\">\n",
       "      <th></th>\n",
       "      <th>business_id</th>\n",
       "      <th>name</th>\n",
       "      <th>address</th>\n",
       "      <th>city</th>\n",
       "      <th>state</th>\n",
       "      <th>postal_code</th>\n",
       "      <th>latitude</th>\n",
       "      <th>longitude</th>\n",
       "      <th>stars</th>\n",
       "      <th>review_count</th>\n",
       "      <th>is_open</th>\n",
       "      <th>attributes</th>\n",
       "      <th>categories</th>\n",
       "      <th>hours</th>\n",
       "    </tr>\n",
       "  </thead>\n",
       "  <tbody>\n",
       "    <tr>\n",
       "      <th>0</th>\n",
       "      <td>Pns2l4eNsfO8kk83dixA6A</td>\n",
       "      <td>Abby Rappoport, LAC, CMQ</td>\n",
       "      <td>1616 Chapala St, Ste 2</td>\n",
       "      <td>Santa Barbara</td>\n",
       "      <td>CA</td>\n",
       "      <td>93101</td>\n",
       "      <td>34.426679</td>\n",
       "      <td>-119.711197</td>\n",
       "      <td>5.0</td>\n",
       "      <td>7</td>\n",
       "      <td>0</td>\n",
       "      <td>{'ByAppointmentOnly': 'True'}</td>\n",
       "      <td>Doctors, Traditional Chinese Medicine, Naturop...</td>\n",
       "      <td>None</td>\n",
       "    </tr>\n",
       "    <tr>\n",
       "      <th>3</th>\n",
       "      <td>MTSW4McQd7CbVtyjqoe9mw</td>\n",
       "      <td>St Honore Pastries</td>\n",
       "      <td>935 Race St</td>\n",
       "      <td>Philadelphia</td>\n",
       "      <td>PA</td>\n",
       "      <td>19107</td>\n",
       "      <td>39.955505</td>\n",
       "      <td>-75.155564</td>\n",
       "      <td>4.0</td>\n",
       "      <td>80</td>\n",
       "      <td>1</td>\n",
       "      <td>{'RestaurantsDelivery': 'False', 'OutdoorSeati...</td>\n",
       "      <td>Restaurants, Food, Bubble Tea, Coffee &amp; Tea, B...</td>\n",
       "      <td>{'Monday': '7:0-20:0', 'Tuesday': '7:0-20:0', ...</td>\n",
       "    </tr>\n",
       "    <tr>\n",
       "      <th>4</th>\n",
       "      <td>mWMc6_wTdE0EUBKIGXDVfA</td>\n",
       "      <td>Perkiomen Valley Brewery</td>\n",
       "      <td>101 Walnut St</td>\n",
       "      <td>Green Lane</td>\n",
       "      <td>PA</td>\n",
       "      <td>18054</td>\n",
       "      <td>40.338183</td>\n",
       "      <td>-75.471659</td>\n",
       "      <td>4.5</td>\n",
       "      <td>13</td>\n",
       "      <td>1</td>\n",
       "      <td>{'BusinessAcceptsCreditCards': 'True', 'Wheelc...</td>\n",
       "      <td>Brewpubs, Breweries, Food</td>\n",
       "      <td>{'Wednesday': '14:0-22:0', 'Thursday': '16:0-2...</td>\n",
       "    </tr>\n",
       "    <tr>\n",
       "      <th>7</th>\n",
       "      <td>qkRM_2X51Yqxk3btlwAQIg</td>\n",
       "      <td>Temple Beth-El</td>\n",
       "      <td>400 Pasadena Ave S</td>\n",
       "      <td>St. Petersburg</td>\n",
       "      <td>FL</td>\n",
       "      <td>33707</td>\n",
       "      <td>27.766590</td>\n",
       "      <td>-82.732983</td>\n",
       "      <td>3.5</td>\n",
       "      <td>5</td>\n",
       "      <td>1</td>\n",
       "      <td>None</td>\n",
       "      <td>Synagogues, Religious Organizations</td>\n",
       "      <td>{'Monday': '9:0-17:0', 'Tuesday': '9:0-17:0', ...</td>\n",
       "    </tr>\n",
       "    <tr>\n",
       "      <th>8</th>\n",
       "      <td>k0hlBqXX-Bt0vf1op7Jr1w</td>\n",
       "      <td>Tsevi's Pub And Grill</td>\n",
       "      <td>8025 Mackenzie Rd</td>\n",
       "      <td>Affton</td>\n",
       "      <td>MO</td>\n",
       "      <td>63123</td>\n",
       "      <td>38.565165</td>\n",
       "      <td>-90.321087</td>\n",
       "      <td>3.0</td>\n",
       "      <td>19</td>\n",
       "      <td>0</td>\n",
       "      <td>{'Caters': 'True', 'Alcohol': 'u'full_bar'', '...</td>\n",
       "      <td>Pubs, Restaurants, Italian, Bars, American (Tr...</td>\n",
       "      <td>None</td>\n",
       "    </tr>\n",
       "    <tr>\n",
       "      <th>...</th>\n",
       "      <td>...</td>\n",
       "      <td>...</td>\n",
       "      <td>...</td>\n",
       "      <td>...</td>\n",
       "      <td>...</td>\n",
       "      <td>...</td>\n",
       "      <td>...</td>\n",
       "      <td>...</td>\n",
       "      <td>...</td>\n",
       "      <td>...</td>\n",
       "      <td>...</td>\n",
       "      <td>...</td>\n",
       "      <td>...</td>\n",
       "      <td>...</td>\n",
       "    </tr>\n",
       "    <tr>\n",
       "      <th>150238</th>\n",
       "      <td>Oy8MfKjNpv3uKs6tCgCVVw</td>\n",
       "      <td>Petrucci's Dairy Barn</td>\n",
       "      <td>2863 Knights Rd</td>\n",
       "      <td>Bensalem</td>\n",
       "      <td>PA</td>\n",
       "      <td>19020</td>\n",
       "      <td>40.103088</td>\n",
       "      <td>-74.951998</td>\n",
       "      <td>4.0</td>\n",
       "      <td>25</td>\n",
       "      <td>1</td>\n",
       "      <td>{'BusinessAcceptsCreditCards': 'False', 'Busin...</td>\n",
       "      <td>Ice Cream &amp; Frozen Yogurt, Food</td>\n",
       "      <td>{'Monday': '12:0-21:0', 'Tuesday': '12:0-21:0'...</td>\n",
       "    </tr>\n",
       "    <tr>\n",
       "      <th>150239</th>\n",
       "      <td>TSwMwVq5GtQh5LW2t32uGA</td>\n",
       "      <td>Woody's Roundup Bar &amp; Grill</td>\n",
       "      <td>Earl Warren Showgrounds, 3400 Calle Real</td>\n",
       "      <td>Santa Barbara</td>\n",
       "      <td>CA</td>\n",
       "      <td>93105</td>\n",
       "      <td>34.430895</td>\n",
       "      <td>-119.735645</td>\n",
       "      <td>2.0</td>\n",
       "      <td>6</td>\n",
       "      <td>0</td>\n",
       "      <td>{'Caters': 'True', 'BusinessParking': '{'garag...</td>\n",
       "      <td>Barbeque, Bars, Restaurants, Nightlife</td>\n",
       "      <td>None</td>\n",
       "    </tr>\n",
       "    <tr>\n",
       "      <th>150240</th>\n",
       "      <td>gem2iNVMy6qhNDO_pO4IqA</td>\n",
       "      <td>Sweet L's Bakery</td>\n",
       "      <td>26 Hibiscus St</td>\n",
       "      <td>Tarpon Springs</td>\n",
       "      <td>FL</td>\n",
       "      <td>34689</td>\n",
       "      <td>28.147221</td>\n",
       "      <td>-82.756020</td>\n",
       "      <td>5.0</td>\n",
       "      <td>10</td>\n",
       "      <td>0</td>\n",
       "      <td>{'BikeParking': 'False', 'BusinessParking': '{...</td>\n",
       "      <td>Desserts, Food, Bakeries</td>\n",
       "      <td>{'Monday': '0:0-0:0', 'Wednesday': '11:0-16:0'...</td>\n",
       "    </tr>\n",
       "    <tr>\n",
       "      <th>150241</th>\n",
       "      <td>XjvaFqjMoU80yO2LpsYqEA</td>\n",
       "      <td>Washoe Lake State Park</td>\n",
       "      <td>County Road 101</td>\n",
       "      <td>New Washoe City</td>\n",
       "      <td>NV</td>\n",
       "      <td>89704</td>\n",
       "      <td>39.321013</td>\n",
       "      <td>-119.796692</td>\n",
       "      <td>4.0</td>\n",
       "      <td>6</td>\n",
       "      <td>1</td>\n",
       "      <td>{'BusinessParking': '{'garage': False, 'street...</td>\n",
       "      <td>Active Life, Parks</td>\n",
       "      <td>None</td>\n",
       "    </tr>\n",
       "    <tr>\n",
       "      <th>150242</th>\n",
       "      <td>BrIQCUgkAc9lyDPGoVaa6Q</td>\n",
       "      <td>Helm Paint &amp; Supply</td>\n",
       "      <td>2801 Magazine St, Ste 3</td>\n",
       "      <td>New Orleans</td>\n",
       "      <td>LA</td>\n",
       "      <td>70115</td>\n",
       "      <td>29.926070</td>\n",
       "      <td>-90.082950</td>\n",
       "      <td>4.5</td>\n",
       "      <td>5</td>\n",
       "      <td>1</td>\n",
       "      <td>{'BusinessAcceptsCreditCards': 'True'}</td>\n",
       "      <td>Shopping, Home &amp; Garden, Home Decor, Home Serv...</td>\n",
       "      <td>None</td>\n",
       "    </tr>\n",
       "  </tbody>\n",
       "</table>\n",
       "<p>106067 rows × 14 columns</p>\n",
       "</div>"
      ],
      "text/plain": [
       "                   business_id                         name  \\\n",
       "0       Pns2l4eNsfO8kk83dixA6A     Abby Rappoport, LAC, CMQ   \n",
       "3       MTSW4McQd7CbVtyjqoe9mw           St Honore Pastries   \n",
       "4       mWMc6_wTdE0EUBKIGXDVfA     Perkiomen Valley Brewery   \n",
       "7       qkRM_2X51Yqxk3btlwAQIg               Temple Beth-El   \n",
       "8       k0hlBqXX-Bt0vf1op7Jr1w        Tsevi's Pub And Grill   \n",
       "...                        ...                          ...   \n",
       "150238  Oy8MfKjNpv3uKs6tCgCVVw        Petrucci's Dairy Barn   \n",
       "150239  TSwMwVq5GtQh5LW2t32uGA  Woody's Roundup Bar & Grill   \n",
       "150240  gem2iNVMy6qhNDO_pO4IqA             Sweet L's Bakery   \n",
       "150241  XjvaFqjMoU80yO2LpsYqEA       Washoe Lake State Park   \n",
       "150242  BrIQCUgkAc9lyDPGoVaa6Q          Helm Paint & Supply   \n",
       "\n",
       "                                         address             city state  \\\n",
       "0                         1616 Chapala St, Ste 2    Santa Barbara    CA   \n",
       "3                                    935 Race St     Philadelphia    PA   \n",
       "4                                  101 Walnut St       Green Lane    PA   \n",
       "7                             400 Pasadena Ave S   St. Petersburg    FL   \n",
       "8                              8025 Mackenzie Rd           Affton    MO   \n",
       "...                                          ...              ...   ...   \n",
       "150238                           2863 Knights Rd         Bensalem    PA   \n",
       "150239  Earl Warren Showgrounds, 3400 Calle Real    Santa Barbara    CA   \n",
       "150240                            26 Hibiscus St   Tarpon Springs    FL   \n",
       "150241                           County Road 101  New Washoe City    NV   \n",
       "150242                   2801 Magazine St, Ste 3      New Orleans    LA   \n",
       "\n",
       "       postal_code   latitude   longitude  stars  review_count  is_open  \\\n",
       "0            93101  34.426679 -119.711197    5.0             7        0   \n",
       "3            19107  39.955505  -75.155564    4.0            80        1   \n",
       "4            18054  40.338183  -75.471659    4.5            13        1   \n",
       "7            33707  27.766590  -82.732983    3.5             5        1   \n",
       "8            63123  38.565165  -90.321087    3.0            19        0   \n",
       "...            ...        ...         ...    ...           ...      ...   \n",
       "150238       19020  40.103088  -74.951998    4.0            25        1   \n",
       "150239       93105  34.430895 -119.735645    2.0             6        0   \n",
       "150240       34689  28.147221  -82.756020    5.0            10        0   \n",
       "150241       89704  39.321013 -119.796692    4.0             6        1   \n",
       "150242       70115  29.926070  -90.082950    4.5             5        1   \n",
       "\n",
       "                                               attributes  \\\n",
       "0                           {'ByAppointmentOnly': 'True'}   \n",
       "3       {'RestaurantsDelivery': 'False', 'OutdoorSeati...   \n",
       "4       {'BusinessAcceptsCreditCards': 'True', 'Wheelc...   \n",
       "7                                                    None   \n",
       "8       {'Caters': 'True', 'Alcohol': 'u'full_bar'', '...   \n",
       "...                                                   ...   \n",
       "150238  {'BusinessAcceptsCreditCards': 'False', 'Busin...   \n",
       "150239  {'Caters': 'True', 'BusinessParking': '{'garag...   \n",
       "150240  {'BikeParking': 'False', 'BusinessParking': '{...   \n",
       "150241  {'BusinessParking': '{'garage': False, 'street...   \n",
       "150242             {'BusinessAcceptsCreditCards': 'True'}   \n",
       "\n",
       "                                               categories  \\\n",
       "0       Doctors, Traditional Chinese Medicine, Naturop...   \n",
       "3       Restaurants, Food, Bubble Tea, Coffee & Tea, B...   \n",
       "4                               Brewpubs, Breweries, Food   \n",
       "7                     Synagogues, Religious Organizations   \n",
       "8       Pubs, Restaurants, Italian, Bars, American (Tr...   \n",
       "...                                                   ...   \n",
       "150238                    Ice Cream & Frozen Yogurt, Food   \n",
       "150239             Barbeque, Bars, Restaurants, Nightlife   \n",
       "150240                           Desserts, Food, Bakeries   \n",
       "150241                                 Active Life, Parks   \n",
       "150242  Shopping, Home & Garden, Home Decor, Home Serv...   \n",
       "\n",
       "                                                    hours  \n",
       "0                                                    None  \n",
       "3       {'Monday': '7:0-20:0', 'Tuesday': '7:0-20:0', ...  \n",
       "4       {'Wednesday': '14:0-22:0', 'Thursday': '16:0-2...  \n",
       "7       {'Monday': '9:0-17:0', 'Tuesday': '9:0-17:0', ...  \n",
       "8                                                    None  \n",
       "...                                                   ...  \n",
       "150238  {'Monday': '12:0-21:0', 'Tuesday': '12:0-21:0'...  \n",
       "150239                                               None  \n",
       "150240  {'Monday': '0:0-0:0', 'Wednesday': '11:0-16:0'...  \n",
       "150241                                               None  \n",
       "150242                                               None  \n",
       "\n",
       "[106067 rows x 14 columns]"
      ]
     },
     "execution_count": 7,
     "metadata": {},
     "output_type": "execute_result"
    }
   ],
   "source": [
    "# Filter the DataFrame based on the count of occurrences of each unique value in the 'name' column\n",
    "df_small_business = df_business[df_business['name'].map(df_business['name'].value_counts()) < 2]\n",
    "df_small_business"
   ]
  },
  {
   "cell_type": "code",
   "execution_count": 8,
   "id": "72455b1f-66f9-4c38-b5b1-9734e8d9c5df",
   "metadata": {
    "tags": []
   },
   "outputs": [],
   "source": [
    "# Reset the index of the DataFrame\n",
    "df_business.reset_index(drop=True, inplace=True)"
   ]
  },
  {
   "cell_type": "code",
   "execution_count": 9,
   "id": "146d9833-d874-47b6-be67-55f3cf28ce75",
   "metadata": {
    "tags": []
   },
   "outputs": [
    {
     "data": {
      "text/plain": [
       "state\n",
       "PA     34017\n",
       "FL     26318\n",
       "TN     12047\n",
       "IN     11239\n",
       "MO     10905\n",
       "LA      9920\n",
       "AZ      9901\n",
       "NJ      8530\n",
       "NV      7712\n",
       "AB      5566\n",
       "CA      5198\n",
       "ID      4462\n",
       "DE      2263\n",
       "IL      2144\n",
       "TX         4\n",
       "CO         3\n",
       "WA         2\n",
       "HI         2\n",
       "MA         2\n",
       "NC         1\n",
       "UT         1\n",
       "MT         1\n",
       "MI         1\n",
       "SD         1\n",
       "XMS        1\n",
       "VI         1\n",
       "VT         1\n",
       "Name: count, dtype: int64"
      ]
     },
     "execution_count": 9,
     "metadata": {},
     "output_type": "execute_result"
    }
   ],
   "source": [
    "df_business['state'].value_counts()"
   ]
  },
  {
   "cell_type": "markdown",
   "id": "70e2e51a-33b2-43d7-8d0c-6e89b556950d",
   "metadata": {},
   "source": [
    "PA: Pennsylvania\n",
    "FL: Florida\n",
    "TN: Tennessee\n",
    "IN: Indiana\n",
    "MO: Missouri\n",
    "LA: Louisiana\n",
    "AZ: Arizona\n",
    "NJ: New Jersey\n",
    "NV: Nevada\n",
    "AB: Alberta (This is a Canadian province, not a U.S. state)\n",
    "CA: California\n",
    "ID: Idaho\n",
    "DE: Delaware\n",
    "IL: Illinois\n",
    "TX: Texas\n",
    "CO: Colorado\n",
    "WA: Washington\n",
    "HI: Hawaii\n",
    "MA: Massachusetts\n",
    "NC: North Carolina\n",
    "UT: Utah\n",
    "MT: Montana\n",
    "MI: Michigan\n",
    "SD: South Dakota\n",
    "XMS: This abbreviation is not recognized as a U.S. state or Canadian province abbreviation.\n",
    "VI: Virgin Islands (This is a territory of the United States, not a state)\n",
    "VT: Vermont"
   ]
  },
  {
   "cell_type": "code",
   "execution_count": 10,
   "id": "c980523e-9de2-47e7-952b-476412b0f2a6",
   "metadata": {
    "tags": []
   },
   "outputs": [],
   "source": [
    "df_business_subset=df_business.drop(columns=['attributes','categories','hours'])"
   ]
  },
  {
   "cell_type": "code",
   "execution_count": 11,
   "id": "b7bd0b8a-ae4a-47b3-8894-ffee72fd4a48",
   "metadata": {
    "tags": []
   },
   "outputs": [
    {
     "data": {
      "text/html": [
       "<div>\n",
       "<style scoped>\n",
       "    .dataframe tbody tr th:only-of-type {\n",
       "        vertical-align: middle;\n",
       "    }\n",
       "\n",
       "    .dataframe tbody tr th {\n",
       "        vertical-align: top;\n",
       "    }\n",
       "\n",
       "    .dataframe thead th {\n",
       "        text-align: right;\n",
       "    }\n",
       "</style>\n",
       "<table border=\"1\" class=\"dataframe\">\n",
       "  <thead>\n",
       "    <tr style=\"text-align: right;\">\n",
       "      <th></th>\n",
       "      <th>business_id</th>\n",
       "      <th>name</th>\n",
       "      <th>address</th>\n",
       "      <th>city</th>\n",
       "      <th>state</th>\n",
       "      <th>postal_code</th>\n",
       "      <th>latitude</th>\n",
       "      <th>longitude</th>\n",
       "      <th>stars</th>\n",
       "      <th>review_count</th>\n",
       "      <th>is_open</th>\n",
       "    </tr>\n",
       "  </thead>\n",
       "  <tbody>\n",
       "    <tr>\n",
       "      <th>0</th>\n",
       "      <td>Pns2l4eNsfO8kk83dixA6A</td>\n",
       "      <td>Abby Rappoport, LAC, CMQ</td>\n",
       "      <td>1616 Chapala St, Ste 2</td>\n",
       "      <td>Santa Barbara</td>\n",
       "      <td>CA</td>\n",
       "      <td>93101</td>\n",
       "      <td>34.426679</td>\n",
       "      <td>-119.711197</td>\n",
       "      <td>5.0</td>\n",
       "      <td>7</td>\n",
       "      <td>0</td>\n",
       "    </tr>\n",
       "    <tr>\n",
       "      <th>1</th>\n",
       "      <td>mpf3x-BjTdTEA3yCZrAYPw</td>\n",
       "      <td>The UPS Store</td>\n",
       "      <td>87 Grasso Plaza Shopping Center</td>\n",
       "      <td>Affton</td>\n",
       "      <td>MO</td>\n",
       "      <td>63123</td>\n",
       "      <td>38.551126</td>\n",
       "      <td>-90.335695</td>\n",
       "      <td>3.0</td>\n",
       "      <td>15</td>\n",
       "      <td>1</td>\n",
       "    </tr>\n",
       "    <tr>\n",
       "      <th>2</th>\n",
       "      <td>tUFrWirKiKi_TAnsVWINQQ</td>\n",
       "      <td>Target</td>\n",
       "      <td>5255 E Broadway Blvd</td>\n",
       "      <td>Tucson</td>\n",
       "      <td>AZ</td>\n",
       "      <td>85711</td>\n",
       "      <td>32.223236</td>\n",
       "      <td>-110.880452</td>\n",
       "      <td>3.5</td>\n",
       "      <td>22</td>\n",
       "      <td>0</td>\n",
       "    </tr>\n",
       "    <tr>\n",
       "      <th>3</th>\n",
       "      <td>MTSW4McQd7CbVtyjqoe9mw</td>\n",
       "      <td>St Honore Pastries</td>\n",
       "      <td>935 Race St</td>\n",
       "      <td>Philadelphia</td>\n",
       "      <td>PA</td>\n",
       "      <td>19107</td>\n",
       "      <td>39.955505</td>\n",
       "      <td>-75.155564</td>\n",
       "      <td>4.0</td>\n",
       "      <td>80</td>\n",
       "      <td>1</td>\n",
       "    </tr>\n",
       "    <tr>\n",
       "      <th>4</th>\n",
       "      <td>mWMc6_wTdE0EUBKIGXDVfA</td>\n",
       "      <td>Perkiomen Valley Brewery</td>\n",
       "      <td>101 Walnut St</td>\n",
       "      <td>Green Lane</td>\n",
       "      <td>PA</td>\n",
       "      <td>18054</td>\n",
       "      <td>40.338183</td>\n",
       "      <td>-75.471659</td>\n",
       "      <td>4.5</td>\n",
       "      <td>13</td>\n",
       "      <td>1</td>\n",
       "    </tr>\n",
       "  </tbody>\n",
       "</table>\n",
       "</div>"
      ],
      "text/plain": [
       "              business_id                      name  \\\n",
       "0  Pns2l4eNsfO8kk83dixA6A  Abby Rappoport, LAC, CMQ   \n",
       "1  mpf3x-BjTdTEA3yCZrAYPw             The UPS Store   \n",
       "2  tUFrWirKiKi_TAnsVWINQQ                    Target   \n",
       "3  MTSW4McQd7CbVtyjqoe9mw        St Honore Pastries   \n",
       "4  mWMc6_wTdE0EUBKIGXDVfA  Perkiomen Valley Brewery   \n",
       "\n",
       "                           address           city state postal_code  \\\n",
       "0           1616 Chapala St, Ste 2  Santa Barbara    CA       93101   \n",
       "1  87 Grasso Plaza Shopping Center         Affton    MO       63123   \n",
       "2             5255 E Broadway Blvd         Tucson    AZ       85711   \n",
       "3                      935 Race St   Philadelphia    PA       19107   \n",
       "4                    101 Walnut St     Green Lane    PA       18054   \n",
       "\n",
       "    latitude   longitude  stars  review_count  is_open  \n",
       "0  34.426679 -119.711197    5.0             7        0  \n",
       "1  38.551126  -90.335695    3.0            15        1  \n",
       "2  32.223236 -110.880452    3.5            22        0  \n",
       "3  39.955505  -75.155564    4.0            80        1  \n",
       "4  40.338183  -75.471659    4.5            13        1  "
      ]
     },
     "execution_count": 11,
     "metadata": {},
     "output_type": "execute_result"
    }
   ],
   "source": [
    "df_business_subset.head()"
   ]
  },
  {
   "cell_type": "markdown",
   "id": "4c43e789-bd7b-40fc-adad-d512d74c79df",
   "metadata": {
    "tags": []
   },
   "source": [
    "### Removing Duplicates"
   ]
  },
  {
   "cell_type": "code",
   "execution_count": 12,
   "id": "231dc584-d704-45d4-b531-6e3f71c6ea8a",
   "metadata": {
    "tags": []
   },
   "outputs": [
    {
     "data": {
      "text/plain": [
       "0"
      ]
     },
     "execution_count": 12,
     "metadata": {},
     "output_type": "execute_result"
    }
   ],
   "source": [
    "df_business_subset.duplicated().sum()"
   ]
  },
  {
   "cell_type": "markdown",
   "id": "5f9ac07d-45c6-4d12-a036-ae8ef9815085",
   "metadata": {},
   "source": [
    "Empty dataset specifies that there are no duplicate values in specified columns"
   ]
  },
  {
   "cell_type": "code",
   "execution_count": 13,
   "id": "fda26fc5-1d87-46eb-af0f-7928deafa132",
   "metadata": {
    "tags": []
   },
   "outputs": [
    {
     "data": {
      "text/plain": [
       "business_id     0\n",
       "name            0\n",
       "address         0\n",
       "city            0\n",
       "state           0\n",
       "postal_code     0\n",
       "latitude        0\n",
       "longitude       0\n",
       "stars           0\n",
       "review_count    0\n",
       "is_open         0\n",
       "dtype: int64"
      ]
     },
     "execution_count": 13,
     "metadata": {},
     "output_type": "execute_result"
    }
   ],
   "source": [
    "df_business_subset.isna().sum()"
   ]
  },
  {
   "cell_type": "markdown",
   "id": "55a068cb-761c-44b1-b371-6c04f238f2b1",
   "metadata": {
    "tags": []
   },
   "source": [
    "### Removing Null Values"
   ]
  },
  {
   "cell_type": "code",
   "execution_count": 14,
   "id": "09a3139a-40d9-49e5-ace7-60710c646733",
   "metadata": {},
   "outputs": [
    {
     "name": "stdout",
     "output_type": "stream",
     "text": [
      "0         False\n",
      "1         False\n",
      "2         False\n",
      "3          True\n",
      "4         False\n",
      "          ...  \n",
      "150238    False\n",
      "150239     True\n",
      "150240    False\n",
      "150241    False\n",
      "150242    False\n",
      "Name: categories, Length: 150243, dtype: object\n"
     ]
    }
   ],
   "source": [
    "# Count occurrences of categories starting with 'rest'\n",
    "# Convert strings in the 'categories' column to lowercase\n",
    "df_business['categories'] = df_business['categories'].str.lower()\n",
    "\n",
    "rest_categories_count = df_business['categories'].str.contains('rest.*', regex=True)\n",
    "\n",
    "# Print the result\n",
    "print(rest_categories_count)"
   ]
  },
  {
   "cell_type": "code",
   "execution_count": 15,
   "id": "05c9d847-3fcd-42a5-9aea-abc5b1769a0d",
   "metadata": {
    "tags": []
   },
   "outputs": [
    {
     "name": "stdout",
     "output_type": "stream",
     "text": [
      "['doctors, traditional chinese medicine, naturopathic/holistic, acupuncture, health & medical, nutritionists'\n",
      " 'shipping centers, local services, notaries, mailbox centers, printing services'\n",
      " 'department stores, shopping, fashion, home & garden, electronics, furniture stores'\n",
      " ... 'restaurants, pizza, mexican'\n",
      " 'specialty food, event planning & services, restaurants, sandwiches, street vendors, caterers, cheese shops, food trucks, food'\n",
      " 'shopping, home & garden, home decor, home services, paint stores, painters, contractors']\n"
     ]
    }
   ],
   "source": [
    "# Print unique categories\n",
    "print(df_business['categories'].unique())\n"
   ]
  },
  {
   "cell_type": "code",
   "execution_count": 16,
   "id": "5212d90f-fb7a-4e2f-952d-1913a3ca02f8",
   "metadata": {
    "tags": []
   },
   "outputs": [
    {
     "data": {
      "text/plain": [
       "103"
      ]
     },
     "execution_count": 16,
     "metadata": {},
     "output_type": "execute_result"
    }
   ],
   "source": [
    "df_business['categories'].isna().sum()"
   ]
  },
  {
   "cell_type": "code",
   "execution_count": 17,
   "id": "bb6e9c75-e7da-4529-9be9-ab34c3f15e89",
   "metadata": {
    "tags": []
   },
   "outputs": [
    {
     "data": {
      "text/plain": [
       "0.06855560658400059"
      ]
     },
     "execution_count": 17,
     "metadata": {},
     "output_type": "execute_result"
    }
   ],
   "source": [
    "df_business['categories'].isna().mean()*100"
   ]
  },
  {
   "cell_type": "markdown",
   "id": "92d3ff40-67a6-47fe-9d83-557ac3cbc4a3",
   "metadata": {},
   "source": [
    "The percentage of null for categories is much smaller. For the <3% missing columns so we can remove those rows."
   ]
  },
  {
   "cell_type": "code",
   "execution_count": 18,
   "id": "4e9fcb9e-cad5-47b3-bb5e-e549b0681f4d",
   "metadata": {
    "tags": []
   },
   "outputs": [],
   "source": [
    "df_business.dropna(subset=['categories'], inplace=True)\n"
   ]
  },
  {
   "cell_type": "code",
   "execution_count": 19,
   "id": "4d651b2b-bce0-4c65-b32d-28635a29d8a1",
   "metadata": {
    "tags": []
   },
   "outputs": [
    {
     "data": {
      "text/plain": [
       "0"
      ]
     },
     "execution_count": 19,
     "metadata": {},
     "output_type": "execute_result"
    }
   ],
   "source": [
    "df_business['categories'].isna().sum()"
   ]
  },
  {
   "cell_type": "markdown",
   "id": "79cd2142-fb59-4be8-83cf-8072734bad20",
   "metadata": {},
   "source": [
    "For the attributes, hours columns it may be worth imputing these values as dropping 15.37% and 9.02% of rows may be too much data loss."
   ]
  },
  {
   "cell_type": "code",
   "execution_count": 20,
   "id": "bf5c91c2-f966-419f-96e9-61b654c8f1cf",
   "metadata": {
    "tags": []
   },
   "outputs": [],
   "source": [
    "#making everything lower case + removing punctuation\n",
    "df_business['address'] = df_business['address'].str.lower()\n",
    "\n",
    "df_business['address'] = df_business['address'].str.replace('[^\\w\\s]','')"
   ]
  },
  {
   "cell_type": "code",
   "execution_count": 21,
   "id": "e27578c0-4e51-4405-bdab-84f52871ad45",
   "metadata": {
    "tags": []
   },
   "outputs": [
    {
     "data": {
      "text/plain": [
       "0                        1616 chapala st, ste 2\n",
       "1               87 grasso plaza shopping center\n",
       "2                          5255 e broadway blvd\n",
       "3                                   935 race st\n",
       "4                                 101 walnut st\n",
       "5                                 615 s main st\n",
       "6    8522 eager road, dierbergs brentwood point\n",
       "7                            400 pasadena ave s\n",
       "8                             8025 mackenzie rd\n",
       "9                           2312 dickerson pike\n",
       "Name: address, dtype: object"
      ]
     },
     "execution_count": 21,
     "metadata": {},
     "output_type": "execute_result"
    }
   ],
   "source": [
    "df_business['address'].head(10)"
   ]
  },
  {
   "cell_type": "code",
   "execution_count": 22,
   "id": "9b62b479-fdcd-466b-8a0d-0785ea6c5e96",
   "metadata": {
    "tags": []
   },
   "outputs": [],
   "source": [
    "df_business=df_business.dropna(subset=['categories',],axis=0)"
   ]
  },
  {
   "cell_type": "code",
   "execution_count": 23,
   "id": "b3573220-3c12-4f28-868c-009b8c8bc883",
   "metadata": {
    "tags": []
   },
   "outputs": [
    {
     "data": {
      "text/plain": [
       "business_id     0.000000\n",
       "name            0.000000\n",
       "address         0.000000\n",
       "city            0.000000\n",
       "state           0.000000\n",
       "postal_code     0.000000\n",
       "latitude        0.000000\n",
       "longitude       0.000000\n",
       "stars           0.000000\n",
       "review_count    0.000000\n",
       "is_open         0.000000\n",
       "attributes      0.090809\n",
       "categories      0.000000\n",
       "hours           0.153870\n",
       "dtype: float64"
      ]
     },
     "execution_count": 23,
     "metadata": {},
     "output_type": "execute_result"
    }
   ],
   "source": [
    "df_business.isna().mean()"
   ]
  },
  {
   "cell_type": "code",
   "execution_count": 24,
   "id": "f88e0b37-eec5-46e4-9ea7-a682a55fa793",
   "metadata": {
    "tags": []
   },
   "outputs": [
    {
     "data": {
      "text/plain": [
       "is_open\n",
       "1    119524\n",
       "0     30616\n",
       "Name: count, dtype: int64"
      ]
     },
     "execution_count": 24,
     "metadata": {},
     "output_type": "execute_result"
    }
   ],
   "source": [
    "df_business['is_open'].value_counts()"
   ]
  },
  {
   "cell_type": "markdown",
   "id": "107f9be8-722f-4689-8505-ae77b0d9494a",
   "metadata": {
    "tags": []
   },
   "source": [
    "### Hours- each row contains a dictionary where the keys represent days of the week and the values are strings representing the opening hours for each day. "
   ]
  },
  {
   "cell_type": "code",
   "execution_count": 25,
   "id": "e065e43c-1a8a-48e9-a6b4-cb7a890bb3ce",
   "metadata": {
    "tags": []
   },
   "outputs": [
    {
     "data": {
      "text/plain": [
       "0                                                 None\n",
       "1    {'Monday': '0:0-0:0', 'Tuesday': '8:0-18:30', ...\n",
       "2    {'Monday': '8:0-22:0', 'Tuesday': '8:0-22:0', ...\n",
       "3    {'Monday': '7:0-20:0', 'Tuesday': '7:0-20:0', ...\n",
       "4    {'Wednesday': '14:0-22:0', 'Thursday': '16:0-2...\n",
       "Name: hours, dtype: object"
      ]
     },
     "execution_count": 25,
     "metadata": {},
     "output_type": "execute_result"
    }
   ],
   "source": [
    "df_business['hours'].head()"
   ]
  },
  {
   "cell_type": "code",
   "execution_count": 26,
   "id": "f046cec6-eb1a-4fe5-bfb6-6edbc3e8993a",
   "metadata": {
    "tags": []
   },
   "outputs": [
    {
     "name": "stdout",
     "output_type": "stream",
     "text": [
      "     Monday    Tuesday  Wednesday   Thursday     Friday   Saturday     Sunday\n",
      "0       NaN        NaN        NaN        NaN        NaN        NaN        NaN\n",
      "1   0:0-0:0  8:0-18:30  8:0-18:30  8:0-18:30  8:0-18:30   8:0-14:0        NaN\n",
      "2  8:0-22:0   8:0-22:0   8:0-22:0   8:0-22:0   8:0-23:0   8:0-23:0   8:0-22:0\n",
      "3  7:0-20:0   7:0-20:0   7:0-20:0   7:0-20:0   7:0-21:0   7:0-21:0   7:0-21:0\n",
      "4       NaN        NaN  14:0-22:0  16:0-22:0  12:0-22:0  12:0-22:0  12:0-18:0\n"
     ]
    }
   ],
   "source": [
    "#split out the dict\n",
    "hours_day_df = df_business['hours'].apply(pd.Series)\n",
    "# Display the DataFrame after conversion\n",
    "print(hours_day_df.head())"
   ]
  },
  {
   "cell_type": "code",
   "execution_count": 27,
   "id": "3db0f271-24e9-4d22-a60d-462295f71c90",
   "metadata": {
    "tags": []
   },
   "outputs": [
    {
     "data": {
      "text/plain": [
       "Monday       object\n",
       "Tuesday      object\n",
       "Wednesday    object\n",
       "Thursday     object\n",
       "Friday       object\n",
       "Saturday     object\n",
       "Sunday       object\n",
       "dtype: object"
      ]
     },
     "execution_count": 27,
     "metadata": {},
     "output_type": "execute_result"
    }
   ],
   "source": [
    "hours_day_df.dtypes"
   ]
  },
  {
   "cell_type": "code",
   "execution_count": 28,
   "id": "db7d6eda-e38b-41c9-8b92-7fdadce3e5a4",
   "metadata": {
    "tags": []
   },
   "outputs": [
    {
     "name": "stdout",
     "output_type": "stream",
     "text": [
      "[nan '0:0-0:0' '8:0-22:0' ... '8:0-1:45' '7:30-19:45' '20:0-4:0']\n"
     ]
    }
   ],
   "source": [
    "# Replace specific text values with NaT\n",
    "hours_day_df['Monday'] = hours_day_df['Monday'].replace({'nan': 'NaT'})\n",
    "\n",
    "# Print the unique values in the 'Monday' column\n",
    "print(hours_day_df['Monday'].unique())"
   ]
  },
  {
   "cell_type": "code",
   "execution_count": 29,
   "id": "b1ebaff3-4cbd-432b-bf6c-4d2619e85a86",
   "metadata": {
    "tags": []
   },
   "outputs": [
    {
     "data": {
      "text/plain": [
       "Monday     Tuesday    Wednesday  Thursday   Friday     Saturday   Sunday   \n",
       "                                                                               23102\n",
       "0:0-0:0    0:0-0:0    0:0-0:0    0:0-0:0    0:0-0:0    0:0-0:0    0:0-0:0       6787\n",
       "8:0-17:0   8:0-17:0   8:0-17:0   8:0-17:0   8:0-17:0                            2015\n",
       "9:0-17:0   9:0-17:0   9:0-17:0   9:0-17:0   9:0-17:0                            1598\n",
       "11:0-21:0  11:0-21:0  11:0-21:0  11:0-21:0  11:0-21:0  11:0-21:0  11:0-21:0      621\n",
       "                                                                               ...  \n",
       "0:0-0:0    8:0-18:0   11:0-19:0  8:0-18:0                                          1\n",
       "                      12:0-20:0  8:0-18:0   12:0-20:0  12:0-20:0  12:0-20:0        1\n",
       "                      2:0-18:0   8:0-18:0                                          1\n",
       "                      7:0-12:0   8:0-18:0   7:0-17:0   12:0-19:0                   1\n",
       "9:45-19:0  9:45-19:0  9:45-19:0  9:45-19:0  9:45-19:0  9:45-19:0  10:0-17:0        1\n",
       "Name: count, Length: 49794, dtype: int64"
      ]
     },
     "execution_count": 29,
     "metadata": {},
     "output_type": "execute_result"
    }
   ],
   "source": [
    "# Replace NaN values with an empty string\n",
    "hours_day_df.fillna('', inplace=True)\n",
    "hours_day_df.value_counts()"
   ]
  },
  {
   "cell_type": "code",
   "execution_count": 30,
   "id": "9230864d-6d86-4835-a132-7f784b4bd9a1",
   "metadata": {
    "tags": []
   },
   "outputs": [
    {
     "data": {
      "text/html": [
       "<div>\n",
       "<style scoped>\n",
       "    .dataframe tbody tr th:only-of-type {\n",
       "        vertical-align: middle;\n",
       "    }\n",
       "\n",
       "    .dataframe tbody tr th {\n",
       "        vertical-align: top;\n",
       "    }\n",
       "\n",
       "    .dataframe thead th {\n",
       "        text-align: right;\n",
       "    }\n",
       "</style>\n",
       "<table border=\"1\" class=\"dataframe\">\n",
       "  <thead>\n",
       "    <tr style=\"text-align: right;\">\n",
       "      <th></th>\n",
       "      <th>business_id</th>\n",
       "      <th>name</th>\n",
       "      <th>address</th>\n",
       "      <th>city</th>\n",
       "      <th>state</th>\n",
       "      <th>postal_code</th>\n",
       "      <th>latitude</th>\n",
       "      <th>longitude</th>\n",
       "      <th>stars</th>\n",
       "      <th>review_count</th>\n",
       "      <th>is_open</th>\n",
       "      <th>attributes</th>\n",
       "      <th>categories</th>\n",
       "      <th>hours</th>\n",
       "    </tr>\n",
       "  </thead>\n",
       "  <tbody>\n",
       "    <tr>\n",
       "      <th>0</th>\n",
       "      <td>Pns2l4eNsfO8kk83dixA6A</td>\n",
       "      <td>Abby Rappoport, LAC, CMQ</td>\n",
       "      <td>1616 chapala st, ste 2</td>\n",
       "      <td>Santa Barbara</td>\n",
       "      <td>CA</td>\n",
       "      <td>93101</td>\n",
       "      <td>34.426679</td>\n",
       "      <td>-119.711197</td>\n",
       "      <td>5.0</td>\n",
       "      <td>7</td>\n",
       "      <td>0</td>\n",
       "      <td>{'ByAppointmentOnly': 'True'}</td>\n",
       "      <td>doctors, traditional chinese medicine, naturop...</td>\n",
       "      <td>None</td>\n",
       "    </tr>\n",
       "    <tr>\n",
       "      <th>1</th>\n",
       "      <td>mpf3x-BjTdTEA3yCZrAYPw</td>\n",
       "      <td>The UPS Store</td>\n",
       "      <td>87 grasso plaza shopping center</td>\n",
       "      <td>Affton</td>\n",
       "      <td>MO</td>\n",
       "      <td>63123</td>\n",
       "      <td>38.551126</td>\n",
       "      <td>-90.335695</td>\n",
       "      <td>3.0</td>\n",
       "      <td>15</td>\n",
       "      <td>1</td>\n",
       "      <td>{'BusinessAcceptsCreditCards': 'True'}</td>\n",
       "      <td>shipping centers, local services, notaries, ma...</td>\n",
       "      <td>{'Monday': '0:0-0:0', 'Tuesday': '8:0-18:30', ...</td>\n",
       "    </tr>\n",
       "    <tr>\n",
       "      <th>2</th>\n",
       "      <td>tUFrWirKiKi_TAnsVWINQQ</td>\n",
       "      <td>Target</td>\n",
       "      <td>5255 e broadway blvd</td>\n",
       "      <td>Tucson</td>\n",
       "      <td>AZ</td>\n",
       "      <td>85711</td>\n",
       "      <td>32.223236</td>\n",
       "      <td>-110.880452</td>\n",
       "      <td>3.5</td>\n",
       "      <td>22</td>\n",
       "      <td>0</td>\n",
       "      <td>{'BikeParking': 'True', 'BusinessAcceptsCredit...</td>\n",
       "      <td>department stores, shopping, fashion, home &amp; g...</td>\n",
       "      <td>{'Monday': '8:0-22:0', 'Tuesday': '8:0-22:0', ...</td>\n",
       "    </tr>\n",
       "    <tr>\n",
       "      <th>3</th>\n",
       "      <td>MTSW4McQd7CbVtyjqoe9mw</td>\n",
       "      <td>St Honore Pastries</td>\n",
       "      <td>935 race st</td>\n",
       "      <td>Philadelphia</td>\n",
       "      <td>PA</td>\n",
       "      <td>19107</td>\n",
       "      <td>39.955505</td>\n",
       "      <td>-75.155564</td>\n",
       "      <td>4.0</td>\n",
       "      <td>80</td>\n",
       "      <td>1</td>\n",
       "      <td>{'RestaurantsDelivery': 'False', 'OutdoorSeati...</td>\n",
       "      <td>restaurants, food, bubble tea, coffee &amp; tea, b...</td>\n",
       "      <td>{'Monday': '7:0-20:0', 'Tuesday': '7:0-20:0', ...</td>\n",
       "    </tr>\n",
       "    <tr>\n",
       "      <th>4</th>\n",
       "      <td>mWMc6_wTdE0EUBKIGXDVfA</td>\n",
       "      <td>Perkiomen Valley Brewery</td>\n",
       "      <td>101 walnut st</td>\n",
       "      <td>Green Lane</td>\n",
       "      <td>PA</td>\n",
       "      <td>18054</td>\n",
       "      <td>40.338183</td>\n",
       "      <td>-75.471659</td>\n",
       "      <td>4.5</td>\n",
       "      <td>13</td>\n",
       "      <td>1</td>\n",
       "      <td>{'BusinessAcceptsCreditCards': 'True', 'Wheelc...</td>\n",
       "      <td>brewpubs, breweries, food</td>\n",
       "      <td>{'Wednesday': '14:0-22:0', 'Thursday': '16:0-2...</td>\n",
       "    </tr>\n",
       "  </tbody>\n",
       "</table>\n",
       "</div>"
      ],
      "text/plain": [
       "              business_id                      name  \\\n",
       "0  Pns2l4eNsfO8kk83dixA6A  Abby Rappoport, LAC, CMQ   \n",
       "1  mpf3x-BjTdTEA3yCZrAYPw             The UPS Store   \n",
       "2  tUFrWirKiKi_TAnsVWINQQ                    Target   \n",
       "3  MTSW4McQd7CbVtyjqoe9mw        St Honore Pastries   \n",
       "4  mWMc6_wTdE0EUBKIGXDVfA  Perkiomen Valley Brewery   \n",
       "\n",
       "                           address           city state postal_code  \\\n",
       "0           1616 chapala st, ste 2  Santa Barbara    CA       93101   \n",
       "1  87 grasso plaza shopping center         Affton    MO       63123   \n",
       "2             5255 e broadway blvd         Tucson    AZ       85711   \n",
       "3                      935 race st   Philadelphia    PA       19107   \n",
       "4                    101 walnut st     Green Lane    PA       18054   \n",
       "\n",
       "    latitude   longitude  stars  review_count  is_open  \\\n",
       "0  34.426679 -119.711197    5.0             7        0   \n",
       "1  38.551126  -90.335695    3.0            15        1   \n",
       "2  32.223236 -110.880452    3.5            22        0   \n",
       "3  39.955505  -75.155564    4.0            80        1   \n",
       "4  40.338183  -75.471659    4.5            13        1   \n",
       "\n",
       "                                          attributes  \\\n",
       "0                      {'ByAppointmentOnly': 'True'}   \n",
       "1             {'BusinessAcceptsCreditCards': 'True'}   \n",
       "2  {'BikeParking': 'True', 'BusinessAcceptsCredit...   \n",
       "3  {'RestaurantsDelivery': 'False', 'OutdoorSeati...   \n",
       "4  {'BusinessAcceptsCreditCards': 'True', 'Wheelc...   \n",
       "\n",
       "                                          categories  \\\n",
       "0  doctors, traditional chinese medicine, naturop...   \n",
       "1  shipping centers, local services, notaries, ma...   \n",
       "2  department stores, shopping, fashion, home & g...   \n",
       "3  restaurants, food, bubble tea, coffee & tea, b...   \n",
       "4                          brewpubs, breweries, food   \n",
       "\n",
       "                                               hours  \n",
       "0                                               None  \n",
       "1  {'Monday': '0:0-0:0', 'Tuesday': '8:0-18:30', ...  \n",
       "2  {'Monday': '8:0-22:0', 'Tuesday': '8:0-22:0', ...  \n",
       "3  {'Monday': '7:0-20:0', 'Tuesday': '7:0-20:0', ...  \n",
       "4  {'Wednesday': '14:0-22:0', 'Thursday': '16:0-2...  "
      ]
     },
     "execution_count": 30,
     "metadata": {},
     "output_type": "execute_result"
    }
   ],
   "source": [
    "df_business.head()"
   ]
  },
  {
   "cell_type": "code",
   "execution_count": 31,
   "id": "c4fbd81b-f1db-45fa-b6f9-202439c7d1ea",
   "metadata": {
    "tags": []
   },
   "outputs": [
    {
     "name": "stdout",
     "output_type": "stream",
     "text": [
      "               Monday_open        Monday_close        Tuesday_open  \\\n",
      "0                      NaT                 NaT                 NaT   \n",
      "1      1900-01-01 00:00:00 1900-01-01 00:00:00 1900-01-01 08:00:00   \n",
      "2      1900-01-01 08:00:00 1900-01-01 22:00:00 1900-01-01 08:00:00   \n",
      "3      1900-01-01 07:00:00 1900-01-01 20:00:00 1900-01-01 07:00:00   \n",
      "4                      NaT                 NaT                 NaT   \n",
      "...                    ...                 ...                 ...   \n",
      "150238 1900-01-01 12:00:00 1900-01-01 21:00:00 1900-01-01 12:00:00   \n",
      "150239                 NaT                 NaT                 NaT   \n",
      "150240 1900-01-01 00:00:00 1900-01-01 00:00:00                 NaT   \n",
      "150241                 NaT                 NaT                 NaT   \n",
      "150242                 NaT                 NaT                 NaT   \n",
      "\n",
      "             Tuesday_close      Wednesday_open     Wednesday_close  \\\n",
      "0                      NaT                 NaT                 NaT   \n",
      "1      1900-01-01 18:30:00 1900-01-01 08:00:00 1900-01-01 18:30:00   \n",
      "2      1900-01-01 22:00:00 1900-01-01 08:00:00 1900-01-01 22:00:00   \n",
      "3      1900-01-01 20:00:00 1900-01-01 07:00:00 1900-01-01 20:00:00   \n",
      "4                      NaT 1900-01-01 14:00:00 1900-01-01 22:00:00   \n",
      "...                    ...                 ...                 ...   \n",
      "150238 1900-01-01 21:00:00 1900-01-01 12:00:00 1900-01-01 21:00:00   \n",
      "150239                 NaT                 NaT                 NaT   \n",
      "150240                 NaT 1900-01-01 11:00:00 1900-01-01 16:00:00   \n",
      "150241                 NaT                 NaT                 NaT   \n",
      "150242                 NaT                 NaT                 NaT   \n",
      "\n",
      "             Thursday_open      Thursday_close         Friday_open  \\\n",
      "0                      NaT                 NaT                 NaT   \n",
      "1      1900-01-01 08:00:00 1900-01-01 18:30:00 1900-01-01 08:00:00   \n",
      "2      1900-01-01 08:00:00 1900-01-01 22:00:00 1900-01-01 08:00:00   \n",
      "3      1900-01-01 07:00:00 1900-01-01 20:00:00 1900-01-01 07:00:00   \n",
      "4      1900-01-01 16:00:00 1900-01-01 22:00:00 1900-01-01 12:00:00   \n",
      "...                    ...                 ...                 ...   \n",
      "150238 1900-01-01 12:00:00 1900-01-01 21:00:00 1900-01-01 12:00:00   \n",
      "150239                 NaT                 NaT                 NaT   \n",
      "150240 1900-01-01 11:00:00 1900-01-01 16:00:00 1900-01-01 11:00:00   \n",
      "150241                 NaT                 NaT                 NaT   \n",
      "150242                 NaT                 NaT                 NaT   \n",
      "\n",
      "              Friday_close       Saturday_open      Saturday_close  \\\n",
      "0                      NaT                 NaT                 NaT   \n",
      "1      1900-01-01 18:30:00 1900-01-01 08:00:00 1900-01-01 14:00:00   \n",
      "2      1900-01-01 23:00:00 1900-01-01 08:00:00 1900-01-01 23:00:00   \n",
      "3      1900-01-01 21:00:00 1900-01-01 07:00:00 1900-01-01 21:00:00   \n",
      "4      1900-01-01 22:00:00 1900-01-01 12:00:00 1900-01-01 22:00:00   \n",
      "...                    ...                 ...                 ...   \n",
      "150238 1900-01-01 21:00:00 1900-01-01 12:00:00 1900-01-01 21:00:00   \n",
      "150239                 NaT                 NaT                 NaT   \n",
      "150240 1900-01-01 16:00:00 1900-01-01 11:00:00 1900-01-01 15:00:00   \n",
      "150241                 NaT                 NaT                 NaT   \n",
      "150242                 NaT                 NaT                 NaT   \n",
      "\n",
      "               Sunday_open        Sunday_close  \n",
      "0                      NaT                 NaT  \n",
      "1                      NaT                 NaT  \n",
      "2      1900-01-01 08:00:00 1900-01-01 22:00:00  \n",
      "3      1900-01-01 07:00:00 1900-01-01 21:00:00  \n",
      "4      1900-01-01 12:00:00 1900-01-01 18:00:00  \n",
      "...                    ...                 ...  \n",
      "150238 1900-01-01 12:00:00 1900-01-01 21:00:00  \n",
      "150239                 NaT                 NaT  \n",
      "150240                 NaT                 NaT  \n",
      "150241                 NaT                 NaT  \n",
      "150242                 NaT                 NaT  \n",
      "\n",
      "[150140 rows x 14 columns]\n"
     ]
    }
   ],
   "source": [
    "# Replace NaN values with an empty string\n",
    "hours_day_df.fillna('', inplace=True)\n",
    "\n",
    "# Create new columns for open and close times for each day\n",
    "for day in ['Monday','Tuesday', 'Wednesday', 'Thursday', 'Friday', 'Saturday', 'Sunday']:\n",
    "    hours_day_df[day] = hours_day_df[day].replace({'none': pd.NaT})\n",
    "    hours_day_df[[f'{day}_open', f'{day}_close']] = hours_day_df[day].str.split('-', expand=True)\n",
    "    # Converting 'start_time' and 'end_time' columns to datetime\n",
    "    hours_day_df[f'{day}_open'] = pd.to_datetime(hours_day_df[f'{day}_open'], format='%H:%M')\n",
    "    hours_day_df[f'{day}_close'] = pd.to_datetime(hours_day_df[f'{day}_close'], format='%H:%M')                \n",
    "                 \n",
    "                 \n",
    "hours_day_df.drop(columns=['Monday','Tuesday','Wednesday', 'Thursday', 'Friday', 'Saturday', 'Sunday'],inplace=True)\n",
    "# Display the DataFrame with new open and close columns\n",
    "print(hours_day_df)\n"
   ]
  },
  {
   "cell_type": "code",
   "execution_count": 32,
   "id": "6f41b267-93ed-46b7-80ae-f66426793b9c",
   "metadata": {
    "tags": []
   },
   "outputs": [
    {
     "data": {
      "text/plain": [
       "Monday_open        datetime64[ns]\n",
       "Monday_close       datetime64[ns]\n",
       "Tuesday_open       datetime64[ns]\n",
       "Tuesday_close      datetime64[ns]\n",
       "Wednesday_open     datetime64[ns]\n",
       "Wednesday_close    datetime64[ns]\n",
       "Thursday_open      datetime64[ns]\n",
       "Thursday_close     datetime64[ns]\n",
       "Friday_open        datetime64[ns]\n",
       "Friday_close       datetime64[ns]\n",
       "Saturday_open      datetime64[ns]\n",
       "Saturday_close     datetime64[ns]\n",
       "Sunday_open        datetime64[ns]\n",
       "Sunday_close       datetime64[ns]\n",
       "dtype: object"
      ]
     },
     "execution_count": 32,
     "metadata": {},
     "output_type": "execute_result"
    }
   ],
   "source": [
    "hours_day_df.dtypes"
   ]
  },
  {
   "cell_type": "code",
   "execution_count": 33,
   "id": "f1ea1abe-5789-471c-9eae-9c7542758ddc",
   "metadata": {
    "tags": []
   },
   "outputs": [],
   "source": [
    "mean_values = hours_day_df.mean()\n",
    "\n",
    "for column in hours_day_df.columns:\n",
    "    hours_day_df[column].fillna(mean_values[column], inplace=True)"
   ]
  },
  {
   "cell_type": "code",
   "execution_count": 34,
   "id": "d5058f78-1612-4222-a636-73c357087569",
   "metadata": {
    "tags": []
   },
   "outputs": [
    {
     "data": {
      "text/plain": [
       "Monday_open        0.0\n",
       "Monday_close       0.0\n",
       "Tuesday_open       0.0\n",
       "Tuesday_close      0.0\n",
       "Wednesday_open     0.0\n",
       "Wednesday_close    0.0\n",
       "Thursday_open      0.0\n",
       "Thursday_close     0.0\n",
       "Friday_open        0.0\n",
       "Friday_close       0.0\n",
       "Saturday_open      0.0\n",
       "Saturday_close     0.0\n",
       "Sunday_open        0.0\n",
       "Sunday_close       0.0\n",
       "dtype: float64"
      ]
     },
     "execution_count": 34,
     "metadata": {},
     "output_type": "execute_result"
    }
   ],
   "source": [
    "hours_day_df.isna().mean()"
   ]
  },
  {
   "cell_type": "code",
   "execution_count": 35,
   "id": "5ac63122-96d8-4989-b9ee-28fe6439760b",
   "metadata": {
    "tags": []
   },
   "outputs": [],
   "source": [
    "# Calculate the mean of each column\n",
    "mean_values = hours_day_df.mean()\n",
    "\n",
    "# Replace NaN values with the mean of each column\n",
    "hours_day_df.fillna(mean_values, inplace=True)"
   ]
  },
  {
   "cell_type": "code",
   "execution_count": 36,
   "id": "96a33839-cd8f-43d5-ab52-b975fad75440",
   "metadata": {
    "tags": []
   },
   "outputs": [],
   "source": [
    "#key for reference\n",
    "hours_day_df['business_id'] = df_business['business_id']"
   ]
  },
  {
   "cell_type": "code",
   "execution_count": 37,
   "id": "0b4f5594-81a5-4e3b-b10b-2aeaafc6963f",
   "metadata": {
    "tags": []
   },
   "outputs": [],
   "source": [
    "df_business.drop(columns='hours',inplace=True)"
   ]
  },
  {
   "cell_type": "code",
   "execution_count": 38,
   "id": "c25e1360-82c5-4c05-ac69-272db7994e1a",
   "metadata": {
    "tags": []
   },
   "outputs": [
    {
     "data": {
      "text/plain": [
       "business_id      object\n",
       "name             object\n",
       "address          object\n",
       "city             object\n",
       "state            object\n",
       "postal_code      object\n",
       "latitude        float64\n",
       "longitude       float64\n",
       "stars           float64\n",
       "review_count      int64\n",
       "is_open           int64\n",
       "attributes       object\n",
       "categories       object\n",
       "dtype: object"
      ]
     },
     "execution_count": 38,
     "metadata": {},
     "output_type": "execute_result"
    }
   ],
   "source": [
    "df_business.dtypes"
   ]
  },
  {
   "cell_type": "code",
   "execution_count": 39,
   "id": "7d3a7618-e295-4e16-b043-a8339ce4cc99",
   "metadata": {},
   "outputs": [
    {
     "name": "stdout",
     "output_type": "stream",
     "text": [
      "              business_id                      name  \\\n",
      "0  Pns2l4eNsfO8kk83dixA6A  Abby Rappoport, LAC, CMQ   \n",
      "1  mpf3x-BjTdTEA3yCZrAYPw             The UPS Store   \n",
      "2  tUFrWirKiKi_TAnsVWINQQ                    Target   \n",
      "3  MTSW4McQd7CbVtyjqoe9mw        St Honore Pastries   \n",
      "4  mWMc6_wTdE0EUBKIGXDVfA  Perkiomen Valley Brewery   \n",
      "\n",
      "                           address           city state postal_code  \\\n",
      "0           1616 chapala st, ste 2  Santa Barbara    CA       93101   \n",
      "1  87 grasso plaza shopping center         Affton    MO       63123   \n",
      "2             5255 e broadway blvd         Tucson    AZ       85711   \n",
      "3                      935 race st   Philadelphia    PA       19107   \n",
      "4                    101 walnut st     Green Lane    PA       18054   \n",
      "\n",
      "    latitude   longitude  stars  review_count  ...  \\\n",
      "0  34.426679 -119.711197    5.0             7  ...   \n",
      "1  38.551126  -90.335695    3.0            15  ...   \n",
      "2  32.223236 -110.880452    3.5            22  ...   \n",
      "3  39.955505  -75.155564    4.0            80  ...   \n",
      "4  40.338183  -75.471659    4.5            13  ...   \n",
      "\n",
      "                 Wednesday_open               Wednesday_close  \\\n",
      "0 1900-01-01 09:05:16.437944576 1900-01-01 17:02:23.788595456   \n",
      "1 1900-01-01 08:00:00.000000000 1900-01-01 18:30:00.000000000   \n",
      "2 1900-01-01 08:00:00.000000000 1900-01-01 22:00:00.000000000   \n",
      "3 1900-01-01 07:00:00.000000000 1900-01-01 20:00:00.000000000   \n",
      "4 1900-01-01 14:00:00.000000000 1900-01-01 22:00:00.000000000   \n",
      "\n",
      "                  Thursday_open                Thursday_close  \\\n",
      "0 1900-01-01 09:07:56.632990976 1900-01-01 16:57:43.583131904   \n",
      "1 1900-01-01 08:00:00.000000000 1900-01-01 18:30:00.000000000   \n",
      "2 1900-01-01 08:00:00.000000000 1900-01-01 22:00:00.000000000   \n",
      "3 1900-01-01 07:00:00.000000000 1900-01-01 20:00:00.000000000   \n",
      "4 1900-01-01 16:00:00.000000000 1900-01-01 22:00:00.000000000   \n",
      "\n",
      "                    Friday_open                  Friday_close  \\\n",
      "0 1900-01-01 09:05:56.261167616 1900-01-01 16:27:33.786864896   \n",
      "1 1900-01-01 08:00:00.000000000 1900-01-01 18:30:00.000000000   \n",
      "2 1900-01-01 08:00:00.000000000 1900-01-01 23:00:00.000000000   \n",
      "3 1900-01-01 07:00:00.000000000 1900-01-01 21:00:00.000000000   \n",
      "4 1900-01-01 12:00:00.000000000 1900-01-01 22:00:00.000000000   \n",
      "\n",
      "                  Saturday_open                Saturday_close  \\\n",
      "0 1900-01-01 09:12:38.290664448 1900-01-01 15:52:22.170589952   \n",
      "1 1900-01-01 08:00:00.000000000 1900-01-01 14:00:00.000000000   \n",
      "2 1900-01-01 08:00:00.000000000 1900-01-01 23:00:00.000000000   \n",
      "3 1900-01-01 07:00:00.000000000 1900-01-01 21:00:00.000000000   \n",
      "4 1900-01-01 12:00:00.000000000 1900-01-01 22:00:00.000000000   \n",
      "\n",
      "                    Sunday_open                  Sunday_close  \n",
      "0 1900-01-01 09:21:17.778380544 1900-01-01 15:57:43.429578496  \n",
      "1 1900-01-01 09:21:17.778380544 1900-01-01 15:57:43.429578496  \n",
      "2 1900-01-01 08:00:00.000000000 1900-01-01 22:00:00.000000000  \n",
      "3 1900-01-01 07:00:00.000000000 1900-01-01 21:00:00.000000000  \n",
      "4 1900-01-01 12:00:00.000000000 1900-01-01 18:00:00.000000000  \n",
      "\n",
      "[5 rows x 27 columns]\n"
     ]
    }
   ],
   "source": [
    "# Merging on business_id column\n",
    "df_business = df_business.merge(hours_day_df, on='business_id', how='left')\n",
    "\n",
    "# Display the combined DataFrame\n",
    "print(df_business.head())"
   ]
  },
  {
   "cell_type": "code",
   "execution_count": 40,
   "id": "9f8a8d11-07a7-41ec-8b34-15c1d11cab27",
   "metadata": {
    "tags": []
   },
   "outputs": [],
   "source": [
    "#df_business = pd.concat([df_business, hours_day_df], axis=1)\n",
    "\n",
    "# Display the combined DataFrame\n",
    "#print(df_business.head())"
   ]
  },
  {
   "cell_type": "code",
   "execution_count": 41,
   "id": "b52901e2-0cdf-4258-a98f-dcb25f275d9f",
   "metadata": {
    "tags": []
   },
   "outputs": [
    {
     "data": {
      "text/plain": [
       "business_id            0\n",
       "name                   0\n",
       "address                0\n",
       "city                   0\n",
       "state                  0\n",
       "postal_code            0\n",
       "latitude               0\n",
       "longitude              0\n",
       "stars                  0\n",
       "review_count           0\n",
       "is_open                0\n",
       "attributes         13634\n",
       "categories             0\n",
       "Monday_open            0\n",
       "Monday_close           0\n",
       "Tuesday_open           0\n",
       "Tuesday_close          0\n",
       "Wednesday_open         0\n",
       "Wednesday_close        0\n",
       "Thursday_open          0\n",
       "Thursday_close         0\n",
       "Friday_open            0\n",
       "Friday_close           0\n",
       "Saturday_open          0\n",
       "Saturday_close         0\n",
       "Sunday_open            0\n",
       "Sunday_close           0\n",
       "dtype: int64"
      ]
     },
     "execution_count": 41,
     "metadata": {},
     "output_type": "execute_result"
    }
   ],
   "source": [
    "df_business.isna().sum()"
   ]
  },
  {
   "cell_type": "code",
   "execution_count": 42,
   "id": "89b580e9-3b62-40b1-9725-85cf1825ecd3",
   "metadata": {},
   "outputs": [],
   "source": [
    "#Removing rows containing attributes as they cannot be replaced with any specific values\n",
    "df_business = df_business.dropna(subset=['attributes'])"
   ]
  },
  {
   "cell_type": "markdown",
   "id": "5c18788d-f052-4b40-846d-d09040ee0a2a",
   "metadata": {
    "tags": []
   },
   "source": [
    "### Attributes - Contains 39 attributes, out of which some of them are dictionaries like Business Parking"
   ]
  },
  {
   "cell_type": "code",
   "execution_count": 43,
   "id": "dfb5b2ff-580a-4f70-aceb-5f7d6bcd6c25",
   "metadata": {
    "tags": []
   },
   "outputs": [],
   "source": [
    "# Replace NaN values in the 'attributes' column with an empty dictionary as there is no possibility of filling with any other values.\n",
    "df_business['attributes'].fillna('{}', inplace=True)"
   ]
  },
  {
   "cell_type": "code",
   "execution_count": 44,
   "id": "39edd6a9-e137-4da3-9777-13446cdeaffe",
   "metadata": {
    "tags": []
   },
   "outputs": [
    {
     "data": {
      "text/html": [
       "<div>\n",
       "<style scoped>\n",
       "    .dataframe tbody tr th:only-of-type {\n",
       "        vertical-align: middle;\n",
       "    }\n",
       "\n",
       "    .dataframe tbody tr th {\n",
       "        vertical-align: top;\n",
       "    }\n",
       "\n",
       "    .dataframe thead th {\n",
       "        text-align: right;\n",
       "    }\n",
       "</style>\n",
       "<table border=\"1\" class=\"dataframe\">\n",
       "  <thead>\n",
       "    <tr style=\"text-align: right;\">\n",
       "      <th></th>\n",
       "      <th>ByAppointmentOnly</th>\n",
       "      <th>BusinessAcceptsCreditCards</th>\n",
       "      <th>BikeParking</th>\n",
       "      <th>RestaurantsPriceRange2</th>\n",
       "      <th>CoatCheck</th>\n",
       "      <th>RestaurantsTakeOut</th>\n",
       "      <th>RestaurantsDelivery</th>\n",
       "      <th>Caters</th>\n",
       "      <th>WiFi</th>\n",
       "      <th>BusinessParking</th>\n",
       "      <th>...</th>\n",
       "      <th>AcceptsInsurance</th>\n",
       "      <th>BestNights</th>\n",
       "      <th>BYOB</th>\n",
       "      <th>Corkage</th>\n",
       "      <th>BYOBCorkage</th>\n",
       "      <th>HairSpecializesIn</th>\n",
       "      <th>Open24Hours</th>\n",
       "      <th>RestaurantsCounterService</th>\n",
       "      <th>AgesAllowed</th>\n",
       "      <th>DietaryRestrictions</th>\n",
       "    </tr>\n",
       "  </thead>\n",
       "  <tbody>\n",
       "    <tr>\n",
       "      <th>0</th>\n",
       "      <td>True</td>\n",
       "      <td>NaN</td>\n",
       "      <td>NaN</td>\n",
       "      <td>NaN</td>\n",
       "      <td>NaN</td>\n",
       "      <td>NaN</td>\n",
       "      <td>NaN</td>\n",
       "      <td>NaN</td>\n",
       "      <td>NaN</td>\n",
       "      <td>NaN</td>\n",
       "      <td>...</td>\n",
       "      <td>NaN</td>\n",
       "      <td>NaN</td>\n",
       "      <td>NaN</td>\n",
       "      <td>NaN</td>\n",
       "      <td>NaN</td>\n",
       "      <td>NaN</td>\n",
       "      <td>NaN</td>\n",
       "      <td>NaN</td>\n",
       "      <td>NaN</td>\n",
       "      <td>NaN</td>\n",
       "    </tr>\n",
       "    <tr>\n",
       "      <th>1</th>\n",
       "      <td>NaN</td>\n",
       "      <td>True</td>\n",
       "      <td>NaN</td>\n",
       "      <td>NaN</td>\n",
       "      <td>NaN</td>\n",
       "      <td>NaN</td>\n",
       "      <td>NaN</td>\n",
       "      <td>NaN</td>\n",
       "      <td>NaN</td>\n",
       "      <td>NaN</td>\n",
       "      <td>...</td>\n",
       "      <td>NaN</td>\n",
       "      <td>NaN</td>\n",
       "      <td>NaN</td>\n",
       "      <td>NaN</td>\n",
       "      <td>NaN</td>\n",
       "      <td>NaN</td>\n",
       "      <td>NaN</td>\n",
       "      <td>NaN</td>\n",
       "      <td>NaN</td>\n",
       "      <td>NaN</td>\n",
       "    </tr>\n",
       "    <tr>\n",
       "      <th>2</th>\n",
       "      <td>False</td>\n",
       "      <td>True</td>\n",
       "      <td>True</td>\n",
       "      <td>2</td>\n",
       "      <td>False</td>\n",
       "      <td>False</td>\n",
       "      <td>False</td>\n",
       "      <td>False</td>\n",
       "      <td>u'no'</td>\n",
       "      <td>{'garage': False, 'street': False, 'validated'...</td>\n",
       "      <td>...</td>\n",
       "      <td>NaN</td>\n",
       "      <td>NaN</td>\n",
       "      <td>NaN</td>\n",
       "      <td>NaN</td>\n",
       "      <td>NaN</td>\n",
       "      <td>NaN</td>\n",
       "      <td>NaN</td>\n",
       "      <td>NaN</td>\n",
       "      <td>NaN</td>\n",
       "      <td>NaN</td>\n",
       "    </tr>\n",
       "    <tr>\n",
       "      <th>3</th>\n",
       "      <td>False</td>\n",
       "      <td>False</td>\n",
       "      <td>True</td>\n",
       "      <td>1</td>\n",
       "      <td>NaN</td>\n",
       "      <td>True</td>\n",
       "      <td>False</td>\n",
       "      <td>True</td>\n",
       "      <td>u'free'</td>\n",
       "      <td>{'garage': False, 'street': True, 'validated':...</td>\n",
       "      <td>...</td>\n",
       "      <td>NaN</td>\n",
       "      <td>NaN</td>\n",
       "      <td>NaN</td>\n",
       "      <td>NaN</td>\n",
       "      <td>NaN</td>\n",
       "      <td>NaN</td>\n",
       "      <td>NaN</td>\n",
       "      <td>NaN</td>\n",
       "      <td>NaN</td>\n",
       "      <td>NaN</td>\n",
       "    </tr>\n",
       "    <tr>\n",
       "      <th>4</th>\n",
       "      <td>NaN</td>\n",
       "      <td>True</td>\n",
       "      <td>True</td>\n",
       "      <td>NaN</td>\n",
       "      <td>NaN</td>\n",
       "      <td>True</td>\n",
       "      <td>NaN</td>\n",
       "      <td>False</td>\n",
       "      <td>NaN</td>\n",
       "      <td>{'garage': None, 'street': None, 'validated': ...</td>\n",
       "      <td>...</td>\n",
       "      <td>NaN</td>\n",
       "      <td>NaN</td>\n",
       "      <td>NaN</td>\n",
       "      <td>NaN</td>\n",
       "      <td>NaN</td>\n",
       "      <td>NaN</td>\n",
       "      <td>NaN</td>\n",
       "      <td>NaN</td>\n",
       "      <td>NaN</td>\n",
       "      <td>NaN</td>\n",
       "    </tr>\n",
       "    <tr>\n",
       "      <th>5</th>\n",
       "      <td>False</td>\n",
       "      <td>True</td>\n",
       "      <td>False</td>\n",
       "      <td>1</td>\n",
       "      <td>False</td>\n",
       "      <td>True</td>\n",
       "      <td>True</td>\n",
       "      <td>False</td>\n",
       "      <td>u'no'</td>\n",
       "      <td>None</td>\n",
       "      <td>...</td>\n",
       "      <td>NaN</td>\n",
       "      <td>NaN</td>\n",
       "      <td>NaN</td>\n",
       "      <td>NaN</td>\n",
       "      <td>NaN</td>\n",
       "      <td>NaN</td>\n",
       "      <td>NaN</td>\n",
       "      <td>NaN</td>\n",
       "      <td>NaN</td>\n",
       "      <td>NaN</td>\n",
       "    </tr>\n",
       "    <tr>\n",
       "      <th>6</th>\n",
       "      <td>NaN</td>\n",
       "      <td>True</td>\n",
       "      <td>True</td>\n",
       "      <td>2</td>\n",
       "      <td>NaN</td>\n",
       "      <td>NaN</td>\n",
       "      <td>NaN</td>\n",
       "      <td>NaN</td>\n",
       "      <td>NaN</td>\n",
       "      <td>{'garage': False, 'street': False, 'validated'...</td>\n",
       "      <td>...</td>\n",
       "      <td>NaN</td>\n",
       "      <td>NaN</td>\n",
       "      <td>NaN</td>\n",
       "      <td>NaN</td>\n",
       "      <td>NaN</td>\n",
       "      <td>NaN</td>\n",
       "      <td>NaN</td>\n",
       "      <td>NaN</td>\n",
       "      <td>NaN</td>\n",
       "      <td>NaN</td>\n",
       "    </tr>\n",
       "    <tr>\n",
       "      <th>8</th>\n",
       "      <td>NaN</td>\n",
       "      <td>True</td>\n",
       "      <td>NaN</td>\n",
       "      <td>1</td>\n",
       "      <td>NaN</td>\n",
       "      <td>True</td>\n",
       "      <td>False</td>\n",
       "      <td>True</td>\n",
       "      <td>u'free'</td>\n",
       "      <td>{'garage': False, 'street': False, 'validated'...</td>\n",
       "      <td>...</td>\n",
       "      <td>NaN</td>\n",
       "      <td>NaN</td>\n",
       "      <td>NaN</td>\n",
       "      <td>NaN</td>\n",
       "      <td>NaN</td>\n",
       "      <td>NaN</td>\n",
       "      <td>NaN</td>\n",
       "      <td>NaN</td>\n",
       "      <td>NaN</td>\n",
       "      <td>NaN</td>\n",
       "    </tr>\n",
       "    <tr>\n",
       "      <th>9</th>\n",
       "      <td>False</td>\n",
       "      <td>True</td>\n",
       "      <td>NaN</td>\n",
       "      <td>1</td>\n",
       "      <td>False</td>\n",
       "      <td>True</td>\n",
       "      <td>True</td>\n",
       "      <td>False</td>\n",
       "      <td>u'no'</td>\n",
       "      <td>{'garage': False, 'street': False, 'validated'...</td>\n",
       "      <td>...</td>\n",
       "      <td>NaN</td>\n",
       "      <td>NaN</td>\n",
       "      <td>NaN</td>\n",
       "      <td>NaN</td>\n",
       "      <td>NaN</td>\n",
       "      <td>NaN</td>\n",
       "      <td>NaN</td>\n",
       "      <td>NaN</td>\n",
       "      <td>NaN</td>\n",
       "      <td>NaN</td>\n",
       "    </tr>\n",
       "    <tr>\n",
       "      <th>10</th>\n",
       "      <td>NaN</td>\n",
       "      <td>True</td>\n",
       "      <td>True</td>\n",
       "      <td>2</td>\n",
       "      <td>NaN</td>\n",
       "      <td>NaN</td>\n",
       "      <td>NaN</td>\n",
       "      <td>NaN</td>\n",
       "      <td>NaN</td>\n",
       "      <td>{'garage': False, 'street': False, 'validated'...</td>\n",
       "      <td>...</td>\n",
       "      <td>NaN</td>\n",
       "      <td>NaN</td>\n",
       "      <td>NaN</td>\n",
       "      <td>NaN</td>\n",
       "      <td>NaN</td>\n",
       "      <td>NaN</td>\n",
       "      <td>NaN</td>\n",
       "      <td>NaN</td>\n",
       "      <td>NaN</td>\n",
       "      <td>NaN</td>\n",
       "    </tr>\n",
       "  </tbody>\n",
       "</table>\n",
       "<p>10 rows × 39 columns</p>\n",
       "</div>"
      ],
      "text/plain": [
       "   ByAppointmentOnly BusinessAcceptsCreditCards BikeParking  \\\n",
       "0               True                        NaN         NaN   \n",
       "1                NaN                       True         NaN   \n",
       "2              False                       True        True   \n",
       "3              False                      False        True   \n",
       "4                NaN                       True        True   \n",
       "5              False                       True       False   \n",
       "6                NaN                       True        True   \n",
       "8                NaN                       True         NaN   \n",
       "9              False                       True         NaN   \n",
       "10               NaN                       True        True   \n",
       "\n",
       "   RestaurantsPriceRange2 CoatCheck RestaurantsTakeOut RestaurantsDelivery  \\\n",
       "0                     NaN       NaN                NaN                 NaN   \n",
       "1                     NaN       NaN                NaN                 NaN   \n",
       "2                       2     False              False               False   \n",
       "3                       1       NaN               True               False   \n",
       "4                     NaN       NaN               True                 NaN   \n",
       "5                       1     False               True                True   \n",
       "6                       2       NaN                NaN                 NaN   \n",
       "8                       1       NaN               True               False   \n",
       "9                       1     False               True                True   \n",
       "10                      2       NaN                NaN                 NaN   \n",
       "\n",
       "   Caters     WiFi                                    BusinessParking  ...  \\\n",
       "0     NaN      NaN                                                NaN  ...   \n",
       "1     NaN      NaN                                                NaN  ...   \n",
       "2   False    u'no'  {'garage': False, 'street': False, 'validated'...  ...   \n",
       "3    True  u'free'  {'garage': False, 'street': True, 'validated':...  ...   \n",
       "4   False      NaN  {'garage': None, 'street': None, 'validated': ...  ...   \n",
       "5   False    u'no'                                               None  ...   \n",
       "6     NaN      NaN  {'garage': False, 'street': False, 'validated'...  ...   \n",
       "8    True  u'free'  {'garage': False, 'street': False, 'validated'...  ...   \n",
       "9   False    u'no'  {'garage': False, 'street': False, 'validated'...  ...   \n",
       "10    NaN      NaN  {'garage': False, 'street': False, 'validated'...  ...   \n",
       "\n",
       "   AcceptsInsurance BestNights BYOB Corkage BYOBCorkage HairSpecializesIn  \\\n",
       "0               NaN        NaN  NaN     NaN         NaN               NaN   \n",
       "1               NaN        NaN  NaN     NaN         NaN               NaN   \n",
       "2               NaN        NaN  NaN     NaN         NaN               NaN   \n",
       "3               NaN        NaN  NaN     NaN         NaN               NaN   \n",
       "4               NaN        NaN  NaN     NaN         NaN               NaN   \n",
       "5               NaN        NaN  NaN     NaN         NaN               NaN   \n",
       "6               NaN        NaN  NaN     NaN         NaN               NaN   \n",
       "8               NaN        NaN  NaN     NaN         NaN               NaN   \n",
       "9               NaN        NaN  NaN     NaN         NaN               NaN   \n",
       "10              NaN        NaN  NaN     NaN         NaN               NaN   \n",
       "\n",
       "   Open24Hours RestaurantsCounterService AgesAllowed DietaryRestrictions  \n",
       "0          NaN                       NaN         NaN                 NaN  \n",
       "1          NaN                       NaN         NaN                 NaN  \n",
       "2          NaN                       NaN         NaN                 NaN  \n",
       "3          NaN                       NaN         NaN                 NaN  \n",
       "4          NaN                       NaN         NaN                 NaN  \n",
       "5          NaN                       NaN         NaN                 NaN  \n",
       "6          NaN                       NaN         NaN                 NaN  \n",
       "8          NaN                       NaN         NaN                 NaN  \n",
       "9          NaN                       NaN         NaN                 NaN  \n",
       "10         NaN                       NaN         NaN                 NaN  \n",
       "\n",
       "[10 rows x 39 columns]"
      ]
     },
     "execution_count": 44,
     "metadata": {},
     "output_type": "execute_result"
    }
   ],
   "source": [
    "#break up dict inside df\n",
    "df_atr = df_business['attributes'].apply(pd.Series)\n",
    "df_atr.head(10)"
   ]
  },
  {
   "cell_type": "code",
   "execution_count": 45,
   "id": "e124b2d8-c2df-4a23-be52-28a5a69183ae",
   "metadata": {
    "tags": []
   },
   "outputs": [
    {
     "data": {
      "text/plain": [
       "0                         {'ByAppointmentOnly': 'True'}\n",
       "1                {'BusinessAcceptsCreditCards': 'True'}\n",
       "2     {'BikeParking': 'True', 'BusinessAcceptsCredit...\n",
       "3     {'RestaurantsDelivery': 'False', 'OutdoorSeati...\n",
       "4     {'BusinessAcceptsCreditCards': 'True', 'Wheelc...\n",
       "5     {'BusinessParking': 'None', 'BusinessAcceptsCr...\n",
       "6     {'BusinessAcceptsCreditCards': 'True', 'Restau...\n",
       "8     {'Caters': 'True', 'Alcohol': 'u'full_bar'', '...\n",
       "9     {'RestaurantsAttire': ''casual'', 'Restaurants...\n",
       "10    {'RestaurantsPriceRange2': '2', 'BikeParking':...\n",
       "Name: attributes, dtype: object"
      ]
     },
     "execution_count": 45,
     "metadata": {},
     "output_type": "execute_result"
    }
   ],
   "source": [
    "df_business['attributes'].head(10)\n"
   ]
  },
  {
   "cell_type": "code",
   "execution_count": 46,
   "id": "99b8a864-b77b-420d-8e76-f3e9a1e34a06",
   "metadata": {
    "tags": []
   },
   "outputs": [
    {
     "data": {
      "text/plain": [
       "ByAppointmentOnly             object\n",
       "BusinessAcceptsCreditCards    object\n",
       "BikeParking                   object\n",
       "RestaurantsPriceRange2        object\n",
       "CoatCheck                     object\n",
       "RestaurantsTakeOut            object\n",
       "RestaurantsDelivery           object\n",
       "Caters                        object\n",
       "WiFi                          object\n",
       "BusinessParking               object\n",
       "WheelchairAccessible          object\n",
       "HappyHour                     object\n",
       "OutdoorSeating                object\n",
       "HasTV                         object\n",
       "RestaurantsReservations       object\n",
       "DogsAllowed                   object\n",
       "Alcohol                       object\n",
       "GoodForKids                   object\n",
       "RestaurantsAttire             object\n",
       "Ambience                      object\n",
       "RestaurantsTableService       object\n",
       "RestaurantsGoodForGroups      object\n",
       "DriveThru                     object\n",
       "NoiseLevel                    object\n",
       "GoodForMeal                   object\n",
       "BusinessAcceptsBitcoin        object\n",
       "Smoking                       object\n",
       "Music                         object\n",
       "GoodForDancing                object\n",
       "AcceptsInsurance              object\n",
       "BestNights                    object\n",
       "BYOB                          object\n",
       "Corkage                       object\n",
       "BYOBCorkage                   object\n",
       "HairSpecializesIn             object\n",
       "Open24Hours                   object\n",
       "RestaurantsCounterService     object\n",
       "AgesAllowed                   object\n",
       "DietaryRestrictions           object\n",
       "dtype: object"
      ]
     },
     "execution_count": 46,
     "metadata": {},
     "output_type": "execute_result"
    }
   ],
   "source": [
    "#inspect types\n",
    "df_atr.dtypes"
   ]
  },
  {
   "cell_type": "code",
   "execution_count": 47,
   "id": "49b2ddc4-2392-49b0-a10c-6a8f7021cab6",
   "metadata": {
    "tags": []
   },
   "outputs": [
    {
     "name": "stdout",
     "output_type": "stream",
     "text": [
      "Index(['ByAppointmentOnly', 'BusinessAcceptsCreditCards', 'BikeParking',\n",
      "       'RestaurantsPriceRange2', 'CoatCheck', 'RestaurantsTakeOut',\n",
      "       'RestaurantsDelivery', 'Caters', 'WiFi', 'BusinessParking',\n",
      "       'WheelchairAccessible', 'HappyHour', 'OutdoorSeating', 'HasTV',\n",
      "       'RestaurantsReservations', 'DogsAllowed', 'Alcohol', 'GoodForKids',\n",
      "       'RestaurantsAttire', 'Ambience', 'RestaurantsTableService',\n",
      "       'RestaurantsGoodForGroups', 'DriveThru', 'NoiseLevel', 'GoodForMeal',\n",
      "       'BusinessAcceptsBitcoin', 'Smoking', 'Music', 'GoodForDancing',\n",
      "       'AcceptsInsurance', 'BestNights', 'BYOB', 'Corkage', 'BYOBCorkage',\n",
      "       'HairSpecializesIn', 'Open24Hours', 'RestaurantsCounterService',\n",
      "       'AgesAllowed', 'DietaryRestrictions'],\n",
      "      dtype='object')\n"
     ]
    }
   ],
   "source": [
    "#select cols that are still as objects\n",
    "df_atr_obj_cols = df_atr.select_dtypes(include='object').columns\n",
    "print(df_atr_obj_cols)"
   ]
  },
  {
   "cell_type": "code",
   "execution_count": 48,
   "id": "2c72f5c6-0d81-4aeb-b4cf-5a2ffb4eb2be",
   "metadata": {
    "tags": []
   },
   "outputs": [],
   "source": [
    "def str_dict_to_df(series):\n",
    "    \"\"\"\n",
    "    Takes in a pandas series with dicts stored as strings\n",
    "    returns dataframe with dict keys as columns\n",
    "    \n",
    "    serires: pandas series\n",
    "    \"\"\"\n",
    "    eval_list = []\n",
    "    for sr in series:\n",
    "        if not pd.isna(sr):\n",
    "            eval_list.append(eval(sr))\n",
    "        else:\n",
    "            eval_list.append(np.nan)\n",
    "    \n",
    "    eval_df = pd.Series(eval_list).apply(pd.Series)  \n",
    "    \n",
    "    #drop cols that are all nan\n",
    "    eval_df = eval_df.dropna(axis=1, how='all')\n",
    "    \n",
    "    \n",
    "    return eval_df"
   ]
  },
  {
   "cell_type": "code",
   "execution_count": 49,
   "id": "a4a21aac-33ae-426e-9e48-5ebe7745f74e",
   "metadata": {
    "tags": []
   },
   "outputs": [
    {
     "name": "stdout",
     "output_type": "stream",
     "text": [
      "['BusinessParking', 'Ambience', 'GoodForMeal', 'Music', 'BestNights', 'HairSpecializesIn', 'DietaryRestrictions']\n"
     ]
    }
   ],
   "source": [
    "#store col names\n",
    "dict_cols_list = []\n",
    "\n",
    "for col in df_atr_obj_cols:\n",
    "    #if contains a curly bracket, then assume column is a dict as string\n",
    "    if df_atr[col].str.contains('{').any():\n",
    "        dict_cols_list.append(col)\n",
    "print(dict_cols_list)  "
   ]
  },
  {
   "cell_type": "code",
   "execution_count": null,
   "id": "d40a59e3-ee7d-4c12-9de7-1c3db6092b61",
   "metadata": {
    "tags": []
   },
   "outputs": [],
   "source": [
    "#store dataframes from dict nested columns\n",
    "dict_col_df_list = []\n",
    "\n",
    "for col in dict_cols_list:\n",
    "    #apply string to dict evaluation\n",
    "    temp_df = str_dict_to_df(df_atr[col])\n",
    "    #append to list\n",
    "    dict_col_df_list.append(temp_df)\n",
    "\n",
    "#combine all in one column\n",
    "dict_col_df = pd.concat(dict_col_df_list, axis=1)\n",
    "dict_col_df.head()"
   ]
  },
  {
   "cell_type": "code",
   "execution_count": null,
   "id": "bcdcdc68-eeb7-486e-8e21-dd1a49940c53",
   "metadata": {
    "tags": []
   },
   "outputs": [],
   "source": [
    "#store dummy attribute columns in list\n",
    "atr_dum_df_cols = []\n",
    "\n",
    "#iterate over object columns\n",
    "for col in df_atr_obj_cols:\n",
    "    #if contains a categorical variable then it begins with a u\n",
    "    if df_atr[col].str.contains(\"u'\").any():\n",
    "        #add to the list\n",
    "        atr_dum_df_cols.append(col)\n",
    "\n",
    "#print out list\n",
    "print(atr_dum_df_cols)"
   ]
  },
  {
   "cell_type": "code",
   "execution_count": null,
   "id": "1377ffdd-d152-4da2-a5a1-b53dd037e0a7",
   "metadata": {
    "tags": []
   },
   "outputs": [],
   "source": [
    "#explore unique entries in attribute columns\n",
    "for col in atr_dum_df_cols:\n",
    "    print(col)\n",
    "    print(df_atr[col].unique())\n",
    "    print(50*'-')"
   ]
  },
  {
   "cell_type": "markdown",
   "id": "57c41d78-0107-4ed6-8d80-045f7a6d4911",
   "metadata": {},
   "source": [
    "#### Creation of a mapping dictionary to assign numerical values to categories.\n",
    "Use of the map() function to replace categorical values with numerical values based on the mapping dictionary."
   ]
  },
  {
   "cell_type": "code",
   "execution_count": null,
   "id": "666dcd1b-ea78-475c-b7dd-33d6c4a6544c",
   "metadata": {
    "tags": []
   },
   "outputs": [],
   "source": [
    "#rank by type\n",
    "business_parking = dict(zip(\n",
    "    [np.nan ,\"u'garage\" ,\"'garage'\" ,\n",
    "     \"'street'\" ,\"u'street'\" ,\"u'validated'\" ,\n",
    "     'None',\"'validated'\",\"u'lot'\" ,\"'lot'\",\"u'valet'\" ,\"'valet'\"], \n",
    "    [0, 1, 1, \n",
    "     2, 2, 3, \n",
    "     0, 3,4,4,5,5]))\n",
    "print(business_parking)"
   ]
  },
  {
   "cell_type": "code",
   "execution_count": null,
   "id": "22506ce0-0517-40d6-a478-effd99322f98",
   "metadata": {
    "tags": []
   },
   "outputs": [],
   "source": [
    "#noise level\n",
    "noise_level_dict = dict(zip([np.nan, \"u'loud'\" ,\"u'average'\" ,\n",
    "                             \"'average'\" ,\"u'quiet'\" ,\"'loud'\" ,\n",
    "                             \"'very_loud'\", \"'quiet'\" ,\"u'very_loud'\" ,'None'], \n",
    "                            [0, 3, 2, \n",
    "                             2, 1, 3, \n",
    "                             4, 1 , 4, 0]))\n",
    "print(noise_level_dict)"
   ]
  },
  {
   "cell_type": "code",
   "execution_count": null,
   "id": "cfb2db0e-d76a-4d32-8e74-4e5988bd1b37",
   "metadata": {
    "tags": []
   },
   "outputs": [],
   "source": [
    "#free wifi is the best kind of wifi\n",
    "wifi_dict = dict(zip(\n",
    "    [np.nan ,\"u'no'\" ,\"'free'\" ,\n",
    "     \"u'free'\" ,\"'no'\" ,\"u'paid'\" ,\"'paid'\" ,'None'], \n",
    "    [0, 1, 3, \n",
    "     3, 1, 2, 2, 0]))\n",
    "print(wifi_dict)"
   ]
  },
  {
   "cell_type": "code",
   "execution_count": null,
   "id": "eed8aab1-8b8b-4e63-a8d1-f8743a98bb01",
   "metadata": {
    "tags": []
   },
   "outputs": [],
   "source": [
    "\n",
    "alcohol_dict = dict(zip([np.nan ,\"u'full_bar'\" ,\"u'beer_and_wine'\" ,\n",
    "                         \"u'none'\" ,\"'beer_and_wine'\" ,\"'none'\", \n",
    "                         \"'full_bar'\" ,'None'],\n",
    "                        [0, 2, 1, \n",
    "                         0, 1, 0, \n",
    "                         2, 0]))\n",
    "print(alcohol_dict)"
   ]
  },
  {
   "cell_type": "code",
   "execution_count": null,
   "id": "795eff24-02e9-4e39-ad3f-e492a10c2dcf",
   "metadata": {
    "tags": []
   },
   "outputs": [],
   "source": [
    "#rank by formality\n",
    "restaurant_attire_dict = dict(zip(\n",
    "    [np.nan ,\"u'casual'\" ,\"'casual'\" ,\n",
    "     \"'dressy'\" ,\"u'dressy'\" ,\"u'formal'\" ,\n",
    "     'None',\"'formal'\"], \n",
    "    [0, 1, 1, \n",
    "     2, 2, 3, \n",
    "     0, 3]))\n",
    "print(restaurant_attire_dict)"
   ]
  },
  {
   "cell_type": "code",
   "execution_count": null,
   "id": "ca3b938a-ee3d-44d6-bcd3-96df5a9abc6c",
   "metadata": {
    "tags": []
   },
   "outputs": [],
   "source": [
    "#converting corkage to it's numerical values\n",
    "byob_corkage_dict = dict(zip(\n",
    "    [np.nan ,\"'no'\" ,\"'yes_corkage'\" ,\n",
    "     \"'yes_free'\" ,\"u'no'\" ,\"u'yes_free'\",\"u'yes_corkage'\"],\n",
    "    [0, 1, 2, \n",
    "     3, 1, 3, 2]))\n",
    "print(byob_corkage_dict)"
   ]
  },
  {
   "cell_type": "code",
   "execution_count": null,
   "id": "e3da90c9-6b78-490b-8ae2-b3195bc73503",
   "metadata": {
    "tags": []
   },
   "outputs": [],
   "source": [
    "#converting smoking_dict to numerical values\n",
    "smoking_dict = dict(zip(\n",
    "    [np.nan ,\"u'no'\" ,\"u'outdoor'\" ,\n",
    "     \"u'yes'\" ,\"'no'\" ,'None' ,\n",
    "     \"'outdoor'\" ,\"'yes'\"], \n",
    "    [0, 1, 2, \n",
    "     3, 1, 0, \n",
    "     2, 3]))\n",
    "print(smoking_dict)"
   ]
  },
  {
   "cell_type": "code",
   "execution_count": null,
   "id": "aa84e1f7-c806-4c1c-bca6-414dc7dbb14a",
   "metadata": {
    "tags": []
   },
   "outputs": [],
   "source": [
    "#from youngest to oldest crowd\n",
    "ages_allowed_dict = dict(zip(\n",
    "    [np.nan ,\"u'allages'\" ,\"u'21plus'\" ,\n",
    "     \"u'18plus'\" ,\"u'19plus'\" ,'None'], \n",
    "    [0, 1, 4, \n",
    "     2, 3, 0]))\n",
    "print(ages_allowed_dict)"
   ]
  },
  {
   "cell_type": "code",
   "execution_count": null,
   "id": "f12992c6-de70-467f-b1a2-f885978f9753",
   "metadata": {
    "tags": []
   },
   "outputs": [],
   "source": [
    "#define mapping for replace method\n",
    "atr_dict_map = {'NoiseLevel': noise_level_dict, \n",
    "                'WiFi': wifi_dict, \n",
    "                'Alcohol': alcohol_dict, \n",
    "                'RestaurantsAttire': restaurant_attire_dict, \n",
    "                'BYOBCorkage': byob_corkage_dict, \n",
    "                'Smoking': smoking_dict, \n",
    "                'AgesAllowed': ages_allowed_dict,\n",
    "               'BusinessParking': business_parking}"
   ]
  },
  {
   "cell_type": "code",
   "execution_count": null,
   "id": "ad04abc7-4536-469e-a416-1f5f43f63e6d",
   "metadata": {
    "tags": []
   },
   "outputs": [],
   "source": [
    "#get a copy with relevant columns\n",
    "df_atr_categorical = df_atr[atr_dum_df_cols].copy()\n",
    "#apply replacement\n",
    "df_atr_categorical = df_atr_categorical.replace(atr_dict_map)\n",
    "\n",
    "df_atr_categorical.head()"
   ]
  },
  {
   "cell_type": "code",
   "execution_count": null,
   "id": "7e95a028-87ac-4c69-8422-ee3d327cd4fd",
   "metadata": {
    "tags": []
   },
   "outputs": [],
   "source": [
    "#add to the list\n",
    "atr_to_drop =  dict_cols_list + list(df_atr_categorical.columns)\n",
    "print(atr_to_drop)"
   ]
  },
  {
   "cell_type": "code",
   "execution_count": null,
   "id": "ed16bf45-6cf3-41b4-a3a9-c99fb08a666f",
   "metadata": {
    "tags": []
   },
   "outputs": [],
   "source": [
    "# Define a dictionary to map boolean values to integers\n",
    "bool_to_int = {True: 1, False: 0}"
   ]
  },
  {
   "cell_type": "code",
   "execution_count": null,
   "id": "81237259-d308-424a-a5c8-123864a81b4b",
   "metadata": {
    "tags": []
   },
   "outputs": [],
   "source": [
    "#combine features in one dataframes\n",
    "df_atr_conc = pd.concat([df_atr.drop(columns=atr_to_drop),dict_col_df, df_atr_categorical], axis=1)\n",
    "\n",
    "#standardize name\n",
    "df_atr_conc.columns = df_atr_conc.columns.str.replace(\"-\", \"_\")\n",
    "\n",
    "#make 1/0\n",
    "df_atr_conc = df_atr_conc.replace(bool_to_int)\n",
    "\n",
    "df_atr_conc.head()"
   ]
  },
  {
   "cell_type": "code",
   "execution_count": null,
   "id": "d11c9e15-ce31-425b-9fe7-5f7c9c52f31d",
   "metadata": {
    "tags": []
   },
   "outputs": [],
   "source": [
    "#quick check for column names\n",
    "df_atr_conc.columns"
   ]
  },
  {
   "cell_type": "code",
   "execution_count": null,
   "id": "60d579eb-01f6-4afe-9428-e352a8c33791",
   "metadata": {
    "tags": []
   },
   "outputs": [],
   "source": [
    "\n",
    "# Reset index of the DataFrame containing categorical information\n",
    "df_atr_conc.reset_index(inplace=True)\n",
    "\n",
    "# Merge the two DataFrames on the 'index' column\n",
    "df_business = df_business.merge(df_atr_conc, left_index=True, right_index=True)\n",
    "\n",
    "# Drop the redundant 'index' column after merging\n",
    "df_business.drop(columns='index', inplace=True)\n"
   ]
  },
  {
   "cell_type": "code",
   "execution_count": null,
   "id": "4d30091c-4382-43f8-b54e-fd85d5256e0b",
   "metadata": {
    "tags": []
   },
   "outputs": [],
   "source": [
    "df_business.iloc[0]"
   ]
  },
  {
   "cell_type": "code",
   "execution_count": null,
   "id": "8718a49b-d042-4046-aaec-dac6a0cf45e8",
   "metadata": {
    "tags": []
   },
   "outputs": [],
   "source": [
    "df_business.columns"
   ]
  },
  {
   "cell_type": "code",
   "execution_count": null,
   "id": "e2af4177-3133-4b4a-b820-af06794a7ad0",
   "metadata": {
    "tags": []
   },
   "outputs": [],
   "source": [
    "df_business.iloc[1]"
   ]
  },
  {
   "cell_type": "markdown",
   "id": "d2586e1d-f012-42fc-a5fb-8f938d84e96c",
   "metadata": {
    "tags": []
   },
   "source": [
    "### Categories"
   ]
  },
  {
   "cell_type": "code",
   "execution_count": null,
   "id": "a82b296a-d77f-4baf-b4d8-6f99dd56696c",
   "metadata": {
    "tags": []
   },
   "outputs": [],
   "source": [
    "object_columns = df_business.select_dtypes(include='object').columns\n",
    "\n",
    "print(\"Object-type columns:\")\n",
    "print(object_columns)"
   ]
  },
  {
   "cell_type": "markdown",
   "id": "377bb130-c520-4d5b-880e-0e3b20ae51b3",
   "metadata": {
    "tags": []
   },
   "source": [
    "### Address"
   ]
  },
  {
   "cell_type": "markdown",
   "id": "cbde469d-7672-4a36-8e2f-52d80cf202ed",
   "metadata": {},
   "source": [
    "\n",
    "By converting road types to abbreviated forms, such as 'dr' for 'drive' and 'ave' for 'avenue', we maintain address integrity while enhancing data consistency and simplifying analysis tasks like geocoding and spatial analysis. This standardization preserves essential address information, facilitating efficient data matching and deduplication."
   ]
  },
  {
   "cell_type": "code",
   "execution_count": null,
   "id": "1b268b46-4db8-4ed0-9413-8ab1c91aa69f",
   "metadata": {
    "tags": []
   },
   "outputs": [],
   "source": [
    "#create copy\n",
    "df_bus_adr = df_business.copy()\n",
    "#make everything lower case\n",
    "df_bus_adr['address'] = df_bus_adr['address'].str.lower()\n",
    "#remove punctuation\n",
    "df_bus_adr['address'] = df_bus_adr['address'].str.replace('[^\\w\\s]','')"
   ]
  },
  {
   "cell_type": "code",
   "execution_count": null,
   "id": "3347a7cd-9448-4248-bd6b-dc2bc1c5cc38",
   "metadata": {
    "tags": []
   },
   "outputs": [],
   "source": [
    "from collections import Counter\n",
    "#define counter object\n",
    "adr_counter = Counter()\n",
    "#loop over every address entry\n",
    "for add in df_bus_adr.address:\n",
    "    #loop over each individial word\n",
    "    for word in add.lower().split():\n",
    "        #add word to counter\n",
    "        adr_counter[word] +=1"
   ]
  },
  {
   "cell_type": "code",
   "execution_count": null,
   "id": "79f058ea-5d21-4fbc-b3db-21193c257732",
   "metadata": {
    "tags": []
   },
   "outputs": [],
   "source": [
    "#list top k words\n",
    "print(adr_counter.most_common(100))"
   ]
  },
  {
   "cell_type": "markdown",
   "id": "23342d73-8327-47e3-90e5-970e96d750f5",
   "metadata": {},
   "source": [
    "The road names in the 'address' column of the DataFrame df_bus_adr will be homogenized based on the mappings specified in the road_type_dict. For example, 'rd' will be replaced with 'road', 'avenue' with 'ave', 'street' with 'str', and so on. This helps in standardizing road names for consistency in the dataset"
   ]
  },
  {
   "cell_type": "code",
   "execution_count": null,
   "id": "03893204-c9c9-4bb1-8cc3-2a6ac6e64f8b",
   "metadata": {
    "tags": []
   },
   "outputs": [],
   "source": [
    "#road type mapping to homogenize road names\n",
    "road_type_dict = {'rd': 'road','rue': 'road', 'avenue': 'ave',\n",
    "                  'street': 'str', 'blvd': 'boulevard',\n",
    "                  'drive': 'dr', 'highway': 'hwy',\n",
    "                  'parkway': 'pkwy', 'center': 'ct', 'lane': 'ln'}\n",
    "\n",
    "#replace names\n",
    "df_bus_adr['address'] = df_bus_adr['address'].replace(road_type_dict, regex=True)"
   ]
  },
  {
   "cell_type": "code",
   "execution_count": null,
   "id": "0a881a7d-6719-46e2-920a-73a9da1e0e28",
   "metadata": {
    "tags": []
   },
   "outputs": [],
   "source": [
    "#get list of finalized road values\n",
    "#set to remove duplicates\n",
    "road_types_list = list(set(road_type_dict.values()))\n",
    "print(road_types_list)"
   ]
  },
  {
   "cell_type": "code",
   "execution_count": null,
   "id": "e9583c8f-a7fa-4ffd-b805-10b258afa33a",
   "metadata": {
    "tags": []
   },
   "outputs": [],
   "source": [
    "#dict for dummies\n",
    "road_col_dict = {}\n",
    "#iterate over road types\n",
    "for road in road_types_list:\n",
    "    #create a dummy for that type\n",
    "    dum_col = df_bus_adr['address'].str.contains(road)\n",
    "    #add it to the dict\n",
    "    road_col_dict[road] = dum_col\n",
    "\n",
    "#convert boolean to 1/0\n",
    "road_type_df = pd.DataFrame.from_dict(road_col_dict).replace({False:0, True:1})\n",
    "\n",
    "road_type_df.head()"
   ]
  },
  {
   "cell_type": "code",
   "execution_count": null,
   "id": "c73fdd63-2d6e-4bf5-9a30-ace20235524a",
   "metadata": {
    "tags": []
   },
   "outputs": [],
   "source": [
    "# Extract numerical part of postal_code column\n",
    "df_business['postal_code'] = df_business['postal_code'].str.extract('(\\d+)')"
   ]
  },
  {
   "cell_type": "code",
   "execution_count": null,
   "id": "3b8338ca-5fe9-4b63-9fc1-6f08a5c4c821",
   "metadata": {
    "tags": []
   },
   "outputs": [],
   "source": [
    "# Convert the extracted numerical part to integers, handling missing values\n",
    "df_business['postal_code'] = df_business['postal_code'].astype(float).fillna(0).astype(int)\n"
   ]
  },
  {
   "cell_type": "code",
   "execution_count": null,
   "id": "e2443c76-ff04-4bfb-ae32-2bc06692c22d",
   "metadata": {
    "tags": []
   },
   "outputs": [],
   "source": [
    "\n",
    "# Add \"address_\" prefix to all column names\n",
    "road_type_df.columns = ['address_' + col for col in road_type_df.columns]\n",
    "\n",
    "# Create a DataFrame with the prefix columns\n",
    "prefixes_df = road_type_df.copy()\n",
    "\n",
    "# Merge the prefix DataFrame with df_business\n",
    "df_business = pd.concat([df_business, prefixes_df], axis=1)\n",
    "\n",
    "# Display the updated DataFrame\n",
    "print(df_business.head())\n"
   ]
  },
  {
   "cell_type": "code",
   "execution_count": null,
   "id": "1e241828-ee16-46bd-a05a-3a6500a356e5",
   "metadata": {
    "tags": []
   },
   "outputs": [],
   "source": [
    "df_business.drop(columns='address',inplace=True)"
   ]
  },
  {
   "cell_type": "code",
   "execution_count": null,
   "id": "51baa139-7ab3-47d0-891f-c8bf30cd2430",
   "metadata": {
    "tags": []
   },
   "outputs": [],
   "source": [
    "df_business.dtypes"
   ]
  },
  {
   "cell_type": "markdown",
   "id": "c887829c-86d2-4b4b-b31b-af50d568d612",
   "metadata": {},
   "source": [
    "Is_open"
   ]
  },
  {
   "cell_type": "code",
   "execution_count": null,
   "id": "7145a335-6783-43d6-ab8e-ac292e3433fd",
   "metadata": {
    "tags": []
   },
   "outputs": [],
   "source": [
    "df_business['is_open'].value_counts()"
   ]
  },
  {
   "cell_type": "code",
   "execution_count": null,
   "id": "23047ba6-e640-49e8-ade1-89242ad79a54",
   "metadata": {
    "tags": []
   },
   "outputs": [],
   "source": [
    "df_business.info()"
   ]
  },
  {
   "cell_type": "code",
   "execution_count": null,
   "id": "0297b634-65aa-423c-b4f1-fbeacb1466b6",
   "metadata": {
    "tags": []
   },
   "outputs": [],
   "source": [
    "# Check for null values in each column\n",
    "null_counts = df_business.isnull().mean()\n",
    "\n",
    "# Print columns with null values\n",
    "columns_with_null = null_counts[null_counts > 0]\n",
    "print(\"Columns with null values:\")\n",
    "print(columns_with_null)\n"
   ]
  },
  {
   "cell_type": "code",
   "execution_count": null,
   "id": "f719c832-b6f2-44c0-988a-57e77ed0accf",
   "metadata": {
    "tags": []
   },
   "outputs": [],
   "source": [
    "# Select columns with non-numeric values\n",
    "non_numeric_columns = df_business.select_dtypes(include=['object']).columns\n",
    "\n",
    "# Print the columns with non-numeric values\n",
    "print(\"Columns with non-numeric values:\")\n",
    "print(non_numeric_columns)\n"
   ]
  },
  {
   "cell_type": "code",
   "execution_count": null,
   "id": "2509ea99-77bf-45e5-a7c0-b2e721ef2b66",
   "metadata": {
    "tags": []
   },
   "outputs": [],
   "source": [
    "# Convert 'None' values to NaN\n",
    "df_business['RestaurantsPriceRange2'].replace('None', np.nan, inplace=True)\n",
    "\n",
    "# Convert the column to numeric type\n",
    "df_business['RestaurantsPriceRange2'] = pd.to_numeric(df_business['RestaurantsPriceRange2'], errors='coerce')\n",
    "\n",
    "# Now, check the dtype of the column\n",
    "print(df_business['RestaurantsPriceRange2'].dtype)\n"
   ]
  },
  {
   "cell_type": "code",
   "execution_count": null,
   "id": "430255ec-795b-45fb-a63b-037000bcf62f",
   "metadata": {
    "tags": []
   },
   "outputs": [],
   "source": [
    "# Fill None values in the \"RestaurantsPriceRqange2\" column with 0\n",
    "df_business['RestaurantsPriceRange2'].fillna(2, inplace=True)"
   ]
  },
  {
   "cell_type": "code",
   "execution_count": null,
   "id": "0d772331-fca9-4e1f-ae2b-2de14f2a4f58",
   "metadata": {
    "tags": []
   },
   "outputs": [],
   "source": [
    "df_business['BYOBCorkage'].value_counts()"
   ]
  },
  {
   "cell_type": "code",
   "execution_count": null,
   "id": "cbef0234-21a6-4ecc-a330-bb06c9368ea2",
   "metadata": {
    "tags": []
   },
   "outputs": [],
   "source": [
    "# Fill None values in the \"BYOBCorkage\" column with 0\n",
    "df_business['BYOBCorkage'].fillna(0, inplace=True)"
   ]
  },
  {
   "cell_type": "code",
   "execution_count": null,
   "id": "a95c17da-ebc6-4588-973b-95a0cdb0e2aa",
   "metadata": {
    "tags": []
   },
   "outputs": [],
   "source": [
    "df_business['BYOBCorkage'].replace('None', 0, inplace=True)\n"
   ]
  },
  {
   "cell_type": "code",
   "execution_count": null,
   "id": "4a3b92b1-ae12-452e-94c6-78b7e888cb2b",
   "metadata": {
    "tags": []
   },
   "outputs": [],
   "source": [
    "# Calculate the percentage of null values in each column\n",
    "null_percentages = df_business.isnull().mean() * 100\n",
    "\n",
    "# Select columns with null percentages greater than 50%\n",
    "columns_to_drop = null_percentages[null_percentages > 50].index\n",
    "\n",
    "# Drop columns from the DataFrame\n",
    "df_business.drop(columns=columns_to_drop, inplace=True)\n",
    "\n",
    "# Print columns that were dropped\n",
    "print(\"Columns dropped due to more than 50% null values:\")\n",
    "print(columns_to_drop)\n"
   ]
  },
  {
   "cell_type": "code",
   "execution_count": null,
   "id": "7c229814-ee7f-4732-90da-397ef57526f2",
   "metadata": {
    "tags": []
   },
   "outputs": [],
   "source": [
    "df_business.isna().sum()"
   ]
  },
  {
   "cell_type": "code",
   "execution_count": null,
   "id": "5cfc5021-cb30-4399-8190-7b051961774b",
   "metadata": {
    "tags": []
   },
   "outputs": [],
   "source": [
    "df_business['WiFi'].value_counts()"
   ]
  },
  {
   "cell_type": "code",
   "execution_count": null,
   "id": "584457de-8c71-4e35-9b01-7412abc10ded",
   "metadata": {
    "tags": []
   },
   "outputs": [],
   "source": [
    "df_business['WiFi'].fillna(0.0, inplace=True)\n"
   ]
  },
  {
   "cell_type": "code",
   "execution_count": null,
   "id": "b51f07a6-9aef-47b4-b478-f158f58e62e2",
   "metadata": {
    "tags": []
   },
   "outputs": [],
   "source": [
    "df_business['Alcohol'].value_counts()"
   ]
  },
  {
   "cell_type": "code",
   "execution_count": null,
   "id": "fcef3b43-7748-4009-8c81-5367c213ae8b",
   "metadata": {
    "tags": []
   },
   "outputs": [],
   "source": [
    "df_business['Alcohol'].fillna(0.0, inplace=True)"
   ]
  },
  {
   "cell_type": "code",
   "execution_count": null,
   "id": "4a29db17-f9aa-4f68-b567-bec5ca32b4a9",
   "metadata": {
    "tags": []
   },
   "outputs": [],
   "source": [
    "df_business['RestaurantsAttire'].value_counts()"
   ]
  },
  {
   "cell_type": "code",
   "execution_count": null,
   "id": "8544de01-cb07-4f4e-8df5-0a6f3b31f44e",
   "metadata": {
    "tags": []
   },
   "outputs": [],
   "source": [
    "df_business['RestaurantsAttire'].fillna(4.0, inplace=True)"
   ]
  },
  {
   "cell_type": "code",
   "execution_count": null,
   "id": "4c0441c2-d392-492f-8d58-42e6b1b5dd21",
   "metadata": {
    "tags": []
   },
   "outputs": [],
   "source": [
    "df_business['Smoking'].value_counts()"
   ]
  },
  {
   "cell_type": "code",
   "execution_count": null,
   "id": "33b30526-59c3-4152-bf2b-c5174a171bb1",
   "metadata": {
    "tags": []
   },
   "outputs": [],
   "source": [
    "df_business['Smoking'].fillna(4.0, inplace=True)"
   ]
  },
  {
   "cell_type": "code",
   "execution_count": null,
   "id": "614bf125-f8e4-4234-8bf4-b6a6592aca6e",
   "metadata": {
    "tags": []
   },
   "outputs": [],
   "source": [
    "df_business['AgesAllowed'].value_counts()"
   ]
  },
  {
   "cell_type": "code",
   "execution_count": null,
   "id": "c3b4b1e2-9c85-4c41-85d1-c114d022057f",
   "metadata": {
    "tags": []
   },
   "outputs": [],
   "source": [
    "df_business['AgesAllowed'].fillna(5.0, inplace=True)"
   ]
  },
  {
   "cell_type": "code",
   "execution_count": null,
   "id": "bc9087ab-e815-4f7e-a2ce-fad8811e4d8f",
   "metadata": {
    "tags": []
   },
   "outputs": [],
   "source": [
    "df_business['NoiseLevel'].fillna(5.0, inplace=True)"
   ]
  },
  {
   "cell_type": "code",
   "execution_count": null,
   "id": "72e1464f-0620-4fbb-bf0d-9e8f3e53248e",
   "metadata": {
    "tags": []
   },
   "outputs": [],
   "source": [
    "df_business['BusinessAcceptsCreditCards'].value_counts()"
   ]
  },
  {
   "cell_type": "code",
   "execution_count": null,
   "id": "4604cb38-aede-4456-ad6c-1d7ea1aeb4d2",
   "metadata": {
    "tags": []
   },
   "outputs": [],
   "source": [
    "df_business['BusinessAcceptsCreditCards'].fillna(True, inplace=True)"
   ]
  },
  {
   "cell_type": "code",
   "execution_count": null,
   "id": "3f7931ee-45f9-4e81-a052-2f173081c64e",
   "metadata": {
    "tags": []
   },
   "outputs": [],
   "source": [
    "df_business['garage'].value_counts()"
   ]
  },
  {
   "cell_type": "code",
   "execution_count": null,
   "id": "052c2ace-e24e-4b4a-bc88-3aacb75cc35f",
   "metadata": {
    "tags": []
   },
   "outputs": [],
   "source": [
    "df_business['garage'].fillna(0.0, inplace=True)"
   ]
  },
  {
   "cell_type": "code",
   "execution_count": null,
   "id": "0c4b44f9-354c-4e2c-aada-4770241d7030",
   "metadata": {
    "tags": []
   },
   "outputs": [],
   "source": [
    "df_business['street'].value_counts()"
   ]
  },
  {
   "cell_type": "code",
   "execution_count": null,
   "id": "867ff8ce-2a7c-41da-a911-8dad051812b0",
   "metadata": {
    "tags": []
   },
   "outputs": [],
   "source": [
    "# Assuming df is your DataFrame and 'street' is the column name\n",
    "mode_value = df_business['street'].mode()[0]  # Calculate the mode\n",
    "df_business['street'].fillna(mode_value, inplace=True)  # Fill missing values with the mode"
   ]
  },
  {
   "cell_type": "code",
   "execution_count": null,
   "id": "61bea634-3c6a-41dc-b4c3-9d885b162377",
   "metadata": {
    "tags": []
   },
   "outputs": [],
   "source": [
    "df_business['validated'].value_counts()"
   ]
  },
  {
   "cell_type": "code",
   "execution_count": null,
   "id": "8f342fcb-ea4a-4c55-ad3d-9416b22548be",
   "metadata": {
    "tags": []
   },
   "outputs": [],
   "source": [
    "df_business['validated'].fillna(0.0, inplace=True)"
   ]
  },
  {
   "cell_type": "code",
   "execution_count": null,
   "id": "d3540e45-4d31-4360-a177-972b0e106c51",
   "metadata": {
    "tags": []
   },
   "outputs": [],
   "source": [
    "df_business['valet'].value_counts()"
   ]
  },
  {
   "cell_type": "code",
   "execution_count": null,
   "id": "b4d385d6-e38f-4e62-9953-41b55ec4642c",
   "metadata": {
    "tags": []
   },
   "outputs": [],
   "source": [
    "df_business['valet'].fillna(0.0, inplace=True)"
   ]
  },
  {
   "cell_type": "code",
   "execution_count": null,
   "id": "a6381136-9b81-4518-956b-a6291706820b",
   "metadata": {
    "tags": []
   },
   "outputs": [],
   "source": [
    "df_business['lot'].value_counts()"
   ]
  },
  {
   "cell_type": "code",
   "execution_count": null,
   "id": "826434b5-c9d8-421e-9044-e187794069c2",
   "metadata": {
    "tags": []
   },
   "outputs": [],
   "source": [
    "df_business['lot'].fillna(df_business['lot'].mode()[0], inplace=True)\n"
   ]
  },
  {
   "cell_type": "code",
   "execution_count": null,
   "id": "ad2ea06a-2aff-4947-9bc9-46f4991e80a2",
   "metadata": {
    "tags": []
   },
   "outputs": [],
   "source": [
    "df_business.to_json('data/cleaned_dataset.json', orient='columns')"
   ]
  },
  {
   "cell_type": "code",
   "execution_count": null,
   "id": "c0787175-3aa8-4e54-ad5e-62bbf4c92b8f",
   "metadata": {
    "tags": []
   },
   "outputs": [],
   "source": [
    "#save the work\n",
    "#df_business.to_csv(path_or_buf='data/cleaned/business_attributes.csv')"
   ]
  },
  {
   "cell_type": "code",
   "execution_count": null,
   "id": "c719d4d9-44b8-46c5-b020-3e37ae48f66d",
   "metadata": {
    "tags": []
   },
   "outputs": [],
   "source": [
    "column_names = df_business.columns.tolist()\n",
    "print(column_names)"
   ]
  },
  {
   "cell_type": "markdown",
   "id": "ed65364f-e0c5-4916-b272-b3ea47991657",
   "metadata": {},
   "source": [
    "## Feature engineering"
   ]
  },
  {
   "cell_type": "markdown",
   "id": "e14b0a25-f073-4809-aaa6-25f5e253f48a",
   "metadata": {},
   "source": [
    "We aim to distinguish between small and large businesses by analyzing their names. This distinction can provide insights into factors influencing business sustainability. By examining business names, we can assess whether size plays a role in sustaining businesses, aiding in strategic decision-making and resource allocation."
   ]
  },
  {
   "cell_type": "code",
   "execution_count": null,
   "id": "50a52b40-264e-401b-8be1-45fb21a959ab",
   "metadata": {
    "tags": []
   },
   "outputs": [],
   "source": [
    "# Adding a column to distinguish chains from single business\n",
    "\n",
    "# Extract the 'name' column and apply value_counts() to get the count of each name\n",
    "name_counts = df_business['name'].value_counts()\n",
    "\n",
    "# Create a dictionary mapping each business name to its count\n",
    "name_count_dict = name_counts.to_dict()\n",
    "\n",
    "# Define a function to determine if a business is a chain based on its count\n",
    "def is_chain(name):\n",
    "    return int(name_count_dict.get(name, 0) > 1)  # Returns 1 if count > 1, otherwise returns 0\n",
    "\n",
    "# Apply the function to the 'name' column to create the 'is_chain' column\n",
    "df_business['is_chain'] = df_business['name'].map(is_chain)\n",
    "\n",
    "# Display the DataFrame with the new 'is_chain' column\n",
    "print(df_business)\n"
   ]
  },
  {
   "cell_type": "markdown",
   "id": "39a2d1e9-f8da-40a7-b6fb-78b468182778",
   "metadata": {},
   "source": [
    "Distinguishing different kinds of business to also help in finding features that affect the model.Incorporating these features into the classification model enables comprehensive categorization of businesses, facilitating market segmentation, targeted marketing, and competitive analysis. By leveraging unique characteristics and attributes, this framework supports data-driven decision-making and strategic planning across diverse industries."
   ]
  },
  {
   "cell_type": "code",
   "execution_count": null,
   "id": "6ea08982-5fec-4873-9365-9b84b65b6b95",
   "metadata": {
    "tags": []
   },
   "outputs": [],
   "source": [
    "\n",
    "# Assuming df_business is your DataFrame containing business data\n",
    "\n",
    "# Calculate category counts\n",
    "category_counts = df_business['categories'].str.split(', ').explode().value_counts()\n",
    "filtered_counts = category_counts[category_counts > 5]\n",
    "\n",
    "# Create a dictionary mapping each category to its index in filtered_counts\n",
    "category_index_map = {category: i for i, category in enumerate(filtered_counts.index)}\n",
    "\n",
    "# Function to get category for each row\n",
    "def get_category(row):\n",
    "    categories = row['categories'].split(', ')\n",
    "    for category in categories:\n",
    "        if category in category_index_map:\n",
    "            return category\n",
    "    return np.nan\n",
    "\n",
    "# Add a new column 'category' to the DataFrame\n",
    "df_business['category'] = df_business.apply(get_category, axis=1)\n",
    "\n",
    "# Display the DataFrame\n",
    "print(df_business[['categories', 'category']].head())\n"
   ]
  },
  {
   "cell_type": "code",
   "execution_count": null,
   "id": "14b65f59-7853-440c-ae88-5192ce439c96",
   "metadata": {
    "tags": []
   },
   "outputs": [],
   "source": [
    "category_counts=df_business['category'].value_counts()"
   ]
  },
  {
   "cell_type": "code",
   "execution_count": null,
   "id": "f04052b3-b403-48ec-859d-f86350e9b330",
   "metadata": {
    "tags": []
   },
   "outputs": [],
   "source": [
    "\n",
    "# Get the number of columns in the resulting Series\n",
    "num_columns = len(category_counts) \n",
    "num_columns"
   ]
  },
  {
   "cell_type": "code",
   "execution_count": null,
   "id": "49da9ac1-9822-446e-97d4-a9c2a9d295c7",
   "metadata": {
    "tags": []
   },
   "outputs": [],
   "source": [
    "import pandas as pd\n",
    "\n",
    "# Split the 'categories' column and perform one-hot encoding\n",
    "one_hot_encoded = df_business['categories'].str.get_dummies(sep=', ')\n",
    "\n",
    "# Concatenate the one-hot encoded columns with the original DataFrame\n",
    "df_business_encoded = pd.concat([df_business, one_hot_encoded], axis=1)\n",
    "\n",
    "# Display the DataFrame with one-hot encoded columns\n",
    "print(df_business_encoded.head())\n"
   ]
  },
  {
   "cell_type": "code",
   "execution_count": null,
   "id": "e16d501c-b804-413f-b8b6-b0337ae8f192",
   "metadata": {
    "tags": []
   },
   "outputs": [],
   "source": [
    "\n",
    "# Split the 'categories' column and perform one-hot encoding\n",
    "one_hot_encoded = df_business['categories'].str.get_dummies(sep=', ')\n",
    "\n",
    "# Drop columns whose sum is not at least 2\n",
    "one_hot_encoded = one_hot_encoded.loc[:, (one_hot_encoded.sum() >= 3)]\n",
    "\n",
    "# Concatenate the one-hot encoded columns with the original DataFrame\n",
    "df_business = pd.concat([df_business, one_hot_encoded], axis=1)\n",
    "\n",
    "# Display the DataFrame with one-hot encoded columns\n",
    "print(df_business.head())\n"
   ]
  },
  {
   "cell_type": "markdown",
   "id": "6647d71b-0745-4d0f-a747-6c4975fff2f5",
   "metadata": {},
   "source": [
    "## EDA"
   ]
  },
  {
   "cell_type": "markdown",
   "id": "8f1c2022-6f93-4db7-80c4-2c006c4a9ff1",
   "metadata": {},
   "source": [
    "\n",
    "Before proceeding with modeling, it's essential to derive useful insights from visualizations to better understand the data. By visualizing the data, we can identify patterns, trends, and relationships that can inform our modeling approach. "
   ]
  },
  {
   "cell_type": "code",
   "execution_count": null,
   "id": "622302f8-ef3f-4c85-801a-420f547752bc",
   "metadata": {
    "tags": []
   },
   "outputs": [],
   "source": [
    "import matplotlib.pyplot as plt\n",
    "\n",
    "# Calculate category counts\n",
    "category_counts = df_business['categories'].str.split(', ').explode().value_counts().head(10)\n",
    "\n",
    "# Create a horizontal bar plot\n",
    "plt.figure(figsize=(10, 6))\n",
    "colors = plt.cm.tab10(range(len(category_counts)))  # Choose colors from a predefined colormap\n",
    "\n",
    "# Plot the bar chart with customizations\n",
    "category_counts.sort_values().plot(kind='barh', color=colors)\n",
    "plt.title('Top 10 Categories of Businesses', fontsize=16, fontweight='bold')  # Set title with custom font size and weight\n",
    "plt.xlabel('Count', fontsize=14)  # Set x-axis label with custom font size\n",
    "plt.ylabel('Category', fontsize=14)  # Set y-axis label with custom font size\n",
    "plt.xticks(fontsize=12)  # Set font size for x-axis tick labels\n",
    "plt.yticks(fontsize=12)  # Set font size for y-axis tick labels\n",
    "plt.grid(axis='x', linestyle='--', alpha=0.7)  # Add grid lines with custom style and transparency\n",
    "plt.tight_layout()  # Adjust layout to prevent clipping of labels\n",
    "plt.show()\n"
   ]
  },
  {
   "cell_type": "markdown",
   "id": "65175c23-ac2e-485f-9683-174f502ba732",
   "metadata": {},
   "source": [
    "This bar chart displays the most prominent business categories on Yelp, offering a snapshot of popular industry segments. It provides a succinct overview of the top business categories based on their prevalence on the platform."
   ]
  },
  {
   "cell_type": "code",
   "execution_count": null,
   "id": "fe3499b7-2fa0-472b-83ab-d3ff2d0da5bc",
   "metadata": {
    "tags": []
   },
   "outputs": [],
   "source": [
    "filtered_counts = category_counts[category_counts > 5]\n",
    "\n",
    "# Count the number of categories remaining after filtering\n",
    "num_categories = filtered_counts.count()\n",
    "\n",
    "# Display the filtered counts\n",
    "print(filtered_counts)"
   ]
  },
  {
   "cell_type": "markdown",
   "id": "39347677-9c1b-46ef-836c-fdd1e507c286",
   "metadata": {},
   "source": [
    "The bar chart illustrates the distribution of businesses by category, revealing that restaurants constitute the largest proportion of opened businesses, followed by food-related establishments, shopping outlets, home services, and so forth."
   ]
  },
  {
   "cell_type": "code",
   "execution_count": null,
   "id": "4c8fe6db-3a89-4a84-8598-2d36dd635196",
   "metadata": {
    "tags": []
   },
   "outputs": [],
   "source": [
    "from wordcloud import WordCloud\n",
    "\n",
    "# Remove commas from the categories data\n",
    "categories_data = df_business['categories'].str.replace(',', '')\n",
    "\n",
    "# Count the occurrences of each category\n",
    "category_counts = categories_data.value_counts()\n",
    "\n",
    "# Convert the category counts to a dictionary\n",
    "category_dict = category_counts.to_dict()\n",
    "\n",
    "# Generate word cloud\n",
    "wordcloud = WordCloud(width=800, height=400, background_color='white').generate_from_frequencies(category_dict)\n",
    "\n",
    "# Display the word cloud\n",
    "plt.figure(figsize=(20, 20))\n",
    "plt.imshow(wordcloud, interpolation='bilinear')\n",
    "plt.axis('off')\n",
    "plt.show()\n"
   ]
  },
  {
   "cell_type": "markdown",
   "id": "e70c8abf-0bc6-4349-a27d-fc21a1f1596f",
   "metadata": {},
   "source": [
    "The word cloud highlights prominent trends in the market, indicating that pizza and Chinese restaurants are particularly prevalent, with multiple occurrences. Similarly, beauty and spas emerge as dominant categories within the industry."
   ]
  },
  {
   "cell_type": "code",
   "execution_count": null,
   "id": "6923f8cd-9b75-4eb8-a723-f9f1e59b8c74",
   "metadata": {
    "tags": []
   },
   "outputs": [],
   "source": [
    "df_business['state'].value_counts()"
   ]
  },
  {
   "cell_type": "code",
   "execution_count": null,
   "id": "3228bd6f-7bb7-4b6a-949b-360eccb153b8",
   "metadata": {
    "tags": []
   },
   "outputs": [],
   "source": [
    "\n",
    "city_counts = df_business['city'].value_counts().head(20)  # Example: showing top 20 cities\n",
    "\n",
    "# Creating a bar plot\n",
    "plt.figure(figsize=(14, 8))\n",
    "city_counts.plot(kind='bar', color='skyblue')\n",
    "plt.title('Count of Businesses by City')\n",
    "plt.xlabel('City')\n",
    "plt.ylabel('Count')\n",
    "plt.xticks(rotation=45, ha='right')\n",
    "plt.tight_layout()\n",
    "plt.show()\n"
   ]
  },
  {
   "cell_type": "markdown",
   "id": "b28ede19-f014-4b92-87dc-c03590e019b5",
   "metadata": {},
   "source": [
    "The bar chart depicts the distribution of businesses across different locations, with Philadelphia hosting the highest number of establishments, followed by Tucson and Tampa. Conversely, Meridian, St. Petersburg, and St. Louis exhibit the lowest counts of businesses."
   ]
  },
  {
   "cell_type": "code",
   "execution_count": null,
   "id": "8a05463f-48aa-48ed-9cb4-b9a7d786bb73",
   "metadata": {
    "tags": []
   },
   "outputs": [],
   "source": [
    "\n",
    "state_counts = df_business['state'].value_counts()\n",
    "\n",
    "# Define full names for US states and Canadian provinces/territories\n",
    "state_names = {\n",
    "    'PA': 'Pennsylvania', 'FL': 'Florida', 'TN': 'Tennessee', 'IN': 'Indiana', 'MO': 'Missouri', \n",
    "    'AZ': 'Arizona', 'LA': 'Louisiana', 'NJ': 'New Jersey', 'NV': 'Nevada', 'CA': 'California', \n",
    "    'ID': 'Idaho', 'DE': 'Delaware', 'IL': 'Illinois', 'MA': 'Massachusetts', 'VI': 'Virgin Islands', \n",
    "    'VT': 'Vermont', 'AB': 'Alberta'  # Add more as needed\n",
    "}\n",
    "\n",
    "# Define colors for US states and Canadian provinces/territories\n",
    "us_states = ['PA', 'FL', 'TN', 'IN', 'MO', 'AZ', 'LA', 'NJ', 'NV', 'CA', 'ID', 'DE', 'IL', 'MA', 'VI', 'VT']\n",
    "us_state_color = 'skyblue'\n",
    "canadian_provinces = ['AB']  # Add more Canadian provinces if needed\n",
    "canadian_province_color = 'lightgreen'\n",
    "\n",
    "# Create a bar plot\n",
    "plt.figure(figsize=(14, 8))\n",
    "for state, count in state_counts.items():\n",
    "    if state in us_states:\n",
    "        full_name = state_names[state]\n",
    "        plt.bar(full_name, count, color=us_state_color)\n",
    "    elif state in canadian_provinces:\n",
    "        full_name = state_names[state]\n",
    "        plt.bar(full_name, count, color=canadian_province_color)\n",
    "\n",
    "plt.title('Count of Businesses by State/Province')\n",
    "plt.xlabel('State/Province')\n",
    "plt.ylabel('Count')\n",
    "plt.xticks(rotation=45, ha='right')\n",
    "plt.tight_layout()\n",
    "plt.show()\n"
   ]
  },
  {
   "cell_type": "markdown",
   "id": "30b5e62f-b4b4-41f4-b6a4-793124ce60d0",
   "metadata": {
    "tags": []
   },
   "source": [
    "Upon examining the statewise distribution, it becomes evident that Pennsylvania, Florida, and Tennessee are the dominant regions, with notable business presence. Notably, Alberta represents the sole Canadian province included. Conversely, Delaware, Illinois, and Idaho exhibit comparatively fewer businesses"
   ]
  },
  {
   "cell_type": "code",
   "execution_count": null,
   "id": "d470288e-073f-4795-97ee-cf672955182b",
   "metadata": {
    "tags": []
   },
   "outputs": [],
   "source": [
    "df_business.iloc[0]"
   ]
  },
  {
   "cell_type": "code",
   "execution_count": null,
   "id": "97028edd-47bd-490c-bb97-71fbaea12cbe",
   "metadata": {
    "tags": []
   },
   "outputs": [],
   "source": [
    "\n",
    "# Sort the dataframe by star rating and review count\n",
    "sorted_businesses = df_business.sort_values(by=['stars', 'review_count'], ascending=[False, False])\n",
    "\n",
    "# Select the top 20 businesses\n",
    "top_20_businesses = sorted_businesses.head(20)\n",
    "\n",
    "# Set up the figure and axis\n",
    "fig, ax = plt.subplots(figsize=(12, 10))\n",
    "\n",
    "# Generate a color map\n",
    "colors = plt.cm.viridis(np.linspace(0, 1, len(top_20_businesses)))\n",
    "\n",
    "# Plotting\n",
    "bars = ax.barh(top_20_businesses['name'], top_20_businesses['review_count'], color=colors)\n",
    "\n",
    "# Adding labels and title\n",
    "ax.set_xlabel('Review Count', fontsize=14)\n",
    "ax.set_ylabel('Business Name', fontsize=14)\n",
    "ax.set_title('Top 20 Businesses by Star Rating and Review Count', fontsize=16)\n",
    "\n",
    "# Adding data labels\n",
    "for bar in bars:\n",
    "    width = bar.get_width()\n",
    "    ax.text(width, bar.get_y() + bar.get_height()/2, '{:,}'.format(int(width)), \n",
    "            va='center', ha='left', fontsize=12, color='black')\n",
    "\n",
    "# Adding gridlines\n",
    "ax.grid(axis='x', linestyle='--', alpha=0.7)\n",
    "\n",
    "# Removing spines\n",
    "ax.spines['top'].set_visible(False)\n",
    "ax.spines['right'].set_visible(False)\n",
    "\n",
    "# Invert y-axis for better readability\n",
    "ax.invert_yaxis()\n",
    "\n",
    "# Tight layout\n",
    "plt.tight_layout()\n",
    "\n",
    "# Show plot\n",
    "plt.show()\n"
   ]
  },
  {
   "cell_type": "markdown",
   "id": "6a1607d2-f360-4636-9859-a3c10924d8dd",
   "metadata": {},
   "source": [
    "The bar chart, considering cumulative reviews and star ratings, reveals Blues City Deli as the top performer with 991 reviews, followed by Free Tours by Foot and Termerico\""
   ]
  },
  {
   "cell_type": "code",
   "execution_count": null,
   "id": "ea40be8c-a686-495c-aa09-fc5b0f05f6e5",
   "metadata": {
    "tags": []
   },
   "outputs": [],
   "source": [
    "# Identify small businesses (single-location) and large businesses (chains)\n",
    "small_businesses = df_business[df_business['name'].duplicated(keep=False)].drop_duplicates(subset=['name'], keep=False)\n",
    "large_businesses = df_business[df_business['name'].duplicated(keep=False)].drop_duplicates(subset=['name'], keep='first')\n",
    "\n",
    "# Count the number of locations for each chain\n",
    "chain_counts = df_business['name'].value_counts()\n",
    "\n",
    "# Filter large businesses (chains) with more than three locations\n",
    "large_businesses = large_businesses[large_businesses['name'].map(chain_counts) > 3]\n",
    "\n",
    "# Get the counts of small and large businesses\n",
    "count_small_businesses = len(small_businesses)\n",
    "count_large_businesses = len(large_businesses)\n",
    "\n",
    "print(\"Total businesses:\",len(df_business))\n",
    "print(\"Number of small businesses (single-location):\", count_small_businesses)\n",
    "print(\"Number of large businesses (chains with more than 3 locations):\", count_large_businesses)\n"
   ]
  },
  {
   "cell_type": "code",
   "execution_count": null,
   "id": "74f3c229-b02d-45dd-a445-3366a042926a",
   "metadata": {
    "tags": []
   },
   "outputs": [],
   "source": [
    "# Count the number of locations for each chain\n",
    "chain_counts = df_business['name'].value_counts()\n",
    "chain_counts"
   ]
  },
  {
   "cell_type": "code",
   "execution_count": null,
   "id": "4497e119-9808-439d-a75a-a6b7996ad64f",
   "metadata": {
    "tags": []
   },
   "outputs": [],
   "source": [
    "# Filter small businesses (single-location or with name repeating max twice or thrice)\n",
    "small_businesses = df_business[df_business['name'].duplicated(keep=False)].drop_duplicates(subset=['name'], keep=False)\n",
    "small_businesses_count = len(small_businesses)\n",
    "max_name_repeats = 3\n",
    "\n",
    "# Identify small businesses with name repeating max twice or thrice\n",
    "small_businesses_max_repeat = df_business[df_business['name'].duplicated(keep=False)]\n",
    "small_businesses_max_repeat_count = len(small_businesses_max_repeat['name'].unique())\n",
    "\n",
    "# Filter large businesses (chains) with more than three locations\n",
    "large_businesses = df_business[df_business['name'].duplicated(keep=False)].drop_duplicates(subset=['name'], keep='first')\n",
    "chain_counts = df_business['name'].value_counts()\n",
    "large_businesses = large_businesses[large_businesses['name'].map(chain_counts) > max_name_repeats]\n",
    "large_businesses_count = len(large_businesses)\n",
    "\n",
    "print(\"Number of small businesses :\", small_businesses_count + small_businesses_max_repeat_count)\n",
    "print(\"Number of large businesses (chains with more than\", max_name_repeats, \"locations):\", large_businesses_count)\n"
   ]
  },
  {
   "cell_type": "code",
   "execution_count": null,
   "id": "fb9551f9-1ae3-4aa4-b4de-3efcfec6cf4a",
   "metadata": {
    "tags": []
   },
   "outputs": [],
   "source": [
    "\n",
    "# Define the counts and categories\n",
    "counts = [small_businesses_count + small_businesses_max_repeat_count, large_businesses_count]\n",
    "categories = ['Small Businesses (Less than 3 stores)', 'Large Businesses (>3 stores)']\n",
    "\n",
    "# Define colors\n",
    "colors = ['#1f77b4', '#ff7f0e']\n",
    "\n",
    "# Create bar plot\n",
    "plt.figure(figsize=(6, 4))\n",
    "bars = plt.bar(categories, counts, color=colors)\n",
    "\n",
    "# Add data labels on top of bars\n",
    "for bar in bars:\n",
    "    yval = bar.get_height()\n",
    "    plt.text(bar.get_x() + bar.get_width()/2, yval + 0.1, round(yval, 2), ha='center', va='bottom', color='black', fontsize=12)\n",
    "\n",
    "# Add title and labels\n",
    "plt.title('Comparison of Small and Large Businesses')\n",
    "plt.xlabel('Category')\n",
    "plt.ylabel('Count')\n",
    "\n",
    "# Show plot\n",
    "plt.tight_layout()\n",
    "plt.show()\n"
   ]
  },
  {
   "cell_type": "markdown",
   "id": "64d5b25d-9ed8-45b7-bbb7-6701b0aefa34",
   "metadata": {},
   "source": [
    "The bar chart illustrates the distribution of small and large businesses within the database, offering insights into their relative representation. It visually compares the quantities of small and large businesses present in the dataset."
   ]
  },
  {
   "cell_type": "code",
   "execution_count": null,
   "id": "c0b515f0-592c-404c-a2d7-25f422358e5e",
   "metadata": {
    "tags": []
   },
   "outputs": [],
   "source": [
    "\n",
    "# Calculate total review count for small businesses based on star rating\n",
    "total_reviews_small_rating = df_business[df_business['name'].duplicated(keep=False) & \n",
    "                                         ~df_business['name'].duplicated(keep='first')].groupby('stars')['review_count'].sum()\n",
    "\n",
    "# Calculate total review count for large businesses based on star rating\n",
    "total_reviews_large_rating = df_business[df_business['name'].duplicated(keep=False) & \n",
    "                                         df_business['name'].duplicated(keep='first')].groupby('stars')['review_count'].sum()\n",
    "\n",
    "# Create a bar plot for small businesses\n",
    "plt.figure(figsize=(10, 6))\n",
    "plt.bar(total_reviews_small_rating.index - 0.1, total_reviews_small_rating.values, width=0.2, label='Small Businesses', color='skyblue')\n",
    "\n",
    "# Create a bar plot for large businesses\n",
    "plt.bar(total_reviews_large_rating.index + 0.1, total_reviews_large_rating.values, width=0.2, label='Large Businesses', color='salmon')\n",
    "\n",
    "# Add labels and title\n",
    "plt.xlabel('Star Rating')\n",
    "plt.ylabel('Total Reviews Received')\n",
    "plt.title('Total Reviews Received by Small vs Large Businesses based on Star Rating')\n",
    "plt.xticks(total_reviews_small_rating.index)\n",
    "\n",
    "# Add legend\n",
    "plt.legend()\n",
    "\n",
    "# Show plot\n",
    "plt.tight_layout()\n",
    "plt.show()\n"
   ]
  },
  {
   "cell_type": "markdown",
   "id": "74a8f70f-3333-4012-8d23-62941d9d701c",
   "metadata": {},
   "source": [
    "The observation suggests that large businesses tend to receive higher ratings, possibly due to higher foot traffic or customer volume. This could be attributed to the larger customer base frequenting these establishments."
   ]
  },
  {
   "cell_type": "code",
   "execution_count": null,
   "id": "88360643-6ee1-4264-8b6a-05eeca1886d9",
   "metadata": {
    "tags": []
   },
   "outputs": [],
   "source": [
    "\n",
    "# Select only columns of type 'number'\n",
    "numeric_columns = df_business.select_dtypes(include=['number','float']).columns\n",
    "\n",
    "# Select the first 10 numeric columns\n",
    "numeric_columns_subset = numeric_columns[:30]\n",
    "\n",
    "# Calculate the number of rows needed based on the desired 3-column layout\n",
    "num_plots = len(numeric_columns_subset)\n",
    "num_rows = (num_plots + 2) // 3  # Round up to the nearest integer\n",
    "\n",
    "# Create subplots with 3 columns\n",
    "fig, axes = plt.subplots(nrows=num_rows, ncols=3, figsize=(12, 3 * num_rows))\n",
    "\n",
    "# Plot histograms for each numeric column\n",
    "for i, column in enumerate(numeric_columns_subset):\n",
    "    row = i // 3\n",
    "    col = i % 3\n",
    "    ax = axes[row, col]\n",
    "    ax.hist(df_business[column], bins=20, color='skyblue', edgecolor='black')\n",
    "    ax.set_title(f'Histogram of {column}')\n",
    "    ax.set_xlabel(column)\n",
    "    ax.set_ylabel('Frequency')\n",
    "\n",
    "\n",
    "# Adjust layout\n",
    "plt.tight_layout()\n",
    "plt.show()\n"
   ]
  },
  {
   "cell_type": "markdown",
   "id": "4bbcb1f8-55d7-4cac-bf55-c91330454943",
   "metadata": {},
   "source": [
    "we can see most of the charts are right skewed. Stars show us that most of the businesses are doing great."
   ]
  },
  {
   "cell_type": "code",
   "execution_count": null,
   "id": "7c160b3d-8b1e-4f05-b02c-33a06be40c43",
   "metadata": {
    "tags": []
   },
   "outputs": [],
   "source": [
    "\n",
    "# Assuming df_business is your DataFrame\n",
    "string_columns = df_business.select_dtypes(include=['object']).columns\n",
    "\n",
    "print(\"String columns:\", string_columns)"
   ]
  },
  {
   "cell_type": "code",
   "execution_count": null,
   "id": "6eaaff39-e92b-4eb5-8a0d-00a087807699",
   "metadata": {
    "tags": []
   },
   "outputs": [],
   "source": [
    "numeric_columns.shape"
   ]
  },
  {
   "cell_type": "markdown",
   "id": "dfca566b-57b3-4e6d-a843-dfe91bbd15b9",
   "metadata": {},
   "source": [
    "#### Getting rid of multicollinearity"
   ]
  },
  {
   "cell_type": "code",
   "execution_count": null,
   "id": "740e87d4-450d-4442-9275-87e5cc9a5267",
   "metadata": {
    "tags": []
   },
   "outputs": [],
   "source": [
    "# Assuming df_business is your DataFrame containing numeric columns\n",
    "numeric_columns = df_business.select_dtypes(include=['number', 'float'])\n",
    "\n",
    "# Lets get the correlation matrix and save to variable 'corr_mat'\n",
    "corr_mat = numeric_columns.corr()\n",
    "\n",
    "# Display corr_mat\n",
    "corr_mat"
   ]
  },
  {
   "cell_type": "code",
   "execution_count": null,
   "id": "ec59f42b-65e2-4ed6-acec-2bda615ed853",
   "metadata": {
    "tags": []
   },
   "outputs": [],
   "source": [
    "plt.figure(figsize=(10, 7))\n",
    "\n",
    "# Selecting first 20 features\n",
    "corr_mat_subset = corr_mat.iloc[:30, :30].round(1)\n",
    "\n",
    "# Creating mask of duplicated combinations\n",
    "mask = np.tril(np.ones_like(corr_mat_subset, dtype=bool))\n",
    "\n",
    "# Plotting heatmap\n",
    "sns.heatmap(corr_mat_subset, mask=mask, cmap='coolwarm', center=0, vmin=-1, vmax=1, annot=True)\n",
    "\n",
    "plt.show()"
   ]
  },
  {
   "cell_type": "markdown",
   "id": "449eeae4-a618-44a3-8727-464e52cfb75b",
   "metadata": {},
   "source": [
    "We can see that Noise Level is higly correlated with Restaurant's attire, thus we have to get rid of one of these.(multicollinearity)"
   ]
  },
  {
   "cell_type": "code",
   "execution_count": null,
   "id": "f371cf40-966c-41a1-a9dd-9d42238c5880",
   "metadata": {
    "tags": []
   },
   "outputs": [],
   "source": [
    "numeric_columns[['NoiseLevel', 'RestaurantsAttire']].var()"
   ]
  },
  {
   "cell_type": "code",
   "execution_count": null,
   "id": "a888fd43-6000-4818-81fe-237eee3184f1",
   "metadata": {
    "tags": []
   },
   "outputs": [],
   "source": [
    "numeric_columns.drop(columns='RestaurantsAttire',inplace=True)"
   ]
  },
  {
   "cell_type": "code",
   "execution_count": null,
   "id": "7078377e-9525-4876-a48b-5c9543e3fd2e",
   "metadata": {
    "tags": []
   },
   "outputs": [],
   "source": [
    "\n",
    "# Lets get the correlation matrix and save to variable 'corr_mat'\n",
    "corr_mat = numeric_columns.corr()\n",
    "\n",
    "plt.figure(figsize=(10, 7))\n",
    "\n",
    "# Selecting first 20 features\n",
    "corr_mat_subset = corr_mat.iloc[:30, :30].round(1)\n",
    "\n",
    "# Creating mask of duplicated combinations\n",
    "mask = np.tril(np.ones_like(corr_mat_subset, dtype=bool))\n",
    "\n",
    "# Plotting heatmap\n",
    "sns.heatmap(corr_mat_subset, mask=mask, cmap='coolwarm', center=0, vmin=-1, vmax=1, annot=True)\n",
    "\n",
    "plt.show()"
   ]
  },
  {
   "cell_type": "code",
   "execution_count": null,
   "id": "5050ed4f-40cb-4b4d-8dab-8c1065b79f9f",
   "metadata": {
    "tags": []
   },
   "outputs": [],
   "source": [
    "numeric_columns[['Smoking', 'AgesAllowed']].var()"
   ]
  },
  {
   "cell_type": "code",
   "execution_count": null,
   "id": "33772478-6643-46c6-b9ba-c02c1a34e731",
   "metadata": {
    "tags": []
   },
   "outputs": [],
   "source": [
    "numeric_columns.drop(columns='Smoking',inplace=True)"
   ]
  },
  {
   "cell_type": "code",
   "execution_count": null,
   "id": "0f4f764b-8a75-4330-8cfd-7b7126b1cfa6",
   "metadata": {
    "tags": []
   },
   "outputs": [],
   "source": [
    "\n",
    "# Lets get the correlation matrix and save to variable 'corr_mat'\n",
    "corr_mat = numeric_columns.corr()\n",
    "\n",
    "plt.figure(figsize=(10, 7))\n",
    "\n",
    "# Selecting first 20 features\n",
    "corr_mat_subset = corr_mat.iloc[:30,0:30].round(1)\n",
    "\n",
    "# Creating mask of duplicated combinations\n",
    "mask = np.tril(np.ones_like(corr_mat_subset, dtype=bool))\n",
    "\n",
    "# Plotting heatmap\n",
    "sns.heatmap(corr_mat_subset, mask=mask, cmap='coolwarm', center=0, vmin=-1, vmax=1, annot=True)\n",
    "\n",
    "plt.show()"
   ]
  },
  {
   "cell_type": "code",
   "execution_count": null,
   "id": "400cc902-91c2-4eff-9dee-727f7e7020fc",
   "metadata": {
    "tags": []
   },
   "outputs": [],
   "source": [
    "numeric_columns[['NoiseLevel', 'AgesAllowed']].var()"
   ]
  },
  {
   "cell_type": "code",
   "execution_count": null,
   "id": "b86c1739-400e-4115-9585-a58e09e730a7",
   "metadata": {
    "tags": []
   },
   "outputs": [],
   "source": [
    "numeric_columns.drop(columns='AgesAllowed',inplace=True)"
   ]
  },
  {
   "cell_type": "code",
   "execution_count": null,
   "id": "a2b3a24d-1d89-471a-b713-ecfecbdec468",
   "metadata": {
    "tags": []
   },
   "outputs": [],
   "source": [
    "\n",
    "# Lets get the correlation matrix and save to variable 'corr_mat'\n",
    "corr_mat = numeric_columns.corr()\n",
    "\n",
    "plt.figure(figsize=(10, 7))\n",
    "\n",
    "# Selecting first 20 features\n",
    "corr_mat_subset = corr_mat.iloc[:20,0:20].round(1)\n",
    "\n",
    "# Creating mask of duplicated combinations\n",
    "mask = np.tril(np.ones_like(corr_mat_subset, dtype=bool))\n",
    "\n",
    "# Plotting heatmap\n",
    "sns.heatmap(corr_mat_subset, mask=mask, cmap='coolwarm', center=0, vmin=-1, vmax=1, annot=True)\n",
    "\n",
    "plt.show()"
   ]
  },
  {
   "cell_type": "code",
   "execution_count": null,
   "id": "330d9a19-f284-43a8-a6c4-8effa454425c",
   "metadata": {
    "tags": []
   },
   "outputs": [],
   "source": [
    "#Got rid of postal code instead of lontitude so that i could display map on streamlit\n",
    "numeric_columns.drop(columns='postal_code',inplace=True)"
   ]
  },
  {
   "cell_type": "code",
   "execution_count": null,
   "id": "4c450464-e206-4356-a518-844ab93360f9",
   "metadata": {},
   "outputs": [],
   "source": [
    "# Perform one-hot encoding on the 'city' column\n",
    "city_encoded = pd.get_dummies(df_business['city'], prefix='city')\n",
    "\n",
    "# Concatenate the one-hot encoded DataFrame with the original DataFrame\n",
    "numeric_columns = pd.concat([numeric_columns, city_encoded], axis=1)\n"
   ]
  },
  {
   "cell_type": "code",
   "execution_count": null,
   "id": "57097681-d5ce-42b3-a528-d1118a361757",
   "metadata": {},
   "outputs": [],
   "source": [
    "# Reset the index of the DataFrame\n",
    "numeric_columns.reset_index(drop=True, inplace=True)\n",
    "\n",
    "numeric_columns.drop(columns='Unnamed: 0',inplace=True)"
   ]
  },
  {
   "cell_type": "code",
   "execution_count": null,
   "id": "11f21292-3a65-4fec-9a9e-e442fdc64786",
   "metadata": {
    "tags": []
   },
   "outputs": [],
   "source": [
    "numeric_columns.shape"
   ]
  },
  {
   "cell_type": "code",
   "execution_count": null,
   "id": "07b08db4-2a93-4a50-b5dc-4f9e4070574e",
   "metadata": {},
   "outputs": [],
   "source": [
    "#save the work\n",
    "numeric_columns.to_csv(path_or_buf='data/cleaned/numeric_columns1.csv')"
   ]
  },
  {
   "cell_type": "markdown",
   "id": "2cc989a3-0bfc-4a64-ba4e-2dde4d295730",
   "metadata": {},
   "source": [
    "Continued in Capstone Part 2..."
   ]
  }
 ],
 "metadata": {
  "kernelspec": {
   "display_name": "Python 3 (ipykernel)",
   "language": "python",
   "name": "python3"
  },
  "language_info": {
   "codemirror_mode": {
    "name": "ipython",
    "version": 3
   },
   "file_extension": ".py",
   "mimetype": "text/x-python",
   "name": "python",
   "nbconvert_exporter": "python",
   "pygments_lexer": "ipython3",
   "version": "3.11.5"
  }
 },
 "nbformat": 4,
 "nbformat_minor": 5
}
