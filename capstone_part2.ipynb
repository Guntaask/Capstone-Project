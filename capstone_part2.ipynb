{
 "cells": [
  {
   "cell_type": "markdown",
   "id": "5d2eb11c-2d9f-4468-8768-618cdebc95c3",
   "metadata": {},
   "source": [
    "Continuation of Capstone Part 1"
   ]
  },
  {
   "cell_type": "markdown",
   "id": "c84c60b5-1b77-43cd-999c-03d167cb104a",
   "metadata": {},
   "source": [
    "##### Author: Guntaas Kaur\n",
    "##### Contact: guntaaskaur1@gmail.com\n",
    "##### Date: 11-03-2024"
   ]
  },
  {
   "cell_type": "markdown",
   "id": "faabe8f0-e199-4135-a51b-442517a4dac5",
   "metadata": {
    "tags": []
   },
   "source": [
    "# Data Modelling"
   ]
  },
  {
   "cell_type": "markdown",
   "id": "c2956e12-c49b-4dd8-90ba-eb78279d8305",
   "metadata": {},
   "source": [
    "\n",
    "<b>Predicting Small Businesses Success & Failure </b><br>\n",
    "Understanding the Reasons Behind Small Business Failures and Leveraging Machine Learning for Enhanced Success"
   ]
  },
  {
   "cell_type": "code",
   "execution_count": 1,
   "id": "b7debcfd-2ffc-4185-baaf-2b5e676b270c",
   "metadata": {},
   "outputs": [],
   "source": [
    "#importing required libraries\n",
    "import seaborn as sns\n",
    "import numpy as np\n",
    "import matplotlib.pyplot as plt\n",
    "import pandas as pd\n",
    "\n",
    "#Machine Learning Models\n",
    "from sklearn.linear_model import LogisticRegression\n",
    "from sklearn.tree import DecisionTreeClassifier\n",
    "from sklearn.decomposition import PCA\n",
    "from sklearn.pipeline import Pipeline\n",
    "from sklearn.model_selection import GridSearchCV\n",
    "from sklearn.model_selection import train_test_split\n",
    "from sklearn.preprocessing import StandardScaler\n",
    "from sklearn import svm\n",
    "import xgboost as xgb\n",
    "\n",
    "# Ignore futurewarnings\n",
    "import warnings\n",
    "warnings.filterwarnings('ignore')\n",
    "\n",
    "\n",
    "#Model Evaluation and Metrics\n",
    "from sklearn.metrics import classification_report\n",
    "from sklearn.metrics import confusion_matrix, ConfusionMatrixDisplay\n",
    "from scipy.stats import ttest_ind\n",
    "from sklearn.metrics import accuracy_score\n",
    "from sklearn.metrics import roc_curve, roc_auc_score\n",
    "from sklearn.model_selection import cross_val_score\n",
    "\n",
    "\n",
    "\n",
    "from sklearn.metrics import roc_curve, roc_auc_score, precision_recall_curve\n",
    "\n",
    "import warnings\n",
    "\n",
    "warnings.filterwarnings(\"ignore\", category=DeprecationWarning)\n"
   ]
  },
  {
   "cell_type": "code",
   "execution_count": 2,
   "id": "25cff9b2-85df-42ea-8245-0a28a1c75d04",
   "metadata": {
    "tags": []
   },
   "outputs": [],
   "source": [
    "businesses = pd.read_csv(\"data/cleaned/numeric_columns1.csv\", chunksize=150243)\n",
    "\n",
    "# read the data \n",
    "for business in businesses:\n",
    "    numeric_columns = business\n",
    "    break"
   ]
  },
  {
   "cell_type": "code",
   "execution_count": 3,
   "id": "fb064382-8056-4748-a78b-6adb3a2eba17",
   "metadata": {
    "tags": []
   },
   "outputs": [],
   "source": [
    "#numeric_columns = numeric_columns.sample(frac=0.03)"
   ]
  },
  {
   "cell_type": "code",
   "execution_count": 4,
   "id": "5308e496-0938-4f21-9676-1df89991c313",
   "metadata": {
    "tags": []
   },
   "outputs": [
    {
     "data": {
      "text/html": [
       "<div>\n",
       "<style scoped>\n",
       "    .dataframe tbody tr th:only-of-type {\n",
       "        vertical-align: middle;\n",
       "    }\n",
       "\n",
       "    .dataframe tbody tr th {\n",
       "        vertical-align: top;\n",
       "    }\n",
       "\n",
       "    .dataframe thead th {\n",
       "        text-align: right;\n",
       "    }\n",
       "</style>\n",
       "<table border=\"1\" class=\"dataframe\">\n",
       "  <thead>\n",
       "    <tr style=\"text-align: right;\">\n",
       "      <th></th>\n",
       "      <th>Unnamed: 0</th>\n",
       "      <th>latitude</th>\n",
       "      <th>longitude</th>\n",
       "      <th>stars</th>\n",
       "      <th>review_count</th>\n",
       "      <th>is_open</th>\n",
       "      <th>RestaurantsPriceRange2</th>\n",
       "      <th>garage</th>\n",
       "      <th>street</th>\n",
       "      <th>validated</th>\n",
       "      <th>...</th>\n",
       "      <th>city_spring hill</th>\n",
       "      <th>city_tampa</th>\n",
       "      <th>city_telford</th>\n",
       "      <th>city_tucson</th>\n",
       "      <th>city_wesley chapel</th>\n",
       "      <th>city_wilmington</th>\n",
       "      <th>city_wimauma</th>\n",
       "      <th>city_​Clayton</th>\n",
       "      <th>city_​Largo</th>\n",
       "      <th>city_​Lithia</th>\n",
       "    </tr>\n",
       "  </thead>\n",
       "  <tbody>\n",
       "    <tr>\n",
       "      <th>0</th>\n",
       "      <td>0</td>\n",
       "      <td>34.426679</td>\n",
       "      <td>-119.711197</td>\n",
       "      <td>5.0</td>\n",
       "      <td>7</td>\n",
       "      <td>0</td>\n",
       "      <td>2.0</td>\n",
       "      <td>0.0</td>\n",
       "      <td>0.0</td>\n",
       "      <td>0.0</td>\n",
       "      <td>...</td>\n",
       "      <td>False</td>\n",
       "      <td>False</td>\n",
       "      <td>False</td>\n",
       "      <td>False</td>\n",
       "      <td>False</td>\n",
       "      <td>False</td>\n",
       "      <td>False</td>\n",
       "      <td>False</td>\n",
       "      <td>False</td>\n",
       "      <td>False</td>\n",
       "    </tr>\n",
       "    <tr>\n",
       "      <th>1</th>\n",
       "      <td>1</td>\n",
       "      <td>38.551126</td>\n",
       "      <td>-90.335695</td>\n",
       "      <td>3.0</td>\n",
       "      <td>15</td>\n",
       "      <td>1</td>\n",
       "      <td>2.0</td>\n",
       "      <td>0.0</td>\n",
       "      <td>0.0</td>\n",
       "      <td>0.0</td>\n",
       "      <td>...</td>\n",
       "      <td>False</td>\n",
       "      <td>False</td>\n",
       "      <td>False</td>\n",
       "      <td>False</td>\n",
       "      <td>False</td>\n",
       "      <td>False</td>\n",
       "      <td>False</td>\n",
       "      <td>False</td>\n",
       "      <td>False</td>\n",
       "      <td>False</td>\n",
       "    </tr>\n",
       "    <tr>\n",
       "      <th>2</th>\n",
       "      <td>2</td>\n",
       "      <td>32.223236</td>\n",
       "      <td>-110.880452</td>\n",
       "      <td>3.5</td>\n",
       "      <td>22</td>\n",
       "      <td>0</td>\n",
       "      <td>2.0</td>\n",
       "      <td>0.0</td>\n",
       "      <td>0.0</td>\n",
       "      <td>0.0</td>\n",
       "      <td>...</td>\n",
       "      <td>False</td>\n",
       "      <td>False</td>\n",
       "      <td>False</td>\n",
       "      <td>False</td>\n",
       "      <td>False</td>\n",
       "      <td>False</td>\n",
       "      <td>False</td>\n",
       "      <td>False</td>\n",
       "      <td>False</td>\n",
       "      <td>False</td>\n",
       "    </tr>\n",
       "    <tr>\n",
       "      <th>3</th>\n",
       "      <td>3</td>\n",
       "      <td>39.955505</td>\n",
       "      <td>-75.155564</td>\n",
       "      <td>4.0</td>\n",
       "      <td>80</td>\n",
       "      <td>1</td>\n",
       "      <td>1.0</td>\n",
       "      <td>0.0</td>\n",
       "      <td>1.0</td>\n",
       "      <td>0.0</td>\n",
       "      <td>...</td>\n",
       "      <td>False</td>\n",
       "      <td>False</td>\n",
       "      <td>False</td>\n",
       "      <td>False</td>\n",
       "      <td>False</td>\n",
       "      <td>False</td>\n",
       "      <td>False</td>\n",
       "      <td>False</td>\n",
       "      <td>False</td>\n",
       "      <td>False</td>\n",
       "    </tr>\n",
       "    <tr>\n",
       "      <th>4</th>\n",
       "      <td>4</td>\n",
       "      <td>40.338183</td>\n",
       "      <td>-75.471659</td>\n",
       "      <td>4.5</td>\n",
       "      <td>13</td>\n",
       "      <td>1</td>\n",
       "      <td>2.0</td>\n",
       "      <td>0.0</td>\n",
       "      <td>0.0</td>\n",
       "      <td>0.0</td>\n",
       "      <td>...</td>\n",
       "      <td>False</td>\n",
       "      <td>False</td>\n",
       "      <td>False</td>\n",
       "      <td>False</td>\n",
       "      <td>False</td>\n",
       "      <td>False</td>\n",
       "      <td>False</td>\n",
       "      <td>False</td>\n",
       "      <td>False</td>\n",
       "      <td>False</td>\n",
       "    </tr>\n",
       "    <tr>\n",
       "      <th>...</th>\n",
       "      <td>...</td>\n",
       "      <td>...</td>\n",
       "      <td>...</td>\n",
       "      <td>...</td>\n",
       "      <td>...</td>\n",
       "      <td>...</td>\n",
       "      <td>...</td>\n",
       "      <td>...</td>\n",
       "      <td>...</td>\n",
       "      <td>...</td>\n",
       "      <td>...</td>\n",
       "      <td>...</td>\n",
       "      <td>...</td>\n",
       "      <td>...</td>\n",
       "      <td>...</td>\n",
       "      <td>...</td>\n",
       "      <td>...</td>\n",
       "      <td>...</td>\n",
       "      <td>...</td>\n",
       "      <td>...</td>\n",
       "      <td>...</td>\n",
       "    </tr>\n",
       "    <tr>\n",
       "      <th>135346</th>\n",
       "      <td>148880</td>\n",
       "      <td>36.215481</td>\n",
       "      <td>-86.596093</td>\n",
       "      <td>1.0</td>\n",
       "      <td>6</td>\n",
       "      <td>1</td>\n",
       "      <td>2.0</td>\n",
       "      <td>0.0</td>\n",
       "      <td>0.0</td>\n",
       "      <td>0.0</td>\n",
       "      <td>...</td>\n",
       "      <td>False</td>\n",
       "      <td>False</td>\n",
       "      <td>False</td>\n",
       "      <td>False</td>\n",
       "      <td>False</td>\n",
       "      <td>False</td>\n",
       "      <td>False</td>\n",
       "      <td>False</td>\n",
       "      <td>False</td>\n",
       "      <td>False</td>\n",
       "    </tr>\n",
       "    <tr>\n",
       "      <th>135347</th>\n",
       "      <td>148881</td>\n",
       "      <td>39.953546</td>\n",
       "      <td>-75.193064</td>\n",
       "      <td>4.0</td>\n",
       "      <td>11</td>\n",
       "      <td>0</td>\n",
       "      <td>2.0</td>\n",
       "      <td>0.0</td>\n",
       "      <td>0.0</td>\n",
       "      <td>0.0</td>\n",
       "      <td>...</td>\n",
       "      <td>False</td>\n",
       "      <td>False</td>\n",
       "      <td>False</td>\n",
       "      <td>False</td>\n",
       "      <td>False</td>\n",
       "      <td>False</td>\n",
       "      <td>False</td>\n",
       "      <td>False</td>\n",
       "      <td>False</td>\n",
       "      <td>False</td>\n",
       "    </tr>\n",
       "    <tr>\n",
       "      <th>135348</th>\n",
       "      <td>148882</td>\n",
       "      <td>32.134030</td>\n",
       "      <td>-111.000990</td>\n",
       "      <td>1.5</td>\n",
       "      <td>16</td>\n",
       "      <td>1</td>\n",
       "      <td>2.0</td>\n",
       "      <td>0.0</td>\n",
       "      <td>0.0</td>\n",
       "      <td>0.0</td>\n",
       "      <td>...</td>\n",
       "      <td>False</td>\n",
       "      <td>False</td>\n",
       "      <td>False</td>\n",
       "      <td>False</td>\n",
       "      <td>False</td>\n",
       "      <td>False</td>\n",
       "      <td>False</td>\n",
       "      <td>False</td>\n",
       "      <td>False</td>\n",
       "      <td>False</td>\n",
       "    </tr>\n",
       "    <tr>\n",
       "      <th>135349</th>\n",
       "      <td>148883</td>\n",
       "      <td>40.022237</td>\n",
       "      <td>-75.625505</td>\n",
       "      <td>3.0</td>\n",
       "      <td>131</td>\n",
       "      <td>1</td>\n",
       "      <td>2.0</td>\n",
       "      <td>0.0</td>\n",
       "      <td>0.0</td>\n",
       "      <td>0.0</td>\n",
       "      <td>...</td>\n",
       "      <td>False</td>\n",
       "      <td>False</td>\n",
       "      <td>False</td>\n",
       "      <td>False</td>\n",
       "      <td>False</td>\n",
       "      <td>False</td>\n",
       "      <td>False</td>\n",
       "      <td>False</td>\n",
       "      <td>False</td>\n",
       "      <td>False</td>\n",
       "    </tr>\n",
       "    <tr>\n",
       "      <th>135350</th>\n",
       "      <td>148884</td>\n",
       "      <td>39.879642</td>\n",
       "      <td>-74.923105</td>\n",
       "      <td>1.0</td>\n",
       "      <td>10</td>\n",
       "      <td>0</td>\n",
       "      <td>2.0</td>\n",
       "      <td>0.0</td>\n",
       "      <td>0.0</td>\n",
       "      <td>0.0</td>\n",
       "      <td>...</td>\n",
       "      <td>False</td>\n",
       "      <td>False</td>\n",
       "      <td>False</td>\n",
       "      <td>False</td>\n",
       "      <td>False</td>\n",
       "      <td>False</td>\n",
       "      <td>False</td>\n",
       "      <td>False</td>\n",
       "      <td>False</td>\n",
       "      <td>False</td>\n",
       "    </tr>\n",
       "  </tbody>\n",
       "</table>\n",
       "<p>135351 rows × 2555 columns</p>\n",
       "</div>"
      ],
      "text/plain": [
       "        Unnamed: 0   latitude   longitude  stars  review_count  is_open  \\\n",
       "0                0  34.426679 -119.711197    5.0             7        0   \n",
       "1                1  38.551126  -90.335695    3.0            15        1   \n",
       "2                2  32.223236 -110.880452    3.5            22        0   \n",
       "3                3  39.955505  -75.155564    4.0            80        1   \n",
       "4                4  40.338183  -75.471659    4.5            13        1   \n",
       "...            ...        ...         ...    ...           ...      ...   \n",
       "135346      148880  36.215481  -86.596093    1.0             6        1   \n",
       "135347      148881  39.953546  -75.193064    4.0            11        0   \n",
       "135348      148882  32.134030 -111.000990    1.5            16        1   \n",
       "135349      148883  40.022237  -75.625505    3.0           131        1   \n",
       "135350      148884  39.879642  -74.923105    1.0            10        0   \n",
       "\n",
       "        RestaurantsPriceRange2  garage  street  validated  ...  \\\n",
       "0                          2.0     0.0     0.0        0.0  ...   \n",
       "1                          2.0     0.0     0.0        0.0  ...   \n",
       "2                          2.0     0.0     0.0        0.0  ...   \n",
       "3                          1.0     0.0     1.0        0.0  ...   \n",
       "4                          2.0     0.0     0.0        0.0  ...   \n",
       "...                        ...     ...     ...        ...  ...   \n",
       "135346                     2.0     0.0     0.0        0.0  ...   \n",
       "135347                     2.0     0.0     0.0        0.0  ...   \n",
       "135348                     2.0     0.0     0.0        0.0  ...   \n",
       "135349                     2.0     0.0     0.0        0.0  ...   \n",
       "135350                     2.0     0.0     0.0        0.0  ...   \n",
       "\n",
       "        city_spring hill  city_tampa  city_telford  city_tucson  \\\n",
       "0                  False       False         False        False   \n",
       "1                  False       False         False        False   \n",
       "2                  False       False         False        False   \n",
       "3                  False       False         False        False   \n",
       "4                  False       False         False        False   \n",
       "...                  ...         ...           ...          ...   \n",
       "135346             False       False         False        False   \n",
       "135347             False       False         False        False   \n",
       "135348             False       False         False        False   \n",
       "135349             False       False         False        False   \n",
       "135350             False       False         False        False   \n",
       "\n",
       "        city_wesley chapel  city_wilmington  city_wimauma  city_​Clayton  \\\n",
       "0                    False            False         False          False   \n",
       "1                    False            False         False          False   \n",
       "2                    False            False         False          False   \n",
       "3                    False            False         False          False   \n",
       "4                    False            False         False          False   \n",
       "...                    ...              ...           ...            ...   \n",
       "135346               False            False         False          False   \n",
       "135347               False            False         False          False   \n",
       "135348               False            False         False          False   \n",
       "135349               False            False         False          False   \n",
       "135350               False            False         False          False   \n",
       "\n",
       "        city_​Largo  city_​Lithia  \n",
       "0             False         False  \n",
       "1             False         False  \n",
       "2             False         False  \n",
       "3             False         False  \n",
       "4             False         False  \n",
       "...             ...           ...  \n",
       "135346        False         False  \n",
       "135347        False         False  \n",
       "135348        False         False  \n",
       "135349        False         False  \n",
       "135350        False         False  \n",
       "\n",
       "[135351 rows x 2555 columns]"
      ]
     },
     "execution_count": 4,
     "metadata": {},
     "output_type": "execute_result"
    }
   ],
   "source": [
    "numeric_columns"
   ]
  },
  {
   "cell_type": "code",
   "execution_count": 5,
   "id": "edb28545-d818-45a1-ac0b-734ec25708a1",
   "metadata": {
    "tags": []
   },
   "outputs": [
    {
     "name": "stdout",
     "output_type": "stream",
     "text": [
      "         latitude   longitude  stars  review_count  is_open  \\\n",
      "0       34.426679 -119.711197    5.0             7        0   \n",
      "1       38.551126  -90.335695    3.0            15        1   \n",
      "2       32.223236 -110.880452    3.5            22        0   \n",
      "3       39.955505  -75.155564    4.0            80        1   \n",
      "4       40.338183  -75.471659    4.5            13        1   \n",
      "...           ...         ...    ...           ...      ...   \n",
      "135346  36.215481  -86.596093    1.0             6        1   \n",
      "135347  39.953546  -75.193064    4.0            11        0   \n",
      "135348  32.134030 -111.000990    1.5            16        1   \n",
      "135349  40.022237  -75.625505    3.0           131        1   \n",
      "135350  39.879642  -74.923105    1.0            10        0   \n",
      "\n",
      "        RestaurantsPriceRange2  garage  street  validated  lot  ...  \\\n",
      "0                          2.0     0.0     0.0        0.0  1.0  ...   \n",
      "1                          2.0     0.0     0.0        0.0  1.0  ...   \n",
      "2                          2.0     0.0     0.0        0.0  1.0  ...   \n",
      "3                          1.0     0.0     1.0        0.0  0.0  ...   \n",
      "4                          2.0     0.0     0.0        0.0  1.0  ...   \n",
      "...                        ...     ...     ...        ...  ...  ...   \n",
      "135346                     2.0     0.0     0.0        0.0  1.0  ...   \n",
      "135347                     2.0     0.0     0.0        0.0  1.0  ...   \n",
      "135348                     2.0     0.0     0.0        0.0  1.0  ...   \n",
      "135349                     2.0     0.0     0.0        0.0  0.0  ...   \n",
      "135350                     2.0     0.0     0.0        0.0  0.0  ...   \n",
      "\n",
      "        city_spring hill  city_tampa  city_telford  city_tucson  \\\n",
      "0                  False       False         False        False   \n",
      "1                  False       False         False        False   \n",
      "2                  False       False         False        False   \n",
      "3                  False       False         False        False   \n",
      "4                  False       False         False        False   \n",
      "...                  ...         ...           ...          ...   \n",
      "135346             False       False         False        False   \n",
      "135347             False       False         False        False   \n",
      "135348             False       False         False        False   \n",
      "135349             False       False         False        False   \n",
      "135350             False       False         False        False   \n",
      "\n",
      "        city_wesley chapel  city_wilmington  city_wimauma  city_​Clayton  \\\n",
      "0                    False            False         False          False   \n",
      "1                    False            False         False          False   \n",
      "2                    False            False         False          False   \n",
      "3                    False            False         False          False   \n",
      "4                    False            False         False          False   \n",
      "...                    ...              ...           ...            ...   \n",
      "135346               False            False         False          False   \n",
      "135347               False            False         False          False   \n",
      "135348               False            False         False          False   \n",
      "135349               False            False         False          False   \n",
      "135350               False            False         False          False   \n",
      "\n",
      "        city_​Largo  city_​Lithia  \n",
      "0             False         False  \n",
      "1             False         False  \n",
      "2             False         False  \n",
      "3             False         False  \n",
      "4             False         False  \n",
      "...             ...           ...  \n",
      "135346        False         False  \n",
      "135347        False         False  \n",
      "135348        False         False  \n",
      "135349        False         False  \n",
      "135350        False         False  \n",
      "\n",
      "[135351 rows x 2554 columns]\n"
     ]
    }
   ],
   "source": [
    "# Remove the unnamed index column\n",
    "numeric_columns = numeric_columns.drop(columns=['Unnamed: 0'])\n",
    "\n",
    "# Reset the index\n",
    "numeric_columns.reset_index(drop=True, inplace=True)\n",
    "\n",
    "# Display the modified DataFrame\n",
    "print(numeric_columns)\n"
   ]
  },
  {
   "cell_type": "markdown",
   "id": "881a9fad-7038-4149-9c12-8bf588e02b0e",
   "metadata": {},
   "source": [
    "#### Upsampling due to imbalalance in target variable: is_open"
   ]
  },
  {
   "cell_type": "code",
   "execution_count": 6,
   "id": "d06a3f83-841c-4ad2-b5c5-a071d6e8b467",
   "metadata": {
    "tags": []
   },
   "outputs": [
    {
     "name": "stdout",
     "output_type": "stream",
     "text": [
      "After upsampling:\n",
      "is_open\n",
      "1    106354\n",
      "0    106354\n",
      "Name: count, dtype: int64\n"
     ]
    }
   ],
   "source": [
    "\n",
    "# Separate the majority and minority classes\n",
    "majority_class = numeric_columns[numeric_columns['is_open'] == 1]\n",
    "minority_class = numeric_columns[numeric_columns['is_open'] == 0]\n",
    "\n",
    "# Determine the number of samples in each class\n",
    "num_majority = len(majority_class)\n",
    "num_minority = len(minority_class)\n",
    "\n",
    "# Upsample the minority class by duplicating samples\n",
    "upsampled_minority = minority_class.sample(n=num_majority, replace=True, random_state=42)\n",
    "\n",
    "# Concatenate the upsampled minority class with the original majority class\n",
    "numeric_columns = pd.concat([majority_class, upsampled_minority], axis=0)\n",
    "\n",
    "# Shuffle the dataframe to ensure randomness\n",
    "numeric_columns = numeric_columns.sample(frac=1, random_state=1).reset_index(drop=True)\n",
    "\n",
    "# Check the class distribution after upsampling\n",
    "print(\"After upsampling:\")\n",
    "print(numeric_columns['is_open'].value_counts())\n"
   ]
  },
  {
   "cell_type": "markdown",
   "id": "c024d7d0-2db6-4674-8457-75f843602c61",
   "metadata": {},
   "source": [
    "## Logistic Regression"
   ]
  },
  {
   "cell_type": "code",
   "execution_count": 7,
   "id": "109e8f77-5e76-4fc8-9542-b3b1ea9a7bc8",
   "metadata": {
    "tags": []
   },
   "outputs": [
    {
     "data": {
      "text/plain": [
       "is_open\n",
       "1    106354\n",
       "0    106354\n",
       "Name: count, dtype: int64"
      ]
     },
     "execution_count": 7,
     "metadata": {},
     "output_type": "execute_result"
    }
   ],
   "source": [
    "y = numeric_columns['is_open']  # Target variable\n",
    "X = numeric_columns.drop(columns=['is_open'])  # Features (excluding 'is_open')\n",
    "numeric_columns['is_open'].value_counts()"
   ]
  },
  {
   "cell_type": "code",
   "execution_count": 8,
   "id": "391438fb-0635-4f7b-a4ae-54759b045b01",
   "metadata": {},
   "outputs": [
    {
     "name": "stdout",
     "output_type": "stream",
     "text": [
      "The TRAIN set has 170166 data points.\n",
      "The TEST set has 42542 data points.\n"
     ]
    }
   ],
   "source": [
    "# Split the data into train and test sets\n",
    "X_train, X_test, y_train, y_test = train_test_split(X, y, test_size=0.2, random_state=1, stratify=y)\n",
    "\n",
    "# Print info on how the data has been split\n",
    "print(f'The TRAIN set has {len(X_train)} data points.')\n",
    "print(f'The TEST set has {len(X_test)} data points.')\n",
    "\n",
    "#scale\n",
    "scaler = StandardScaler()\n",
    "scaler.fit(X_train)\n",
    "X_train = scaler.transform(X_train)\n",
    "X_test = scaler.transform(X_test)\n"
   ]
  },
  {
   "cell_type": "code",
   "execution_count": 9,
   "id": "6581cd8d-2fb9-4dae-917a-02241ec6cf27",
   "metadata": {
    "tags": []
   },
   "outputs": [],
   "source": [
    "# The C_values to try\n",
    "C_values = [0.00001, 0.0001, 0.001, 0.01, 0.1, 1, 10, 100, 1000, 10000]\n",
    "\n",
    "#C_values = [0.01]\n",
    "# Empty lists to append the training and test accuracy scores to  \n",
    "train_acc_ss = []\n",
    "test_acc_ss = []\n",
    "\n",
    "# Loop through the same C values \n",
    "for C in C_values:\n",
    "\n",
    "    # Instantiate the model \n",
    "    log_reg=LogisticRegression(C=C, max_iter=1000)\n",
    "\n",
    "    # Fit the model \n",
    "    log_reg.fit(X_train, y_train)\n",
    "\n",
    "    # Score the model \n",
    "    train_acc_ss.append(log_reg.score(X_train, y_train))\n",
    "    test_acc_ss.append(log_reg.score(X_test, y_test))"
   ]
  },
  {
   "cell_type": "code",
   "execution_count": 10,
   "id": "c94b40ed-3fa6-4c26-bbd1-7a9924df6461",
   "metadata": {
    "tags": []
   },
   "outputs": [
    {
     "data": {
      "image/png": "[encoded data removed]",
      "text/plain": [
       "<Figure size 640x480 with 1 Axes>"
      ]
     },
     "metadata": {},
     "output_type": "display_data"
    }
   ],
   "source": [
    "# Find the index of the maximum test accuracy\n",
    "best_index = np.argmax(test_acc_ss)\n",
    "# Find the corresponding best C value\n",
    "best_C = C_values[best_index]\n",
    "\n",
    "# Plotting the train and test scores for every C value \n",
    "plt.figure()\n",
    "plt.plot(C_values, train_acc_ss, c='red', label='train')\n",
    "plt.plot(C_values, test_acc_ss, c='blue', label='test')\n",
    "plt.scatter(best_C, test_acc_ss[best_index], c='green', marker='o', label='Best C')\n",
    "plt.xscale('log')\n",
    "plt.title(\"Logistic regression accuracy vs C value\")\n",
    "plt.ylabel(\"Accuracy\")\n",
    "plt.xlabel(\"C value\")\n",
    "plt.legend()\n",
    "plt.show()\n"
   ]
  },
  {
   "cell_type": "code",
   "execution_count": 12,
   "id": "38882d22-3233-4d26-af5e-3df87a2d3e2f",
   "metadata": {
    "tags": []
   },
   "outputs": [
    {
     "name": "stdout",
     "output_type": "stream",
     "text": [
      "Accuracy: 0.7124488740538761\n"
     ]
    }
   ],
   "source": [
    "\n",
    "#instantiate logistic regression and fit to training data\n",
    "log_reg = LogisticRegression(C=best_C,\n",
    "                  penalty='l2',\n",
    "                  solver='liblinear',\n",
    "                 class_weight='balanced')\n",
    "#fit to training data\n",
    "log_reg.fit(X_train, y_train)\n",
    "\n",
    "#make prediction\n",
    "y_log_reg = log_reg.predict(X_test)\n",
    "\n",
    "#get accuracy\n",
    "accuracy = accuracy_score(y_test, y_log_reg)\n",
    "print(\"Accuracy:\", accuracy)"
   ]
  },
  {
   "cell_type": "code",
   "execution_count": 13,
   "id": "9db8f9bf-a11c-4b7e-92e1-e83b67b4ffe4",
   "metadata": {
    "tags": []
   },
   "outputs": [
    {
     "name": "stdout",
     "output_type": "stream",
     "text": [
      "              precision    recall  f1-score   support\n",
      "\n",
      "           0       0.70      0.75      0.72     21271\n",
      "           1       0.73      0.67      0.70     21271\n",
      "\n",
      "    accuracy                           0.71     42542\n",
      "   macro avg       0.71      0.71      0.71     42542\n",
      "weighted avg       0.71      0.71      0.71     42542\n",
      "\n"
     ]
    }
   ],
   "source": [
    "print(classification_report(y_test, y_log_reg))"
   ]
  },
  {
   "cell_type": "markdown",
   "id": "9eba4513-b0ed-4bd7-b8ae-450ac896458f",
   "metadata": {},
   "source": [
    "Overall, the model demonstrates reasonable performance with an accuracy of 0.71, meaning it correctly predicts around 71% of instances across both classes. While precision scores of 0.69 for class 0 and 0.73 for class 1 indicate a relatively good ability to accurately classify instances for each class, there's a slight imbalance in recall scores, with class 0 achieving 0.75 and class 1 achieving 0.67. The F1-scores, which balance precision and recall, are 0.72 for class 0 and 0.70 for class 1. Despite minor differences in class-specific metrics, the model's performance appears relatively balanced, though further optimization may be beneficial to enhance performance, particularly in capturing instances of class 1."
   ]
  },
  {
   "cell_type": "code",
   "execution_count": 14,
   "id": "bf4142eb-704d-4512-be56-6cf904cebeed",
   "metadata": {
    "tags": []
   },
   "outputs": [
    {
     "data": {
      "text/plain": [
       "array([[15980,  5291],\n",
       "       [ 6942, 14329]])"
      ]
     },
     "execution_count": 14,
     "metadata": {},
     "output_type": "execute_result"
    }
   ],
   "source": [
    "cm=confusion_matrix(y_test, y_log_reg)\n",
    "cm"
   ]
  },
  {
   "cell_type": "code",
   "execution_count": 15,
   "id": "899dc3eb-d486-4f81-8727-c6e4847f02b4",
   "metadata": {
    "tags": []
   },
   "outputs": [
    {
     "data": {
      "image/png": "[encoded data removed]",
      "text/plain": [
       "<Figure size 400x400 with 1 Axes>"
      ]
     },
     "metadata": {},
     "output_type": "display_data"
    }
   ],
   "source": [
    "# Plot confusion matrix\n",
    "plt.figure(figsize=(4, 4))\n",
    "sns.heatmap(cm, annot=True, fmt='d', cmap='Blues', cbar=False)\n",
    "plt.xlabel('Predicted Labels')\n",
    "plt.ylabel('True Labels')\n",
    "plt.title('Confusion Matrix')\n",
    "plt.show()"
   ]
  },
  {
   "cell_type": "code",
   "execution_count": 16,
   "id": "0a739b9a-1c98-411d-b2f6-388278789659",
   "metadata": {},
   "outputs": [
    {
     "data": {
      "image/png": "[encoded data removed]",
      "text/plain": [
       "<Figure size 800x600 with 1 Axes>"
      ]
     },
     "metadata": {},
     "output_type": "display_data"
    }
   ],
   "source": [
    "fpr, tpr, thresholds = roc_curve(y_test, y_log_reg)\n",
    "\n",
    "# Compute AUC score\n",
    "auc_score_logreg = roc_auc_score(y_test, y_log_reg)\n",
    "\n",
    "# Plot ROC curve\n",
    "plt.figure(figsize=(8, 6))\n",
    "plt.plot(fpr, tpr, color='blue', lw=2, label='ROC curve (AUC = %0.2f)' % auc_score_logreg)\n",
    "plt.plot([0, 1], [0, 1], color='red', linestyle='--')\n",
    "plt.xlim([0.0, 1.0])\n",
    "plt.ylim([0.0, 1.05])\n",
    "plt.xlabel('False Positive Rate')\n",
    "plt.ylabel('True Positive Rate')\n",
    "plt.title('Receiver Operating Characteristic (ROC) Curve')\n",
    "plt.legend(loc='lower right')\n",
    "plt.show()\n"
   ]
  },
  {
   "cell_type": "code",
   "execution_count": 17,
   "id": "663deb78-ea30-4644-9ec4-b45b7c4bbfce",
   "metadata": {
    "tags": []
   },
   "outputs": [
    {
     "data": {
      "image/png": "[encoded data removed]",
      "text/plain": [
       "<Figure size 1000x1000 with 1 Axes>"
      ]
     },
     "metadata": {},
     "output_type": "display_data"
    }
   ],
   "source": [
    "# Get feature coefficients\n",
    "coefficients = log_reg.coef_[0]\n",
    "\n",
    "# Get feature names\n",
    "feature_names = X.columns\n",
    "\n",
    "# Sort coefficients and feature names\n",
    "indices = np.argsort(np.abs(coefficients))[::-1]\n",
    "sorted_features = [feature_names[i] for i in indices]\n",
    "sorted_coefficients = coefficients[indices]\n",
    "\n",
    "# Display top 10 features and their coefficients\n",
    "top_sorted_features = sorted_features[:30]\n",
    "top_sorted_coefficients = sorted_coefficients[:30]\n",
    "\n",
    "# Plot bar chart\n",
    "plt.figure(figsize=(10, 10))\n",
    "plt.barh(top_sorted_features, top_sorted_coefficients, color='skyblue')\n",
    "plt.xlabel('Coefficient')\n",
    "plt.ylabel('Feature')\n",
    "plt.title('Top 10 Feature Coefficients')\n",
    "plt.gca().invert_yaxis()  # Invert y-axis to have the most important feature on top\n",
    "plt.show()\n"
   ]
  },
  {
   "cell_type": "markdown",
   "id": "f7dcb962-eaab-45f6-b2b5-3c36a461d6cd",
   "metadata": {},
   "source": [
    "\n",
    "In linear regression, both positive and negative coefficients indicate feature importance. In the provided example, services like public services & government and signmaking have positive coefficients, suggesting they positively impact the target variable. Conversely, features like food and city_New Orleans have negative coefficients, indicating a negative impact on the target. This demonstrates how various features contribute to predicting the outcome in a linear regression model."
   ]
  },
  {
   "cell_type": "markdown",
   "id": "a5f266bd-dee1-4840-9d65-9a631ec8e384",
   "metadata": {},
   "source": [
    "## Decision Tree"
   ]
  },
  {
   "cell_type": "code",
   "execution_count": null,
   "id": "3324a94a-2ccc-4058-936e-5a99c526b615",
   "metadata": {
    "tags": []
   },
   "outputs": [],
   "source": [
    "\n",
    "import time\n",
    "# Record the start time\n",
    "start_time = time.time()\n",
    "\n",
    "\n",
    "# Create a pipeline with PCA and DecisionTreeClassifier\n",
    "estimators = [('normalise', StandardScaler()),\n",
    "              ('reduce_dim', PCA(n_components=20)),\n",
    "              ('model', DecisionTreeClassifier())]\n",
    "\n",
    "pipe = Pipeline(estimators)\n",
    "\n",
    "\n",
    "# Define the parameter grid for hyperparameter tuning\n",
    "# Please observe that the parameter values have been chosen with consideration for a broader search space, \n",
    "# aiming to identify a more refined and optimal parameter set e.g. model__max_depth was [5,10, 15, 20]\n",
    "param_grid = {\n",
    "    'normalise': [None, StandardScaler()],\n",
    "    'reduce_dim__n_components': [20],\n",
    "    'model__max_depth': [8, 9, 10],  \n",
    "    'model__min_samples_leaf': [4, 5, 6]  \n",
    "}\n",
    "# Create GridSearchCV with 5-fold cross-validation\n",
    "grid = GridSearchCV(pipe, param_grid, cv=5)\n",
    "fittedgrid = grid.fit(X_train, y_train)\n",
    "\n",
    "end_time = time.time()\n",
    "elapsed_time = end_time - start_time\n",
    "print(f\"Elapsed Time: {elapsed_time/60} min\")\n",
    "\n",
    "# Print the best parameters\n",
    "print(\"Best Parameters:\", fittedgrid.best_params_)\n"
   ]
  },
  {
   "cell_type": "code",
   "execution_count": null,
   "id": "998b3692-490b-4756-81bc-37f61a528994",
   "metadata": {
    "tags": []
   },
   "outputs": [],
   "source": [
    "\n",
    "# Predict on test data using the best model\n",
    "best_model = fittedgrid.best_estimator_\n",
    "y_pred = best_model.predict(X_test)\n",
    "\n",
    "# Generate confusion matrix\n",
    "cf_matrix = confusion_matrix(y_test, y_pred)\n",
    "\n",
    "# label rows and columns\n",
    "cf_df = pd.DataFrame(\n",
    "    cf_matrix,\n",
    "    columns=[\"Predicted Negative score\", \"Predicted Positive score\"],\n",
    "    index=[\"True Negative score\", \"True Posititve Score\"]\n",
    ")\n",
    "\n",
    "display(cf_df)"
   ]
  },
  {
   "cell_type": "code",
   "execution_count": null,
   "id": "5c80cf59-5099-4b0e-9bd4-db7f103a420e",
   "metadata": {
    "tags": []
   },
   "outputs": [],
   "source": [
    "\n",
    "# Access the best PCA transformer from the pipeline\n",
    "best_pca = fittedgrid.best_estimator_.named_steps['reduce_dim']\n",
    "\n",
    "# Get the explained variance ratios\n",
    "explained_var_ratio = best_pca.explained_variance_ratio_\n",
    "\n",
    "# Cumulative explained variance\n",
    "cumulative_explained_var = np.cumsum(explained_var_ratio)\n",
    "\n",
    "# Print the explained variance for each component and cumulative explained variance for the first 20 components\n",
    "for i in range(20):\n",
    "    print(f\"Component {i + 1}: Explained Variance = {explained_var_ratio[i]:.4f}, Cumulative Explained Variance = {cumulative_explained_var[i]:.4f}\")"
   ]
  },
  {
   "cell_type": "code",
   "execution_count": null,
   "id": "30aa69b2-22cd-411c-adba-c7630dabe62d",
   "metadata": {
    "tags": []
   },
   "outputs": [],
   "source": [
    "\n",
    "# Plot confusion matrix\n",
    "plt.figure(figsize=(4, 4))\n",
    "sns.heatmap(cf_matrix, annot=True, fmt='d', cmap='Blues', cbar=False)\n",
    "plt.xlabel('Predicted Labels')\n",
    "plt.ylabel('True Labels')\n",
    "plt.title('Confusion Matrix')\n",
    "plt.show()\n"
   ]
  },
  {
   "cell_type": "code",
   "execution_count": null,
   "id": "245f8289-0798-4d99-963e-4fd62ea8f3e8",
   "metadata": {
    "tags": []
   },
   "outputs": [],
   "source": [
    "print(f\"Test score: {fittedgrid.score(X_test, y_test)} \")"
   ]
  },
  {
   "cell_type": "code",
   "execution_count": null,
   "id": "20c4b9fb-f773-47e1-8c53-6836474fd0a3",
   "metadata": {
    "tags": []
   },
   "outputs": [],
   "source": [
    "fittedgrid.best_estimator_"
   ]
  },
  {
   "cell_type": "code",
   "execution_count": null,
   "id": "d37500e5-5175-452f-a8f6-963894cbfd91",
   "metadata": {
    "tags": []
   },
   "outputs": [],
   "source": [
    "fittedgrid.cv_results_['mean_test_score']"
   ]
  },
  {
   "cell_type": "code",
   "execution_count": null,
   "id": "09f39fd9-4dd8-441b-abcb-001d714aefe6",
   "metadata": {
    "tags": []
   },
   "outputs": [],
   "source": [
    "\n",
    "# Get classification report\n",
    "class_report = classification_report(y_test, y_pred)\n",
    "\n",
    "# Print classification report\n",
    "print(\"Classification Report:\\n\", class_report)\n",
    "\n"
   ]
  },
  {
   "cell_type": "code",
   "execution_count": null,
   "id": "320d4973-1735-4976-b59f-d648a0f8ce42",
   "metadata": {},
   "outputs": [],
   "source": [
    "\n",
    "fpr, tpr, thresholds = roc_curve(y_test, y_pred)\n",
    "\n",
    "# Compute AUC score\n",
    "auc_score_dt = roc_auc_score(y_test, y_pred)\n",
    "\n",
    "# Plot ROC curve\n",
    "plt.figure(figsize=(8, 6))\n",
    "plt.plot(fpr, tpr, color='blue', lw=2, label='ROC curve (AUC = %0.2f)' % auc_score_dt)\n",
    "plt.plot([0, 1], [0, 1], color='red', linestyle='--')\n",
    "plt.xlim([0.0, 1.0])\n",
    "plt.ylim([0.0, 1.05])\n",
    "plt.xlabel('False Positive Rate')\n",
    "plt.ylabel('True Positive Rate')\n",
    "plt.title('Receiver Operating Characteristic (ROC) Curve')\n",
    "plt.legend(loc='lower right')\n",
    "plt.show()\n"
   ]
  },
  {
   "cell_type": "code",
   "execution_count": null,
   "id": "b1dd3741-a6d5-470e-83d2-b5cb65ac60ae",
   "metadata": {
    "tags": []
   },
   "outputs": [],
   "source": [
    "print(classification_report(y_test, y_pred))"
   ]
  },
  {
   "cell_type": "markdown",
   "id": "4b1f05c3-bfac-42db-8feb-b1b6075bf514",
   "metadata": {},
   "source": [
    "For the decision tree model, the precision is the proportion of true positive predictions out of all positive predictions, which indicates the accuracy of positive predictions. The recall is the proportion of true positive predictions out of all actual positive instances, reflecting the model's ability to find all positive instances. The F1-score is the harmonic mean of precision and recall, providing a balanced measure between the two. In this case, the model achieved an overall accuracy of 73%, with similar precision and recall for both classes. This indicates that the model performs equally well in predicting both classes, with balanced precision and recall, resulting in a harmonized F1-score."
   ]
  },
  {
   "cell_type": "markdown",
   "id": "34033c79-8b42-4867-a919-c582e7eae33e",
   "metadata": {
    "tags": []
   },
   "source": [
    "## XGBoost"
   ]
  },
  {
   "cell_type": "code",
   "execution_count": null,
   "id": "60a950bc-ad27-4ae9-aba2-d757dd564095",
   "metadata": {
    "tags": []
   },
   "outputs": [],
   "source": [
    "xgb_model = xgb.XGBClassifier()\n",
    "\n",
    "pipeline = Pipeline([\n",
    "    ('standard_scaler', StandardScaler()), \n",
    "    ('pca', PCA()), \n",
    "    ('model', xgb_model)\n",
    "])\n",
    "\n",
    "\n",
    "param_grid = {\n",
    "    'pca__n_components': [5, 10, 15, 20, 25, 30],\n",
    "    'model__max_depth': [2, 3, 5, 7, 10],\n",
    "    'model__n_estimators': [100, 200, 300],\n",
    "    'model__subsample': [0.8, 0.9, 1.0],\n",
    "}\n",
    "\n",
    "grid = GridSearchCV(pipeline, param_grid, cv=5, n_jobs=-1, scoring='roc_auc')"
   ]
  },
  {
   "cell_type": "code",
   "execution_count": null,
   "id": "e6b38261-1b11-4ed1-98d6-758156db4549",
   "metadata": {
    "tags": []
   },
   "outputs": [],
   "source": [
    "#%%time\n",
    "\n",
    "grid.fit(X_train, y_train)"
   ]
  },
  {
   "cell_type": "code",
   "execution_count": null,
   "id": "8e30cbbd-e1e1-4875-aac0-a90582794215",
   "metadata": {
    "tags": []
   },
   "outputs": [],
   "source": [
    "mean_score = grid.cv_results_[\"mean_test_score\"][grid.best_index_]\n",
    "std_score = grid.cv_results_[\"std_test_score\"][grid.best_index_]\n",
    "\n",
    "grid.best_params_, mean_score, std_score\n",
    "\n",
    "print(f\"Best parameters: {grid.best_params_}\")\n",
    "print(f\"Mean CV score: {mean_score: .6f}\")\n",
    "print(f\"Standard deviation of CV score: {std_score: .6f}\")"
   ]
  },
  {
   "cell_type": "code",
   "execution_count": null,
   "id": "252188aa-bb71-4cef-b022-7c3f6646bdd9",
   "metadata": {
    "tags": []
   },
   "outputs": [],
   "source": [
    "\n",
    "from sklearn.model_selection import cross_val_score\n",
    "\n",
    "# Initialize the XGBoost classifier using the best parameters\n",
    "best_params = {'max_depth': 10, 'n_estimators': 300, 'subsample': 0.9}\n",
    "xgb_model = xgb.XGBClassifier(**best_params, n_jobs=-1)\n",
    "\n",
    "# Fit the XGBoost classifier on the training data\n",
    "xgb_model.fit(X_train, y_train)\n",
    "\n",
    "# Perform cross-validation to get a more robust estimate of the model's performance\n",
    "cv_scores = cross_val_score(xgb_model,  X_train, y_train, cv=5, scoring='roc_auc')\n",
    "print(\"Cross-Validation Scores:\", cv_scores)\n",
    "print(\"Mean CV Accuracy:\", cv_scores.mean())\n",
    "\n",
    "\n",
    "# Add predictions for the test set\n",
    "xgb_pred = xgb_model.predict(X_test)\n",
    "print(\"Test Predictions:\", xgb_pred)\n",
    "\n",
    "# Evaluate the XGBoost classifier on the validation set\n",
    "val_accuracy = xgb_model.score(X_train, y_train)\n",
    "print(\"Validation accuracy of the best model:\", val_accuracy)\n",
    "\n",
    "# Evaluate the XGBoost classifier on the test set\n",
    "test_accuracy = xgb_model.score(X_test, y_test)\n",
    "print(\"Test accuracy of the best model:\", test_accuracy)\n"
   ]
  },
  {
   "cell_type": "code",
   "execution_count": null,
   "id": "41fb4adb-8fcb-4ba7-89d7-e3e09a9307a0",
   "metadata": {
    "tags": []
   },
   "outputs": [],
   "source": [
    "print(classification_report(y_test, xgb_pred))"
   ]
  },
  {
   "cell_type": "code",
   "execution_count": null,
   "id": "49c7d749-527c-4eb7-b144-ec22b2a9b3cc",
   "metadata": {},
   "outputs": [],
   "source": [
    "cm=confusion_matrix(y_test, xgb_pred)\n",
    "cm\n",
    "# Plot confusion matrix\n",
    "plt.figure(figsize=(4, 4))\n",
    "sns.heatmap(cm, annot=True, fmt='d', cmap='Blues', cbar=False)\n",
    "plt.xlabel('Predicted Labels')\n",
    "plt.ylabel('True Labels')\n",
    "plt.title('Confusion Matrix')\n",
    "plt.show()"
   ]
  },
  {
   "cell_type": "code",
   "execution_count": null,
   "id": "e57c25d2-2027-4475-9310-b304a864890f",
   "metadata": {
    "tags": []
   },
   "outputs": [],
   "source": [
    "fpr, tpr, thresholds = roc_curve(y_test, xgb_pred)\n",
    "\n",
    "# Compute AUC score\n",
    "auc_score_xgb = roc_auc_score(y_test, xgb_pred)\n",
    "\n",
    "# Plot ROC curve\n",
    "plt.figure(figsize=(8, 6))\n",
    "plt.plot(fpr, tpr, color='blue', lw=2, label='ROC curve (AUC = %0.2f)' % auc_score_xgb)\n",
    "plt.plot([0, 1], [0, 1], color='red', linestyle='--')\n",
    "plt.xlim([0.0, 1.0])\n",
    "plt.ylim([0.0, 1.05])\n",
    "plt.xlabel('False Positive Rate')\n",
    "plt.ylabel('True Positive Rate')\n",
    "plt.title('Receiver Operating Characteristic (ROC) Curve')\n",
    "plt.legend(loc='lower right')\n",
    "plt.show()\n"
   ]
  },
  {
   "cell_type": "code",
   "execution_count": null,
   "id": "7d7c1ab3-f085-4076-8ad5-73b342ee67e9",
   "metadata": {
    "tags": []
   },
   "outputs": [],
   "source": [
    "\n",
    "from sklearn.metrics import roc_curve, roc_auc_score\n",
    "\n",
    "# Plot ROC curves for all models\n",
    "plt.figure(figsize=(8, 6))\n",
    "\n",
    "# Plot ROC curve for XGBoost\n",
    "auc_score_xgb = roc_auc_score(y_test, xgb_pred)\n",
    "fpr_xgb, tpr_xgb, _ = roc_curve(y_test, xgb_pred)\n",
    "plt.plot(fpr_xgb, tpr_xgb, color='blue', lw=2, label='XGBoost (AUC = %0.2f)' % auc_score_xgb)\n",
    "\n",
    "# Plot ROC curve for another model (assuming y_pred corresponds to another model)\n",
    "auc_score_dt = roc_auc_score(y_test, y_pred)\n",
    "fpr_dt, tpr_dt, _ = roc_curve(y_test, y_pred)\n",
    "plt.plot(fpr_dt, tpr_dt, color='green', lw=2, label='Decision Tree (AUC = %0.2f)' % auc_score_dt)\n",
    "\n",
    "# Plot ROC curve for Logistic Regression (assuming y_log_reg corresponds to logistic regression predictions)\n",
    "auc_score_logreg = roc_auc_score(y_test, y_log_reg)\n",
    "fpr_logreg, tpr_logreg, _ = roc_curve(y_test, y_log_reg)\n",
    "plt.plot(fpr_logreg, tpr_logreg, color='orange', lw=2, label='Logistic Regression (AUC = %0.2f)' % auc_score_logreg)\n",
    "\n",
    "# Plotting the diagonal line (random classifier)\n",
    "plt.plot([0, 1], [0, 1], color='red', linestyle='--')\n",
    "\n",
    "# Setting plot limits and labels\n",
    "plt.xlim([0.0, 1.0])\n",
    "plt.ylim([0.0, 1.05])\n",
    "plt.xlabel('False Positive Rate')\n",
    "plt.ylabel('True Positive Rate')\n",
    "plt.title('Receiver Operating Characteristic (ROC) Curve')\n",
    "plt.legend(loc='lower right')\n",
    "plt.show()\n"
   ]
  },
  {
   "cell_type": "markdown",
   "id": "00d9a9f8-1c23-48c3-86cc-8daf983c5766",
   "metadata": {},
   "source": [
    "\n",
    "Sharp curves in ROC plots suggest models with high discriminative power, indicating effective class separation and accurate predictions. This is often observed in well-trained models with informative features and balanced datasets, leading to clear distinctions between positive and negative instances. "
   ]
  },
  {
   "cell_type": "code",
   "execution_count": null,
   "id": "7192c485-4e3c-400f-8183-ff234fb303e7",
   "metadata": {
    "tags": []
   },
   "outputs": [],
   "source": [
    "# Get feature importance\n",
    "feature_importance = xgb_model.feature_importances_\n",
    "\n",
    "# Sort the feature importance scores to identify the most important features\n",
    "indices = np.argsort(feature_importance)[::-1]\n",
    "sorted_features = [feature_names[i] for i in indices]\n",
    "sorted_importance = feature_importance[indices]\n",
    "\n",
    "# Display the top 50 features and their importance scores\n",
    "top_sorted_features = sorted_features[:50]\n",
    "top_sorted_importance = sorted_importance[:50]\n",
    "\n",
    "# Print the top 50 features and their importance scores\n",
    "print(\"Top 50 features:\")\n",
    "for i, (feature, importance) in enumerate(zip(top_sorted_features, top_sorted_importance)):\n",
    "    print(f\"{i + 1}. {feature}: {importance:.5f}\")\n"
   ]
  },
  {
   "cell_type": "code",
   "execution_count": null,
   "id": "2b69ad46-13fc-41a7-9210-8d26fe60d993",
   "metadata": {
    "tags": []
   },
   "outputs": [],
   "source": [
    "\n",
    "\n",
    "# Sort the feature importances and feature names\n",
    "indices = np.argsort(feature_importance)[::-1]\n",
    "sorted_feature = [feature_names[i] for i in indices]\n",
    "sorted_importance = feature_importance[indices]\n",
    "\n",
    "# Slice the top 20 features and their importances\n",
    "top_features = sorted_feature[:20]\n",
    "top_importances = sorted_importance[:20]\n",
    "\n",
    "# Plot the top 20 features and their importances\n",
    "plt.figure(figsize=(10, 8))\n",
    "plt.barh(range(len(top_features)), top_importances, align='center')\n",
    "plt.yticks(range(len(top_features)), top_features)\n",
    "plt.xlabel('Feature Importance')\n",
    "plt.ylabel('Feature')\n",
    "plt.title('Top 20 Feature Importances (XGBoost)')\n",
    "plt.show()\n"
   ]
  },
  {
   "cell_type": "markdown",
   "id": "948ab978-f89b-4de3-8edd-5f29783a34e6",
   "metadata": {},
   "source": [
    "Features like \"fast food,\" \"restaurant,\" or \"automotive\" can significantly influence predictions of business success or failure. However, their impact can vary, showing both positive and negative correlations. Identifying these relationships through methods like logistic regression is crucial for accurate prediction and decision-making in business analysis.\n",
    "<br><br>\n",
    "Despite being negatively correlated in linear regression, \"restaurant\" can still be an essential feature in determining the success or failure of a business. This suggests that while restaurant may have a negative coefficient in the model, they remain influential in predicting business outcomes, highlighting the complexity of their impact within the broader context of the analysis.\n",
    "\n",
    "\n"
   ]
  },
  {
   "cell_type": "markdown",
   "id": "3ae20ba6-4774-4858-8513-a7e0f11bf008",
   "metadata": {},
   "source": [
    "XGBoost, being a tree-based ensemble method, doesn't inherently provide negative feature importances. Instead, it offers feature importances that represent the relative importance of features in making predictions, but these values are not inherently positive or negative.\n"
   ]
  },
  {
   "cell_type": "markdown",
   "id": "687b2c0b-a5c9-4543-8da6-4bcfffc01f3c",
   "metadata": {},
   "source": [
    "In conclusion, our project focused on predicting the success or failure of businesses, leveraging a range of features to build a predictive model. By meticulously analyzing various aspects such as review counts, geographical locations, and business categories, we developed a logistic regression model capable of forecasting business outcomes with notable accuracy. Through extensive data preprocessing and feature engineering, we identified critical factors influencing business success, enabling us to construct a robust predictive framework. The model's performance, validated through rigorous evaluation techniques including hyperparameter tuning and confusion matrix analysis, underscores its effectiveness in anticipating business outcomes.\n",
    "\n",
    "In essence, our project underscores the significance of data-driven methodologies in forecasting business success or failure. By harnessing advanced analytics techniques and machine learning algorithms, we've laid the groundwork for informed decision-making and strategic planning in diverse business contexts. Moving forward, our predictive model holds the potential to empower stakeholders with actionable insights, enabling them to navigate the complexities of the business landscape and optimize outcomes for sustained success."
   ]
  },
  {
   "cell_type": "markdown",
   "id": "d11ec1a1-a2b5-4e12-8732-bd85e4ddc01f",
   "metadata": {},
   "source": [
    "Thank you!"
   ]
  }
 ],
 "metadata": {
  "kernelspec": {
   "display_name": "Python 3 (ipykernel)",
   "language": "python",
   "name": "python3"
  },
  "language_info": {
   "codemirror_mode": {
    "name": "ipython",
    "version": 3
   },
   "file_extension": ".py",
   "mimetype": "text/x-python",
   "name": "python",
   "nbconvert_exporter": "python",
   "pygments_lexer": "ipython3",
   "version": "3.11.5"
  }
 },
 "nbformat": 4,
 "nbformat_minor": 5
}
