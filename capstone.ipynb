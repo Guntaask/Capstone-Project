{
 "cells": [
  {
   "cell_type": "markdown",
   "id": "ddf55d85-2fde-4cd7-ae0a-48f6c61a3c6e",
   "metadata": {},
   "source": [
    "### Capstone Project"
   ]
  },
  {
   "cell_type": "markdown",
   "id": "c9be88d5-7e4a-4a20-9cb1-ea53f5bb2feb",
   "metadata": {},
   "source": [
    "##### Author: Guntaas Kaur\n",
    "##### Contact: guntaaskaur1@gmail.com\n",
    "##### Date: 22-02-2024"
   ]
  },
  {
   "cell_type": "markdown",
   "id": "e46f0567-6702-44bd-9e90-0ca95d604923",
   "metadata": {},
   "source": [
    "## Introduction\n",
    "<b>Predicting Small Businesses Success & Failure </b><br>\n",
    "Understanding the Reasons Behind Small Business Failures and Leveraging Machine Learning for Enhanced Success"
   ]
  },
  {
   "cell_type": "markdown",
   "id": "7493187a-b4d0-448d-ba11-60996c40375e",
   "metadata": {},
   "source": [
    "Data Dictionary\n",
    "\n",
    "Businesses:\n",
    "\n",
    "Business ID: Unique identifier for each business.\n",
    "Name: Name of the business.\n",
    "Address: Address of the business.\n",
    "City: The city where the business is located.\n",
    "State: State where the business is located.\n",
    "Postal Code: Postal code of the business.\n",
    "Latitude: Latitude coordinates of the business location.\n",
    "Longitude: Longitude coordinate of the business location.\n",
    "Stars: Average rating of the business.\n",
    "Review Count: Number of reviews the business has received.\n",
    "Is Open: Indicates if the business is currently open (1 for open, 0 for closed).\n",
    "Attributes: Additional attributes or features of the business.\n",
    "Categories: Categories or types of services offered by the business.\n",
    "Hours: Operating hours of the business.\n",
    "\n",
    "\n",
    "\n",
    "Reviews:\n",
    "\n",
    "Review ID: Unique identifier for each review.\n",
    "User ID: Unique identifier for the user who wrote the review.\n",
    "Business ID: Unique identifier for the business being reviewed.\n",
    "Stars: Rating given by the user (1 to 5 stars).\n",
    "Text: The text content of the review.\n",
    "Date: The date when the review was written.\n",
    "\n",
    "Users:\n",
    "\n",
    "User ID: Unique identifier for each user.\n",
    "Name: User's name.\n",
    "Review Count: Number of reviews written by the user.\n",
    "Average Stars: Average rating given by the user.\n",
    "Yelper Since: Date when the user joined Yelp.\n",
    "\n",
    "Tips:\n",
    "\n",
    "User ID: Unique identifier for the user who wrote the tip.\n",
    "Business ID: Unique identifier for the business the tip is about.\n",
    "Text: The text content of the tip.\n",
    "Date: The date when the tip was written.\n",
    "\n"
   ]
  },
  {
   "cell_type": "markdown",
   "id": "be5e1e0d-90f7-467e-9b79-9428a1e7343c",
   "metadata": {},
   "source": [
    "---\n",
    "### <a id=\"BasicAnalysis\"> Part 1 Basic Analysis</a>\n",
    "---"
   ]
  },
  {
   "cell_type": "code",
   "execution_count": 41,
   "id": "41679304-78ce-41b9-9b34-0cd501160789",
   "metadata": {
    "tags": []
   },
   "outputs": [],
   "source": [
    "#importing required libraries\n",
    "import seaborn as sns\n",
    "import numpy as np\n",
    "import matplotlib.pyplot as plt\n",
    "import pandas as pd"
   ]
  },
  {
   "cell_type": "code",
   "execution_count": 2,
   "id": "b6e5d43e-3d6a-4561-bdb3-be9cb62a9e24",
   "metadata": {
    "tags": []
   },
   "outputs": [],
   "source": [
    "df_business=pd.read_json('data/yelp_academic_dataset_business.json', lines=True)"
   ]
  },
  {
   "cell_type": "code",
   "execution_count": 3,
   "id": "0a073149-6721-47c3-8386-c3b09e140716",
   "metadata": {
    "tags": []
   },
   "outputs": [
    {
     "data": {
      "text/html": [
       "<div>\n",
       "<style scoped>\n",
       "    .dataframe tbody tr th:only-of-type {\n",
       "        vertical-align: middle;\n",
       "    }\n",
       "\n",
       "    .dataframe tbody tr th {\n",
       "        vertical-align: top;\n",
       "    }\n",
       "\n",
       "    .dataframe thead th {\n",
       "        text-align: right;\n",
       "    }\n",
       "</style>\n",
       "<table border=\"1\" class=\"dataframe\">\n",
       "  <thead>\n",
       "    <tr style=\"text-align: right;\">\n",
       "      <th></th>\n",
       "      <th>business_id</th>\n",
       "      <th>name</th>\n",
       "      <th>address</th>\n",
       "      <th>city</th>\n",
       "      <th>state</th>\n",
       "      <th>postal_code</th>\n",
       "      <th>latitude</th>\n",
       "      <th>longitude</th>\n",
       "      <th>stars</th>\n",
       "      <th>review_count</th>\n",
       "      <th>is_open</th>\n",
       "      <th>attributes</th>\n",
       "      <th>categories</th>\n",
       "      <th>hours</th>\n",
       "    </tr>\n",
       "  </thead>\n",
       "  <tbody>\n",
       "    <tr>\n",
       "      <th>0</th>\n",
       "      <td>Pns2l4eNsfO8kk83dixA6A</td>\n",
       "      <td>Abby Rappoport, LAC, CMQ</td>\n",
       "      <td>1616 Chapala St, Ste 2</td>\n",
       "      <td>Santa Barbara</td>\n",
       "      <td>CA</td>\n",
       "      <td>93101</td>\n",
       "      <td>34.426679</td>\n",
       "      <td>-119.711197</td>\n",
       "      <td>5.0</td>\n",
       "      <td>7</td>\n",
       "      <td>0</td>\n",
       "      <td>{'ByAppointmentOnly': 'True'}</td>\n",
       "      <td>Doctors, Traditional Chinese Medicine, Naturop...</td>\n",
       "      <td>None</td>\n",
       "    </tr>\n",
       "    <tr>\n",
       "      <th>1</th>\n",
       "      <td>mpf3x-BjTdTEA3yCZrAYPw</td>\n",
       "      <td>The UPS Store</td>\n",
       "      <td>87 Grasso Plaza Shopping Center</td>\n",
       "      <td>Affton</td>\n",
       "      <td>MO</td>\n",
       "      <td>63123</td>\n",
       "      <td>38.551126</td>\n",
       "      <td>-90.335695</td>\n",
       "      <td>3.0</td>\n",
       "      <td>15</td>\n",
       "      <td>1</td>\n",
       "      <td>{'BusinessAcceptsCreditCards': 'True'}</td>\n",
       "      <td>Shipping Centers, Local Services, Notaries, Ma...</td>\n",
       "      <td>{'Monday': '0:0-0:0', 'Tuesday': '8:0-18:30', ...</td>\n",
       "    </tr>\n",
       "    <tr>\n",
       "      <th>2</th>\n",
       "      <td>tUFrWirKiKi_TAnsVWINQQ</td>\n",
       "      <td>Target</td>\n",
       "      <td>5255 E Broadway Blvd</td>\n",
       "      <td>Tucson</td>\n",
       "      <td>AZ</td>\n",
       "      <td>85711</td>\n",
       "      <td>32.223236</td>\n",
       "      <td>-110.880452</td>\n",
       "      <td>3.5</td>\n",
       "      <td>22</td>\n",
       "      <td>0</td>\n",
       "      <td>{'BikeParking': 'True', 'BusinessAcceptsCredit...</td>\n",
       "      <td>Department Stores, Shopping, Fashion, Home &amp; G...</td>\n",
       "      <td>{'Monday': '8:0-22:0', 'Tuesday': '8:0-22:0', ...</td>\n",
       "    </tr>\n",
       "    <tr>\n",
       "      <th>3</th>\n",
       "      <td>MTSW4McQd7CbVtyjqoe9mw</td>\n",
       "      <td>St Honore Pastries</td>\n",
       "      <td>935 Race St</td>\n",
       "      <td>Philadelphia</td>\n",
       "      <td>PA</td>\n",
       "      <td>19107</td>\n",
       "      <td>39.955505</td>\n",
       "      <td>-75.155564</td>\n",
       "      <td>4.0</td>\n",
       "      <td>80</td>\n",
       "      <td>1</td>\n",
       "      <td>{'RestaurantsDelivery': 'False', 'OutdoorSeati...</td>\n",
       "      <td>Restaurants, Food, Bubble Tea, Coffee &amp; Tea, B...</td>\n",
       "      <td>{'Monday': '7:0-20:0', 'Tuesday': '7:0-20:0', ...</td>\n",
       "    </tr>\n",
       "    <tr>\n",
       "      <th>4</th>\n",
       "      <td>mWMc6_wTdE0EUBKIGXDVfA</td>\n",
       "      <td>Perkiomen Valley Brewery</td>\n",
       "      <td>101 Walnut St</td>\n",
       "      <td>Green Lane</td>\n",
       "      <td>PA</td>\n",
       "      <td>18054</td>\n",
       "      <td>40.338183</td>\n",
       "      <td>-75.471659</td>\n",
       "      <td>4.5</td>\n",
       "      <td>13</td>\n",
       "      <td>1</td>\n",
       "      <td>{'BusinessAcceptsCreditCards': 'True', 'Wheelc...</td>\n",
       "      <td>Brewpubs, Breweries, Food</td>\n",
       "      <td>{'Wednesday': '14:0-22:0', 'Thursday': '16:0-2...</td>\n",
       "    </tr>\n",
       "    <tr>\n",
       "      <th>...</th>\n",
       "      <td>...</td>\n",
       "      <td>...</td>\n",
       "      <td>...</td>\n",
       "      <td>...</td>\n",
       "      <td>...</td>\n",
       "      <td>...</td>\n",
       "      <td>...</td>\n",
       "      <td>...</td>\n",
       "      <td>...</td>\n",
       "      <td>...</td>\n",
       "      <td>...</td>\n",
       "      <td>...</td>\n",
       "      <td>...</td>\n",
       "      <td>...</td>\n",
       "    </tr>\n",
       "    <tr>\n",
       "      <th>150341</th>\n",
       "      <td>IUQopTMmYQG-qRtBk-8QnA</td>\n",
       "      <td>Binh's Nails</td>\n",
       "      <td>3388 Gateway Blvd</td>\n",
       "      <td>Edmonton</td>\n",
       "      <td>AB</td>\n",
       "      <td>T6J 5H2</td>\n",
       "      <td>53.468419</td>\n",
       "      <td>-113.492054</td>\n",
       "      <td>3.0</td>\n",
       "      <td>13</td>\n",
       "      <td>1</td>\n",
       "      <td>{'ByAppointmentOnly': 'False', 'RestaurantsPri...</td>\n",
       "      <td>Nail Salons, Beauty &amp; Spas</td>\n",
       "      <td>{'Monday': '10:0-19:30', 'Tuesday': '10:0-19:3...</td>\n",
       "    </tr>\n",
       "    <tr>\n",
       "      <th>150342</th>\n",
       "      <td>c8GjPIOTGVmIemT7j5_SyQ</td>\n",
       "      <td>Wild Birds Unlimited</td>\n",
       "      <td>2813 Bransford Ave</td>\n",
       "      <td>Nashville</td>\n",
       "      <td>TN</td>\n",
       "      <td>37204</td>\n",
       "      <td>36.115118</td>\n",
       "      <td>-86.766925</td>\n",
       "      <td>4.0</td>\n",
       "      <td>5</td>\n",
       "      <td>1</td>\n",
       "      <td>{'BusinessAcceptsCreditCards': 'True', 'Restau...</td>\n",
       "      <td>Pets, Nurseries &amp; Gardening, Pet Stores, Hobby...</td>\n",
       "      <td>{'Monday': '9:30-17:30', 'Tuesday': '9:30-17:3...</td>\n",
       "    </tr>\n",
       "    <tr>\n",
       "      <th>150343</th>\n",
       "      <td>_QAMST-NrQobXduilWEqSw</td>\n",
       "      <td>Claire's Boutique</td>\n",
       "      <td>6020 E 82nd St, Ste 46</td>\n",
       "      <td>Indianapolis</td>\n",
       "      <td>IN</td>\n",
       "      <td>46250</td>\n",
       "      <td>39.908707</td>\n",
       "      <td>-86.065088</td>\n",
       "      <td>3.5</td>\n",
       "      <td>8</td>\n",
       "      <td>1</td>\n",
       "      <td>{'RestaurantsPriceRange2': '1', 'BusinessAccep...</td>\n",
       "      <td>Shopping, Jewelry, Piercing, Toy Stores, Beaut...</td>\n",
       "      <td>None</td>\n",
       "    </tr>\n",
       "    <tr>\n",
       "      <th>150344</th>\n",
       "      <td>mtGm22y5c2UHNXDFAjaPNw</td>\n",
       "      <td>Cyclery &amp; Fitness Center</td>\n",
       "      <td>2472 Troy Rd</td>\n",
       "      <td>Edwardsville</td>\n",
       "      <td>IL</td>\n",
       "      <td>62025</td>\n",
       "      <td>38.782351</td>\n",
       "      <td>-89.950558</td>\n",
       "      <td>4.0</td>\n",
       "      <td>24</td>\n",
       "      <td>1</td>\n",
       "      <td>{'BusinessParking': '{'garage': False, 'street...</td>\n",
       "      <td>Fitness/Exercise Equipment, Eyewear &amp; Optician...</td>\n",
       "      <td>{'Monday': '9:0-20:0', 'Tuesday': '9:0-20:0', ...</td>\n",
       "    </tr>\n",
       "    <tr>\n",
       "      <th>150345</th>\n",
       "      <td>jV_XOycEzSlTx-65W906pg</td>\n",
       "      <td>Sic Ink</td>\n",
       "      <td>238 Apollo Beach Blvd</td>\n",
       "      <td>Apollo beach</td>\n",
       "      <td>FL</td>\n",
       "      <td>33572</td>\n",
       "      <td>27.771002</td>\n",
       "      <td>-82.394910</td>\n",
       "      <td>4.5</td>\n",
       "      <td>9</td>\n",
       "      <td>1</td>\n",
       "      <td>{'WheelchairAccessible': 'True', 'BusinessAcce...</td>\n",
       "      <td>Beauty &amp; Spas, Permanent Makeup, Piercing, Tattoo</td>\n",
       "      <td>{'Tuesday': '12:0-19:0', 'Wednesday': '12:0-19...</td>\n",
       "    </tr>\n",
       "  </tbody>\n",
       "</table>\n",
       "<p>150346 rows × 14 columns</p>\n",
       "</div>"
      ],
      "text/plain": [
       "                   business_id                      name  \\\n",
       "0       Pns2l4eNsfO8kk83dixA6A  Abby Rappoport, LAC, CMQ   \n",
       "1       mpf3x-BjTdTEA3yCZrAYPw             The UPS Store   \n",
       "2       tUFrWirKiKi_TAnsVWINQQ                    Target   \n",
       "3       MTSW4McQd7CbVtyjqoe9mw        St Honore Pastries   \n",
       "4       mWMc6_wTdE0EUBKIGXDVfA  Perkiomen Valley Brewery   \n",
       "...                        ...                       ...   \n",
       "150341  IUQopTMmYQG-qRtBk-8QnA              Binh's Nails   \n",
       "150342  c8GjPIOTGVmIemT7j5_SyQ      Wild Birds Unlimited   \n",
       "150343  _QAMST-NrQobXduilWEqSw         Claire's Boutique   \n",
       "150344  mtGm22y5c2UHNXDFAjaPNw  Cyclery & Fitness Center   \n",
       "150345  jV_XOycEzSlTx-65W906pg                   Sic Ink   \n",
       "\n",
       "                                address           city state postal_code  \\\n",
       "0                1616 Chapala St, Ste 2  Santa Barbara    CA       93101   \n",
       "1       87 Grasso Plaza Shopping Center         Affton    MO       63123   \n",
       "2                  5255 E Broadway Blvd         Tucson    AZ       85711   \n",
       "3                           935 Race St   Philadelphia    PA       19107   \n",
       "4                         101 Walnut St     Green Lane    PA       18054   \n",
       "...                                 ...            ...   ...         ...   \n",
       "150341                3388 Gateway Blvd       Edmonton    AB     T6J 5H2   \n",
       "150342               2813 Bransford Ave      Nashville    TN       37204   \n",
       "150343           6020 E 82nd St, Ste 46   Indianapolis    IN       46250   \n",
       "150344                     2472 Troy Rd   Edwardsville    IL       62025   \n",
       "150345            238 Apollo Beach Blvd   Apollo beach    FL       33572   \n",
       "\n",
       "         latitude   longitude  stars  review_count  is_open  \\\n",
       "0       34.426679 -119.711197    5.0             7        0   \n",
       "1       38.551126  -90.335695    3.0            15        1   \n",
       "2       32.223236 -110.880452    3.5            22        0   \n",
       "3       39.955505  -75.155564    4.0            80        1   \n",
       "4       40.338183  -75.471659    4.5            13        1   \n",
       "...           ...         ...    ...           ...      ...   \n",
       "150341  53.468419 -113.492054    3.0            13        1   \n",
       "150342  36.115118  -86.766925    4.0             5        1   \n",
       "150343  39.908707  -86.065088    3.5             8        1   \n",
       "150344  38.782351  -89.950558    4.0            24        1   \n",
       "150345  27.771002  -82.394910    4.5             9        1   \n",
       "\n",
       "                                               attributes  \\\n",
       "0                           {'ByAppointmentOnly': 'True'}   \n",
       "1                  {'BusinessAcceptsCreditCards': 'True'}   \n",
       "2       {'BikeParking': 'True', 'BusinessAcceptsCredit...   \n",
       "3       {'RestaurantsDelivery': 'False', 'OutdoorSeati...   \n",
       "4       {'BusinessAcceptsCreditCards': 'True', 'Wheelc...   \n",
       "...                                                   ...   \n",
       "150341  {'ByAppointmentOnly': 'False', 'RestaurantsPri...   \n",
       "150342  {'BusinessAcceptsCreditCards': 'True', 'Restau...   \n",
       "150343  {'RestaurantsPriceRange2': '1', 'BusinessAccep...   \n",
       "150344  {'BusinessParking': '{'garage': False, 'street...   \n",
       "150345  {'WheelchairAccessible': 'True', 'BusinessAcce...   \n",
       "\n",
       "                                               categories  \\\n",
       "0       Doctors, Traditional Chinese Medicine, Naturop...   \n",
       "1       Shipping Centers, Local Services, Notaries, Ma...   \n",
       "2       Department Stores, Shopping, Fashion, Home & G...   \n",
       "3       Restaurants, Food, Bubble Tea, Coffee & Tea, B...   \n",
       "4                               Brewpubs, Breweries, Food   \n",
       "...                                                   ...   \n",
       "150341                         Nail Salons, Beauty & Spas   \n",
       "150342  Pets, Nurseries & Gardening, Pet Stores, Hobby...   \n",
       "150343  Shopping, Jewelry, Piercing, Toy Stores, Beaut...   \n",
       "150344  Fitness/Exercise Equipment, Eyewear & Optician...   \n",
       "150345  Beauty & Spas, Permanent Makeup, Piercing, Tattoo   \n",
       "\n",
       "                                                    hours  \n",
       "0                                                    None  \n",
       "1       {'Monday': '0:0-0:0', 'Tuesday': '8:0-18:30', ...  \n",
       "2       {'Monday': '8:0-22:0', 'Tuesday': '8:0-22:0', ...  \n",
       "3       {'Monday': '7:0-20:0', 'Tuesday': '7:0-20:0', ...  \n",
       "4       {'Wednesday': '14:0-22:0', 'Thursday': '16:0-2...  \n",
       "...                                                   ...  \n",
       "150341  {'Monday': '10:0-19:30', 'Tuesday': '10:0-19:3...  \n",
       "150342  {'Monday': '9:30-17:30', 'Tuesday': '9:30-17:3...  \n",
       "150343                                               None  \n",
       "150344  {'Monday': '9:0-20:0', 'Tuesday': '9:0-20:0', ...  \n",
       "150345  {'Tuesday': '12:0-19:0', 'Wednesday': '12:0-19...  \n",
       "\n",
       "[150346 rows x 14 columns]"
      ]
     },
     "execution_count": 3,
     "metadata": {},
     "output_type": "execute_result"
    }
   ],
   "source": [
    "df_business"
   ]
  },
  {
   "cell_type": "code",
   "execution_count": 4,
   "id": "81ec76c7-784e-41a8-bed2-26793d61e478",
   "metadata": {
    "tags": []
   },
   "outputs": [
    {
     "data": {
      "text/plain": [
       "(150346, 14)"
      ]
     },
     "execution_count": 4,
     "metadata": {},
     "output_type": "execute_result"
    }
   ],
   "source": [
    "df_business.shape"
   ]
  },
  {
   "cell_type": "code",
   "execution_count": 5,
   "id": "ad46b19a-e6b9-43d8-aec7-2fda1ddad0c5",
   "metadata": {
    "tags": []
   },
   "outputs": [
    {
     "name": "stdout",
     "output_type": "stream",
     "text": [
      "<class 'pandas.core.frame.DataFrame'>\n",
      "RangeIndex: 150346 entries, 0 to 150345\n",
      "Data columns (total 14 columns):\n",
      " #   Column        Non-Null Count   Dtype  \n",
      "---  ------        --------------   -----  \n",
      " 0   business_id   150346 non-null  object \n",
      " 1   name          150346 non-null  object \n",
      " 2   address       150346 non-null  object \n",
      " 3   city          150346 non-null  object \n",
      " 4   state         150346 non-null  object \n",
      " 5   postal_code   150346 non-null  object \n",
      " 6   latitude      150346 non-null  float64\n",
      " 7   longitude     150346 non-null  float64\n",
      " 8   stars         150346 non-null  float64\n",
      " 9   review_count  150346 non-null  int64  \n",
      " 10  is_open       150346 non-null  int64  \n",
      " 11  attributes    136602 non-null  object \n",
      " 12  categories    150243 non-null  object \n",
      " 13  hours         127123 non-null  object \n",
      "dtypes: float64(3), int64(2), object(9)\n",
      "memory usage: 16.1+ MB\n"
     ]
    }
   ],
   "source": [
    "df_business.info()"
   ]
  },
  {
   "cell_type": "markdown",
   "id": "ae53fd4e-9103-46dc-89ba-7345b4a97b9a",
   "metadata": {},
   "source": [
    "<b>Flattening Nested Structures:</b>\n",
    "The dataset contains nested dictionaries and JSON-like structures, had to flatten them into string representations to create flat feature vectors suitable for modeling.\n",
    "First, we will convert hours to string then extract day and time, later we will convert time to timestamp."
   ]
  },
  {
   "cell_type": "code",
   "execution_count": 6,
   "id": "c3188e10-b844-4c2f-8188-761078f48524",
   "metadata": {
    "tags": []
   },
   "outputs": [
    {
     "data": {
      "text/plain": [
       "0                                                      None\n",
       "1         {'Monday': '0:0-0:0', 'Tuesday': '8:0-18:30', ...\n",
       "2         {'Monday': '8:0-22:0', 'Tuesday': '8:0-22:0', ...\n",
       "3         {'Monday': '7:0-20:0', 'Tuesday': '7:0-20:0', ...\n",
       "4         {'Wednesday': '14:0-22:0', 'Thursday': '16:0-2...\n",
       "                                ...                        \n",
       "150341    {'Monday': '10:0-19:30', 'Tuesday': '10:0-19:3...\n",
       "150342    {'Monday': '9:30-17:30', 'Tuesday': '9:30-17:3...\n",
       "150343                                                 None\n",
       "150344    {'Monday': '9:0-20:0', 'Tuesday': '9:0-20:0', ...\n",
       "150345    {'Tuesday': '12:0-19:0', 'Wednesday': '12:0-19...\n",
       "Name: hours, Length: 150346, dtype: object"
      ]
     },
     "execution_count": 6,
     "metadata": {},
     "output_type": "execute_result"
    }
   ],
   "source": [
    "df_business['hours']"
   ]
  },
  {
   "cell_type": "code",
   "execution_count": 7,
   "id": "1f56b2f1-e691-4123-aed5-fda889a34145",
   "metadata": {
    "tags": []
   },
   "outputs": [
    {
     "name": "stdout",
     "output_type": "stream",
     "text": [
      "business_id                                mpf3x-BjTdTEA3yCZrAYPw\n",
      "name                                                The UPS Store\n",
      "address                           87 Grasso Plaza Shopping Center\n",
      "city                                                       Affton\n",
      "state                                                          MO\n",
      "postal_code                                                 63123\n",
      "latitude                                                38.551126\n",
      "longitude                                              -90.335695\n",
      "stars                                                         3.0\n",
      "review_count                                                   15\n",
      "is_open                                                         1\n",
      "attributes                 {'BusinessAcceptsCreditCards': 'True'}\n",
      "categories      Shipping Centers, Local Services, Notaries, Ma...\n",
      "hours           {'Monday': '0:0-0:0', 'Tuesday': '8:0-18:30', ...\n",
      "Name: 1, dtype: object\n"
     ]
    }
   ],
   "source": [
    "one_row = df_business.iloc[1]\n",
    "\n",
    "# Print the selected row\n",
    "print(one_row)"
   ]
  },
  {
   "cell_type": "code",
   "execution_count": 8,
   "id": "aca25c5b-86db-4973-8bab-f86a792313f6",
   "metadata": {
    "tags": []
   },
   "outputs": [
    {
     "name": "stdout",
     "output_type": "stream",
     "text": [
      "                   business_id                      name  \\\n",
      "0       Pns2l4eNsfO8kk83dixA6A  Abby Rappoport, LAC, CMQ   \n",
      "1       mpf3x-BjTdTEA3yCZrAYPw             The UPS Store   \n",
      "2       tUFrWirKiKi_TAnsVWINQQ                    Target   \n",
      "3       MTSW4McQd7CbVtyjqoe9mw        St Honore Pastries   \n",
      "4       mWMc6_wTdE0EUBKIGXDVfA  Perkiomen Valley Brewery   \n",
      "...                        ...                       ...   \n",
      "150341  IUQopTMmYQG-qRtBk-8QnA              Binh's Nails   \n",
      "150342  c8GjPIOTGVmIemT7j5_SyQ      Wild Birds Unlimited   \n",
      "150343  _QAMST-NrQobXduilWEqSw         Claire's Boutique   \n",
      "150344  mtGm22y5c2UHNXDFAjaPNw  Cyclery & Fitness Center   \n",
      "150345  jV_XOycEzSlTx-65W906pg                   Sic Ink   \n",
      "\n",
      "                                address           city state postal_code  \\\n",
      "0                1616 Chapala St, Ste 2  Santa Barbara    CA       93101   \n",
      "1       87 Grasso Plaza Shopping Center         Affton    MO       63123   \n",
      "2                  5255 E Broadway Blvd         Tucson    AZ       85711   \n",
      "3                           935 Race St   Philadelphia    PA       19107   \n",
      "4                         101 Walnut St     Green Lane    PA       18054   \n",
      "...                                 ...            ...   ...         ...   \n",
      "150341                3388 Gateway Blvd       Edmonton    AB     T6J 5H2   \n",
      "150342               2813 Bransford Ave      Nashville    TN       37204   \n",
      "150343           6020 E 82nd St, Ste 46   Indianapolis    IN       46250   \n",
      "150344                     2472 Troy Rd   Edwardsville    IL       62025   \n",
      "150345            238 Apollo Beach Blvd   Apollo beach    FL       33572   \n",
      "\n",
      "         latitude   longitude  stars  review_count  is_open  \\\n",
      "0       34.426679 -119.711197    5.0             7        0   \n",
      "1       38.551126  -90.335695    3.0            15        1   \n",
      "2       32.223236 -110.880452    3.5            22        0   \n",
      "3       39.955505  -75.155564    4.0            80        1   \n",
      "4       40.338183  -75.471659    4.5            13        1   \n",
      "...           ...         ...    ...           ...      ...   \n",
      "150341  53.468419 -113.492054    3.0            13        1   \n",
      "150342  36.115118  -86.766925    4.0             5        1   \n",
      "150343  39.908707  -86.065088    3.5             8        1   \n",
      "150344  38.782351  -89.950558    4.0            24        1   \n",
      "150345  27.771002  -82.394910    4.5             9        1   \n",
      "\n",
      "                                               attributes  \\\n",
      "0                           {'ByAppointmentOnly': 'True'}   \n",
      "1                  {'BusinessAcceptsCreditCards': 'True'}   \n",
      "2       {'BikeParking': 'True', 'BusinessAcceptsCredit...   \n",
      "3       {'RestaurantsDelivery': 'False', 'OutdoorSeati...   \n",
      "4       {'BusinessAcceptsCreditCards': 'True', 'Wheelc...   \n",
      "...                                                   ...   \n",
      "150341  {'ByAppointmentOnly': 'False', 'RestaurantsPri...   \n",
      "150342  {'BusinessAcceptsCreditCards': 'True', 'Restau...   \n",
      "150343  {'RestaurantsPriceRange2': '1', 'BusinessAccep...   \n",
      "150344  {'BusinessParking': '{'garage': False, 'street...   \n",
      "150345  {'WheelchairAccessible': 'True', 'BusinessAcce...   \n",
      "\n",
      "                                               categories        day  \\\n",
      "0       Doctors, Traditional Chinese Medicine, Naturop...        NaN   \n",
      "1       Shipping Centers, Local Services, Notaries, Ma...     Monday   \n",
      "2       Department Stores, Shopping, Fashion, Home & G...     Monday   \n",
      "3       Restaurants, Food, Bubble Tea, Coffee & Tea, B...     Monday   \n",
      "4                               Brewpubs, Breweries, Food  Wednesday   \n",
      "...                                                   ...        ...   \n",
      "150341                         Nail Salons, Beauty & Spas     Monday   \n",
      "150342  Pets, Nurseries & Gardening, Pet Stores, Hobby...     Monday   \n",
      "150343  Shopping, Jewelry, Piercing, Toy Stores, Beaut...        NaN   \n",
      "150344  Fitness/Exercise Equipment, Eyewear & Optician...     Monday   \n",
      "150345  Beauty & Spas, Permanent Makeup, Piercing, Tattoo    Tuesday   \n",
      "\n",
      "              time  \n",
      "0              NaN  \n",
      "1          0:0-0:0  \n",
      "2         8:0-22:0  \n",
      "3         7:0-20:0  \n",
      "4        14:0-22:0  \n",
      "...            ...  \n",
      "150341  10:0-19:30  \n",
      "150342  9:30-17:30  \n",
      "150343         NaN  \n",
      "150344    9:0-20:0  \n",
      "150345   12:0-19:0  \n",
      "\n",
      "[150346 rows x 15 columns]\n"
     ]
    }
   ],
   "source": [
    "df_business['hours_str'] = df_business['hours'].apply(str)\n",
    "\n",
    "# Split the string representation of the dictionary into two separate columns using reg exp\n",
    "df_business[['day', 'time']] = df_business['hours_str'].str.extract(r\"'(.*?)': '(.*?)'\")\n",
    "\n",
    "df_business = df_business.drop(['hours', 'hours_str'], axis=1)\n",
    "\n",
    "print(df_business)"
   ]
  },
  {
   "cell_type": "code",
   "execution_count": 9,
   "id": "d09c8d87-f848-450e-a45a-bf5c7b0312df",
   "metadata": {
    "tags": []
   },
   "outputs": [
    {
     "name": "stdout",
     "output_type": "stream",
     "text": [
      "                   business_id                      name  \\\n",
      "0       Pns2l4eNsfO8kk83dixA6A  Abby Rappoport, LAC, CMQ   \n",
      "1       mpf3x-BjTdTEA3yCZrAYPw             The UPS Store   \n",
      "2       tUFrWirKiKi_TAnsVWINQQ                    Target   \n",
      "3       MTSW4McQd7CbVtyjqoe9mw        St Honore Pastries   \n",
      "4       mWMc6_wTdE0EUBKIGXDVfA  Perkiomen Valley Brewery   \n",
      "...                        ...                       ...   \n",
      "150341  IUQopTMmYQG-qRtBk-8QnA              Binh's Nails   \n",
      "150342  c8GjPIOTGVmIemT7j5_SyQ      Wild Birds Unlimited   \n",
      "150343  _QAMST-NrQobXduilWEqSw         Claire's Boutique   \n",
      "150344  mtGm22y5c2UHNXDFAjaPNw  Cyclery & Fitness Center   \n",
      "150345  jV_XOycEzSlTx-65W906pg                   Sic Ink   \n",
      "\n",
      "                                address           city state postal_code  \\\n",
      "0                1616 Chapala St, Ste 2  Santa Barbara    CA       93101   \n",
      "1       87 Grasso Plaza Shopping Center         Affton    MO       63123   \n",
      "2                  5255 E Broadway Blvd         Tucson    AZ       85711   \n",
      "3                           935 Race St   Philadelphia    PA       19107   \n",
      "4                         101 Walnut St     Green Lane    PA       18054   \n",
      "...                                 ...            ...   ...         ...   \n",
      "150341                3388 Gateway Blvd       Edmonton    AB     T6J 5H2   \n",
      "150342               2813 Bransford Ave      Nashville    TN       37204   \n",
      "150343           6020 E 82nd St, Ste 46   Indianapolis    IN       46250   \n",
      "150344                     2472 Troy Rd   Edwardsville    IL       62025   \n",
      "150345            238 Apollo Beach Blvd   Apollo beach    FL       33572   \n",
      "\n",
      "         latitude   longitude  stars  review_count  is_open  \\\n",
      "0       34.426679 -119.711197    5.0             7        0   \n",
      "1       38.551126  -90.335695    3.0            15        1   \n",
      "2       32.223236 -110.880452    3.5            22        0   \n",
      "3       39.955505  -75.155564    4.0            80        1   \n",
      "4       40.338183  -75.471659    4.5            13        1   \n",
      "...           ...         ...    ...           ...      ...   \n",
      "150341  53.468419 -113.492054    3.0            13        1   \n",
      "150342  36.115118  -86.766925    4.0             5        1   \n",
      "150343  39.908707  -86.065088    3.5             8        1   \n",
      "150344  38.782351  -89.950558    4.0            24        1   \n",
      "150345  27.771002  -82.394910    4.5             9        1   \n",
      "\n",
      "                                               categories        day  \\\n",
      "0       Doctors, Traditional Chinese Medicine, Naturop...        NaN   \n",
      "1       Shipping Centers, Local Services, Notaries, Ma...     Monday   \n",
      "2       Department Stores, Shopping, Fashion, Home & G...     Monday   \n",
      "3       Restaurants, Food, Bubble Tea, Coffee & Tea, B...     Monday   \n",
      "4                               Brewpubs, Breweries, Food  Wednesday   \n",
      "...                                                   ...        ...   \n",
      "150341                         Nail Salons, Beauty & Spas     Monday   \n",
      "150342  Pets, Nurseries & Gardening, Pet Stores, Hobby...     Monday   \n",
      "150343  Shopping, Jewelry, Piercing, Toy Stores, Beaut...        NaN   \n",
      "150344  Fitness/Exercise Equipment, Eyewear & Optician...     Monday   \n",
      "150345  Beauty & Spas, Permanent Makeup, Piercing, Tattoo    Tuesday   \n",
      "\n",
      "              time                                     attribute_name  \\\n",
      "0              NaN                                  ByAppointmentOnly   \n",
      "1          0:0-0:0                         BusinessAcceptsCreditCards   \n",
      "2         8:0-22:0                                        BikeParking   \n",
      "3         7:0-20:0                                RestaurantsDelivery   \n",
      "4        14:0-22:0                         BusinessAcceptsCreditCards   \n",
      "...            ...                                                ...   \n",
      "150341  10:0-19:30                                  ByAppointmentOnly   \n",
      "150342  9:30-17:30                         BusinessAcceptsCreditCards   \n",
      "150343         NaN                             RestaurantsPriceRange2   \n",
      "150344    9:0-20:0  BusinessParking': \"{'garage': False, 'street':...   \n",
      "150345   12:0-19:0                               WheelchairAccessible   \n",
      "\n",
      "       attribute_value  \n",
      "0                 True  \n",
      "1                 True  \n",
      "2                 True  \n",
      "3                False  \n",
      "4                 True  \n",
      "...                ...  \n",
      "150341           False  \n",
      "150342            True  \n",
      "150343               1  \n",
      "150344            True  \n",
      "150345            True  \n",
      "\n",
      "[150346 rows x 16 columns]\n"
     ]
    }
   ],
   "source": [
    "df_business['attributes_str'] = df_business['attributes'].apply(str)\n",
    "\n",
    "# Split the string representation of the dictionary into two separate columns using reg exp\n",
    "df_business[['attribute_name', 'attribute_value']] = df_business['attributes_str'].str.extract(r\"'(.*?)': '(.*?)'\")\n",
    "\n",
    "df_business = df_business.drop(['attributes', 'attributes_str'], axis=1)\n",
    "\n",
    "print(df_business)"
   ]
  },
  {
   "cell_type": "code",
   "execution_count": 10,
   "id": "8cc3fb03-0746-445e-84fa-8fc2a1fe172b",
   "metadata": {
    "tags": []
   },
   "outputs": [
    {
     "name": "stdout",
     "output_type": "stream",
     "text": [
      "<class 'pandas.core.frame.DataFrame'>\n",
      "RangeIndex: 150346 entries, 0 to 150345\n",
      "Data columns (total 16 columns):\n",
      " #   Column           Non-Null Count   Dtype  \n",
      "---  ------           --------------   -----  \n",
      " 0   business_id      150346 non-null  object \n",
      " 1   name             150346 non-null  object \n",
      " 2   address          150346 non-null  object \n",
      " 3   city             150346 non-null  object \n",
      " 4   state            150346 non-null  object \n",
      " 5   postal_code      150346 non-null  object \n",
      " 6   latitude         150346 non-null  float64\n",
      " 7   longitude        150346 non-null  float64\n",
      " 8   stars            150346 non-null  float64\n",
      " 9   review_count     150346 non-null  int64  \n",
      " 10  is_open          150346 non-null  int64  \n",
      " 11  categories       150243 non-null  object \n",
      " 12  day              127123 non-null  object \n",
      " 13  time             127123 non-null  object \n",
      " 14  attribute_name   135065 non-null  object \n",
      " 15  attribute_value  135065 non-null  object \n",
      "dtypes: float64(3), int64(2), object(11)\n",
      "memory usage: 18.4+ MB\n"
     ]
    }
   ],
   "source": [
    "df_business.info()"
   ]
  },
  {
   "cell_type": "code",
   "execution_count": 11,
   "id": "21eb80ff-fae7-47fe-8795-53a8b30043d3",
   "metadata": {
    "tags": []
   },
   "outputs": [
    {
     "name": "stdout",
     "output_type": "stream",
     "text": [
      "                   business_id                      name  \\\n",
      "0       Pns2l4eNsfO8kk83dixA6A  Abby Rappoport, LAC, CMQ   \n",
      "1       mpf3x-BjTdTEA3yCZrAYPw             The UPS Store   \n",
      "2       tUFrWirKiKi_TAnsVWINQQ                    Target   \n",
      "3       MTSW4McQd7CbVtyjqoe9mw        St Honore Pastries   \n",
      "4       mWMc6_wTdE0EUBKIGXDVfA  Perkiomen Valley Brewery   \n",
      "...                        ...                       ...   \n",
      "150341  IUQopTMmYQG-qRtBk-8QnA              Binh's Nails   \n",
      "150342  c8GjPIOTGVmIemT7j5_SyQ      Wild Birds Unlimited   \n",
      "150343  _QAMST-NrQobXduilWEqSw         Claire's Boutique   \n",
      "150344  mtGm22y5c2UHNXDFAjaPNw  Cyclery & Fitness Center   \n",
      "150345  jV_XOycEzSlTx-65W906pg                   Sic Ink   \n",
      "\n",
      "                                address           city state postal_code  \\\n",
      "0                1616 Chapala St, Ste 2  Santa Barbara    CA       93101   \n",
      "1       87 Grasso Plaza Shopping Center         Affton    MO       63123   \n",
      "2                  5255 E Broadway Blvd         Tucson    AZ       85711   \n",
      "3                           935 Race St   Philadelphia    PA       19107   \n",
      "4                         101 Walnut St     Green Lane    PA       18054   \n",
      "...                                 ...            ...   ...         ...   \n",
      "150341                3388 Gateway Blvd       Edmonton    AB     T6J 5H2   \n",
      "150342               2813 Bransford Ave      Nashville    TN       37204   \n",
      "150343           6020 E 82nd St, Ste 46   Indianapolis    IN       46250   \n",
      "150344                     2472 Troy Rd   Edwardsville    IL       62025   \n",
      "150345            238 Apollo Beach Blvd   Apollo beach    FL       33572   \n",
      "\n",
      "         latitude   longitude  stars  review_count  is_open  \\\n",
      "0       34.426679 -119.711197    5.0             7        0   \n",
      "1       38.551126  -90.335695    3.0            15        1   \n",
      "2       32.223236 -110.880452    3.5            22        0   \n",
      "3       39.955505  -75.155564    4.0            80        1   \n",
      "4       40.338183  -75.471659    4.5            13        1   \n",
      "...           ...         ...    ...           ...      ...   \n",
      "150341  53.468419 -113.492054    3.0            13        1   \n",
      "150342  36.115118  -86.766925    4.0             5        1   \n",
      "150343  39.908707  -86.065088    3.5             8        1   \n",
      "150344  38.782351  -89.950558    4.0            24        1   \n",
      "150345  27.771002  -82.394910    4.5             9        1   \n",
      "\n",
      "                                               categories        day  \\\n",
      "0       Doctors, Traditional Chinese Medicine, Naturop...        NaN   \n",
      "1       Shipping Centers, Local Services, Notaries, Ma...     Monday   \n",
      "2       Department Stores, Shopping, Fashion, Home & G...     Monday   \n",
      "3       Restaurants, Food, Bubble Tea, Coffee & Tea, B...     Monday   \n",
      "4                               Brewpubs, Breweries, Food  Wednesday   \n",
      "...                                                   ...        ...   \n",
      "150341                         Nail Salons, Beauty & Spas     Monday   \n",
      "150342  Pets, Nurseries & Gardening, Pet Stores, Hobby...     Monday   \n",
      "150343  Shopping, Jewelry, Piercing, Toy Stores, Beaut...        NaN   \n",
      "150344  Fitness/Exercise Equipment, Eyewear & Optician...     Monday   \n",
      "150345  Beauty & Spas, Permanent Makeup, Piercing, Tattoo    Tuesday   \n",
      "\n",
      "                                           attribute_name attribute_value  \\\n",
      "0                                       ByAppointmentOnly            True   \n",
      "1                              BusinessAcceptsCreditCards            True   \n",
      "2                                             BikeParking            True   \n",
      "3                                     RestaurantsDelivery           False   \n",
      "4                              BusinessAcceptsCreditCards            True   \n",
      "...                                                   ...             ...   \n",
      "150341                                  ByAppointmentOnly           False   \n",
      "150342                         BusinessAcceptsCreditCards            True   \n",
      "150343                             RestaurantsPriceRange2               1   \n",
      "150344  BusinessParking': \"{'garage': False, 'street':...            True   \n",
      "150345                               WheelchairAccessible            True   \n",
      "\n",
      "       start_time end_time  \n",
      "0             NaN      NaN  \n",
      "1             0:0      0:0  \n",
      "2             8:0     22:0  \n",
      "3             7:0     20:0  \n",
      "4            14:0     22:0  \n",
      "...           ...      ...  \n",
      "150341       10:0    19:30  \n",
      "150342       9:30    17:30  \n",
      "150343        NaN      NaN  \n",
      "150344        9:0     20:0  \n",
      "150345       12:0     19:0  \n",
      "\n",
      "[150346 rows x 17 columns]\n"
     ]
    }
   ],
   "source": [
    "# Split time\n",
    "df_business[['start_time', 'end_time']] = df_business['time'].str.extract(r'(\\d+:\\d+)-(\\d+:\\d+)')\n",
    "\n",
    "df_business = df_business.drop(['time'], axis=1)\n",
    "\n",
    "print(df_business)"
   ]
  },
  {
   "cell_type": "code",
   "execution_count": 12,
   "id": "290fef7c-3da1-4f14-85bd-7ce7e9c0ecb9",
   "metadata": {
    "tags": []
   },
   "outputs": [
    {
     "name": "stdout",
     "output_type": "stream",
     "text": [
      "<class 'pandas.core.frame.DataFrame'>\n",
      "RangeIndex: 150346 entries, 0 to 150345\n",
      "Data columns (total 17 columns):\n",
      " #   Column           Non-Null Count   Dtype  \n",
      "---  ------           --------------   -----  \n",
      " 0   business_id      150346 non-null  object \n",
      " 1   name             150346 non-null  object \n",
      " 2   address          150346 non-null  object \n",
      " 3   city             150346 non-null  object \n",
      " 4   state            150346 non-null  object \n",
      " 5   postal_code      150346 non-null  object \n",
      " 6   latitude         150346 non-null  float64\n",
      " 7   longitude        150346 non-null  float64\n",
      " 8   stars            150346 non-null  float64\n",
      " 9   review_count     150346 non-null  int64  \n",
      " 10  is_open          150346 non-null  int64  \n",
      " 11  categories       150243 non-null  object \n",
      " 12  day              127123 non-null  object \n",
      " 13  attribute_name   135065 non-null  object \n",
      " 14  attribute_value  135065 non-null  object \n",
      " 15  start_time       127123 non-null  object \n",
      " 16  end_time         127123 non-null  object \n",
      "dtypes: float64(3), int64(2), object(12)\n",
      "memory usage: 19.5+ MB\n"
     ]
    }
   ],
   "source": [
    "df_business.info()"
   ]
  },
  {
   "cell_type": "code",
   "execution_count": 13,
   "id": "509f6ec5-b273-4a33-98ca-0a38a082e882",
   "metadata": {
    "tags": []
   },
   "outputs": [],
   "source": [
    "# Converting 'start_time' and 'end_time' columns to datetime\n",
    "df_business['start_time'] = pd.to_datetime(df_business['start_time'], format='%H:%M')\n",
    "df_business['end_time'] = pd.to_datetime(df_business['end_time'], format='%H:%M')"
   ]
  },
  {
   "cell_type": "code",
   "execution_count": 14,
   "id": "3908ef44-3e1a-4ded-a554-ba8b463ee2e3",
   "metadata": {
    "tags": []
   },
   "outputs": [
    {
     "data": {
      "text/plain": [
       "business_id                object\n",
       "name                       object\n",
       "address                    object\n",
       "city                       object\n",
       "state                      object\n",
       "postal_code                object\n",
       "latitude                  float64\n",
       "longitude                 float64\n",
       "stars                     float64\n",
       "review_count                int64\n",
       "is_open                     int64\n",
       "categories                 object\n",
       "day                        object\n",
       "attribute_name             object\n",
       "attribute_value            object\n",
       "start_time         datetime64[ns]\n",
       "end_time           datetime64[ns]\n",
       "dtype: object"
      ]
     },
     "execution_count": 14,
     "metadata": {},
     "output_type": "execute_result"
    }
   ],
   "source": [
    "df_business.dtypes"
   ]
  },
  {
   "cell_type": "markdown",
   "id": "b7bbc57e-7804-41c8-bd0a-9ace3182536e",
   "metadata": {},
   "source": [
    "<b>Size and Structure: \n",
    "    The DataFrame contains 150,346 rows and 16 columns(after feature engineering).\n",
    "\n",
    "Data Types: \n",
    "    The columns contain a mix of data types:\n",
    "\n",
    "3 columns are of type float64.\n",
    "2 columns are of type int64.\n",
    "9 columns are of type object (likely strings).\n",
    "Missing Values: Some columns have missing values:\n",
    "\n",
    "The 'attributes','categories' and 'hours' column has missing values."
   ]
  },
  {
   "cell_type": "code",
   "execution_count": 15,
   "id": "b7bd0b8a-ae4a-47b3-8894-ffee72fd4a48",
   "metadata": {
    "tags": []
   },
   "outputs": [
    {
     "data": {
      "text/plain": [
       "0         False\n",
       "1         False\n",
       "2         False\n",
       "3         False\n",
       "4         False\n",
       "          ...  \n",
       "150341    False\n",
       "150342    False\n",
       "150343    False\n",
       "150344    False\n",
       "150345    False\n",
       "Length: 150346, dtype: bool"
      ]
     },
     "execution_count": 15,
     "metadata": {},
     "output_type": "execute_result"
    }
   ],
   "source": [
    "df_business.duplicated()"
   ]
  },
  {
   "cell_type": "code",
   "execution_count": 16,
   "id": "231dc584-d704-45d4-b531-6e3f71c6ea8a",
   "metadata": {
    "tags": []
   },
   "outputs": [
    {
     "data": {
      "text/plain": [
       "0"
      ]
     },
     "execution_count": 16,
     "metadata": {},
     "output_type": "execute_result"
    }
   ],
   "source": [
    "df_business.duplicated().sum()"
   ]
  },
  {
   "cell_type": "markdown",
   "id": "5f9ac07d-45c6-4d12-a036-ae8ef9815085",
   "metadata": {},
   "source": [
    "Empty dataset specifies that there are no duplicate values in specified columns"
   ]
  },
  {
   "cell_type": "code",
   "execution_count": 17,
   "id": "fda26fc5-1d87-46eb-af0f-7928deafa132",
   "metadata": {
    "tags": []
   },
   "outputs": [
    {
     "data": {
      "text/plain": [
       "business_id            0\n",
       "name                   0\n",
       "address                0\n",
       "city                   0\n",
       "state                  0\n",
       "postal_code            0\n",
       "latitude               0\n",
       "longitude              0\n",
       "stars                  0\n",
       "review_count           0\n",
       "is_open                0\n",
       "categories           103\n",
       "day                23223\n",
       "attribute_name     15281\n",
       "attribute_value    15281\n",
       "start_time         23223\n",
       "end_time           23223\n",
       "dtype: int64"
      ]
     },
     "execution_count": 17,
     "metadata": {},
     "output_type": "execute_result"
    }
   ],
   "source": [
    "df_business.isna().sum()"
   ]
  },
  {
   "cell_type": "code",
   "execution_count": 18,
   "id": "c085fb7a-1724-42f1-9522-236a8390a20f",
   "metadata": {
    "tags": []
   },
   "outputs": [
    {
     "data": {
      "text/plain": [
       "business_id         0.000000\n",
       "name                0.000000\n",
       "address             0.000000\n",
       "city                0.000000\n",
       "state               0.000000\n",
       "postal_code         0.000000\n",
       "latitude            0.000000\n",
       "longitude           0.000000\n",
       "stars               0.000000\n",
       "review_count        0.000000\n",
       "is_open             0.000000\n",
       "categories          0.068509\n",
       "day                15.446370\n",
       "attribute_name     10.163889\n",
       "attribute_value    10.163889\n",
       "start_time         15.446370\n",
       "end_time           15.446370\n",
       "dtype: float64"
      ]
     },
     "execution_count": 18,
     "metadata": {},
     "output_type": "execute_result"
    }
   ],
   "source": [
    "df_business.isna().mean()*100"
   ]
  },
  {
   "cell_type": "markdown",
   "id": "92d3ff40-67a6-47fe-9d83-557ac3cbc4a3",
   "metadata": {},
   "source": [
    "The percentage of null for categories is much smaller. For the <3% missing columns we can take any reasonable approach. For the day, attribute_name, attribute_value, start_time and end_time columns it may be worth imputing these values as dropping 15.44% and 9.14% of rows may be too much data loss."
   ]
  },
  {
   "cell_type": "code",
   "execution_count": 19,
   "id": "9b62b479-fdcd-466b-8a0d-0785ea6c5e96",
   "metadata": {
    "tags": []
   },
   "outputs": [],
   "source": [
    "df_business=df_business.dropna(subset=['categories',],axis=0)"
   ]
  },
  {
   "cell_type": "code",
   "execution_count": 20,
   "id": "b3573220-3c12-4f28-868c-009b8c8bc883",
   "metadata": {
    "tags": []
   },
   "outputs": [
    {
     "data": {
      "text/plain": [
       "business_id         0.000000\n",
       "name                0.000000\n",
       "address             0.000000\n",
       "city                0.000000\n",
       "state               0.000000\n",
       "postal_code         0.000000\n",
       "latitude            0.000000\n",
       "longitude           0.000000\n",
       "stars               0.000000\n",
       "review_count        0.000000\n",
       "is_open             0.000000\n",
       "categories          0.000000\n",
       "day                15.388404\n",
       "attribute_name     10.102967\n",
       "attribute_value    10.102967\n",
       "start_time         15.388404\n",
       "end_time           15.388404\n",
       "dtype: float64"
      ]
     },
     "execution_count": 20,
     "metadata": {},
     "output_type": "execute_result"
    }
   ],
   "source": [
    "df_business.isna().mean()*100"
   ]
  },
  {
   "cell_type": "code",
   "execution_count": 21,
   "id": "4d30091c-4382-43f8-b54e-fd85d5256e0b",
   "metadata": {
    "tags": []
   },
   "outputs": [
    {
     "name": "stdout",
     "output_type": "stream",
     "text": [
      "<class 'pandas.core.frame.DataFrame'>\n",
      "Index: 150243 entries, 0 to 150345\n",
      "Data columns (total 17 columns):\n",
      " #   Column           Non-Null Count   Dtype         \n",
      "---  ------           --------------   -----         \n",
      " 0   business_id      150243 non-null  object        \n",
      " 1   name             150243 non-null  object        \n",
      " 2   address          150243 non-null  object        \n",
      " 3   city             150243 non-null  object        \n",
      " 4   state            150243 non-null  object        \n",
      " 5   postal_code      150243 non-null  object        \n",
      " 6   latitude         150243 non-null  float64       \n",
      " 7   longitude        150243 non-null  float64       \n",
      " 8   stars            150243 non-null  float64       \n",
      " 9   review_count     150243 non-null  int64         \n",
      " 10  is_open          150243 non-null  int64         \n",
      " 11  categories       150243 non-null  object        \n",
      " 12  day              127123 non-null  object        \n",
      " 13  attribute_name   135064 non-null  object        \n",
      " 14  attribute_value  135064 non-null  object        \n",
      " 15  start_time       127123 non-null  datetime64[ns]\n",
      " 16  end_time         127123 non-null  datetime64[ns]\n",
      "dtypes: datetime64[ns](2), float64(3), int64(2), object(10)\n",
      "memory usage: 20.6+ MB\n"
     ]
    }
   ],
   "source": [
    "df_business.info()"
   ]
  },
  {
   "cell_type": "markdown",
   "id": "12b7b650-7569-4b0d-b845-1f9c773cbbe7",
   "metadata": {},
   "source": [
    "#### Deciding between Mean/Median imputation\n",
    "\n",
    "For the remaining columns, we need to decide on whether to use the median or mean to impute.\n"
   ]
  },
  {
   "cell_type": "code",
   "execution_count": 35,
   "id": "7ce04f92-453e-47ed-8ff6-bfd68cf336df",
   "metadata": {
    "tags": []
   },
   "outputs": [],
   "source": [
    "# Assuming 'start_time' and 'end_time' columns contain the start and end times in string format\n",
    "df_business_filtered = df_business[~((df_business['start_time'] == '1900-01-01 00:00:00') & (df_business['end_time'] == '1900-01-01 00:00:00'))]\n"
   ]
  },
  {
   "cell_type": "code",
   "execution_count": 36,
   "id": "7f244455-b560-4eac-be9a-e35f91497e11",
   "metadata": {
    "tags": []
   },
   "outputs": [
    {
     "name": "stderr",
     "output_type": "stream",
     "text": [
      "/var/folders/rc/713vct4s6wg859ww_2h0w03w0000gn/T/ipykernel_42228/3200098670.py:2: SettingWithCopyWarning: \n",
      "A value is trying to be set on a copy of a slice from a DataFrame.\n",
      "Try using .loc[row_indexer,col_indexer] = value instead\n",
      "\n",
      "See the caveats in the documentation: https://pandas.pydata.org/pandas-docs/stable/user_guide/indexing.html#returning-a-view-versus-a-copy\n",
      "  df_business_filtered['start_time'] = pd.to_datetime(df_business_filtered['start_time'], format='%H:%M')\n",
      "/var/folders/rc/713vct4s6wg859ww_2h0w03w0000gn/T/ipykernel_42228/3200098670.py:3: SettingWithCopyWarning: \n",
      "A value is trying to be set on a copy of a slice from a DataFrame.\n",
      "Try using .loc[row_indexer,col_indexer] = value instead\n",
      "\n",
      "See the caveats in the documentation: https://pandas.pydata.org/pandas-docs/stable/user_guide/indexing.html#returning-a-view-versus-a-copy\n",
      "  df_business_filtered['end_time'] = pd.to_datetime(df_business_filtered['end_time'], format='%H:%M')\n"
     ]
    },
    {
     "data": {
      "image/png": "[encoded data removed]",
      "text/plain": [
       "<Figure size 1000x500 with 2 Axes>"
      ]
     },
     "metadata": {},
     "output_type": "display_data"
    }
   ],
   "source": [
    "\n",
    "# Convert to datetime objects\n",
    "df_business_filtered['start_time'] = pd.to_datetime(df_business_filtered['start_time'], format='%H:%M')\n",
    "df_business_filtered['end_time'] = pd.to_datetime(df_business_filtered['end_time'], format='%H:%M')\n",
    "\n",
    "# Plot histograms for start_time and end_time columns\n",
    "plt.figure(figsize=(10, 5))\n",
    "\n",
    "# Plot histogram for start_time\n",
    "plt.subplot(1, 2, 1)\n",
    "plt.hist(df_business_filtered['start_time'].dt.hour, bins=10, edgecolor='black', alpha=0.7)\n",
    "plt.axvline(df_business_filtered['start_time'].dt.hour.mean(), color='r', linestyle='dashed', linewidth=1, label='Mean')\n",
    "plt.axvline(df_business_filtered['start_time'].dt.hour.median(), color='g', linestyle='dashed', linewidth=1, label='Median')\n",
    "plt.title('Distribution of Start Time')\n",
    "plt.xlabel('Hour')\n",
    "plt.ylabel('Frequency')\n",
    "plt.legend()\n",
    "\n",
    "# Plot histogram for end_time\n",
    "plt.subplot(1, 2, 2)\n",
    "plt.hist(df_business_filtered['end_time'].dt.hour, bins=10, edgecolor='black', alpha=0.7)\n",
    "plt.axvline(df_business_filtered['end_time'].dt.hour.mean(), color='r', linestyle='dashed', linewidth=1, label='Mean')\n",
    "plt.axvline(df_business_filtered['end_time'].dt.hour.median(), color='g', linestyle='dashed', linewidth=1, label='Median')\n",
    "plt.title('Distribution of End Time')\n",
    "plt.xlabel('Hour')\n",
    "plt.ylabel('Frequency')\n",
    "plt.legend()\n",
    "\n",
    "plt.tight_layout()\n",
    "plt.show()"
   ]
  },
  {
   "cell_type": "markdown",
   "id": "f44c7a2a-7c5a-4344-8f70-57c82c1a52bf",
   "metadata": {},
   "source": [
    "In both cases we can see that median is better, for the Start_time and end_time column we can see that the median lies pretty close to the peak of histogram. "
   ]
  },
  {
   "cell_type": "code",
   "execution_count": 38,
   "id": "7fa88331-f691-48a7-a845-3e18858ddef0",
   "metadata": {
    "tags": []
   },
   "outputs": [],
   "source": [
    "\n",
    "# Computing the median time for start_time and end_time\n",
    "median_start_time = df_business['start_time'].median()\n",
    "median_end_time = df_business['end_time'].median()\n",
    "\n",
    "# Filling missing values with median time\n",
    "df_business['start_time'].fillna(median_start_time, inplace=True)\n",
    "df_business['end_time'].fillna(median_end_time, inplace=True)"
   ]
  },
  {
   "cell_type": "markdown",
   "id": "23ba55e6-8045-4677-adcf-98ec356d7149",
   "metadata": {},
   "source": [
    "To be continued..."
   ]
  }
 ],
 "metadata": {
  "kernelspec": {
   "display_name": "Python 3 (ipykernel)",
   "language": "python",
   "name": "python3"
  },
  "language_info": {
   "codemirror_mode": {
    "name": "ipython",
    "version": 3
   },
   "file_extension": ".py",
   "mimetype": "text/x-python",
   "name": "python",
   "nbconvert_exporter": "python",
   "pygments_lexer": "ipython3",
   "version": "3.11.5"
  }
 },
 "nbformat": 4,
 "nbformat_minor": 5
}
